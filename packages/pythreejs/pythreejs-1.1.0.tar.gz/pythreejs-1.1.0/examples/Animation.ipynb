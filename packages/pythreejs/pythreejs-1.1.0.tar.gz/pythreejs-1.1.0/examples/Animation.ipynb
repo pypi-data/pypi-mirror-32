{
 "cells": [
  {
   "cell_type": "markdown",
   "metadata": {},
   "source": [
    "# Animation"
   ]
  },
  {
   "cell_type": "code",
   "execution_count": 1,
   "metadata": {},
   "outputs": [],
   "source": [
    "from pythreejs import *\n",
    "import ipywidgets\n",
    "from IPython.display import display"
   ]
  },
  {
   "cell_type": "code",
   "execution_count": 2,
   "metadata": {},
   "outputs": [],
   "source": [
    "view_width = 600\n",
    "view_height = 400"
   ]
  },
  {
   "cell_type": "markdown",
   "metadata": {},
   "source": [
    "Let's first set up a basic scene with a cube and a sphere,"
   ]
  },
  {
   "cell_type": "code",
   "execution_count": 3,
   "metadata": {},
   "outputs": [],
   "source": [
    "sphere = Mesh(\n",
    "    SphereBufferGeometry(1, 32, 16),\n",
    "    MeshStandardMaterial(color='red')\n",
    ")"
   ]
  },
  {
   "cell_type": "code",
   "execution_count": 4,
   "metadata": {},
   "outputs": [],
   "source": [
    "cube = Mesh(\n",
    "    BoxBufferGeometry(1, 1, 1),\n",
    "    MeshPhysicalMaterial(color='green'),\n",
    "    position=[2, 0, 4]\n",
    ")"
   ]
  },
  {
   "cell_type": "markdown",
   "metadata": {},
   "source": [
    "as well as lighting and camera:"
   ]
  },
  {
   "cell_type": "code",
   "execution_count": 5,
   "metadata": {},
   "outputs": [],
   "source": [
    "camera = PerspectiveCamera( position=[10, 6, 10], aspect=view_width/view_height)\n",
    "key_light = DirectionalLight(position=[0, 10, 10])\n",
    "ambient_light = AmbientLight()"
   ]
  },
  {
   "cell_type": "markdown",
   "metadata": {},
   "source": [
    "## Keyframe animation\n",
    "\n",
    "The three.js animation system is built as a [keyframe](https://en.wikipedia.org/wiki/Key_frame) system. We'll demonstrate this by animating the position and rotation of our camera."
   ]
  },
  {
   "cell_type": "markdown",
   "metadata": {},
   "source": [
    "First, we set up the keyframes for the position and the rotation separately:"
   ]
  },
  {
   "cell_type": "code",
   "execution_count": 6,
   "metadata": {},
   "outputs": [],
   "source": [
    "positon_track = VectorKeyframeTrack(name='.position',\n",
    "    times=[0, 2, 5],\n",
    "    values=[10, 6, 10,\n",
    "            6.3, 3.78, 6.3,\n",
    "            -2.98, 0.84, 9.2,\n",
    "           ])\n",
    "rotation_track = QuaternionKeyframeTrack(name='.quaternion',\n",
    "    times=[0, 2, 5],\n",
    "    values=[-0.184, 0.375, 0.0762, 0.905,\n",
    "            -0.184, 0.375, 0.0762, 0.905,\n",
    "            -0.0430, -0.156, -0.00681, 0.987,\n",
    "           ])"
   ]
  },
  {
   "cell_type": "markdown",
   "metadata": {},
   "source": [
    "Next, we create an animation clip combining the two tracks, and finally an animation action to control the animation. See the three.js docs for more details on the different responsibilities of the different classes."
   ]
  },
  {
   "cell_type": "code",
   "execution_count": 7,
   "metadata": {},
   "outputs": [],
   "source": [
    "camera_clip = AnimationClip(tracks=[positon_track, rotation_track])\n",
    "camera_action = AnimationAction(AnimationMixer(camera), camera_clip, camera)"
   ]
  },
  {
   "cell_type": "markdown",
   "metadata": {},
   "source": [
    "Now, let's see it in action:"
   ]
  },
  {
   "cell_type": "code",
   "execution_count": 8,
   "metadata": {},
   "outputs": [],
   "source": [
    "scene = Scene(children=[sphere, cube, camera, key_light, ambient_light])\n",
    "controller = OrbitControls(controlling=camera)\n",
    "renderer = Renderer(camera=camera, scene=scene, controls=[controller],\n",
    "                    width=view_width, height=view_height)"
   ]
  },
  {
   "cell_type": "code",
   "execution_count": 9,
   "metadata": {
    "tags": [
     "nbval-ignore-output"
    ]
   },
   "outputs": [
    {
     "data": {
      "application/vnd.jupyter.widget-view+json": {
       "model_id": "162939537381476c86fd156e7223aa60",
       "version_major": 2,
       "version_minor": 0
      },
      "text/html": [
       "<p>Failed to display Jupyter Widget of type <code>Renderer</code>.</p>\n",
       "<p>\n",
       "  If you're reading this message in the Jupyter Notebook or JupyterLab Notebook, it may mean\n",
       "  that the widgets JavaScript is still loading. If this message persists, it\n",
       "  likely means that the widgets JavaScript library is either not installed or\n",
       "  not enabled. See the <a href=\"https://ipywidgets.readthedocs.io/en/stable/user_install.html\">Jupyter\n",
       "  Widgets Documentation</a> for setup instructions.\n",
       "</p>\n",
       "<p>\n",
       "  If you're reading this message in another frontend (for example, a static\n",
       "  rendering on GitHub or <a href=\"https://nbviewer.jupyter.org/\">NBViewer</a>),\n",
       "  it may mean that your frontend doesn't currently support widgets.\n",
       "</p>\n"
      ],
      "text/plain": [
       "Renderer(camera=PerspectiveCamera(aspect=1.5, position=(10.0, 6.0, 10.0), projectionMatrix=(1.4296712803397058, 0.0, 0.0, 0.0, 0.0, 2.1445069205095586, 0.0, 0.0, 0.0, 0.0, -1.00010000500025, -1.0, 0.0, 0.0, -0.200010000500025, 0.0), quaternion=(0.0, 0.0, 0.0, 1.0), scale=(1.0, 1.0, 1.0), up=(0.0, 1.0, 0.0)), controls=[OrbitControls(controlling=PerspectiveCamera(aspect=1.5, position=(10.0, 6.0, 10.0), projectionMatrix=(1.4296712803397058, 0.0, 0.0, 0.0, 0.0, 2.1445069205095586, 0.0, 0.0, 0.0, 0.0, -1.00010000500025, -1.0, 0.0, 0.0, -0.200010000500025, 0.0), quaternion=(0.0, 0.0, 0.0, 1.0), scale=(1.0, 1.0, 1.0), up=(0.0, 1.0, 0.0)))], scene=Scene(children=(Mesh(geometry=SphereBufferGeometry(heightSegments=16, widthSegments=32), material=MeshStandardMaterial(alphaMap=None, aoMap=None, bumpMap=None, color='red', defines={'STANDARD': ''}, displacementMap=None, emissiveMap=None, envMap=None, lightMap=None, map=None, metalnessMap=None, normalMap=None, normalScale=(1.0, 1.0), roughnessMap=None), quaternion=(0.0, 0.0, 0.0, 1.0), scale=(1.0, 1.0, 1.0), up=(0.0, 1.0, 0.0)), Mesh(geometry=BoxBufferGeometry(), material=MeshPhysicalMaterial(alphaMap=None, aoMap=None, bumpMap=None, color='green', defines={'PHYSICAL': ''}, displacementMap=None, emissiveMap=None, envMap=None, lightMap=None, map=None, metalnessMap=None, normalMap=None, normalScale=(1.0, 1.0), roughnessMap=None), position=(2.0, 0.0, 4.0), quaternion=(0.0, 0.0, 0.0, 1.0), scale=(1.0, 1.0, 1.0), up=(0.0, 1.0, 0.0)), PerspectiveCamera(aspect=1.5, position=(10.0, 6.0, 10.0), projectionMatrix=(1.4296712803397058, 0.0, 0.0, 0.0, 0.0, 2.1445069205095586, 0.0, 0.0, 0.0, 0.0, -1.00010000500025, -1.0, 0.0, 0.0, -0.200010000500025, 0.0), quaternion=(0.0, 0.0, 0.0, 1.0), scale=(1.0, 1.0, 1.0), up=(0.0, 1.0, 0.0)), DirectionalLight(matrixWorldNeedsUpdate=True, position=(0.0, 10.0, 10.0), quaternion=(0.0, 0.0, 0.0, 1.0), scale=(1.0, 1.0, 1.0), shadow=DirectionalLightShadow(camera=OrthographicCamera(bottom=-5.0, far=500.0, left=-5.0, near=0.5, projectionMatrix=(0.2, 0.0, 0.0, 0.0, 0.0, 0.2, 0.0, 0.0, 0.0, 0.0, -0.004004004004004004, 0.0, 0.0, 0.0, -1.002002002002002, 1.0), quaternion=(0.0, 0.0, 0.0, 1.0), right=5.0, scale=(1.0, 1.0, 1.0), top=5.0, up=(0.0, 1.0, 0.0)), mapSize=(512.0, 512.0)), target=Object3D(quaternion=(0.0, 0.0, 0.0, 1.0), scale=(1.0, 1.0, 1.0), up=(0.0, 1.0, 0.0)), up=(0.0, 1.0, 0.0)), AmbientLight(quaternion=(0.0, 0.0, 0.0, 1.0), scale=(1.0, 1.0, 1.0), up=(0.0, 1.0, 0.0))), fog=None, overrideMaterial=None, quaternion=(0.0, 0.0, 0.0, 1.0), scale=(1.0, 1.0, 1.0), up=(0.0, 1.0, 0.0)), shadowMap=WebGLShadowMap())"
      ]
     },
     "metadata": {},
     "output_type": "display_data"
    }
   ],
   "source": [
    "renderer"
   ]
  },
  {
   "cell_type": "code",
   "execution_count": 10,
   "metadata": {
    "tags": [
     "nbval-ignore-output"
    ]
   },
   "outputs": [
    {
     "data": {
      "application/vnd.jupyter.widget-view+json": {
       "model_id": "4ab889ef7b344f71bb4216465b22a534",
       "version_major": 2,
       "version_minor": 0
      },
      "text/html": [
       "<p>Failed to display Jupyter Widget of type <code>AnimationAction</code>.</p>\n",
       "<p>\n",
       "  If you're reading this message in the Jupyter Notebook or JupyterLab Notebook, it may mean\n",
       "  that the widgets JavaScript is still loading. If this message persists, it\n",
       "  likely means that the widgets JavaScript library is either not installed or\n",
       "  not enabled. See the <a href=\"https://ipywidgets.readthedocs.io/en/stable/user_install.html\">Jupyter\n",
       "  Widgets Documentation</a> for setup instructions.\n",
       "</p>\n",
       "<p>\n",
       "  If you're reading this message in another frontend (for example, a static\n",
       "  rendering on GitHub or <a href=\"https://nbviewer.jupyter.org/\">NBViewer</a>),\n",
       "  it may mean that your frontend doesn't currently support widgets.\n",
       "</p>\n"
      ],
      "text/plain": [
       "AnimationAction(clip=AnimationClip(duration=5.0, tracks=(VectorKeyframeTrack(name='.position', times=array([0, 2, 5]), values=array([10.  ,  6.  , 10.  ,  6.3 ,  3.78,  6.3 , -2.98,  0.84,  9.2 ],\n",
       "      dtype=float32)), QuaternionKeyframeTrack(name='.quaternion', times=array([0, 2, 5]), values=array([-0.184  ,  0.375  ,  0.0762 ,  0.905  , -0.184  ,  0.375  ,\n",
       "        0.0762 ,  0.905  , -0.043  , -0.156  , -0.00681,  0.987  ],\n",
       "      dtype=float32)))), localRoot=PerspectiveCamera(aspect=1.5, position=(10.0, 6.0, 10.0), projectionMatrix=(1.4296712803397058, 0.0, 0.0, 0.0, 0.0, 2.1445069205095586, 0.0, 0.0, 0.0, 0.0, -1.00010000500025, -1.0, 0.0, 0.0, -0.200010000500025, 0.0), quaternion=(0.0, 0.0, 0.0, 1.0), scale=(1.0, 1.0, 1.0), up=(0.0, 1.0, 0.0)), mixer=AnimationMixer(rootObject=PerspectiveCamera(aspect=1.5, position=(10.0, 6.0, 10.0), projectionMatrix=(1.4296712803397058, 0.0, 0.0, 0.0, 0.0, 2.1445069205095586, 0.0, 0.0, 0.0, 0.0, -1.00010000500025, -1.0, 0.0, 0.0, -0.200010000500025, 0.0), quaternion=(0.0, 0.0, 0.0, 1.0), scale=(1.0, 1.0, 1.0), up=(0.0, 1.0, 0.0))))"
      ]
     },
     "metadata": {},
     "output_type": "display_data"
    }
   ],
   "source": [
    "camera_action"
   ]
  },
  {
   "cell_type": "markdown",
   "metadata": {},
   "source": [
    "Let's add another animation clip, this time animating the color of the sphere's material:"
   ]
  },
  {
   "cell_type": "code",
   "execution_count": 11,
   "metadata": {},
   "outputs": [],
   "source": [
    "color_track = ColorKeyframeTrack(name='.material.color',\n",
    "    times=[0, 1], values=[1, 0, 0,  0, 0, 1])  # red to blue\n",
    "\n",
    "color_clip = AnimationClip(tracks=[color_track], duration=1.5)\n",
    "color_action = AnimationAction(AnimationMixer(sphere), color_clip, sphere)"
   ]
  },
  {
   "cell_type": "code",
   "execution_count": 12,
   "metadata": {},
   "outputs": [
    {
     "data": {
      "application/vnd.jupyter.widget-view+json": {
       "model_id": "dd77f0ade83940f98b65259e0ddec56b",
       "version_major": 2,
       "version_minor": 0
      },
      "text/html": [
       "<p>Failed to display Jupyter Widget of type <code>AnimationAction</code>.</p>\n",
       "<p>\n",
       "  If you're reading this message in the Jupyter Notebook or JupyterLab Notebook, it may mean\n",
       "  that the widgets JavaScript is still loading. If this message persists, it\n",
       "  likely means that the widgets JavaScript library is either not installed or\n",
       "  not enabled. See the <a href=\"https://ipywidgets.readthedocs.io/en/stable/user_install.html\">Jupyter\n",
       "  Widgets Documentation</a> for setup instructions.\n",
       "</p>\n",
       "<p>\n",
       "  If you're reading this message in another frontend (for example, a static\n",
       "  rendering on GitHub or <a href=\"https://nbviewer.jupyter.org/\">NBViewer</a>),\n",
       "  it may mean that your frontend doesn't currently support widgets.\n",
       "</p>\n"
      ],
      "text/plain": [
       "AnimationAction(clip=AnimationClip(duration=1.5, tracks=(ColorKeyframeTrack(name='.material.color', times=array([0, 1]), values=array([1, 0, 0, 0, 0, 1])),)), localRoot=Mesh(geometry=SphereBufferGeometry(heightSegments=16, widthSegments=32), material=MeshStandardMaterial(alphaMap=None, aoMap=None, bumpMap=None, color='red', defines={'STANDARD': ''}, displacementMap=None, emissiveMap=None, envMap=None, lightMap=None, map=None, metalnessMap=None, normalMap=None, normalScale=(1.0, 1.0), roughnessMap=None), quaternion=(0.0, 0.0, 0.0, 1.0), scale=(1.0, 1.0, 1.0), up=(0.0, 1.0, 0.0)), mixer=AnimationMixer(rootObject=Mesh(geometry=SphereBufferGeometry(heightSegments=16, widthSegments=32), material=MeshStandardMaterial(alphaMap=None, aoMap=None, bumpMap=None, color='red', defines={'STANDARD': ''}, displacementMap=None, emissiveMap=None, envMap=None, lightMap=None, map=None, metalnessMap=None, normalMap=None, normalScale=(1.0, 1.0), roughnessMap=None), quaternion=(0.0, 0.0, 0.0, 1.0), scale=(1.0, 1.0, 1.0), up=(0.0, 1.0, 0.0))))"
      ]
     },
     "metadata": {},
     "output_type": "display_data"
    }
   ],
   "source": [
    "color_action"
   ]
  },
  {
   "cell_type": "markdown",
   "metadata": {},
   "source": [
    "Note how the two animation clips can freely be combined since they affect different properties. It's also worth noting that the color animation can be combined with manual camera control, while the camera animation cannot. When animating the camera, you might want to consider disabling the manual controls."
   ]
  },
  {
   "cell_type": "markdown",
   "metadata": {},
   "source": [
    "### Animating rotation\n",
    "\n",
    "When animating the camera rotation above, we used the camera's `quaternion`. This is the most robust method for animating free-form rotations. For example, the animation above was created by first moving the camera manually, and then reading out its `position` and `quaternion` properties at the wanted views. If you want more intuitive axes control, it is possible to animate the `rotation` sub-attributes instead, as shown below."
   ]
  },
  {
   "cell_type": "code",
   "execution_count": 13,
   "metadata": {},
   "outputs": [
    {
     "data": {
      "application/vnd.jupyter.widget-view+json": {
       "model_id": "cd6f69cbb1bf45ff9a6d148b1e7191b8",
       "version_major": 2,
       "version_minor": 0
      },
      "text/html": [
       "<p>Failed to display Jupyter Widget of type <code>Renderer</code>.</p>\n",
       "<p>\n",
       "  If you're reading this message in the Jupyter Notebook or JupyterLab Notebook, it may mean\n",
       "  that the widgets JavaScript is still loading. If this message persists, it\n",
       "  likely means that the widgets JavaScript library is either not installed or\n",
       "  not enabled. See the <a href=\"https://ipywidgets.readthedocs.io/en/stable/user_install.html\">Jupyter\n",
       "  Widgets Documentation</a> for setup instructions.\n",
       "</p>\n",
       "<p>\n",
       "  If you're reading this message in another frontend (for example, a static\n",
       "  rendering on GitHub or <a href=\"https://nbviewer.jupyter.org/\">NBViewer</a>),\n",
       "  it may mean that your frontend doesn't currently support widgets.\n",
       "</p>\n"
      ],
      "text/plain": [
       "Renderer(camera=PerspectiveCamera(aspect=1.5, position=(10.0, 6.0, 10.0), quaternion=(0.0, 0.0, 0.0, 1.0), scale=(1.0, 1.0, 1.0), up=(0.0, 1.0, 0.0)), controls=[OrbitControls(controlling=PerspectiveCamera(aspect=1.5, position=(10.0, 6.0, 10.0), quaternion=(0.0, 0.0, 0.0, 1.0), scale=(1.0, 1.0, 1.0), up=(0.0, 1.0, 0.0)))], scene=Scene(children=(Group(children=(Mesh(geometry=ParametricGeometry(func='\\nfunction f(origu,origv) {\\n    // scale u and v to the ranges I want: [0, 2*pi]\\n    var u = 2*Math.PI*origu;\\n    var v = 2*Math.PI*origv;\\n    \\n    var x = Math.sin(u);\\n    var y = Math.cos(v);\\n    var z = Math.cos(u+v);\\n    \\n    return new THREE.Vector3(x,y,z)\\n}\\n', slices=16, stacks=16), material=MeshLambertMaterial(alphaMap=None, aoMap=None, color='green', emissiveMap=None, envMap=None, lightMap=None, map=None, specularMap=None), quaternion=(0.0, 0.0, 0.0, 1.0), scale=(1.0, 1.0, 1.0), up=(0.0, 1.0, 0.0)), Mesh(geometry=ParametricGeometry(func='\\nfunction f(origu,origv) {\\n    // scale u and v to the ranges I want: [0, 2*pi]\\n    var u = 2*Math.PI*origu;\\n    var v = 2*Math.PI*origv;\\n    \\n    var x = Math.sin(u);\\n    var y = Math.cos(v);\\n    var z = Math.cos(u+v);\\n    \\n    return new THREE.Vector3(x,y,z)\\n}\\n', slices=16, stacks=16), material=MeshLambertMaterial(alphaMap=None, aoMap=None, color='yellow', emissiveMap=None, envMap=None, lightMap=None, map=None, side='BackSide', specularMap=None), quaternion=(0.0, 0.0, 0.0, 1.0), scale=(1.0, 1.0, 1.0), up=(0.0, 1.0, 0.0))), quaternion=(0.0, 0.0, 0.0, 1.0), scale=(1.0, 1.0, 1.0), up=(0.0, 1.0, 0.0)), PerspectiveCamera(aspect=1.5, position=(10.0, 6.0, 10.0), quaternion=(0.0, 0.0, 0.0, 1.0), scale=(1.0, 1.0, 1.0), up=(0.0, 1.0, 0.0)), DirectionalLight(intensity=0.6, position=(3.0, 5.0, 1.0), quaternion=(0.0, 0.0, 0.0, 1.0), scale=(1.0, 1.0, 1.0), up=(0.0, 1.0, 0.0)), AmbientLight(intensity=0.5, quaternion=(0.0, 0.0, 0.0, 1.0), scale=(1.0, 1.0, 1.0), up=(0.0, 1.0, 0.0))), fog=None, overrideMaterial=None, quaternion=(0.0, 0.0, 0.0, 1.0), scale=(1.0, 1.0, 1.0), up=(0.0, 1.0, 0.0)), shadowMap=WebGLShadowMap())"
      ]
     },
     "metadata": {},
     "output_type": "display_data"
    }
   ],
   "source": [
    "f = \"\"\"\n",
    "function f(origu,origv) {\n",
    "    // scale u and v to the ranges I want: [0, 2*pi]\n",
    "    var u = 2*Math.PI*origu;\n",
    "    var v = 2*Math.PI*origv;\n",
    "    \n",
    "    var x = Math.sin(u);\n",
    "    var y = Math.cos(v);\n",
    "    var z = Math.cos(u+v);\n",
    "    \n",
    "    return new THREE.Vector3(x,y,z)\n",
    "}\n",
    "\"\"\"\n",
    "surf_g = ParametricGeometry(func=f, slices=16, stacks=16);\n",
    "\n",
    "surf1 = Mesh(geometry=surf_g,\n",
    "             material=MeshLambertMaterial(color='green', side='FrontSide'))\n",
    "surf2 = Mesh(geometry=surf_g,\n",
    "             material=MeshLambertMaterial(color='yellow', side='BackSide'))\n",
    "surf = Group(children=[surf1, surf2])\n",
    "\n",
    "camera2 = PerspectiveCamera( position=[10, 6, 10], aspect=view_width/view_height)\n",
    "scene2 = Scene(children=[surf, camera2,\n",
    "                         DirectionalLight(position=[3, 5, 1], intensity=0.6),\n",
    "                         AmbientLight(intensity=0.5)])\n",
    "renderer2 = Renderer(camera=camera2, scene=scene2,\n",
    "                     controls=[OrbitControls(controlling=camera2)],\n",
    "                     width=view_width, height=view_height)\n",
    "display(renderer2)"
   ]
  },
  {
   "cell_type": "code",
   "execution_count": 14,
   "metadata": {},
   "outputs": [
    {
     "data": {
      "application/vnd.jupyter.widget-view+json": {
       "model_id": "6a0a3300615148e6b8820708c014481a",
       "version_major": 2,
       "version_minor": 0
      },
      "text/html": [
       "<p>Failed to display Jupyter Widget of type <code>AnimationAction</code>.</p>\n",
       "<p>\n",
       "  If you're reading this message in the Jupyter Notebook or JupyterLab Notebook, it may mean\n",
       "  that the widgets JavaScript is still loading. If this message persists, it\n",
       "  likely means that the widgets JavaScript library is either not installed or\n",
       "  not enabled. See the <a href=\"https://ipywidgets.readthedocs.io/en/stable/user_install.html\">Jupyter\n",
       "  Widgets Documentation</a> for setup instructions.\n",
       "</p>\n",
       "<p>\n",
       "  If you're reading this message in another frontend (for example, a static\n",
       "  rendering on GitHub or <a href=\"https://nbviewer.jupyter.org/\">NBViewer</a>),\n",
       "  it may mean that your frontend doesn't currently support widgets.\n",
       "</p>\n"
      ],
      "text/plain": [
       "AnimationAction(clip=AnimationClip(tracks=(NumberKeyframeTrack(name='.rotation[y]', times=array([0, 2]), values=array([0.  , 6.28], dtype=float32)),)), localRoot=Group(children=(Mesh(geometry=ParametricGeometry(func='\\nfunction f(origu,origv) {\\n    // scale u and v to the ranges I want: [0, 2*pi]\\n    var u = 2*Math.PI*origu;\\n    var v = 2*Math.PI*origv;\\n    \\n    var x = Math.sin(u);\\n    var y = Math.cos(v);\\n    var z = Math.cos(u+v);\\n    \\n    return new THREE.Vector3(x,y,z)\\n}\\n', slices=16, stacks=16), material=MeshLambertMaterial(alphaMap=None, aoMap=None, color='green', emissiveMap=None, envMap=None, lightMap=None, map=None, specularMap=None), quaternion=(0.0, 0.0, 0.0, 1.0), scale=(1.0, 1.0, 1.0), up=(0.0, 1.0, 0.0)), Mesh(geometry=ParametricGeometry(func='\\nfunction f(origu,origv) {\\n    // scale u and v to the ranges I want: [0, 2*pi]\\n    var u = 2*Math.PI*origu;\\n    var v = 2*Math.PI*origv;\\n    \\n    var x = Math.sin(u);\\n    var y = Math.cos(v);\\n    var z = Math.cos(u+v);\\n    \\n    return new THREE.Vector3(x,y,z)\\n}\\n', slices=16, stacks=16), material=MeshLambertMaterial(alphaMap=None, aoMap=None, color='yellow', emissiveMap=None, envMap=None, lightMap=None, map=None, side='BackSide', specularMap=None), quaternion=(0.0, 0.0, 0.0, 1.0), scale=(1.0, 1.0, 1.0), up=(0.0, 1.0, 0.0))), quaternion=(0.0, 0.0, 0.0, 1.0), scale=(1.0, 1.0, 1.0), up=(0.0, 1.0, 0.0)), mixer=AnimationMixer(rootObject=Group(children=(Mesh(geometry=ParametricGeometry(func='\\nfunction f(origu,origv) {\\n    // scale u and v to the ranges I want: [0, 2*pi]\\n    var u = 2*Math.PI*origu;\\n    var v = 2*Math.PI*origv;\\n    \\n    var x = Math.sin(u);\\n    var y = Math.cos(v);\\n    var z = Math.cos(u+v);\\n    \\n    return new THREE.Vector3(x,y,z)\\n}\\n', slices=16, stacks=16), material=MeshLambertMaterial(alphaMap=None, aoMap=None, color='green', emissiveMap=None, envMap=None, lightMap=None, map=None, specularMap=None), quaternion=(0.0, 0.0, 0.0, 1.0), scale=(1.0, 1.0, 1.0), up=(0.0, 1.0, 0.0)), Mesh(geometry=ParametricGeometry(func='\\nfunction f(origu,origv) {\\n    // scale u and v to the ranges I want: [0, 2*pi]\\n    var u = 2*Math.PI*origu;\\n    var v = 2*Math.PI*origv;\\n    \\n    var x = Math.sin(u);\\n    var y = Math.cos(v);\\n    var z = Math.cos(u+v);\\n    \\n    return new THREE.Vector3(x,y,z)\\n}\\n', slices=16, stacks=16), material=MeshLambertMaterial(alphaMap=None, aoMap=None, color='yellow', emissiveMap=None, envMap=None, lightMap=None, map=None, side='BackSide', specularMap=None), quaternion=(0.0, 0.0, 0.0, 1.0), scale=(1.0, 1.0, 1.0), up=(0.0, 1.0, 0.0))), quaternion=(0.0, 0.0, 0.0, 1.0), scale=(1.0, 1.0, 1.0), up=(0.0, 1.0, 0.0))))"
      ]
     },
     "metadata": {},
     "output_type": "display_data"
    }
   ],
   "source": [
    "spin_track = NumberKeyframeTrack(name='.rotation[y]', times=[0, 2], values=[0, 6.28])\n",
    "spin_clip = AnimationClip(tracks=[spin_track])\n",
    "spin_action = AnimationAction(AnimationMixer(surf), spin_clip, surf)\n",
    "spin_action"
   ]
  },
  {
   "cell_type": "markdown",
   "metadata": {},
   "source": [
    "Note that we are spinning the object itself, and that we are therefore free to manipulate the camera at will."
   ]
  },
  {
   "cell_type": "markdown",
   "metadata": {},
   "source": [
    "## Morph targets\n",
    "\n",
    "Set up a simple sphere geometry, and add a morph target that is an oblong pill shape:"
   ]
  },
  {
   "cell_type": "code",
   "execution_count": 15,
   "metadata": {},
   "outputs": [],
   "source": [
    "# This lets three.js create the geometry, then syncs back vertex positions etc.\n",
    "# For this reason, you should allow for the sync to complete before executing\n",
    "# the next cell.\n",
    "morph = BufferGeometry.from_geometry(SphereBufferGeometry(1, 32, 16))"
   ]
  },
  {
   "cell_type": "code",
   "execution_count": 16,
   "metadata": {
    "tags": [
     "nbval-skip"
    ]
   },
   "outputs": [],
   "source": [
    "import numpy as np\n",
    "\n",
    "# Set up morph targets:\n",
    "vertices = np.array(morph.attributes['position'].array)\n",
    "for i in range(len(vertices)):\n",
    "    if vertices[i, 0] > 0:\n",
    "        vertices[i, 0] += 1\n",
    "morph.morphAttributes = {'position': [\n",
    "    BufferAttribute(vertices),\n",
    "]}\n",
    "\n",
    "morphMesh = Mesh(morph, MeshPhongMaterial(\n",
    "    color='#ff3333', shininess=150, morphTargets=True))"
   ]
  },
  {
   "cell_type": "markdown",
   "metadata": {},
   "source": [
    "Set up animation for going back and forth between the sphere and pill shape:"
   ]
  },
  {
   "cell_type": "code",
   "execution_count": 17,
   "metadata": {
    "tags": [
     "nbval-skip"
    ]
   },
   "outputs": [],
   "source": [
    "pill_track = NumberKeyframeTrack(\n",
    "    name='.morphTargetInfluences[0]', times=[0, 1.5, 3], values=[0, 2.5, 0])\n",
    "pill_clip = AnimationClip(tracks=[pill_track])\n",
    "pill_action = AnimationAction(AnimationMixer(morphMesh), pill_clip, morphMesh)"
   ]
  },
  {
   "cell_type": "code",
   "execution_count": 18,
   "metadata": {
    "tags": [
     "nbval-skip"
    ]
   },
   "outputs": [
    {
     "data": {
      "application/vnd.jupyter.widget-view+json": {
       "model_id": "09c43ff02dc4493dad9f8b55d8a5bf84",
       "version_major": 2,
       "version_minor": 0
      },
      "text/html": [
       "<p>Failed to display Jupyter Widget of type <code>Renderer</code>.</p>\n",
       "<p>\n",
       "  If you're reading this message in the Jupyter Notebook or JupyterLab Notebook, it may mean\n",
       "  that the widgets JavaScript is still loading. If this message persists, it\n",
       "  likely means that the widgets JavaScript library is either not installed or\n",
       "  not enabled. See the <a href=\"https://ipywidgets.readthedocs.io/en/stable/user_install.html\">Jupyter\n",
       "  Widgets Documentation</a> for setup instructions.\n",
       "</p>\n",
       "<p>\n",
       "  If you're reading this message in another frontend (for example, a static\n",
       "  rendering on GitHub or <a href=\"https://nbviewer.jupyter.org/\">NBViewer</a>),\n",
       "  it may mean that your frontend doesn't currently support widgets.\n",
       "</p>\n"
      ],
      "text/plain": [
       "Renderer(camera=PerspectiveCamera(aspect=1.5, position=(5.0, 3.0, 5.0), quaternion=(0.0, 0.0, 0.0, 1.0), scale=(1.0, 1.0, 1.0), up=(0.0, 1.0, 0.0)), controls=[OrbitControls(controlling=PerspectiveCamera(aspect=1.5, position=(5.0, 3.0, 5.0), quaternion=(0.0, 0.0, 0.0, 1.0), scale=(1.0, 1.0, 1.0), up=(0.0, 1.0, 0.0)))], scene=Scene(children=(Mesh(geometry=BufferGeometry(index=<BufferAttribute shape=(2880, 1), dtype=uint16>, attributes={'position': <BufferAttribute shape=(561, 3), dtype=float32>, 'normal': <BufferAttribute shape=(561, 3), dtype=float32>, 'uv': <BufferAttribute shape=(561, 2), dtype=float32>}, morphAttributes={'position': <BufferAttribute shape=(561, 3), dtype=float32>}), material=MeshPhongMaterial(alphaMap=None, aoMap=None, bumpMap=None, color='#ff3333', displacementMap=None, emissiveMap=None, envMap=None, lightMap=None, map=None, morphTargets=True, normalMap=None, normalScale=(1.0, 1.0), shininess=150.0, specularMap=None), quaternion=(0.0, 0.0, 0.0, 1.0), scale=(1.0, 1.0, 1.0), up=(0.0, 1.0, 0.0)), PerspectiveCamera(aspect=1.5, position=(5.0, 3.0, 5.0), quaternion=(0.0, 0.0, 0.0, 1.0), scale=(1.0, 1.0, 1.0), up=(0.0, 1.0, 0.0)), DirectionalLight(intensity=0.6, position=(3.0, 5.0, 1.0), quaternion=(0.0, 0.0, 0.0, 1.0), scale=(1.0, 1.0, 1.0), up=(0.0, 1.0, 0.0)), AmbientLight(intensity=0.5, quaternion=(0.0, 0.0, 0.0, 1.0), scale=(1.0, 1.0, 1.0), up=(0.0, 1.0, 0.0))), fog=None, overrideMaterial=None, quaternion=(0.0, 0.0, 0.0, 1.0), scale=(1.0, 1.0, 1.0), up=(0.0, 1.0, 0.0)), shadowMap=WebGLShadowMap())"
      ]
     },
     "metadata": {},
     "output_type": "display_data"
    },
    {
     "data": {
      "application/vnd.jupyter.widget-view+json": {
       "model_id": "de0c42688c6d4b1ebf13f8202cdd16c9",
       "version_major": 2,
       "version_minor": 0
      },
      "text/html": [
       "<p>Failed to display Jupyter Widget of type <code>AnimationAction</code>.</p>\n",
       "<p>\n",
       "  If you're reading this message in the Jupyter Notebook or JupyterLab Notebook, it may mean\n",
       "  that the widgets JavaScript is still loading. If this message persists, it\n",
       "  likely means that the widgets JavaScript library is either not installed or\n",
       "  not enabled. See the <a href=\"https://ipywidgets.readthedocs.io/en/stable/user_install.html\">Jupyter\n",
       "  Widgets Documentation</a> for setup instructions.\n",
       "</p>\n",
       "<p>\n",
       "  If you're reading this message in another frontend (for example, a static\n",
       "  rendering on GitHub or <a href=\"https://nbviewer.jupyter.org/\">NBViewer</a>),\n",
       "  it may mean that your frontend doesn't currently support widgets.\n",
       "</p>\n"
      ],
      "text/plain": [
       "AnimationAction(clip=AnimationClip(duration=3.0, tracks=(NumberKeyframeTrack(name='.morphTargetInfluences[0]', times=array([0. , 1.5, 3. ], dtype=float32), values=array([0. , 2.5, 0. ], dtype=float32)),)), localRoot=Mesh(geometry=BufferGeometry(index=<BufferAttribute shape=(2880, 1), dtype=uint16>, attributes={'position': <BufferAttribute shape=(561, 3), dtype=float32>, 'normal': <BufferAttribute shape=(561, 3), dtype=float32>, 'uv': <BufferAttribute shape=(561, 2), dtype=float32>}, morphAttributes={'position': <BufferAttribute shape=(561, 3), dtype=float32>}), material=MeshPhongMaterial(alphaMap=None, aoMap=None, bumpMap=None, color='#ff3333', displacementMap=None, emissiveMap=None, envMap=None, lightMap=None, map=None, morphTargets=True, normalMap=None, normalScale=(1.0, 1.0), shininess=150.0, specularMap=None), quaternion=(0.0, 0.0, 0.0, 1.0), scale=(1.0, 1.0, 1.0), up=(0.0, 1.0, 0.0)), mixer=AnimationMixer(rootObject=Mesh(geometry=BufferGeometry(index=<BufferAttribute shape=(2880, 1), dtype=uint16>, attributes={'position': <BufferAttribute shape=(561, 3), dtype=float32>, 'normal': <BufferAttribute shape=(561, 3), dtype=float32>, 'uv': <BufferAttribute shape=(561, 2), dtype=float32>}, morphAttributes={'position': <BufferAttribute shape=(561, 3), dtype=float32>}), material=MeshPhongMaterial(alphaMap=None, aoMap=None, bumpMap=None, color='#ff3333', displacementMap=None, emissiveMap=None, envMap=None, lightMap=None, map=None, morphTargets=True, normalMap=None, normalScale=(1.0, 1.0), shininess=150.0, specularMap=None), quaternion=(0.0, 0.0, 0.0, 1.0), scale=(1.0, 1.0, 1.0), up=(0.0, 1.0, 0.0))))"
      ]
     },
     "metadata": {},
     "output_type": "display_data"
    }
   ],
   "source": [
    "camera3 = PerspectiveCamera( position=[5, 3, 5], aspect=view_width/view_height)\n",
    "scene3 = Scene(children=[morphMesh, camera3,\n",
    "                         DirectionalLight(position=[3, 5, 1], intensity=0.6),\n",
    "                         AmbientLight(intensity=0.5)])\n",
    "renderer3 = Renderer(camera=camera3, scene=scene3,\n",
    "                     controls=[OrbitControls(controlling=camera3)],\n",
    "                     width=view_width, height=view_height)\n",
    "display(renderer3, pill_action)"
   ]
  },
  {
   "cell_type": "markdown",
   "metadata": {},
   "source": [
    "## Skeletal animation\n",
    "\n",
    "First, set up a skinned mesh with some bones:"
   ]
  },
  {
   "cell_type": "code",
   "execution_count": 19,
   "metadata": {
    "tags": [
     "nbval-skip"
    ]
   },
   "outputs": [],
   "source": [
    "import numpy as np\n",
    "\n",
    "N_BONES = 3\n",
    "\n",
    "ref_cylinder = CylinderBufferGeometry(5, 5, 50, 5, N_BONES * 5, True)\n",
    "cylinder = BufferGeometry.from_geometry(ref_cylinder)"
   ]
  },
  {
   "cell_type": "code",
   "execution_count": 20,
   "metadata": {
    "tags": [
     "nbval-skip"
    ]
   },
   "outputs": [],
   "source": [
    "skinIndices = []\n",
    "skinWeights = []\n",
    "vertices = cylinder.attributes['position'].array\n",
    "boneHeight = ref_cylinder.height / (N_BONES - 1)\n",
    "for i in range(vertices.shape[0]):\n",
    "\n",
    "    y = vertices[i, 1] + 0.5 * ref_cylinder.height\n",
    "\n",
    "    skinIndex = y // boneHeight\n",
    "    skinWeight = ( y % boneHeight ) / boneHeight\n",
    "\n",
    "    # Ease between each bone\n",
    "    skinIndices.append([skinIndex, skinIndex + 1, 0, 0 ])\n",
    "    skinWeights.append([1 - skinWeight, skinWeight, 0, 0 ])\n",
    "\n",
    "cylinder.attributes = dict(\n",
    "    cylinder.attributes,\n",
    "    skinIndex=BufferAttribute(skinIndices),\n",
    "    skinWeight=BufferAttribute(skinWeights),\n",
    ")\n",
    "\n",
    "shoulder = Bone(position=(0, -25, 0))\n",
    "elbow = Bone(position=(0, 25, 0))\n",
    "hand = Bone(position=(0, 25, 0))\n",
    "\n",
    "shoulder.add(elbow)\n",
    "elbow.add(hand)\n",
    "bones = [shoulder, elbow, hand]\n",
    "skeleton = Skeleton(bones)\n",
    "\n",
    "mesh = SkinnedMesh(cylinder, MeshPhongMaterial(side='DoubleSide', skinning=True))\n",
    "mesh.add(bones[0])\n",
    "mesh.skeleton = skeleton"
   ]
  },
  {
   "cell_type": "code",
   "execution_count": 21,
   "metadata": {
    "tags": [
     "nbval-skip"
    ]
   },
   "outputs": [],
   "source": [
    "helper = SkeletonHelper(mesh)"
   ]
  },
  {
   "cell_type": "markdown",
   "metadata": {},
   "source": [
    "Next, set up some simple rotation animations for the bones:"
   ]
  },
  {
   "cell_type": "code",
   "execution_count": 22,
   "metadata": {
    "tags": [
     "nbval-skip"
    ]
   },
   "outputs": [],
   "source": [
    "# Rotate on x and z axes:\n",
    "bend_tracks = [\n",
    "    NumberKeyframeTrack(\n",
    "        name='.bones[1].rotation[x]',\n",
    "        times=[0, 0.5, 1.5, 2],\n",
    "        values=[0, 0.3, -0.3, 0]),\n",
    "    NumberKeyframeTrack(\n",
    "        name='.bones[1].rotation[z]',\n",
    "        times=[0, 0.5, 1.5, 2],\n",
    "        values=[0, 0.3, -0.3, 0]),\n",
    "    NumberKeyframeTrack(\n",
    "        name='.bones[2].rotation[x]',\n",
    "        times=[0, 0.5, 1.5, 2],\n",
    "        values=[0, -0.3, 0.3, 0]),\n",
    "    NumberKeyframeTrack(\n",
    "        name='.bones[2].rotation[z]',\n",
    "        times=[0, 0.5, 1.5, 2],\n",
    "        values=[0, -0.3, 0.3, 0]),\n",
    "]\n",
    "bend_clip = AnimationClip(tracks=bend_tracks)\n",
    "bend_action = AnimationAction(AnimationMixer(mesh), bend_clip, mesh)\n",
    "    \n",
    "# Rotate on y axis:\n",
    "wring_tracks = [\n",
    "    NumberKeyframeTrack(name='.bones[1].rotation[y]', times=[0, 0.5, 1.5, 2], values=[0, 0.7, -0.7, 0]),\n",
    "    NumberKeyframeTrack(name='.bones[2].rotation[y]', times=[0, 0.5, 1.5, 2], values=[0, 0.7, -0.7, 0]),\n",
    "]\n",
    "\n",
    "wring_clip = AnimationClip(tracks=wring_tracks)\n",
    "wring_action = AnimationAction(AnimationMixer(mesh), wring_clip, mesh)"
   ]
  },
  {
   "cell_type": "code",
   "execution_count": 23,
   "metadata": {
    "tags": [
     "nbval-skip"
    ]
   },
   "outputs": [
    {
     "data": {
      "application/vnd.jupyter.widget-view+json": {
       "model_id": "fcfb165d09ea486a85c173eca4e77408",
       "version_major": 2,
       "version_minor": 0
      },
      "text/html": [
       "<p>Failed to display Jupyter Widget of type <code>Renderer</code>.</p>\n",
       "<p>\n",
       "  If you're reading this message in the Jupyter Notebook or JupyterLab Notebook, it may mean\n",
       "  that the widgets JavaScript is still loading. If this message persists, it\n",
       "  likely means that the widgets JavaScript library is either not installed or\n",
       "  not enabled. See the <a href=\"https://ipywidgets.readthedocs.io/en/stable/user_install.html\">Jupyter\n",
       "  Widgets Documentation</a> for setup instructions.\n",
       "</p>\n",
       "<p>\n",
       "  If you're reading this message in another frontend (for example, a static\n",
       "  rendering on GitHub or <a href=\"https://nbviewer.jupyter.org/\">NBViewer</a>),\n",
       "  it may mean that your frontend doesn't currently support widgets.\n",
       "</p>\n"
      ],
      "text/plain": [
       "Renderer(camera=PerspectiveCamera(aspect=1.5, position=(40.0, 24.0, 40.0), quaternion=(0.0, 0.0, 0.0, 1.0), scale=(1.0, 1.0, 1.0), up=(0.0, 1.0, 0.0)), controls=[OrbitControls(controlling=PerspectiveCamera(aspect=1.5, position=(40.0, 24.0, 40.0), quaternion=(0.0, 0.0, 0.0, 1.0), scale=(1.0, 1.0, 1.0), up=(0.0, 1.0, 0.0)))], scene=Scene(children=(SkinnedMesh(children=(Bone(children=(Bone(children=(Bone(position=(0.0, 25.0, 0.0), quaternion=(0.0, 0.0, 0.0, 1.0), scale=(1.0, 1.0, 1.0), up=(0.0, 1.0, 0.0)),), position=(0.0, 25.0, 0.0), quaternion=(0.0, 0.0, 0.0, 1.0), scale=(1.0, 1.0, 1.0), up=(0.0, 1.0, 0.0)),), position=(0.0, -25.0, 0.0), quaternion=(0.0, 0.0, 0.0, 1.0), scale=(1.0, 1.0, 1.0), up=(0.0, 1.0, 0.0)),), geometry=BufferGeometry(index=<BufferAttribute shape=(450, 1), dtype=uint16>, attributes={'position': <BufferAttribute shape=(96, 3), dtype=float32>, 'normal': <BufferAttribute shape=(96, 3), dtype=float32>, 'uv': <BufferAttribute shape=(96, 2), dtype=float32>, 'skinIndex': <BufferAttribute shape=(96, 4), dtype=float32>, 'skinWeight': <BufferAttribute shape=(96, 4), dtype=float32>}), material=MeshPhongMaterial(alphaMap=None, aoMap=None, bumpMap=None, displacementMap=None, emissiveMap=None, envMap=None, lightMap=None, map=None, normalMap=None, normalScale=(1.0, 1.0), side='DoubleSide', skinning=True, specularMap=None), quaternion=(0.0, 0.0, 0.0, 1.0), scale=(1.0, 1.0, 1.0), skeleton=Skeleton(bones=(Bone(children=(Bone(children=(Bone(position=(0.0, 25.0, 0.0), quaternion=(0.0, 0.0, 0.0, 1.0), scale=(1.0, 1.0, 1.0), up=(0.0, 1.0, 0.0)),), position=(0.0, 25.0, 0.0), quaternion=(0.0, 0.0, 0.0, 1.0), scale=(1.0, 1.0, 1.0), up=(0.0, 1.0, 0.0)),), position=(0.0, -25.0, 0.0), quaternion=(0.0, 0.0, 0.0, 1.0), scale=(1.0, 1.0, 1.0), up=(0.0, 1.0, 0.0)), Bone(children=(Bone(position=(0.0, 25.0, 0.0), quaternion=(0.0, 0.0, 0.0, 1.0), scale=(1.0, 1.0, 1.0), up=(0.0, 1.0, 0.0)),), position=(0.0, 25.0, 0.0), quaternion=(0.0, 0.0, 0.0, 1.0), scale=(1.0, 1.0, 1.0), up=(0.0, 1.0, 0.0)), Bone(position=(0.0, 25.0, 0.0), quaternion=(0.0, 0.0, 0.0, 1.0), scale=(1.0, 1.0, 1.0), up=(0.0, 1.0, 0.0)))), up=(0.0, 1.0, 0.0)), SkeletonHelper(quaternion=(0.0, 0.0, 0.0, 1.0), root=SkinnedMesh(children=(Bone(children=(Bone(children=(Bone(position=(0.0, 25.0, 0.0), quaternion=(0.0, 0.0, 0.0, 1.0), scale=(1.0, 1.0, 1.0), up=(0.0, 1.0, 0.0)),), position=(0.0, 25.0, 0.0), quaternion=(0.0, 0.0, 0.0, 1.0), scale=(1.0, 1.0, 1.0), up=(0.0, 1.0, 0.0)),), position=(0.0, -25.0, 0.0), quaternion=(0.0, 0.0, 0.0, 1.0), scale=(1.0, 1.0, 1.0), up=(0.0, 1.0, 0.0)),), geometry=BufferGeometry(index=<BufferAttribute shape=(450, 1), dtype=uint16>, attributes={'position': <BufferAttribute shape=(96, 3), dtype=float32>, 'normal': <BufferAttribute shape=(96, 3), dtype=float32>, 'uv': <BufferAttribute shape=(96, 2), dtype=float32>, 'skinIndex': <BufferAttribute shape=(96, 4), dtype=float32>, 'skinWeight': <BufferAttribute shape=(96, 4), dtype=float32>}), material=MeshPhongMaterial(alphaMap=None, aoMap=None, bumpMap=None, displacementMap=None, emissiveMap=None, envMap=None, lightMap=None, map=None, normalMap=None, normalScale=(1.0, 1.0), side='DoubleSide', skinning=True, specularMap=None), quaternion=(0.0, 0.0, 0.0, 1.0), scale=(1.0, 1.0, 1.0), skeleton=Skeleton(bones=(Bone(children=(Bone(children=(Bone(position=(0.0, 25.0, 0.0), quaternion=(0.0, 0.0, 0.0, 1.0), scale=(1.0, 1.0, 1.0), up=(0.0, 1.0, 0.0)),), position=(0.0, 25.0, 0.0), quaternion=(0.0, 0.0, 0.0, 1.0), scale=(1.0, 1.0, 1.0), up=(0.0, 1.0, 0.0)),), position=(0.0, -25.0, 0.0), quaternion=(0.0, 0.0, 0.0, 1.0), scale=(1.0, 1.0, 1.0), up=(0.0, 1.0, 0.0)), Bone(children=(Bone(position=(0.0, 25.0, 0.0), quaternion=(0.0, 0.0, 0.0, 1.0), scale=(1.0, 1.0, 1.0), up=(0.0, 1.0, 0.0)),), position=(0.0, 25.0, 0.0), quaternion=(0.0, 0.0, 0.0, 1.0), scale=(1.0, 1.0, 1.0), up=(0.0, 1.0, 0.0)), Bone(position=(0.0, 25.0, 0.0), quaternion=(0.0, 0.0, 0.0, 1.0), scale=(1.0, 1.0, 1.0), up=(0.0, 1.0, 0.0)))), up=(0.0, 1.0, 0.0)), scale=(1.0, 1.0, 1.0), type='LineSegments', up=(0.0, 1.0, 0.0)), PerspectiveCamera(aspect=1.5, position=(40.0, 24.0, 40.0), quaternion=(0.0, 0.0, 0.0, 1.0), scale=(1.0, 1.0, 1.0), up=(0.0, 1.0, 0.0)), DirectionalLight(intensity=0.6, position=(3.0, 5.0, 1.0), quaternion=(0.0, 0.0, 0.0, 1.0), scale=(1.0, 1.0, 1.0), up=(0.0, 1.0, 0.0)), AmbientLight(intensity=0.5, quaternion=(0.0, 0.0, 0.0, 1.0), scale=(1.0, 1.0, 1.0), up=(0.0, 1.0, 0.0))), fog=None, overrideMaterial=None, quaternion=(0.0, 0.0, 0.0, 1.0), scale=(1.0, 1.0, 1.0), up=(0.0, 1.0, 0.0)), shadowMap=WebGLShadowMap())"
      ]
     },
     "metadata": {},
     "output_type": "display_data"
    }
   ],
   "source": [
    "camera4 = PerspectiveCamera( position=[40, 24, 40], aspect=view_width/view_height)\n",
    "scene4 = Scene(children=[mesh, helper, camera4,\n",
    "                         DirectionalLight(position=[3, 5, 1], intensity=0.6),\n",
    "                         AmbientLight(intensity=0.5)])\n",
    "renderer4 = Renderer(camera=camera4, scene=scene4,\n",
    "                     controls=[OrbitControls(controlling=camera4)],\n",
    "                     width=view_width, height=view_height)\n",
    "display(renderer4)"
   ]
  },
  {
   "cell_type": "code",
   "execution_count": 24,
   "metadata": {
    "tags": [
     "nbval-skip"
    ]
   },
   "outputs": [
    {
     "data": {
      "application/vnd.jupyter.widget-view+json": {
       "model_id": "f5901a0d152049eda74c4422e15498f1",
       "version_major": 2,
       "version_minor": 0
      },
      "text/html": [
       "<p>Failed to display Jupyter Widget of type <code>AnimationAction</code>.</p>\n",
       "<p>\n",
       "  If you're reading this message in the Jupyter Notebook or JupyterLab Notebook, it may mean\n",
       "  that the widgets JavaScript is still loading. If this message persists, it\n",
       "  likely means that the widgets JavaScript library is either not installed or\n",
       "  not enabled. See the <a href=\"https://ipywidgets.readthedocs.io/en/stable/user_install.html\">Jupyter\n",
       "  Widgets Documentation</a> for setup instructions.\n",
       "</p>\n",
       "<p>\n",
       "  If you're reading this message in another frontend (for example, a static\n",
       "  rendering on GitHub or <a href=\"https://nbviewer.jupyter.org/\">NBViewer</a>),\n",
       "  it may mean that your frontend doesn't currently support widgets.\n",
       "</p>\n"
      ],
      "text/plain": [
       "AnimationAction(clip=AnimationClip(duration=2.0, tracks=(NumberKeyframeTrack(name='.bones[1].rotation[x]', times=array([0. , 0.5, 1.5, 2. ], dtype=float32), values=array([ 0. ,  0.3, -0.3,  0. ], dtype=float32)), NumberKeyframeTrack(name='.bones[1].rotation[z]', times=array([0. , 0.5, 1.5, 2. ], dtype=float32), values=array([ 0. ,  0.3, -0.3,  0. ], dtype=float32)), NumberKeyframeTrack(name='.bones[2].rotation[x]', times=array([0. , 0.5, 1.5, 2. ], dtype=float32), values=array([ 0. , -0.3,  0.3,  0. ], dtype=float32)), NumberKeyframeTrack(name='.bones[2].rotation[z]', times=array([0. , 0.5, 1.5, 2. ], dtype=float32), values=array([ 0. , -0.3,  0.3,  0. ], dtype=float32)))), localRoot=SkinnedMesh(children=(Bone(children=(Bone(children=(Bone(position=(0.0, 25.0, 0.0), quaternion=(0.0, 0.0, 0.0, 1.0), scale=(1.0, 1.0, 1.0), up=(0.0, 1.0, 0.0)),), position=(0.0, 25.0, 0.0), quaternion=(0.0, 0.0, 0.0, 1.0), scale=(1.0, 1.0, 1.0), up=(0.0, 1.0, 0.0)),), position=(0.0, -25.0, 0.0), quaternion=(0.0, 0.0, 0.0, 1.0), scale=(1.0, 1.0, 1.0), up=(0.0, 1.0, 0.0)),), geometry=BufferGeometry(index=<BufferAttribute shape=(450, 1), dtype=uint16>, attributes={'position': <BufferAttribute shape=(96, 3), dtype=float32>, 'normal': <BufferAttribute shape=(96, 3), dtype=float32>, 'uv': <BufferAttribute shape=(96, 2), dtype=float32>, 'skinIndex': <BufferAttribute shape=(96, 4), dtype=float32>, 'skinWeight': <BufferAttribute shape=(96, 4), dtype=float32>}), material=MeshPhongMaterial(alphaMap=None, aoMap=None, bumpMap=None, displacementMap=None, emissiveMap=None, envMap=None, lightMap=None, map=None, normalMap=None, normalScale=(1.0, 1.0), side='DoubleSide', skinning=True, specularMap=None), quaternion=(0.0, 0.0, 0.0, 1.0), scale=(1.0, 1.0, 1.0), skeleton=Skeleton(bones=(Bone(children=(Bone(children=(Bone(position=(0.0, 25.0, 0.0), quaternion=(0.0, 0.0, 0.0, 1.0), scale=(1.0, 1.0, 1.0), up=(0.0, 1.0, 0.0)),), position=(0.0, 25.0, 0.0), quaternion=(0.0, 0.0, 0.0, 1.0), scale=(1.0, 1.0, 1.0), up=(0.0, 1.0, 0.0)),), position=(0.0, -25.0, 0.0), quaternion=(0.0, 0.0, 0.0, 1.0), scale=(1.0, 1.0, 1.0), up=(0.0, 1.0, 0.0)), Bone(children=(Bone(position=(0.0, 25.0, 0.0), quaternion=(0.0, 0.0, 0.0, 1.0), scale=(1.0, 1.0, 1.0), up=(0.0, 1.0, 0.0)),), position=(0.0, 25.0, 0.0), quaternion=(0.0, 0.0, 0.0, 1.0), scale=(1.0, 1.0, 1.0), up=(0.0, 1.0, 0.0)), Bone(position=(0.0, 25.0, 0.0), quaternion=(0.0, 0.0, 0.0, 1.0), scale=(1.0, 1.0, 1.0), up=(0.0, 1.0, 0.0)))), up=(0.0, 1.0, 0.0)), mixer=AnimationMixer(rootObject=SkinnedMesh(children=(Bone(children=(Bone(children=(Bone(position=(0.0, 25.0, 0.0), quaternion=(0.0, 0.0, 0.0, 1.0), scale=(1.0, 1.0, 1.0), up=(0.0, 1.0, 0.0)),), position=(0.0, 25.0, 0.0), quaternion=(0.0, 0.0, 0.0, 1.0), scale=(1.0, 1.0, 1.0), up=(0.0, 1.0, 0.0)),), position=(0.0, -25.0, 0.0), quaternion=(0.0, 0.0, 0.0, 1.0), scale=(1.0, 1.0, 1.0), up=(0.0, 1.0, 0.0)),), geometry=BufferGeometry(index=<BufferAttribute shape=(450, 1), dtype=uint16>, attributes={'position': <BufferAttribute shape=(96, 3), dtype=float32>, 'normal': <BufferAttribute shape=(96, 3), dtype=float32>, 'uv': <BufferAttribute shape=(96, 2), dtype=float32>, 'skinIndex': <BufferAttribute shape=(96, 4), dtype=float32>, 'skinWeight': <BufferAttribute shape=(96, 4), dtype=float32>}), material=MeshPhongMaterial(alphaMap=None, aoMap=None, bumpMap=None, displacementMap=None, emissiveMap=None, envMap=None, lightMap=None, map=None, normalMap=None, normalScale=(1.0, 1.0), side='DoubleSide', skinning=True, specularMap=None), quaternion=(0.0, 0.0, 0.0, 1.0), scale=(1.0, 1.0, 1.0), skeleton=Skeleton(bones=(Bone(children=(Bone(children=(Bone(position=(0.0, 25.0, 0.0), quaternion=(0.0, 0.0, 0.0, 1.0), scale=(1.0, 1.0, 1.0), up=(0.0, 1.0, 0.0)),), position=(0.0, 25.0, 0.0), quaternion=(0.0, 0.0, 0.0, 1.0), scale=(1.0, 1.0, 1.0), up=(0.0, 1.0, 0.0)),), position=(0.0, -25.0, 0.0), quaternion=(0.0, 0.0, 0.0, 1.0), scale=(1.0, 1.0, 1.0), up=(0.0, 1.0, 0.0)), Bone(children=(Bone(position=(0.0, 25.0, 0.0), quaternion=(0.0, 0.0, 0.0, 1.0), scale=(1.0, 1.0, 1.0), up=(0.0, 1.0, 0.0)),), position=(0.0, 25.0, 0.0), quaternion=(0.0, 0.0, 0.0, 1.0), scale=(1.0, 1.0, 1.0), up=(0.0, 1.0, 0.0)), Bone(position=(0.0, 25.0, 0.0), quaternion=(0.0, 0.0, 0.0, 1.0), scale=(1.0, 1.0, 1.0), up=(0.0, 1.0, 0.0)))), up=(0.0, 1.0, 0.0))))"
      ]
     },
     "metadata": {},
     "output_type": "display_data"
    }
   ],
   "source": [
    "bend_action"
   ]
  },
  {
   "cell_type": "code",
   "execution_count": 25,
   "metadata": {
    "tags": [
     "nbval-skip"
    ]
   },
   "outputs": [
    {
     "data": {
      "application/vnd.jupyter.widget-view+json": {
       "model_id": "9f554133507444c7af09888f2667bc0f",
       "version_major": 2,
       "version_minor": 0
      },
      "text/html": [
       "<p>Failed to display Jupyter Widget of type <code>AnimationAction</code>.</p>\n",
       "<p>\n",
       "  If you're reading this message in the Jupyter Notebook or JupyterLab Notebook, it may mean\n",
       "  that the widgets JavaScript is still loading. If this message persists, it\n",
       "  likely means that the widgets JavaScript library is either not installed or\n",
       "  not enabled. See the <a href=\"https://ipywidgets.readthedocs.io/en/stable/user_install.html\">Jupyter\n",
       "  Widgets Documentation</a> for setup instructions.\n",
       "</p>\n",
       "<p>\n",
       "  If you're reading this message in another frontend (for example, a static\n",
       "  rendering on GitHub or <a href=\"https://nbviewer.jupyter.org/\">NBViewer</a>),\n",
       "  it may mean that your frontend doesn't currently support widgets.\n",
       "</p>\n"
      ],
      "text/plain": [
       "AnimationAction(clip=AnimationClip(duration=2.0, tracks=(NumberKeyframeTrack(name='.bones[1].rotation[y]', times=array([0. , 0.5, 1.5, 2. ], dtype=float32), values=array([ 0. ,  0.7, -0.7,  0. ], dtype=float32)), NumberKeyframeTrack(name='.bones[2].rotation[y]', times=array([0. , 0.5, 1.5, 2. ], dtype=float32), values=array([ 0. ,  0.7, -0.7,  0. ], dtype=float32)))), localRoot=SkinnedMesh(children=(Bone(children=(Bone(children=(Bone(position=(0.0, 25.0, 0.0), quaternion=(0.0, 0.0, 0.0, 1.0), scale=(1.0, 1.0, 1.0), up=(0.0, 1.0, 0.0)),), position=(0.0, 25.0, 0.0), quaternion=(0.0, 0.0, 0.0, 1.0), scale=(1.0, 1.0, 1.0), up=(0.0, 1.0, 0.0)),), position=(0.0, -25.0, 0.0), quaternion=(0.0, 0.0, 0.0, 1.0), scale=(1.0, 1.0, 1.0), up=(0.0, 1.0, 0.0)),), geometry=BufferGeometry(index=<BufferAttribute shape=(450, 1), dtype=uint16>, attributes={'position': <BufferAttribute shape=(96, 3), dtype=float32>, 'normal': <BufferAttribute shape=(96, 3), dtype=float32>, 'uv': <BufferAttribute shape=(96, 2), dtype=float32>, 'skinIndex': <BufferAttribute shape=(96, 4), dtype=float32>, 'skinWeight': <BufferAttribute shape=(96, 4), dtype=float32>}), material=MeshPhongMaterial(alphaMap=None, aoMap=None, bumpMap=None, displacementMap=None, emissiveMap=None, envMap=None, lightMap=None, map=None, normalMap=None, normalScale=(1.0, 1.0), side='DoubleSide', skinning=True, specularMap=None), quaternion=(0.0, 0.0, 0.0, 1.0), scale=(1.0, 1.0, 1.0), skeleton=Skeleton(bones=(Bone(children=(Bone(children=(Bone(position=(0.0, 25.0, 0.0), quaternion=(0.0, 0.0, 0.0, 1.0), scale=(1.0, 1.0, 1.0), up=(0.0, 1.0, 0.0)),), position=(0.0, 25.0, 0.0), quaternion=(0.0, 0.0, 0.0, 1.0), scale=(1.0, 1.0, 1.0), up=(0.0, 1.0, 0.0)),), position=(0.0, -25.0, 0.0), quaternion=(0.0, 0.0, 0.0, 1.0), scale=(1.0, 1.0, 1.0), up=(0.0, 1.0, 0.0)), Bone(children=(Bone(position=(0.0, 25.0, 0.0), quaternion=(0.0, 0.0, 0.0, 1.0), scale=(1.0, 1.0, 1.0), up=(0.0, 1.0, 0.0)),), position=(0.0, 25.0, 0.0), quaternion=(0.0, 0.0, 0.0, 1.0), scale=(1.0, 1.0, 1.0), up=(0.0, 1.0, 0.0)), Bone(position=(0.0, 25.0, 0.0), quaternion=(0.0, 0.0, 0.0, 1.0), scale=(1.0, 1.0, 1.0), up=(0.0, 1.0, 0.0)))), up=(0.0, 1.0, 0.0)), mixer=AnimationMixer(rootObject=SkinnedMesh(children=(Bone(children=(Bone(children=(Bone(position=(0.0, 25.0, 0.0), quaternion=(0.0, 0.0, 0.0, 1.0), scale=(1.0, 1.0, 1.0), up=(0.0, 1.0, 0.0)),), position=(0.0, 25.0, 0.0), quaternion=(0.0, 0.0, 0.0, 1.0), scale=(1.0, 1.0, 1.0), up=(0.0, 1.0, 0.0)),), position=(0.0, -25.0, 0.0), quaternion=(0.0, 0.0, 0.0, 1.0), scale=(1.0, 1.0, 1.0), up=(0.0, 1.0, 0.0)),), geometry=BufferGeometry(index=<BufferAttribute shape=(450, 1), dtype=uint16>, attributes={'position': <BufferAttribute shape=(96, 3), dtype=float32>, 'normal': <BufferAttribute shape=(96, 3), dtype=float32>, 'uv': <BufferAttribute shape=(96, 2), dtype=float32>, 'skinIndex': <BufferAttribute shape=(96, 4), dtype=float32>, 'skinWeight': <BufferAttribute shape=(96, 4), dtype=float32>}), material=MeshPhongMaterial(alphaMap=None, aoMap=None, bumpMap=None, displacementMap=None, emissiveMap=None, envMap=None, lightMap=None, map=None, normalMap=None, normalScale=(1.0, 1.0), side='DoubleSide', skinning=True, specularMap=None), quaternion=(0.0, 0.0, 0.0, 1.0), scale=(1.0, 1.0, 1.0), skeleton=Skeleton(bones=(Bone(children=(Bone(children=(Bone(position=(0.0, 25.0, 0.0), quaternion=(0.0, 0.0, 0.0, 1.0), scale=(1.0, 1.0, 1.0), up=(0.0, 1.0, 0.0)),), position=(0.0, 25.0, 0.0), quaternion=(0.0, 0.0, 0.0, 1.0), scale=(1.0, 1.0, 1.0), up=(0.0, 1.0, 0.0)),), position=(0.0, -25.0, 0.0), quaternion=(0.0, 0.0, 0.0, 1.0), scale=(1.0, 1.0, 1.0), up=(0.0, 1.0, 0.0)), Bone(children=(Bone(position=(0.0, 25.0, 0.0), quaternion=(0.0, 0.0, 0.0, 1.0), scale=(1.0, 1.0, 1.0), up=(0.0, 1.0, 0.0)),), position=(0.0, 25.0, 0.0), quaternion=(0.0, 0.0, 0.0, 1.0), scale=(1.0, 1.0, 1.0), up=(0.0, 1.0, 0.0)), Bone(position=(0.0, 25.0, 0.0), quaternion=(0.0, 0.0, 0.0, 1.0), scale=(1.0, 1.0, 1.0), up=(0.0, 1.0, 0.0)))), up=(0.0, 1.0, 0.0))))"
      ]
     },
     "metadata": {},
     "output_type": "display_data"
    }
   ],
   "source": [
    "wring_action"
   ]
  },
  {
   "cell_type": "code",
   "execution_count": null,
   "metadata": {},
   "outputs": [],
   "source": []
  }
 ],
 "metadata": {
  "kernelspec": {
   "display_name": "Python 3",
   "language": "python",
   "name": "python3"
  },
  "language_info": {
   "codemirror_mode": {
    "name": "ipython",
    "version": 3
   },
   "file_extension": ".py",
   "mimetype": "text/x-python",
   "name": "python",
   "nbconvert_exporter": "python",
   "pygments_lexer": "ipython3",
   "version": "3.6.3"
  },
  "widgets": {
   "application/vnd.jupyter.widget-state+json": {
    "state": {
     "00476e8f7f894154928de61663b0b62f": {
      "model_module": "jupyter-threejs",
      "model_module_version": "~1.0.0",
      "model_name": "DirectionalLightModel",
      "state": {
       "_model_module_version": "~1.0.0",
       "_view_module": null,
       "_view_module_version": "",
       "intensity": 0.6,
       "matrixWorldNeedsUpdate": true,
       "position": [
        3,
        5,
        1
       ],
       "shadow": "IPY_MODEL_8f97ca98-4d8b-4874-8679-655b0235e6f5",
       "target": "IPY_MODEL_69c30045-8ca5-451b-8dd2-48db224dba54"
      }
     },
     "0052dc16-d27b-4afc-8889-ee5a8a2e554d": {
      "buffers": [
       {
        "data": "AAAAAAAAgD/NzEw+AACAP83MzD4AAIA/mpkZPwAAgD/NzEw/AACAPwAAgD8AAIA/AAAAAO/ubj/NzEw+7+5uP83MzD7v7m4/mpkZP+/ubj/NzEw/7+5uPwAAgD/v7m4/AAAAAN7dXT/NzEw+3t1dP83MzD7e3V0/mpkZP97dXT/NzEw/3t1dPwAAgD/e3V0/AAAAAM3MTD/NzEw+zcxMP83MzD7NzEw/mpkZP83MTD/NzEw/zcxMPwAAgD/NzEw/AAAAALy7Oz/NzEw+vLs7P83MzD68uzs/mpkZP7y7Oz/NzEw/vLs7PwAAgD+8uzs/AAAAAKuqKj/NzEw+q6oqP83MzD6rqio/mpkZP6uqKj/NzEw/q6oqPwAAgD+rqio/AAAAAJqZGT/NzEw+mpkZP83MzD6amRk/mpkZP5qZGT/NzEw/mpkZPwAAgD+amRk/AAAAAImICD/NzEw+iYgIP83MzD6JiAg/mpkZP4mICD/NzEw/iYgIPwAAgD+JiAg/AAAAAO/u7j7NzEw+7+7uPs3MzD7v7u4+mpkZP+/u7j7NzEw/7+7uPgAAgD/v7u4+AAAAAM3MzD7NzEw+zczMPs3MzD7NzMw+mpkZP83MzD7NzEw/zczMPgAAgD/NzMw+AAAAAKuqqj7NzEw+q6qqPs3MzD6rqqo+mpkZP6uqqj7NzEw/q6qqPgAAgD+rqqo+AAAAAImIiD7NzEw+iYiIPs3MzD6JiIg+mpkZP4mIiD7NzEw/iYiIPgAAgD+JiIg+AAAAAM3MTD7NzEw+zcxMPs3MzD7NzEw+mpkZP83MTD7NzEw/zcxMPgAAgD/NzEw+AAAAAImICD7NzEw+iYgIPs3MzD6JiAg+mpkZP4mICD7NzEw/iYgIPgAAgD+JiAg+AAAAAImIiD3NzEw+iYiIPc3MzD6JiIg9mpkZP4mIiD3NzEw/iYiIPQAAgD+JiIg9AAAAAAAAAADNzEw+AAAAAM3MzD4AAAAAmpkZPwAAAADNzEw/AAAAAAAAgD8AAAAA",
        "encoding": "base64",
        "path": [
         "array",
         "buffer"
        ]
       }
      ],
      "model_module": "jupyter-threejs",
      "model_module_version": "1.0.0",
      "model_name": "BufferAttributeModel",
      "state": {
       "array": {
        "dtype": "float32",
        "shape": [
         96,
         2
        ]
       },
       "normalized": false,
       "version": 0
      }
     },
     "07c576a0-7648-4305-8e87-5bbb2037e59b": {
      "buffers": [
       {
        "data": "AAAGAAEABgAHAAEABgAMAAcADAANAAcADAASAA0AEgATAA0AEgAYABMAGAAZABMAGAAeABkAHgAfABkAHgAkAB8AJAAlAB8AJAAqACUAKgArACUAKgAwACsAMAAxACsAMAA2ADEANgA3ADEANgA8ADcAPAA9ADcAPABCAD0AQgBDAD0AQgBIAEMASABJAEMASABOAEkATgBPAEkATgBUAE8AVABVAE8AVABaAFUAWgBbAFUAAQAHAAIABwAIAAIABwANAAgADQAOAAgADQATAA4AEwAUAA4AEwAZABQAGQAaABQAGQAfABoAHwAgABoAHwAlACAAJQAmACAAJQArACYAKwAsACYAKwAxACwAMQAyACwAMQA3ADIANwA4ADIANwA9ADgAPQA+ADgAPQBDAD4AQwBEAD4AQwBJAEQASQBKAEQASQBPAEoATwBQAEoATwBVAFAAVQBWAFAAVQBbAFYAWwBcAFYAAgAIAAMACAAJAAMACAAOAAkADgAPAAkADgAUAA8AFAAVAA8AFAAaABUAGgAbABUAGgAgABsAIAAhABsAIAAmACEAJgAnACEAJgAsACcALAAtACcALAAyAC0AMgAzAC0AMgA4ADMAOAA5ADMAOAA+ADkAPgA/ADkAPgBEAD8ARABFAD8ARABKAEUASgBLAEUASgBQAEsAUABRAEsAUABWAFEAVgBXAFEAVgBcAFcAXABdAFcAAwAJAAQACQAKAAQACQAPAAoADwAQAAoADwAVABAAFQAWABAAFQAbABYAGwAcABYAGwAhABwAIQAiABwAIQAnACIAJwAoACIAJwAtACgALQAuACgALQAzAC4AMwA0AC4AMwA5ADQAOQA6ADQAOQA/ADoAPwBAADoAPwBFAEAARQBGAEAARQBLAEYASwBMAEYASwBRAEwAUQBSAEwAUQBXAFIAVwBYAFIAVwBdAFgAXQBeAFgABAAKAAUACgALAAUACgAQAAsAEAARAAsAEAAWABEAFgAXABEAFgAcABcAHAAdABcAHAAiAB0AIgAjAB0AIgAoACMAKAApACMAKAAuACkALgAvACkALgA0AC8ANAA1AC8ANAA6ADUAOgA7ADUAOgBAADsAQABBADsAQABGAEEARgBHAEEARgBMAEcATABNAEcATABSAE0AUgBTAE0AUgBYAFMAWABZAFMAWABeAFkAXgBfAFkA",
        "encoding": "base64",
        "path": [
         "array",
         "buffer"
        ]
       }
      ],
      "model_module": "jupyter-threejs",
      "model_module_version": "1.0.0",
      "model_name": "BufferAttributeModel",
      "state": {
       "array": {
        "dtype": "uint16",
        "shape": [
         450,
         1
        ]
       },
       "normalized": false,
       "version": 0
      }
     },
     "09c43ff02dc4493dad9f8b55d8a5bf84": {
      "model_module": "jupyter-threejs",
      "model_module_version": "~1.0.0",
      "model_name": "RendererModel",
      "state": {
       "_height": 400,
       "_model_module_version": "~1.0.0",
       "_view_module_version": "~1.0.0",
       "_width": 600,
       "camera": "IPY_MODEL_a4f265d2789646e0bb5276517cae0b37",
       "controls": [
        "IPY_MODEL_89c4abd6fa354c0586f16381660a270d"
       ],
       "layout": "IPY_MODEL_62b8803e18284c0fab6c61bff096bd8a",
       "scene": "IPY_MODEL_dc73ff23aed5499082292a398f1adf8c",
       "shadowMap": "IPY_MODEL_10263b05d229452db08d21c2b51df961"
      }
     },
     "0c1020a5c327437e9b3b61722a04ebc1": {
      "model_module": "jupyter-threejs",
      "model_module_version": "~1.0.0",
      "model_name": "MeshPhysicalMaterialModel",
      "state": {
       "_model_module_version": "~1.0.0",
       "_view_module": null,
       "_view_module_version": "",
       "color": "green"
      }
     },
     "10263b05d229452db08d21c2b51df961": {
      "model_module": "jupyter-threejs",
      "model_module_version": "~1.0.0",
      "model_name": "WebGLShadowMapModel",
      "state": {
       "_model_module_version": "~1.0.0",
       "_view_module": null,
       "_view_module_version": ""
      }
     },
     "162939537381476c86fd156e7223aa60": {
      "model_module": "jupyter-threejs",
      "model_module_version": "~1.0.0",
      "model_name": "RendererModel",
      "state": {
       "_height": 400,
       "_model_module_version": "~1.0.0",
       "_view_module_version": "~1.0.0",
       "_width": 600,
       "camera": "IPY_MODEL_7745a4acd62345a9ae1e66106424e9b4",
       "controls": [
        "IPY_MODEL_2ee172ecdf234b11a64677cb083f6167"
       ],
       "layout": "IPY_MODEL_284895b4b0f549e29e71e81abfef98ae",
       "scene": "IPY_MODEL_189fcb3f10924fb9b70906c4789bac67",
       "shadowMap": "IPY_MODEL_de0ef2acbfdb42bb95ab1990da41cf54"
      }
     },
     "186d2c58ed7548138892964601f95373": {
      "model_module": "@jupyter-widgets/base",
      "model_module_version": "1.0.0",
      "model_name": "LayoutModel",
      "state": {}
     },
     "189fcb3f10924fb9b70906c4789bac67": {
      "model_module": "jupyter-threejs",
      "model_module_version": "~1.0.0",
      "model_name": "SceneModel",
      "state": {
       "_model_module_version": "~1.0.0",
       "_view_module": null,
       "_view_module_version": "",
       "children": [
        "IPY_MODEL_e443582223e54cf5883f7b04cadd9d28",
        "IPY_MODEL_f1e8fa8c1cba425dac45d3184ad89dc0",
        "IPY_MODEL_7745a4acd62345a9ae1e66106424e9b4",
        "IPY_MODEL_50e4ad4ad71248eeb1871f8e50ef3778",
        "IPY_MODEL_22eb06ea23894e2792e5b3645c5ef555"
       ]
      }
     },
     "1b761c1ed944411ba2c8c0e6ad76d300": {
      "model_module": "jupyter-threejs",
      "model_module_version": "~1.0.0",
      "model_name": "AmbientLightModel",
      "state": {
       "_model_module_version": "~1.0.0",
       "_view_module": null,
       "_view_module_version": "",
       "intensity": 0.5
      }
     },
     "20f8e3b06908496eb2ebaaee45cfe538": {
      "model_module": "jupyter-threejs",
      "model_module_version": "~1.0.0",
      "model_name": "MeshStandardMaterialModel",
      "state": {
       "_model_module_version": "~1.0.0",
       "_view_module": null,
       "_view_module_version": "",
       "color": "red"
      }
     },
     "21dfc2fafa9b42ddbf807c4274e2a87f": {
      "model_module": "jupyter-threejs",
      "model_module_version": "~1.0.0",
      "model_name": "SkinnedMeshModel",
      "state": {
       "_model_module_version": "~1.0.0",
       "_view_module": null,
       "_view_module_version": "",
       "children": [
        "IPY_MODEL_f108807dcf034b4ea56db031f785635f"
       ],
       "geometry": "IPY_MODEL_a4cf14ac1148466dbfe72cc65d28948d",
       "material": "IPY_MODEL_a14137383337484d9c5b19682c616a31",
       "morphTargetInfluences": [],
       "skeleton": "IPY_MODEL_746de55cabf84c95b9d0265e8ad62421"
      }
     },
     "22eb06ea23894e2792e5b3645c5ef555": {
      "model_module": "jupyter-threejs",
      "model_module_version": "~1.0.0",
      "model_name": "AmbientLightModel",
      "state": {
       "_model_module_version": "~1.0.0",
       "_view_module": null,
       "_view_module_version": ""
      }
     },
     "248f20ce-d52d-4906-943d-a2f68037a265": {
      "model_module": "jupyter-threejs",
      "model_module_version": "1.0.0",
      "model_name": "OrthographicCameraModel",
      "state": {
       "bottom": -5,
       "far": 500,
       "left": -5,
       "near": 0.5,
       "projectionMatrix": [
        0.2,
        0,
        0,
        0,
        0,
        0.2,
        0,
        0,
        0,
        0,
        -0.004004004004004004,
        0,
        0,
        0,
        -1.002002002002002,
        1
       ],
       "right": 5,
       "top": 5
      }
     },
     "284895b4b0f549e29e71e81abfef98ae": {
      "model_module": "@jupyter-widgets/base",
      "model_module_version": "1.0.0",
      "model_name": "LayoutModel",
      "state": {}
     },
     "294c7879fcd446758474bfbd380e36d9": {
      "buffers": [
       {
        "data": "AAAAAAIAAAAFAAAA",
        "encoding": "base64",
        "path": [
         "times",
         "buffer"
        ]
       },
       {
        "data": "f2o8vgAAwD6/Dpw9FK5nP39qPL4AAMA+vw6cPRSuZz/FIDC9d74fvmwm37sIrHw/",
        "encoding": "base64",
        "path": [
         "values",
         "buffer"
        ]
       }
      ],
      "model_module": "jupyter-threejs",
      "model_module_version": "~1.0.0",
      "model_name": "QuaternionKeyframeTrackModel",
      "state": {
       "_model_module_version": "~1.0.0",
       "_view_module": null,
       "_view_module_version": "",
       "name": ".quaternion",
       "times": {
        "dtype": "int32",
        "shape": [
         3
        ]
       },
       "values": {
        "dtype": "float32",
        "shape": [
         12
        ]
       }
      }
     },
     "2ee172ecdf234b11a64677cb083f6167": {
      "model_module": "jupyter-threejs",
      "model_module_version": "~1.0.0",
      "model_name": "OrbitControlsModel",
      "state": {
       "_model_module_version": "~1.0.0",
       "_view_module": null,
       "_view_module_version": "",
       "controlling": "IPY_MODEL_7745a4acd62345a9ae1e66106424e9b4",
       "maxAzimuthAngle": "inf",
       "maxDistance": "inf",
       "maxZoom": "inf",
       "minAzimuthAngle": "-inf"
      }
     },
     "3c4c6ff05b854a9f9eb0602bb9b3710f": {
      "buffers": [
       {
        "data": "AAAAAAAAAD8AAMA/AAAAQA==",
        "encoding": "base64",
        "path": [
         "times",
         "buffer"
        ]
       },
       {
        "data": "AAAAAJqZmb6amZk+AAAAAA==",
        "encoding": "base64",
        "path": [
         "values",
         "buffer"
        ]
       }
      ],
      "model_module": "jupyter-threejs",
      "model_module_version": "~1.0.0",
      "model_name": "NumberKeyframeTrackModel",
      "state": {
       "_model_module_version": "~1.0.0",
       "_view_module": null,
       "_view_module_version": "",
       "name": ".bones[2].rotation[x]",
       "times": {
        "dtype": "float32",
        "shape": [
         4
        ]
       },
       "values": {
        "dtype": "float32",
        "shape": [
         4
        ]
       }
      }
     },
     "3c5a1346db5d43729c5930b897f1a3ac": {
      "buffers": [
       {
        "data": "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",
        "encoding": "base64",
        "path": [
         "array",
         "buffer"
        ]
       }
      ],
      "model_module": "jupyter-threejs",
      "model_module_version": "~1.0.0",
      "model_name": "BufferAttributeModel",
      "state": {
       "_model_module_version": "~1.0.0",
       "_view_module": null,
       "_view_module_version": "",
       "array": {
        "dtype": "float32",
        "shape": [
         561,
         3
        ]
       },
       "version": 2
      }
     },
     "3cfc1e6c685e42848aedf131af46bebf": {
      "model_module": "jupyter-threejs",
      "model_module_version": "~1.0.0",
      "model_name": "AmbientLightModel",
      "state": {
       "_model_module_version": "~1.0.0",
       "_view_module": null,
       "_view_module_version": "",
       "intensity": 0.5
      }
     },
     "41951274-b0e2-4170-96d8-5a579cf1f36c": {
      "buffers": [
       {
        "data": "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",
        "encoding": "base64",
        "path": [
         "array",
         "buffer"
        ]
       }
      ],
      "model_module": "jupyter-threejs",
      "model_module_version": "1.0.0",
      "model_name": "BufferAttributeModel",
      "state": {
       "array": {
        "dtype": "uint16",
        "shape": [
         2880,
         1
        ]
       },
       "normalized": false,
       "version": 0
      }
     },
     "43896303fa1f4c86a7cc7d0570293825": {
      "model_module": "jupyter-threejs",
      "model_module_version": "~1.0.0",
      "model_name": "AnimationMixerModel",
      "state": {
       "_model_module_version": "~1.0.0",
       "_view_module": null,
       "_view_module_version": "",
       "rootObject": "IPY_MODEL_e443582223e54cf5883f7b04cadd9d28"
      }
     },
     "459a820f8d454b4e87faf12807d74c03": {
      "model_module": "@jupyter-widgets/base",
      "model_module_version": "1.0.0",
      "model_name": "LayoutModel",
      "state": {}
     },
     "4ab889ef7b344f71bb4216465b22a534": {
      "model_module": "jupyter-threejs",
      "model_module_version": "~1.0.0",
      "model_name": "AnimationActionModel",
      "state": {
       "_model_module": "jupyter-threejs",
       "_model_module_version": "~1.0.0",
       "_model_name": "AnimationActionModel",
       "_view_module_version": "~1.0.0",
       "clip": "IPY_MODEL_81bb165198014480b92dc13845c43c81",
       "layout": "IPY_MODEL_186d2c58ed7548138892964601f95373",
       "localRoot": "IPY_MODEL_7745a4acd62345a9ae1e66106424e9b4",
       "mixer": "IPY_MODEL_c92c71cbb51d4778907ddd46fa28d9ae",
       "repititions": "inf"
      }
     },
     "50e4ad4ad71248eeb1871f8e50ef3778": {
      "model_module": "jupyter-threejs",
      "model_module_version": "~1.0.0",
      "model_name": "DirectionalLightModel",
      "state": {
       "_model_module_version": "~1.0.0",
       "_view_module": null,
       "_view_module_version": "",
       "matrixWorldNeedsUpdate": true,
       "position": [
        0,
        10,
        10
       ],
       "shadow": "IPY_MODEL_703c07a1-c89a-4048-9b78-5cc66a74ec3d",
       "target": "IPY_MODEL_866a6581-ec25-489a-845d-4dba584b52cf"
      }
     },
     "53502b70bc694d1fa7585b049d9db5b9": {
      "model_module": "jupyter-threejs",
      "model_module_version": "~1.0.0",
      "model_name": "SphereBufferGeometryModel",
      "state": {
       "_model_module_version": "~1.0.0",
       "_view_module": null,
       "_view_module_version": "",
       "heightSegments": 16,
       "widthSegments": 32
      }
     },
     "5484a523ae5c4c4b9daa480b86bc14d7": {
      "model_module": "jupyter-threejs",
      "model_module_version": "~1.0.0",
      "model_name": "AnimationClipModel",
      "state": {
       "_model_module_version": "~1.0.0",
       "_view_module": null,
       "_view_module_version": "",
       "duration": 2,
       "tracks": [
        "IPY_MODEL_e09a0622fae24323ab61e018e519c018"
       ]
      }
     },
     "59fd6a22c98343a59e781798657a6225": {
      "model_module": "jupyter-threejs",
      "model_module_version": "~1.0.0",
      "model_name": "ParametricGeometryModel",
      "state": {
       "_model_module_version": "~1.0.0",
       "_view_module": null,
       "_view_module_version": "",
       "func": "\nfunction f(origu,origv) {\n    // scale u and v to the ranges I want: [0, 2*pi]\n    var u = 2*Math.PI*origu;\n    var v = 2*Math.PI*origv;\n    \n    var x = Math.sin(u);\n    var y = Math.cos(v);\n    var z = Math.cos(u+v);\n    \n    return new THREE.Vector3(x,y,z)\n}\n",
       "slices": 16,
       "stacks": 16
      }
     },
     "5f88670990d84c069ee95cb46d0acc0c": {
      "model_module": "jupyter-threejs",
      "model_module_version": "~1.0.0",
      "model_name": "BufferGeometryModel",
      "state": {
       "_model_module_version": "~1.0.0",
       "_view_module": null,
       "_view_module_version": "",
       "attributes": {
        "normal": "IPY_MODEL_fed4c463-6a24-444c-9d20-05d85d1a32a6",
        "position": "IPY_MODEL_888d0a2b-9181-4629-a88d-a86df2be6cad",
        "uv": "IPY_MODEL_ff45ddbf-e8da-4180-a567-38517da0a760"
       },
       "index": "IPY_MODEL_41951274-b0e2-4170-96d8-5a579cf1f36c",
       "morphAttributes": {
        "position": [
         "IPY_MODEL_3c5a1346db5d43729c5930b897f1a3ac"
        ]
       }
      }
     },
     "629945ffb72c42d68e3a6f8be526927c": {
      "model_module": "jupyter-threejs",
      "model_module_version": "~1.0.0",
      "model_name": "WebGLShadowMapModel",
      "state": {
       "_model_module_version": "~1.0.0",
       "_view_module": null,
       "_view_module_version": ""
      }
     },
     "62b8803e18284c0fab6c61bff096bd8a": {
      "model_module": "@jupyter-widgets/base",
      "model_module_version": "1.0.0",
      "model_name": "LayoutModel",
      "state": {}
     },
     "62c0f02fe47b4eb585e879227f85acc7": {
      "model_module": "jupyter-threejs",
      "model_module_version": "~1.0.0",
      "model_name": "GroupModel",
      "state": {
       "_model_module_version": "~1.0.0",
       "_view_module": null,
       "_view_module_version": "",
       "children": [
        "IPY_MODEL_b07a0f9319c1422f8748ed3348862e0e",
        "IPY_MODEL_66305671f27a4859806db8d9bc57ffde"
       ]
      }
     },
     "634806aa-5ab7-4220-bfa1-66706c9ef932": {
      "model_module": "jupyter-threejs",
      "model_module_version": "1.0.0",
      "model_name": "OrthographicCameraModel",
      "state": {
       "bottom": -5,
       "far": 500,
       "left": -5,
       "near": 0.5,
       "projectionMatrix": [
        0.2,
        0,
        0,
        0,
        0,
        0.2,
        0,
        0,
        0,
        0,
        -0.004004004004004004,
        0,
        0,
        0,
        -1.002002002002002,
        1
       ],
       "right": 5,
       "top": 5
      }
     },
     "66305671f27a4859806db8d9bc57ffde": {
      "model_module": "jupyter-threejs",
      "model_module_version": "~1.0.0",
      "model_name": "MeshModel",
      "state": {
       "_model_module_version": "~1.0.0",
       "_view_module": null,
       "_view_module_version": "",
       "geometry": "IPY_MODEL_59fd6a22c98343a59e781798657a6225",
       "material": "IPY_MODEL_c9a0305b9c7e4f1f9e5acf1f83c162ae",
       "morphTargetInfluences": []
      }
     },
     "6768eaca411d4ad8bf9c397c1c1222e6": {
      "buffers": [
       {
        "data": "AAAAAAAAwD8AAEBA",
        "encoding": "base64",
        "path": [
         "times",
         "buffer"
        ]
       },
       {
        "data": "AAAAAAAAIEAAAAAA",
        "encoding": "base64",
        "path": [
         "values",
         "buffer"
        ]
       }
      ],
      "model_module": "jupyter-threejs",
      "model_module_version": "~1.0.0",
      "model_name": "NumberKeyframeTrackModel",
      "state": {
       "_model_module_version": "~1.0.0",
       "_view_module": null,
       "_view_module_version": "",
       "name": ".morphTargetInfluences[0]",
       "times": {
        "dtype": "float32",
        "shape": [
         3
        ]
       },
       "values": {
        "dtype": "float32",
        "shape": [
         3
        ]
       }
      }
     },
     "69c30045-8ca5-451b-8dd2-48db224dba54": {
      "model_module": "jupyter-threejs",
      "model_module_version": "1.0.0",
      "model_name": "Object3DModel",
      "state": {}
     },
     "6a0a3300615148e6b8820708c014481a": {
      "model_module": "jupyter-threejs",
      "model_module_version": "~1.0.0",
      "model_name": "AnimationActionModel",
      "state": {
       "_model_module": "jupyter-threejs",
       "_model_module_version": "~1.0.0",
       "_model_name": "AnimationActionModel",
       "_view_module_version": "~1.0.0",
       "clip": "IPY_MODEL_5484a523ae5c4c4b9daa480b86bc14d7",
       "layout": "IPY_MODEL_a254da31575c4393bd5edbbf71c0f7af",
       "localRoot": "IPY_MODEL_62c0f02fe47b4eb585e879227f85acc7",
       "mixer": "IPY_MODEL_9edf58895db2450ea5b26b342141dd82",
       "repititions": "inf"
      }
     },
     "703c07a1-c89a-4048-9b78-5cc66a74ec3d": {
      "model_module": "jupyter-threejs",
      "model_module_version": "1.0.0",
      "model_name": "DirectionalLightShadowModel",
      "state": {
       "camera": "IPY_MODEL_d210f773-4ab3-417b-9b56-31d470e64baf"
      }
     },
     "70b7289cf0d64d1f98c34a08fd547690": {
      "model_module": "jupyter-threejs",
      "model_module_version": "~1.0.0",
      "model_name": "SceneModel",
      "state": {
       "_model_module_version": "~1.0.0",
       "_view_module": null,
       "_view_module_version": "",
       "children": [
        "IPY_MODEL_21dfc2fafa9b42ddbf807c4274e2a87f",
        "IPY_MODEL_d20f9f41e34143dd8b448202d511cfd9",
        "IPY_MODEL_b3de1d7b58cb476c9044d6ea1c65df96",
        "IPY_MODEL_ff3a18a3aaff4db497100fb9233985ec",
        "IPY_MODEL_1b761c1ed944411ba2c8c0e6ad76d300"
       ]
      }
     },
     "746de55cabf84c95b9d0265e8ad62421": {
      "model_module": "jupyter-threejs",
      "model_module_version": "~1.0.0",
      "model_name": "SkeletonModel",
      "state": {
       "_model_module_version": "~1.0.0",
       "_view_module": null,
       "_view_module_version": "",
       "bones": [
        "IPY_MODEL_f108807dcf034b4ea56db031f785635f",
        "IPY_MODEL_8be145f7c5454d0cbc5811b44365f11a",
        "IPY_MODEL_a160c198d1c64ea4aaba8771d8a32a7e"
       ]
      }
     },
     "7745a4acd62345a9ae1e66106424e9b4": {
      "model_module": "jupyter-threejs",
      "model_module_version": "~1.0.0",
      "model_name": "PerspectiveCameraModel",
      "state": {
       "_model_module_version": "~1.0.0",
       "_view_module": null,
       "_view_module_version": "",
       "aspect": 1.5,
       "position": [
        10,
        6,
        10
       ],
       "projectionMatrix": [
        1.4296712803397058,
        0,
        0,
        0,
        0,
        2.1445069205095586,
        0,
        0,
        0,
        0,
        -1.00010000500025,
        -1,
        0,
        0,
        -0.200010000500025,
        0
       ]
      }
     },
     "775222e61b9d45e1970d08dc4e72b20a": {
      "model_module": "jupyter-threejs",
      "model_module_version": "~1.0.0",
      "model_name": "PerspectiveCameraModel",
      "state": {
       "_model_module_version": "~1.0.0",
       "_view_module": null,
       "_view_module_version": "",
       "aspect": 1.5,
       "position": [
        10,
        6,
        10
       ],
       "projectionMatrix": [
        1.4296712803397058,
        0,
        0,
        0,
        0,
        2.1445069205095586,
        0,
        0,
        0,
        0,
        -1.00010000500025,
        -1,
        0,
        0,
        -0.200010000500025,
        0
       ]
      }
     },
     "793e7ad831444657a03e31b084a8e437": {
      "model_module": "jupyter-threejs",
      "model_module_version": "~1.0.0",
      "model_name": "MeshLambertMaterialModel",
      "state": {
       "_model_module_version": "~1.0.0",
       "_view_module": null,
       "_view_module_version": "",
       "color": "green"
      }
     },
     "7face7c6e10c479787c90d6b741627da": {
      "model_module": "@jupyter-widgets/base",
      "model_module_version": "1.0.0",
      "model_name": "LayoutModel",
      "state": {}
     },
     "81bb165198014480b92dc13845c43c81": {
      "model_module": "jupyter-threejs",
      "model_module_version": "~1.0.0",
      "model_name": "AnimationClipModel",
      "state": {
       "_model_module_version": "~1.0.0",
       "_view_module": null,
       "_view_module_version": "",
       "duration": 5,
       "tracks": [
        "IPY_MODEL_a25fa5002d5e43e2a811883c257d1d6e",
        "IPY_MODEL_294c7879fcd446758474bfbd380e36d9"
       ]
      }
     },
     "85a83871a8c24ec08f9287aa3466f905": {
      "model_module": "jupyter-threejs",
      "model_module_version": "~1.0.0",
      "model_name": "AnimationMixerModel",
      "state": {
       "_model_module_version": "~1.0.0",
       "_view_module": null,
       "_view_module_version": "",
       "rootObject": "IPY_MODEL_21dfc2fafa9b42ddbf807c4274e2a87f"
      }
     },
     "866a6581-ec25-489a-845d-4dba584b52cf": {
      "model_module": "jupyter-threejs",
      "model_module_version": "1.0.0",
      "model_name": "Object3DModel",
      "state": {}
     },
     "8781a4a7563742cfbe740f74a8faf636": {
      "model_module": "jupyter-threejs",
      "model_module_version": "~1.0.0",
      "model_name": "MeshModel",
      "state": {
       "_model_module_version": "~1.0.0",
       "_view_module": null,
       "_view_module_version": "",
       "geometry": "IPY_MODEL_5f88670990d84c069ee95cb46d0acc0c",
       "material": "IPY_MODEL_d89e786b527c493481bcf30d9da56a9c"
      }
     },
     "8815ef36aec843419e00585a5af2e6e9": {
      "model_module": "jupyter-threejs",
      "model_module_version": "~1.0.0",
      "model_name": "AnimationMixerModel",
      "state": {
       "_model_module_version": "~1.0.0",
       "_view_module": null,
       "_view_module_version": "",
       "rootObject": "IPY_MODEL_8781a4a7563742cfbe740f74a8faf636"
      }
     },
     "888d0a2b-9181-4629-a88d-a86df2be6cad": {
      "buffers": [
       {
        "data": "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",
        "encoding": "base64",
        "path": [
         "array",
         "buffer"
        ]
       }
      ],
      "model_module": "jupyter-threejs",
      "model_module_version": "1.0.0",
      "model_name": "BufferAttributeModel",
      "state": {
       "array": {
        "dtype": "float32",
        "shape": [
         561,
         3
        ]
       },
       "normalized": false,
       "version": 0
      }
     },
     "89c4abd6fa354c0586f16381660a270d": {
      "model_module": "jupyter-threejs",
      "model_module_version": "~1.0.0",
      "model_name": "OrbitControlsModel",
      "state": {
       "_model_module_version": "~1.0.0",
       "_view_module": null,
       "_view_module_version": "",
       "controlling": "IPY_MODEL_a4f265d2789646e0bb5276517cae0b37",
       "maxAzimuthAngle": "inf",
       "maxDistance": "inf",
       "maxZoom": "inf",
       "minAzimuthAngle": "-inf"
      }
     },
     "8be145f7c5454d0cbc5811b44365f11a": {
      "model_module": "jupyter-threejs",
      "model_module_version": "~1.0.0",
      "model_name": "BoneModel",
      "state": {
       "_model_module_version": "~1.0.0",
       "_view_module": null,
       "_view_module_version": "",
       "children": [
        "IPY_MODEL_a160c198d1c64ea4aaba8771d8a32a7e"
       ],
       "position": [
        0,
        25,
        0
       ]
      }
     },
     "8c54a1f341e74420a2f9a762217f53d2": {
      "buffers": [
       {
        "data": "AAAAAAAAAD8AAMA/AAAAQA==",
        "encoding": "base64",
        "path": [
         "times",
         "buffer"
        ]
       },
       {
        "data": "AAAAAJqZmT6amZm+AAAAAA==",
        "encoding": "base64",
        "path": [
         "values",
         "buffer"
        ]
       }
      ],
      "model_module": "jupyter-threejs",
      "model_module_version": "~1.0.0",
      "model_name": "NumberKeyframeTrackModel",
      "state": {
       "_model_module_version": "~1.0.0",
       "_view_module": null,
       "_view_module_version": "",
       "name": ".bones[1].rotation[x]",
       "times": {
        "dtype": "float32",
        "shape": [
         4
        ]
       },
       "values": {
        "dtype": "float32",
        "shape": [
         4
        ]
       }
      }
     },
     "8e888d08011849c6b925006d4ba271bb": {
      "model_module": "jupyter-threejs",
      "model_module_version": "~1.0.0",
      "model_name": "OrbitControlsModel",
      "state": {
       "_model_module_version": "~1.0.0",
       "_view_module": null,
       "_view_module_version": "",
       "controlling": "IPY_MODEL_775222e61b9d45e1970d08dc4e72b20a",
       "maxAzimuthAngle": "inf",
       "maxDistance": "inf",
       "maxZoom": "inf",
       "minAzimuthAngle": "-inf"
      }
     },
     "8f97ca98-4d8b-4874-8679-655b0235e6f5": {
      "model_module": "jupyter-threejs",
      "model_module_version": "1.0.0",
      "model_name": "DirectionalLightShadowModel",
      "state": {
       "camera": "IPY_MODEL_248f20ce-d52d-4906-943d-a2f68037a265"
      }
     },
     "8fa0e1fcc2c74a549f9f0592d2623579": {
      "model_module": "jupyter-threejs",
      "model_module_version": "~1.0.0",
      "model_name": "SphereBufferGeometryModel",
      "state": {
       "_model_module_version": "~1.0.0",
       "_view_module": null,
       "_view_module_version": "",
       "heightSegments": 16,
       "widthSegments": 32
      }
     },
     "8fd0b1350c8f423f83f37671a347945d": {
      "model_module": "@jupyter-widgets/base",
      "model_module_version": "1.0.0",
      "model_name": "LayoutModel",
      "state": {}
     },
     "9126b474c0c9493eafc0949a48014fea": {
      "buffers": [
       {
        "data": "AAAAAAAAAD8AAMA/AAAAQA==",
        "encoding": "base64",
        "path": [
         "times",
         "buffer"
        ]
       },
       {
        "data": "AAAAADMzMz8zMzO/AAAAAA==",
        "encoding": "base64",
        "path": [
         "values",
         "buffer"
        ]
       }
      ],
      "model_module": "jupyter-threejs",
      "model_module_version": "~1.0.0",
      "model_name": "NumberKeyframeTrackModel",
      "state": {
       "_model_module_version": "~1.0.0",
       "_view_module": null,
       "_view_module_version": "",
       "name": ".bones[2].rotation[y]",
       "times": {
        "dtype": "float32",
        "shape": [
         4
        ]
       },
       "values": {
        "dtype": "float32",
        "shape": [
         4
        ]
       }
      }
     },
     "94eccdbcd7f24deba4d3970e06b6319c": {
      "model_module": "jupyter-threejs",
      "model_module_version": "~1.0.0",
      "model_name": "SceneModel",
      "state": {
       "_model_module_version": "~1.0.0",
       "_view_module": null,
       "_view_module_version": "",
       "children": [
        "IPY_MODEL_62c0f02fe47b4eb585e879227f85acc7",
        "IPY_MODEL_775222e61b9d45e1970d08dc4e72b20a",
        "IPY_MODEL_00476e8f7f894154928de61663b0b62f",
        "IPY_MODEL_3cfc1e6c685e42848aedf131af46bebf"
       ]
      }
     },
     "96a1645e6a154e8dbde6d0eb4bfc14f3": {
      "model_module": "jupyter-threejs",
      "model_module_version": "~1.0.0",
      "model_name": "AnimationClipModel",
      "state": {
       "_model_module_version": "~1.0.0",
       "_view_module": null,
       "_view_module_version": "",
       "duration": 2,
       "tracks": [
        "IPY_MODEL_b79f02d1843147a28cb62033c4e779f4",
        "IPY_MODEL_9126b474c0c9493eafc0949a48014fea"
       ]
      }
     },
     "99a7369f-035f-4766-861b-5bf7ff4cc247": {
      "model_module": "jupyter-threejs",
      "model_module_version": "1.0.0",
      "model_name": "DirectionalLightShadowModel",
      "state": {
       "camera": "IPY_MODEL_634806aa-5ab7-4220-bfa1-66706c9ef932"
      }
     },
     "9d333f51-11d5-49c7-809f-43d275b91819": {
      "buffers": [
       {
        "data": "AAAAAAAAAAAAAIA/cXhzPwAAAAB6N54+GHkWPwAAAAC9G0+/GHkWvwAAAAC9G0+/cXhzvwAAAAB6N54+MjGNpQAAAAAAAIA/AAAAAAAAAAAAAIA/cXhzPwAAAAB6N54+GHkWPwAAAAC9G0+/GHkWvwAAAAC9G0+/cXhzvwAAAAB6N54+MjGNpQAAAAAAAIA/AAAAAAAAAAAAAIA/cXhzPwAAAAB6N54+GHkWPwAAAAC9G0+/GHkWvwAAAAC9G0+/cXhzvwAAAAB6N54+MjGNpQAAAAAAAIA/AAAAAAAAAAAAAIA/cXhzPwAAAAB6N54+GHkWPwAAAAC9G0+/GHkWvwAAAAC9G0+/cXhzvwAAAAB6N54+MjGNpQAAAAAAAIA/AAAAAAAAAAAAAIA/cXhzPwAAAAB6N54+GHkWPwAAAAC9G0+/GHkWvwAAAAC9G0+/cXhzvwAAAAB6N54+MjGNpQAAAAAAAIA/AAAAAAAAAAAAAIA/cXhzPwAAAAB6N54+GHkWPwAAAAC9G0+/GHkWvwAAAAC9G0+/cXhzvwAAAAB6N54+MjGNpQAAAAAAAIA/AAAAAAAAAAAAAIA/cXhzPwAAAAB6N54+GHkWPwAAAAC9G0+/GHkWvwAAAAC9G0+/cXhzvwAAAAB6N54+MjGNpQAAAAAAAIA/AAAAAAAAAAAAAIA/cXhzPwAAAAB6N54+GHkWPwAAAAC9G0+/GHkWvwAAAAC9G0+/cXhzvwAAAAB6N54+MjGNpQAAAAAAAIA/AAAAAAAAAAAAAIA/cXhzPwAAAAB6N54+GHkWPwAAAAC9G0+/GHkWvwAAAAC9G0+/cXhzvwAAAAB6N54+MjGNpQAAAAAAAIA/AAAAAAAAAAAAAIA/cXhzPwAAAAB6N54+GHkWPwAAAAC9G0+/GHkWvwAAAAC9G0+/cXhzvwAAAAB6N54+MjGNpQAAAAAAAIA/AAAAAAAAAAAAAIA/cXhzPwAAAAB6N54+GHkWPwAAAAC9G0+/GHkWvwAAAAC9G0+/cXhzvwAAAAB6N54+MjGNpQAAAAAAAIA/AAAAAAAAAAAAAIA/cXhzPwAAAAB6N54+GHkWPwAAAAC9G0+/GHkWvwAAAAC9G0+/cXhzvwAAAAB6N54+MjGNpQAAAAAAAIA/AAAAAAAAAAAAAIA/cXhzPwAAAAB6N54+GHkWPwAAAAC9G0+/GHkWvwAAAAC9G0+/cXhzvwAAAAB6N54+MjGNpQAAAAAAAIA/AAAAAAAAAAAAAIA/cXhzPwAAAAB6N54+GHkWPwAAAAC9G0+/GHkWvwAAAAC9G0+/cXhzvwAAAAB6N54+MjGNpQAAAAAAAIA/AAAAAAAAAAAAAIA/cXhzPwAAAAB6N54+GHkWPwAAAAC9G0+/GHkWvwAAAAC9G0+/cXhzvwAAAAB6N54+MjGNpQAAAAAAAIA/AAAAAAAAAAAAAIA/cXhzPwAAAAB6N54+GHkWPwAAAAC9G0+/GHkWvwAAAAC9G0+/cXhzvwAAAAB6N54+MjGNpQAAAAAAAIA/",
        "encoding": "base64",
        "path": [
         "array",
         "buffer"
        ]
       }
      ],
      "model_module": "jupyter-threejs",
      "model_module_version": "1.0.0",
      "model_name": "BufferAttributeModel",
      "state": {
       "array": {
        "dtype": "float32",
        "shape": [
         96,
         3
        ]
       },
       "normalized": false,
       "version": 0
      }
     },
     "9d453930c00b46ab8a303450dc56cb72": {
      "buffers": [
       {
        "data": "AAAAAAEAAAA=",
        "encoding": "base64",
        "path": [
         "times",
         "buffer"
        ]
       },
       {
        "data": "AQAAAAAAAAAAAAAAAAAAAAAAAAABAAAA",
        "encoding": "base64",
        "path": [
         "values",
         "buffer"
        ]
       }
      ],
      "model_module": "jupyter-threejs",
      "model_module_version": "~1.0.0",
      "model_name": "ColorKeyframeTrackModel",
      "state": {
       "_model_module_version": "~1.0.0",
       "_view_module": null,
       "_view_module_version": "",
       "name": ".material.color",
       "times": {
        "dtype": "int32",
        "shape": [
         2
        ]
       },
       "values": {
        "dtype": "int32",
        "shape": [
         6
        ]
       }
      }
     },
     "9dadb334-31b9-4c1c-be0c-3606276e4ae9": {
      "model_module": "jupyter-threejs",
      "model_module_version": "1.0.0",
      "model_name": "Object3DModel",
      "state": {}
     },
     "9edf58895db2450ea5b26b342141dd82": {
      "model_module": "jupyter-threejs",
      "model_module_version": "~1.0.0",
      "model_name": "AnimationMixerModel",
      "state": {
       "_model_module_version": "~1.0.0",
       "_view_module": null,
       "_view_module_version": "",
       "rootObject": "IPY_MODEL_62c0f02fe47b4eb585e879227f85acc7"
      }
     },
     "9f554133507444c7af09888f2667bc0f": {
      "model_module": "jupyter-threejs",
      "model_module_version": "~1.0.0",
      "model_name": "AnimationActionModel",
      "state": {
       "_model_module": "jupyter-threejs",
       "_model_module_version": "~1.0.0",
       "_model_name": "AnimationActionModel",
       "_view_module_version": "~1.0.0",
       "clip": "IPY_MODEL_96a1645e6a154e8dbde6d0eb4bfc14f3",
       "layout": "IPY_MODEL_abefa575b2e445c08fddc906196afefc",
       "localRoot": "IPY_MODEL_21dfc2fafa9b42ddbf807c4274e2a87f",
       "mixer": "IPY_MODEL_c14e59b442fd4ef8b32052906576ed27",
       "repititions": "inf"
      }
     },
     "a14137383337484d9c5b19682c616a31": {
      "model_module": "jupyter-threejs",
      "model_module_version": "~1.0.0",
      "model_name": "MeshPhongMaterialModel",
      "state": {
       "_model_module_version": "~1.0.0",
       "_view_module": null,
       "_view_module_version": "",
       "side": "DoubleSide",
       "skinning": true
      }
     },
     "a160c198d1c64ea4aaba8771d8a32a7e": {
      "model_module": "jupyter-threejs",
      "model_module_version": "~1.0.0",
      "model_name": "BoneModel",
      "state": {
       "_model_module_version": "~1.0.0",
       "_view_module": null,
       "_view_module_version": "",
       "position": [
        0,
        25,
        0
       ]
      }
     },
     "a254da31575c4393bd5edbbf71c0f7af": {
      "model_module": "@jupyter-widgets/base",
      "model_module_version": "1.0.0",
      "model_name": "LayoutModel",
      "state": {}
     },
     "a25fa5002d5e43e2a811883c257d1d6e": {
      "buffers": [
       {
        "data": "AAAAAAIAAAAFAAAA",
        "encoding": "base64",
        "path": [
         "times",
         "buffer"
        ]
       },
       {
        "data": "AAAgQQAAwEAAACBBmpnJQIXrcUCamclAUrg+wD0KVz8zMxNB",
        "encoding": "base64",
        "path": [
         "values",
         "buffer"
        ]
       }
      ],
      "model_module": "jupyter-threejs",
      "model_module_version": "~1.0.0",
      "model_name": "VectorKeyframeTrackModel",
      "state": {
       "_model_module_version": "~1.0.0",
       "_view_module": null,
       "_view_module_version": "",
       "name": ".position",
       "times": {
        "dtype": "int32",
        "shape": [
         3
        ]
       },
       "values": {
        "dtype": "float32",
        "shape": [
         9
        ]
       }
      }
     },
     "a3ac36321d024a8b913f533a51b93718": {
      "model_module": "jupyter-threejs",
      "model_module_version": "~1.0.0",
      "model_name": "BoxBufferGeometryModel",
      "state": {
       "_model_module_version": "~1.0.0",
       "_view_module": null,
       "_view_module_version": ""
      }
     },
     "a4cf14ac1148466dbfe72cc65d28948d": {
      "model_module": "jupyter-threejs",
      "model_module_version": "~1.0.0",
      "model_name": "BufferGeometryModel",
      "state": {
       "_model_module_version": "~1.0.0",
       "_view_module": null,
       "_view_module_version": "",
       "attributes": {
        "normal": "IPY_MODEL_9d333f51-11d5-49c7-809f-43d275b91819",
        "position": "IPY_MODEL_ab010c53-9158-4918-a34b-d145be5442b8",
        "skinIndex": "IPY_MODEL_f65efbfdd2eb41618d7acfcfa427f082",
        "skinWeight": "IPY_MODEL_e0867f0d4428454cb6985835057a49ab",
        "uv": "IPY_MODEL_0052dc16-d27b-4afc-8889-ee5a8a2e554d"
       },
       "index": "IPY_MODEL_07c576a0-7648-4305-8e87-5bbb2037e59b"
      }
     },
     "a4f265d2789646e0bb5276517cae0b37": {
      "model_module": "jupyter-threejs",
      "model_module_version": "~1.0.0",
      "model_name": "PerspectiveCameraModel",
      "state": {
       "_model_module_version": "~1.0.0",
       "_view_module": null,
       "_view_module_version": "",
       "aspect": 1.5,
       "position": [
        5,
        3,
        5
       ],
       "projectionMatrix": [
        1.4296712803397058,
        0,
        0,
        0,
        0,
        2.1445069205095586,
        0,
        0,
        0,
        0,
        -1.00010000500025,
        -1,
        0,
        0,
        -0.200010000500025,
        0
       ]
      }
     },
     "a75a0e2d85f7455ab3acfca563aa2785": {
      "model_module": "jupyter-threejs",
      "model_module_version": "~1.0.0",
      "model_name": "DirectionalLightModel",
      "state": {
       "_model_module_version": "~1.0.0",
       "_view_module": null,
       "_view_module_version": "",
       "intensity": 0.6,
       "matrixWorldNeedsUpdate": true,
       "position": [
        3,
        5,
        1
       ],
       "shadow": "IPY_MODEL_99a7369f-035f-4766-861b-5bf7ff4cc247",
       "target": "IPY_MODEL_9dadb334-31b9-4c1c-be0c-3606276e4ae9"
      }
     },
     "a7f953ada86344d19f244bd102d1fd91": {
      "model_module": "@jupyter-widgets/base",
      "model_module_version": "1.0.0",
      "model_name": "LayoutModel",
      "state": {}
     },
     "a9200878d3f74732979ca9e87013c2fb": {
      "model_module": "@jupyter-widgets/base",
      "model_module_version": "1.0.0",
      "model_name": "LayoutModel",
      "state": {}
     },
     "a92c210077b047658d82b64c15c2084d": {
      "model_module": "jupyter-threejs",
      "model_module_version": "~1.0.0",
      "model_name": "WebGLShadowMapModel",
      "state": {
       "_model_module_version": "~1.0.0",
       "_view_module": null,
       "_view_module_version": ""
      }
     },
     "a974898f5fb04a839f59f3c2c245dbfd": {
      "model_module": "jupyter-threejs",
      "model_module_version": "~1.0.0",
      "model_name": "CylinderBufferGeometryModel",
      "state": {
       "_model_module_version": "~1.0.0",
       "_view_module": null,
       "_view_module_version": "",
       "height": 50,
       "heightSegments": 15,
       "openEnded": true,
       "radiusBottom": 5,
       "radiusSegments": 5,
       "radiusTop": 5
      }
     },
     "ab010c53-9158-4918-a34b-d145be5442b8": {
      "buffers": [
       {
        "data": "AAAAAAAAyEEAAKBARiuYQAAAyEFYxcU/Xhc8QAAAyEFWcYHAXhc8wAAAyEFWcYHARiuYwAAAyEFYxcU/fn2wpgAAyEEAAKBAAAAAAFVVrUEAAKBARiuYQFVVrUFYxcU/Xhc8QFVVrUFWcYHAXhc8wFVVrUFWcYHARiuYwFVVrUFYxcU/fn2wplVVrUEAAKBAAAAAAKuqkkEAAKBARiuYQKuqkkFYxcU/Xhc8QKuqkkFWcYHAXhc8wKuqkkFWcYHARiuYwKuqkkFYxcU/fn2wpquqkkEAAKBAAAAAAAAAcEEAAKBARiuYQAAAcEFYxcU/Xhc8QAAAcEFWcYHAXhc8wAAAcEFWcYHARiuYwAAAcEFYxcU/fn2wpgAAcEEAAKBAAAAAAKuqOkEAAKBARiuYQKuqOkFYxcU/Xhc8QKuqOkFWcYHAXhc8wKuqOkFWcYHARiuYwKuqOkFYxcU/fn2wpquqOkEAAKBAAAAAAFVVBUEAAKBARiuYQFVVBUFYxcU/Xhc8QFVVBUFWcYHAXhc8wFVVBUFWcYHARiuYwFVVBUFYxcU/fn2wplVVBUEAAKBAAAAAAAAAoEAAAKBARiuYQAAAoEBYxcU/Xhc8QAAAoEBWcYHAXhc8wAAAoEBWcYHARiuYwAAAoEBYxcU/fn2wpgAAoEAAAKBAAAAAAFVV1T8AAKBARiuYQFVV1T9YxcU/Xhc8QFVV1T9WcYHAXhc8wFVV1T9WcYHARiuYwFVV1T9YxcU/fn2wplVV1T8AAKBAAAAAAFVV1b8AAKBARiuYQFVV1b9YxcU/Xhc8QFVV1b9WcYHAXhc8wFVV1b9WcYHARiuYwFVV1b9YxcU/fn2wplVV1b8AAKBAAAAAAAAAoMAAAKBARiuYQAAAoMBYxcU/Xhc8QAAAoMBWcYHAXhc8wAAAoMBWcYHARiuYwAAAoMBYxcU/fn2wpgAAoMAAAKBAAAAAAFVVBcEAAKBARiuYQFVVBcFYxcU/Xhc8QFVVBcFWcYHAXhc8wFVVBcFWcYHARiuYwFVVBcFYxcU/fn2wplVVBcEAAKBAAAAAAKuqOsEAAKBARiuYQKuqOsFYxcU/Xhc8QKuqOsFWcYHAXhc8wKuqOsFWcYHARiuYwKuqOsFYxcU/fn2wpquqOsEAAKBAAAAAAAAAcMEAAKBARiuYQAAAcMFYxcU/Xhc8QAAAcMFWcYHAXhc8wAAAcMFWcYHARiuYwAAAcMFYxcU/fn2wpgAAcMEAAKBAAAAAAKuqksEAAKBARiuYQKuqksFYxcU/Xhc8QKuqksFWcYHAXhc8wKuqksFWcYHARiuYwKuqksFYxcU/fn2wpquqksEAAKBAAAAAAFVVrcEAAKBARiuYQFVVrcFYxcU/Xhc8QFVVrcFWcYHAXhc8wFVVrcFWcYHARiuYwFVVrcFYxcU/fn2wplVVrcEAAKBAAAAAAAAAyMEAAKBARiuYQAAAyMFYxcU/Xhc8QAAAyMFWcYHAXhc8wAAAyMFWcYHARiuYwAAAyMFYxcU/fn2wpgAAyMEAAKBA",
        "encoding": "base64",
        "path": [
         "array",
         "buffer"
        ]
       }
      ],
      "model_module": "jupyter-threejs",
      "model_module_version": "1.0.0",
      "model_name": "BufferAttributeModel",
      "state": {
       "array": {
        "dtype": "float32",
        "shape": [
         96,
         3
        ]
       },
       "normalized": false,
       "version": 0
      }
     },
     "abefa575b2e445c08fddc906196afefc": {
      "model_module": "@jupyter-widgets/base",
      "model_module_version": "1.0.0",
      "model_name": "LayoutModel",
      "state": {}
     },
     "b07a0f9319c1422f8748ed3348862e0e": {
      "model_module": "jupyter-threejs",
      "model_module_version": "~1.0.0",
      "model_name": "MeshModel",
      "state": {
       "_model_module_version": "~1.0.0",
       "_view_module": null,
       "_view_module_version": "",
       "geometry": "IPY_MODEL_59fd6a22c98343a59e781798657a6225",
       "material": "IPY_MODEL_793e7ad831444657a03e31b084a8e437",
       "morphTargetInfluences": []
      }
     },
     "b144fb0cf20443e0a09de4def9ec873f": {
      "buffers": [
       {
        "data": "AAAAAAAAAD8AAMA/AAAAQA==",
        "encoding": "base64",
        "path": [
         "times",
         "buffer"
        ]
       },
       {
        "data": "AAAAAJqZmT6amZm+AAAAAA==",
        "encoding": "base64",
        "path": [
         "values",
         "buffer"
        ]
       }
      ],
      "model_module": "jupyter-threejs",
      "model_module_version": "~1.0.0",
      "model_name": "NumberKeyframeTrackModel",
      "state": {
       "_model_module_version": "~1.0.0",
       "_view_module": null,
       "_view_module_version": "",
       "name": ".bones[1].rotation[z]",
       "times": {
        "dtype": "float32",
        "shape": [
         4
        ]
       },
       "values": {
        "dtype": "float32",
        "shape": [
         4
        ]
       }
      }
     },
     "b3de1d7b58cb476c9044d6ea1c65df96": {
      "model_module": "jupyter-threejs",
      "model_module_version": "~1.0.0",
      "model_name": "PerspectiveCameraModel",
      "state": {
       "_model_module_version": "~1.0.0",
       "_view_module": null,
       "_view_module_version": "",
       "aspect": 1.5,
       "position": [
        40,
        24,
        40
       ],
       "projectionMatrix": [
        1.4296712803397058,
        0,
        0,
        0,
        0,
        2.1445069205095586,
        0,
        0,
        0,
        0,
        -1.00010000500025,
        -1,
        0,
        0,
        -0.200010000500025,
        0
       ]
      }
     },
     "b79f02d1843147a28cb62033c4e779f4": {
      "buffers": [
       {
        "data": "AAAAAAAAAD8AAMA/AAAAQA==",
        "encoding": "base64",
        "path": [
         "times",
         "buffer"
        ]
       },
       {
        "data": "AAAAADMzMz8zMzO/AAAAAA==",
        "encoding": "base64",
        "path": [
         "values",
         "buffer"
        ]
       }
      ],
      "model_module": "jupyter-threejs",
      "model_module_version": "~1.0.0",
      "model_name": "NumberKeyframeTrackModel",
      "state": {
       "_model_module_version": "~1.0.0",
       "_view_module": null,
       "_view_module_version": "",
       "name": ".bones[1].rotation[y]",
       "times": {
        "dtype": "float32",
        "shape": [
         4
        ]
       },
       "values": {
        "dtype": "float32",
        "shape": [
         4
        ]
       }
      }
     },
     "b98ebd80e7274b88b3b221a95b34d56a": {
      "buffers": [
       {
        "data": "AAAAAAAAAD8AAMA/AAAAQA==",
        "encoding": "base64",
        "path": [
         "times",
         "buffer"
        ]
       },
       {
        "data": "AAAAAJqZmb6amZk+AAAAAA==",
        "encoding": "base64",
        "path": [
         "values",
         "buffer"
        ]
       }
      ],
      "model_module": "jupyter-threejs",
      "model_module_version": "~1.0.0",
      "model_name": "NumberKeyframeTrackModel",
      "state": {
       "_model_module_version": "~1.0.0",
       "_view_module": null,
       "_view_module_version": "",
       "name": ".bones[2].rotation[z]",
       "times": {
        "dtype": "float32",
        "shape": [
         4
        ]
       },
       "values": {
        "dtype": "float32",
        "shape": [
         4
        ]
       }
      }
     },
     "c14e59b442fd4ef8b32052906576ed27": {
      "model_module": "jupyter-threejs",
      "model_module_version": "~1.0.0",
      "model_name": "AnimationMixerModel",
      "state": {
       "_model_module_version": "~1.0.0",
       "_view_module": null,
       "_view_module_version": "",
       "rootObject": "IPY_MODEL_21dfc2fafa9b42ddbf807c4274e2a87f"
      }
     },
     "c92c71cbb51d4778907ddd46fa28d9ae": {
      "model_module": "jupyter-threejs",
      "model_module_version": "~1.0.0",
      "model_name": "AnimationMixerModel",
      "state": {
       "_model_module_version": "~1.0.0",
       "_view_module": null,
       "_view_module_version": "",
       "rootObject": "IPY_MODEL_7745a4acd62345a9ae1e66106424e9b4"
      }
     },
     "c9a0305b9c7e4f1f9e5acf1f83c162ae": {
      "model_module": "jupyter-threejs",
      "model_module_version": "~1.0.0",
      "model_name": "MeshLambertMaterialModel",
      "state": {
       "_model_module_version": "~1.0.0",
       "_view_module": null,
       "_view_module_version": "",
       "color": "yellow",
       "side": "BackSide"
      }
     },
     "cac3bb79-7d1f-4500-bc6f-23cb4413fbba": {
      "model_module": "jupyter-threejs",
      "model_module_version": "1.0.0",
      "model_name": "Object3DModel",
      "state": {}
     },
     "cd6f69cbb1bf45ff9a6d148b1e7191b8": {
      "model_module": "jupyter-threejs",
      "model_module_version": "~1.0.0",
      "model_name": "RendererModel",
      "state": {
       "_height": 400,
       "_model_module_version": "~1.0.0",
       "_view_module_version": "~1.0.0",
       "_width": 600,
       "camera": "IPY_MODEL_775222e61b9d45e1970d08dc4e72b20a",
       "controls": [
        "IPY_MODEL_8e888d08011849c6b925006d4ba271bb"
       ],
       "layout": "IPY_MODEL_8fd0b1350c8f423f83f37671a347945d",
       "scene": "IPY_MODEL_94eccdbcd7f24deba4d3970e06b6319c",
       "shadowMap": "IPY_MODEL_629945ffb72c42d68e3a6f8be526927c"
      }
     },
     "d1d788d30e434f4384dc04bc3c3a885e": {
      "model_module": "jupyter-threejs",
      "model_module_version": "~1.0.0",
      "model_name": "OrbitControlsModel",
      "state": {
       "_model_module_version": "~1.0.0",
       "_view_module": null,
       "_view_module_version": "",
       "controlling": "IPY_MODEL_b3de1d7b58cb476c9044d6ea1c65df96",
       "maxAzimuthAngle": "inf",
       "maxDistance": "inf",
       "maxZoom": "inf",
       "minAzimuthAngle": "-inf"
      }
     },
     "d20f9f41e34143dd8b448202d511cfd9": {
      "model_module": "jupyter-threejs",
      "model_module_version": "~1.0.0",
      "model_name": "SkeletonHelperModel",
      "state": {
       "_model_module_version": "~1.0.0",
       "_view_module": null,
       "_view_module_version": "",
       "root": "IPY_MODEL_21dfc2fafa9b42ddbf807c4274e2a87f",
       "type": "LineSegments"
      }
     },
     "d210f773-4ab3-417b-9b56-31d470e64baf": {
      "model_module": "jupyter-threejs",
      "model_module_version": "1.0.0",
      "model_name": "OrthographicCameraModel",
      "state": {
       "bottom": -5,
       "far": 500,
       "left": -5,
       "near": 0.5,
       "projectionMatrix": [
        0.2,
        0,
        0,
        0,
        0,
        0.2,
        0,
        0,
        0,
        0,
        -0.004004004004004004,
        0,
        0,
        0,
        -1.002002002002002,
        1
       ],
       "right": 5,
       "top": 5
      }
     },
     "d3b548cc4a9f458496f7e3da32549926": {
      "model_module": "jupyter-threejs",
      "model_module_version": "~1.0.0",
      "model_name": "AmbientLightModel",
      "state": {
       "_model_module_version": "~1.0.0",
       "_view_module": null,
       "_view_module_version": "",
       "intensity": 0.5
      }
     },
     "d89e786b527c493481bcf30d9da56a9c": {
      "model_module": "jupyter-threejs",
      "model_module_version": "~1.0.0",
      "model_name": "MeshPhongMaterialModel",
      "state": {
       "_model_module_version": "~1.0.0",
       "_view_module": null,
       "_view_module_version": "",
       "color": "#ff3333",
       "morphTargets": true,
       "shininess": 150
      }
     },
     "d8a37f01720f48aa932314419f41fb24": {
      "model_module": "jupyter-threejs",
      "model_module_version": "~1.0.0",
      "model_name": "AnimationClipModel",
      "state": {
       "_model_module_version": "~1.0.0",
       "_view_module": null,
       "_view_module_version": "",
       "duration": 2,
       "tracks": [
        "IPY_MODEL_8c54a1f341e74420a2f9a762217f53d2",
        "IPY_MODEL_b144fb0cf20443e0a09de4def9ec873f",
        "IPY_MODEL_3c4c6ff05b854a9f9eb0602bb9b3710f",
        "IPY_MODEL_b98ebd80e7274b88b3b221a95b34d56a"
       ]
      }
     },
     "dae68a8f-6a33-4815-938c-b2b12ff01da8": {
      "model_module": "jupyter-threejs",
      "model_module_version": "1.0.0",
      "model_name": "OrthographicCameraModel",
      "state": {
       "bottom": -5,
       "far": 500,
       "left": -5,
       "near": 0.5,
       "projectionMatrix": [
        0.2,
        0,
        0,
        0,
        0,
        0.2,
        0,
        0,
        0,
        0,
        -0.004004004004004004,
        0,
        0,
        0,
        -1.002002002002002,
        1
       ],
       "right": 5,
       "top": 5
      }
     },
     "dc73ff23aed5499082292a398f1adf8c": {
      "model_module": "jupyter-threejs",
      "model_module_version": "~1.0.0",
      "model_name": "SceneModel",
      "state": {
       "_model_module_version": "~1.0.0",
       "_view_module": null,
       "_view_module_version": "",
       "children": [
        "IPY_MODEL_8781a4a7563742cfbe740f74a8faf636",
        "IPY_MODEL_a4f265d2789646e0bb5276517cae0b37",
        "IPY_MODEL_a75a0e2d85f7455ab3acfca563aa2785",
        "IPY_MODEL_d3b548cc4a9f458496f7e3da32549926"
       ]
      }
     },
     "dd77f0ade83940f98b65259e0ddec56b": {
      "model_module": "jupyter-threejs",
      "model_module_version": "~1.0.0",
      "model_name": "AnimationActionModel",
      "state": {
       "_model_module": "jupyter-threejs",
       "_model_module_version": "~1.0.0",
       "_model_name": "AnimationActionModel",
       "_view_module_version": "~1.0.0",
       "clip": "IPY_MODEL_e4c2e9226ac34b5a9448d8033df74f2b",
       "layout": "IPY_MODEL_a9200878d3f74732979ca9e87013c2fb",
       "localRoot": "IPY_MODEL_e443582223e54cf5883f7b04cadd9d28",
       "mixer": "IPY_MODEL_43896303fa1f4c86a7cc7d0570293825",
       "repititions": "inf"
      }
     },
     "de0c42688c6d4b1ebf13f8202cdd16c9": {
      "model_module": "jupyter-threejs",
      "model_module_version": "~1.0.0",
      "model_name": "AnimationActionModel",
      "state": {
       "_model_module": "jupyter-threejs",
       "_model_module_version": "~1.0.0",
       "_model_name": "AnimationActionModel",
       "_view_module_version": "~1.0.0",
       "clip": "IPY_MODEL_f7e36468a3a44a5488f3e1cdd37bab42",
       "layout": "IPY_MODEL_a7f953ada86344d19f244bd102d1fd91",
       "localRoot": "IPY_MODEL_8781a4a7563742cfbe740f74a8faf636",
       "mixer": "IPY_MODEL_8815ef36aec843419e00585a5af2e6e9",
       "repititions": "inf"
      }
     },
     "de0ef2acbfdb42bb95ab1990da41cf54": {
      "model_module": "jupyter-threejs",
      "model_module_version": "~1.0.0",
      "model_name": "WebGLShadowMapModel",
      "state": {
       "_model_module_version": "~1.0.0",
       "_view_module": null,
       "_view_module_version": ""
      }
     },
     "e0867f0d4428454cb6985835057a49ab": {
      "buffers": [
       {
        "data": "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",
        "encoding": "base64",
        "path": [
         "array",
         "buffer"
        ]
       }
      ],
      "model_module": "jupyter-threejs",
      "model_module_version": "~1.0.0",
      "model_name": "BufferAttributeModel",
      "state": {
       "_model_module_version": "~1.0.0",
       "_view_module": null,
       "_view_module_version": "",
       "array": {
        "dtype": "float32",
        "shape": [
         96,
         4
        ]
       },
       "version": 2
      }
     },
     "e09a0622fae24323ab61e018e519c018": {
      "buffers": [
       {
        "data": "AAAAAAIAAAA=",
        "encoding": "base64",
        "path": [
         "times",
         "buffer"
        ]
       },
       {
        "data": "AAAAAMP1yEA=",
        "encoding": "base64",
        "path": [
         "values",
         "buffer"
        ]
       }
      ],
      "model_module": "jupyter-threejs",
      "model_module_version": "~1.0.0",
      "model_name": "NumberKeyframeTrackModel",
      "state": {
       "_model_module_version": "~1.0.0",
       "_view_module": null,
       "_view_module_version": "",
       "name": ".rotation[y]",
       "times": {
        "dtype": "int32",
        "shape": [
         2
        ]
       },
       "values": {
        "dtype": "float32",
        "shape": [
         2
        ]
       }
      }
     },
     "e443582223e54cf5883f7b04cadd9d28": {
      "model_module": "jupyter-threejs",
      "model_module_version": "~1.0.0",
      "model_name": "MeshModel",
      "state": {
       "_model_module_version": "~1.0.0",
       "_view_module": null,
       "_view_module_version": "",
       "geometry": "IPY_MODEL_53502b70bc694d1fa7585b049d9db5b9",
       "material": "IPY_MODEL_20f8e3b06908496eb2ebaaee45cfe538",
       "morphTargetInfluences": []
      }
     },
     "e4c2e9226ac34b5a9448d8033df74f2b": {
      "model_module": "jupyter-threejs",
      "model_module_version": "~1.0.0",
      "model_name": "AnimationClipModel",
      "state": {
       "_model_module_version": "~1.0.0",
       "_view_module": null,
       "_view_module_version": "",
       "duration": 1.5,
       "tracks": [
        "IPY_MODEL_9d453930c00b46ab8a303450dc56cb72"
       ]
      }
     },
     "ea9e894d-483d-432d-bae8-3493ae43358e": {
      "model_module": "jupyter-threejs",
      "model_module_version": "1.0.0",
      "model_name": "DirectionalLightShadowModel",
      "state": {
       "camera": "IPY_MODEL_dae68a8f-6a33-4815-938c-b2b12ff01da8"
      }
     },
     "f108807dcf034b4ea56db031f785635f": {
      "model_module": "jupyter-threejs",
      "model_module_version": "~1.0.0",
      "model_name": "BoneModel",
      "state": {
       "_model_module_version": "~1.0.0",
       "_view_module": null,
       "_view_module_version": "",
       "children": [
        "IPY_MODEL_8be145f7c5454d0cbc5811b44365f11a"
       ],
       "position": [
        0,
        -25,
        0
       ]
      }
     },
     "f1e8fa8c1cba425dac45d3184ad89dc0": {
      "model_module": "jupyter-threejs",
      "model_module_version": "~1.0.0",
      "model_name": "MeshModel",
      "state": {
       "_model_module_version": "~1.0.0",
       "_view_module": null,
       "_view_module_version": "",
       "geometry": "IPY_MODEL_a3ac36321d024a8b913f533a51b93718",
       "material": "IPY_MODEL_0c1020a5c327437e9b3b61722a04ebc1",
       "morphTargetInfluences": [],
       "position": [
        2,
        0,
        4
       ]
      }
     },
     "f5901a0d152049eda74c4422e15498f1": {
      "model_module": "jupyter-threejs",
      "model_module_version": "~1.0.0",
      "model_name": "AnimationActionModel",
      "state": {
       "_model_module": "jupyter-threejs",
       "_model_module_version": "~1.0.0",
       "_model_name": "AnimationActionModel",
       "_view_module_version": "~1.0.0",
       "clip": "IPY_MODEL_d8a37f01720f48aa932314419f41fb24",
       "layout": "IPY_MODEL_7face7c6e10c479787c90d6b741627da",
       "localRoot": "IPY_MODEL_21dfc2fafa9b42ddbf807c4274e2a87f",
       "mixer": "IPY_MODEL_85a83871a8c24ec08f9287aa3466f905",
       "repititions": "inf"
      }
     },
     "f65efbfdd2eb41618d7acfcfa427f082": {
      "buffers": [
       {
        "data": "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",
        "encoding": "base64",
        "path": [
         "array",
         "buffer"
        ]
       }
      ],
      "model_module": "jupyter-threejs",
      "model_module_version": "~1.0.0",
      "model_name": "BufferAttributeModel",
      "state": {
       "_model_module_version": "~1.0.0",
       "_view_module": null,
       "_view_module_version": "",
       "array": {
        "dtype": "float32",
        "shape": [
         96,
         4
        ]
       },
       "version": 2
      }
     },
     "f7e36468a3a44a5488f3e1cdd37bab42": {
      "model_module": "jupyter-threejs",
      "model_module_version": "~1.0.0",
      "model_name": "AnimationClipModel",
      "state": {
       "_model_module_version": "~1.0.0",
       "_view_module": null,
       "_view_module_version": "",
       "duration": 3,
       "tracks": [
        "IPY_MODEL_6768eaca411d4ad8bf9c397c1c1222e6"
       ]
      }
     },
     "fcfb165d09ea486a85c173eca4e77408": {
      "model_module": "jupyter-threejs",
      "model_module_version": "~1.0.0",
      "model_name": "RendererModel",
      "state": {
       "_height": 400,
       "_model_module_version": "~1.0.0",
       "_view_module_version": "~1.0.0",
       "_width": 600,
       "camera": "IPY_MODEL_b3de1d7b58cb476c9044d6ea1c65df96",
       "controls": [
        "IPY_MODEL_d1d788d30e434f4384dc04bc3c3a885e"
       ],
       "layout": "IPY_MODEL_459a820f8d454b4e87faf12807d74c03",
       "scene": "IPY_MODEL_70b7289cf0d64d1f98c34a08fd547690",
       "shadowMap": "IPY_MODEL_a92c210077b047658d82b64c15c2084d"
      }
     },
     "fed4c463-6a24-444c-9d20-05d85d1a32a6": {
      "buffers": [
       {
        "data": "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",
        "encoding": "base64",
        "path": [
         "array",
         "buffer"
        ]
       }
      ],
      "model_module": "jupyter-threejs",
      "model_module_version": "1.0.0",
      "model_name": "BufferAttributeModel",
      "state": {
       "array": {
        "dtype": "float32",
        "shape": [
         561,
         3
        ]
       },
       "normalized": false,
       "version": 0
      }
     },
     "ff3a18a3aaff4db497100fb9233985ec": {
      "model_module": "jupyter-threejs",
      "model_module_version": "~1.0.0",
      "model_name": "DirectionalLightModel",
      "state": {
       "_model_module_version": "~1.0.0",
       "_view_module": null,
       "_view_module_version": "",
       "intensity": 0.6,
       "matrixWorldNeedsUpdate": true,
       "position": [
        3,
        5,
        1
       ],
       "shadow": "IPY_MODEL_ea9e894d-483d-432d-bae8-3493ae43358e",
       "target": "IPY_MODEL_cac3bb79-7d1f-4500-bc6f-23cb4413fbba"
      }
     },
     "ff45ddbf-e8da-4180-a567-38517da0a760": {
      "buffers": [
       {
        "data": "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",
        "encoding": "base64",
        "path": [
         "array",
         "buffer"
        ]
       }
      ],
      "model_module": "jupyter-threejs",
      "model_module_version": "1.0.0",
      "model_name": "BufferAttributeModel",
      "state": {
       "array": {
        "dtype": "float32",
        "shape": [
         561,
         2
        ]
       },
       "normalized": false,
       "version": 0
      }
     }
    },
    "version_major": 2,
    "version_minor": 0
   }
  }
 },
 "nbformat": 4,
 "nbformat_minor": 2
}
