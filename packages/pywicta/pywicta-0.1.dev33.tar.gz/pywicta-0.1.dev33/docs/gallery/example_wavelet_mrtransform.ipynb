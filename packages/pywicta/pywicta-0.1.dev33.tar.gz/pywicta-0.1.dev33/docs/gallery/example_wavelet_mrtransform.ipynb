{
  "cells": [
    {
      "cell_type": "code",
      "execution_count": null,
      "metadata": {
        "collapsed": false
      },
      "outputs": [],
      "source": [
        "%matplotlib inline"
      ]
    },
    {
      "cell_type": "markdown",
      "metadata": {},
      "source": [
        "\n# Wavelet MRTransform\n\n\nBlablabla\n\n"
      ]
    },
    {
      "cell_type": "code",
      "execution_count": null,
      "metadata": {
        "collapsed": false
      },
      "outputs": [],
      "source": [
        "get_ipython().run_line_magic('matplotlib', 'inline')\n\nimport numpy as np\n\nimport matplotlib\nimport matplotlib.pyplot as plt\nmatplotlib.rcParams['figure.figsize'] = (6, 6)\n\nimport os\n\nfrom IPython.display import display\n\nimport ipywidgets\nfrom ipywidgets import interact\n\nfrom ctapipe.image.hillas import HillasParameterizationError\n\nimport pywicta\nfrom pywicta.io import geometry_converter\nfrom pywicta.io.images import image_generator\nfrom pywicta.io.images import plot_ctapipe_image\nfrom pywicta.io.images import plot_hillas_parameters_on_axes\nfrom pywicta.io.images import print_hillas_parameters\nfrom pywicta.io.images import hillas_parameters_to_df\nfrom pywicta.image.hillas_parameters import get_hillas_parameters\nfrom pywicta.denoising import wavelets_mrtransform\nfrom pywicta.denoising.wavelets_mrtransform import WaveletTransform\nfrom pywicta.denoising import inverse_transform_sampling\nfrom pywicta.denoising.inverse_transform_sampling import EmpiricalDistribution\n\n\n# In[2]:\n\n\n#TMP_DIR = \"/Volumes/ramdisk\"\nTMP_DIR = \".\"\n\n#cam_id = \"ASTRICam\"\n#cam_id = \"CHEC\"\n#cam_id = \"DigiCam\"\n#cam_id = \"FlashCam\"\n#cam_id = \"NectarCam\"\ncam_id = \"LSTCam\"\n\n#SIMTEL_FILE = \"~/data/astri_mini_array_konrad/simtel/astri_v2/gamma/gamma_20deg_180deg_run2203___cta-prod3-sst-astri_desert-2150m-Paranal-sst-astri2.simtel.gz\"\n#SIMTEL_FILE = \"~/data/gct_mini_array_konrad/simtel/gct/gamma/gamma_20deg_180deg_run2203___cta-prod3-sst-gct_desert-2150m-Paranal-sst-gct.simtel.gz\"\n#SIMTEL_FILE = \"~/data/sst1m_mini_array_konrad/simtel/sst1m/gamma/gamma_20deg_180deg_run2203___cta-prod3-sst-dc_desert-2150m-Paranal-sst-dc.simtel.gz\"\nSIMTEL_FILE = \"~/data/grid_prod3b_north/simtel/gamma/gamma_20deg_0deg_run104___cta-prod3-lapalma3-2147m-LaPalma.simtel.gz\"\n\nPATHS = [SIMTEL_FILE]\nNUM_IMAGES = 1\n\n#rejection_criteria = lambda image: not 50 < np.nansum(image.reference_image) < 200\nrejection_criteria = None\n\nintegrator = 'LocalPeakIntegrator'\nintegration_correction = False\n\nif cam_id == \"ASTRICam\":\n    integrator_window_width = 1\n    integrator_window_shift = 1\nelif cam_id == \"CHEC\":\n    integrator_window_width = 10\n    integrator_window_shift = 5\nelif cam_id == \"DigiCam\":\n    integrator_window_width = 5\n    integrator_window_shift = 2\nelif cam_id == \"FlashCam\":\n    integrator_window_width = 6\n    integrator_window_shift = 3\nelif cam_id == \"NectarCam\":\n    integrator_window_width = 5\n    integrator_window_shift = 2\nelif cam_id == \"LSTCam\":\n    integrator_window_width = 5\n    integrator_window_shift = 2\nelse:\n    raise ValueError('Unknown cam_id \"{}\"'.format(cam_id))\n\nintegrator_t0 = None\nintegrator_sig_amp_cut_hg = None\nintegrator_sig_amp_cut_lg = None\nintegrator_lwt = None\n\nit = image_generator(PATHS,\n                     max_num_images=NUM_IMAGES,\n                     cam_filter_list=[cam_id],\n                     ctapipe_format=False,\n                     time_samples=False,\n                     rejection_criteria=rejection_criteria,\n                     integrator=integrator,\n                     integrator_window_width=integrator_window_width,\n                     integrator_window_shift=integrator_window_shift,\n                     integrator_t0=integrator_t0,\n                     integrator_sig_amp_cut_hg=integrator_sig_amp_cut_hg,\n                     integrator_sig_amp_cut_lg=integrator_sig_amp_cut_lg,\n                     integrator_lwt=integrator_lwt,\n                     integration_correction=integration_correction)\n\nfor image in it:\n    plt.imshow(image.reference_image)\n    plt.show()\n    \n    plt.imshow(image.input_image)\n    plt.show()\n    \n    # Fill blank pixels with noise\n    noise_cdf_file = inverse_transform_sampling.get_cdf_file_path(cam_id)  # pywicta.denoising.cdf.LSTCAM_CDF_FILE\n    print(noise_cdf_file)\n    noise_distribution = EmpiricalDistribution(noise_cdf_file)\n    \n    # Image cleaning with Wavelets\n    wavelet = WaveletTransform()\n    cleaned_image = wavelet.clean_image(image.input_image,\n                                        type_of_filtering = 'hard_filtering',\n                                        filter_thresholds = [8, 2],            # <- TODO\n                                        last_scale_treatment = \"mask\",\n                                        detect_only_positive_structures = False,\n                                        kill_isolated_pixels = False,\n                                        noise_distribution = noise_distribution,\n                                        tmp_files_directory = TMP_DIR)\n    \n    plt.imshow(cleaned_image)\n    plt.show()"
      ]
    }
  ],
  "metadata": {
    "kernelspec": {
      "display_name": "Python 3",
      "language": "python",
      "name": "python3"
    },
    "language_info": {
      "codemirror_mode": {
        "name": "ipython",
        "version": 3
      },
      "file_extension": ".py",
      "mimetype": "text/x-python",
      "name": "python",
      "nbconvert_exporter": "python",
      "pygments_lexer": "ipython3",
      "version": "3.6.4"
    }
  },
  "nbformat": 4,
  "nbformat_minor": 0
}