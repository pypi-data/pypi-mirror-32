{
 "cells": [
  {
   "cell_type": "markdown",
   "metadata": {},
   "source": [
    "# Introduction"
   ]
  },
  {
   "cell_type": "markdown",
   "metadata": {},
   "source": [
    "For more context see http://wrobell.it-zone.org/decotengu/model.html."
   ]
  },
  {
   "cell_type": "markdown",
   "metadata": {},
   "source": [
    "To evaluate the equations we use Sympy library"
   ]
  },
  {
   "cell_type": "code",
   "execution_count": 2,
   "metadata": {
    "collapsed": false
   },
   "outputs": [],
   "source": [
    "from sympy import init_session"
   ]
  },
  {
   "cell_type": "code",
   "execution_count": 3,
   "metadata": {
    "collapsed": false
   },
   "outputs": [
    {
     "name": "stdout",
     "output_type": "stream",
     "text": [
      "IPython console for SymPy 0.7.6 (Python 3.4.3-64-bit) (ground types: gmpy)\n"
     ]
    }
   ],
   "source": [
    "init_session(quiet=True)"
   ]
  },
  {
   "cell_type": "markdown",
   "metadata": {},
   "source": [
    "# Schreiner Equation"
   ]
  },
  {
   "cell_type": "code",
   "execution_count": 4,
   "metadata": {
    "collapsed": false
   },
   "outputs": [],
   "source": [
    "P, P_alv, R, t, k, P_i, F_gas, P_abs, P_rate, P_wvp = symbols('P P_alv R t k P_i F_gas P_abs P_rate P_wvp')"
   ]
  },
  {
   "cell_type": "code",
   "execution_count": 5,
   "metadata": {
    "collapsed": false
   },
   "outputs": [
    {
     "data": {
      "image/png": "[encoded data removed]",
      "text/latex": [
       "$$P = P_{alv} + R \\left(t - \\frac{1}{k}\\right) - \\left(P_{alv} - P_{i} - \\frac{R}{k}\\right) e^{- k t}$$"
      ],
      "text/plain": [
       "              ⎛    1⎞   ⎛             R⎞  -k⋅t\n",
       "P = P_alv + R⋅⎜t - ─⎟ - ⎜P_alv - Pᵢ - ─⎟⋅ℯ    \n",
       "              ⎝    k⎠   ⎝             k⎠      "
      ]
     },
     "execution_count": 5,
     "metadata": {},
     "output_type": "execute_result"
    }
   ],
   "source": [
    "s_eq = Eq(P, P_alv + R * (t - 1 / k) - (P_alv - P_i - R / k) * exp(-k * t))\n",
    "s_eq"
   ]
  },
  {
   "cell_type": "markdown",
   "metadata": {},
   "source": [
    "## Example"
   ]
  },
  {
   "cell_type": "markdown",
   "metadata": {},
   "source": [
    "Descent from 0m to 30m at 20m/min breathing EAN32"
   ]
  },
  {
   "cell_type": "code",
   "execution_count": 6,
   "metadata": {
    "collapsed": false
   },
   "outputs": [
    {
     "data": {
      "image/png": "[encoded data removed]",
      "text/latex": [
       "$$P = 0.919396673989346$$"
      ],
      "text/plain": [
       "P = 0.919396673989346"
      ]
     },
     "execution_count": 6,
     "metadata": {},
     "output_type": "execute_result"
    }
   ],
   "source": [
    "v = s_eq.subs([\n",
    "    (P_alv, F_gas * (P_abs - P_wvp)),\n",
    "    (P_i, 0.7902 * (P_abs - P_wvp)),\n",
    "    (R, F_gas * P_rate),\n",
    "    (k, log(2) / 5),\n",
    "    (t, 1.5),\n",
    "    (P_wvp, 0.0627),\n",
    "    (P_abs, 1),\n",
    "    (P_rate, 2),    # 20m/min\n",
    "    (F_gas, 0.68)\n",
    "])\n",
    "N(v)"
   ]
  },
  {
   "cell_type": "markdown",
   "metadata": {},
   "source": [
    " Dive at 30m for 20 minutes"
   ]
  },
  {
   "cell_type": "code",
   "execution_count": 7,
   "metadata": {
    "collapsed": false
   },
   "outputs": [
    {
     "data": {
      "image/png": "[encoded data removed]",
      "text/latex": [
       "$$P = 2.56749104212433$$"
      ],
      "text/plain": [
       "P = 2.56749104212433"
      ]
     },
     "execution_count": 7,
     "metadata": {},
     "output_type": "execute_result"
    }
   ],
   "source": [
    "v = s_eq.subs([\n",
    "    (P_alv, F_gas * (P_abs - P_wvp)),\n",
    "    (P_i, 0.919396673989346),\n",
    "    (R, F_gas * P_rate),\n",
    "    (k, log(2) / 5),\n",
    "    (t, 20),\n",
    "    (P_wvp, 0.0627),\n",
    "    (P_abs, 4),\n",
    "    (P_rate, 0),\n",
    "    (F_gas, 0.68)\n",
    "])\n",
    "N(v)"
   ]
  },
  {
   "cell_type": "markdown",
   "metadata": {},
   "source": [
    "Ascent from 30m to 10m"
   ]
  },
  {
   "cell_type": "code",
   "execution_count": 8,
   "metadata": {
    "collapsed": false
   },
   "outputs": [
    {
     "data": {
      "image/png": "[encoded data removed]",
      "text/latex": [
       "$$P = 2.42184049216439$$"
      ],
      "text/plain": [
       "P = 2.42184049216439"
      ]
     },
     "execution_count": 8,
     "metadata": {},
     "output_type": "execute_result"
    }
   ],
   "source": [
    "v = s_eq.subs([\n",
    "    (P_alv, F_gas * (P_abs - P_wvp)),\n",
    "    (P_i, 2.56749104212433),\n",
    "    (R, F_gas * P_rate),\n",
    "    (k, log(2) / 5),\n",
    "    (t, 2),\n",
    "    (P_wvp, 0.0627),\n",
    "    (P_rate, -1),     # ascent, 10m/min\n",
    "    (P_abs, 4),\n",
    "    (F_gas, 0.68)\n",
    "])\n",
    "N(v)"
   ]
  },
  {
   "cell_type": "markdown",
   "metadata": {},
   "source": [
    "# Buhlmann Equation"
   ]
  },
  {
   "cell_type": "code",
   "execution_count": 9,
   "metadata": {
    "collapsed": false
   },
   "outputs": [],
   "source": [
    "P_l, A, B, g_f = symbols('P_l A B g_f')"
   ]
  },
  {
   "cell_type": "code",
   "execution_count": 10,
   "metadata": {
    "collapsed": false
   },
   "outputs": [
    {
     "data": {
      "image/png": "[encoded data removed]",
      "text/latex": [
       "$$P_{l} = \\frac{- A g_{f} + P}{- g_{f} + 1.0 + \\frac{g_{f}}{B}}$$"
      ],
      "text/plain": [
       "         -A⋅g_f + P   \n",
       "P_l = ────────────────\n",
       "                   g_f\n",
       "      -g_f + 1.0 + ───\n",
       "                    B "
      ]
     },
     "execution_count": 10,
     "metadata": {},
     "output_type": "execute_result"
    }
   ],
   "source": [
    "b_eq = Eq(P_l, (P - A * g_f) / (g_f / B + 1.0 - g_f))\n",
    "b_eq"
   ]
  },
  {
   "cell_type": "markdown",
   "metadata": {},
   "source": [
    "## Example"
   ]
  },
  {
   "cell_type": "markdown",
   "metadata": {},
   "source": [
    "For first tissue compartment"
   ]
  },
  {
   "cell_type": "code",
   "execution_count": 11,
   "metadata": {
    "collapsed": false
   },
   "outputs": [],
   "source": [
    "b_eq_t1 = b_eq.subs([(A, 1.1696), (B, 0.5578), (g_f, 0.3)])"
   ]
  },
  {
   "cell_type": "code",
   "execution_count": 12,
   "metadata": {
    "collapsed": false
   },
   "outputs": [
    {
     "data": {
      "image/png": "[encoded data removed]",
      "text/latex": [
       "$$P_{l} = 0.314886009020074$$"
      ],
      "text/plain": [
       "P_l = 0.314886009020074"
      ]
     },
     "execution_count": 12,
     "metadata": {},
     "output_type": "execute_result"
    }
   ],
   "source": [
    "N(b_eq_t1.subs(P, 0.74065446))"
   ]
  },
  {
   "cell_type": "code",
   "execution_count": 13,
   "metadata": {
    "collapsed": false
   },
   "outputs": [
    {
     "data": {
      "image/png": "[encoded data removed]",
      "text/latex": [
       "$$P_{l} = 0.459286247718912$$"
      ],
      "text/plain": [
       "P_l = 0.459286247718912"
      ]
     },
     "execution_count": 13,
     "metadata": {},
     "output_type": "execute_result"
    }
   ],
   "source": [
    "N(b_eq_t1.subs(P, 0.919397))"
   ]
  },
  {
   "cell_type": "code",
   "execution_count": 14,
   "metadata": {
    "collapsed": false
   },
   "outputs": [
    {
     "data": {
      "image/png": "[encoded data removed]",
      "text/latex": [
       "$$P_{l} = 1.7907265562089$$"
      ],
      "text/plain": [
       "P_l = 1.7907265562089"
      ]
     },
     "execution_count": 14,
     "metadata": {},
     "output_type": "execute_result"
    }
   ],
   "source": [
    "N(b_eq_t1.subs(P, 2.567490))"
   ]
  },
  {
   "cell_type": "code",
   "execution_count": 15,
   "metadata": {
    "collapsed": false
   },
   "outputs": [
    {
     "data": {
      "image/png": "[encoded data removed]",
      "text/latex": [
       "$$P_{l} = 1.67306069576804$$"
      ],
      "text/plain": [
       "P_l = 1.67306069576804"
      ]
     },
     "execution_count": 15,
     "metadata": {},
     "output_type": "execute_result"
    }
   ],
   "source": [
    "N(b_eq_t1.subs(P, 2.421840))"
   ]
  }
 ],
 "metadata": {
  "kernelspec": {
   "display_name": "Python 3",
   "language": "python",
   "name": "python3"
  },
  "language_info": {
   "codemirror_mode": {
    "name": "ipython",
    "version": 3
   },
   "file_extension": ".py",
   "mimetype": "text/x-python",
   "name": "python",
   "nbconvert_exporter": "python",
   "pygments_lexer": "ipython3",
   "version": "3.4.3"
  }
 },
 "nbformat": 4,
 "nbformat_minor": 0
}
