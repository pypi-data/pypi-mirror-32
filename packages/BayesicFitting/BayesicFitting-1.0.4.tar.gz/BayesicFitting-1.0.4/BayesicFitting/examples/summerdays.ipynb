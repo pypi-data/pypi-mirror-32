{
 "cells": [
  {
   "cell_type": "markdown",
   "metadata": {},
   "source": [
    "## Summer days\n",
    "\n",
    "The datafile contains the number of summer days (> 25 C) measured in de Bilt in the Netherlands.\n",
    "\n",
    "\n",
    "Demonstration: \n",
    "    1. Linear Model\n",
    "    2. Parameter fit, using a poisson likelihood\n",
    "    3. PowellFitter (from ScipyFitter)\n",
    "    4. Histogram of residuals is not a Poisson distribution\n",
    "\n",
    "Author: Do Kester\n"
   ]
  },
  {
   "cell_type": "markdown",
   "metadata": {},
   "source": [
    "import classes"
   ]
  },
  {
   "cell_type": "code",
   "execution_count": 1,
   "metadata": {},
   "outputs": [],
   "source": [
    "import numpy as numpy\n",
    "import math\n",
    "\n",
    "from astropy.io import ascii\n",
    "from BayesicFitting import PolynomialModel\n",
    "\n",
    "from BayesicFitting import AmoebaFitter\n",
    "from BayesicFitting import PowellFitter\n",
    "from BayesicFitting import PoissonErrorDistribution\n",
    "from BayesicFitting import formatter as fmt\n",
    "from BayesicFitting import plotFit\n",
    "import matplotlib.pyplot as plt\n",
    "\n"
   ]
  },
  {
   "cell_type": "markdown",
   "metadata": {},
   "source": [
    "Read the data\n"
   ]
  },
  {
   "cell_type": "code",
   "execution_count": 2,
   "metadata": {},
   "outputs": [],
   "source": [
    "tbl = ascii.read( \"data/zomerdagen.csv\" )\n",
    "year = tbl['col1'].data\n",
    "nsd = tbl['col2'].data\n"
   ]
  },
  {
   "cell_type": "markdown",
   "metadata": {},
   "source": [
    "Define the model"
   ]
  },
  {
   "cell_type": "code",
   "execution_count": 3,
   "metadata": {},
   "outputs": [
    {
     "name": "stdout",
     "output_type": "stream",
     "text": [
      "Polynomial: f( x:p ) = p_0\n"
     ]
    }
   ],
   "source": [
    "mdl = PolynomialModel( 0 )\n",
    "print( mdl )\n"
   ]
  },
  {
   "cell_type": "markdown",
   "metadata": {},
   "source": [
    "define the fitter: Fitter"
   ]
  },
  {
   "cell_type": "code",
   "execution_count": 4,
   "metadata": {},
   "outputs": [
    {
     "name": "stdout",
     "output_type": "stream",
     "text": [
      "POWELL\n",
      "   direc: array([[ 1.000]])\n",
      "     fun: 507.6648830449193\n",
      " message: 'Optimization terminated successfully.'\n",
      "    nfev: 17\n",
      "     nit: 1\n",
      "  status: 0\n",
      " success: True\n",
      "       x: array( 20.319)\n"
     ]
    },
    {
     "name": "stderr",
     "output_type": "stream",
     "text": [
      "/opt/local/Library/Frameworks/Python.framework/Versions/3.5/lib/python3.5/site-packages/scipy/optimize/optimize.py:2308: RuntimeWarning: invalid value encountered in double_scalars\n",
      "  w = xb - ((xb - xc) * tmp2 - (xb - xa) * tmp1) / denom\n"
     ]
    }
   ],
   "source": [
    "errdis = PoissonErrorDistribution( year, nsd )\n",
    "fitter = PowellFitter( year, mdl, errdis=\"poisson\" )\n",
    " \n",
    "# find the parameters\n",
    "param = fitter.fit( nsd )\n",
    "\n",
    "  "
   ]
  },
  {
   "cell_type": "code",
   "execution_count": 5,
   "metadata": {
    "scrolled": true
   },
   "outputs": [
    {
     "name": "stdout",
     "output_type": "stream",
     "text": [
      "Parameters :    20.319\n",
      "StDevs     :     0.444\n",
      "Scale      :     4.501\n",
      "Evidence   :  -223.384\n"
     ]
    }
   ],
   "source": [
    "print( \"Parameters :\", fmt( param, max=None ) )\n",
    "print( \"StDevs     :\", fmt( fitter.stdevs, max=None ) )\n",
    "print( \"Scale      :\", fmt( fitter.scale ) )\n",
    "print( \"Evidence   :\", fmt( fitter.getEvidence( limits=[-100,100] ) ) )\n",
    "\n"
   ]
  },
  {
   "cell_type": "code",
   "execution_count": 6,
   "metadata": {},
   "outputs": [
    {
     "data": {
      "image/png": "[encoded data removed]",
      "text/plain": [
       "<matplotlib.figure.Figure at 0x10cd74278>"
      ]
     },
     "metadata": {},
     "output_type": "display_data"
    }
   ],
   "source": [
    "plotFit( year, nsd, model=mdl, fitter=fitter, residuals=True )\n"
   ]
  },
  {
   "cell_type": "markdown",
   "metadata": {},
   "source": [
    "Exercise:\n",
    "Assert for yourself that higher order polynomials do not fit any better that order 0.\n",
    "\n"
   ]
  },
  {
   "cell_type": "code",
   "execution_count": 7,
   "metadata": {},
   "outputs": [
    {
     "data": {
      "image/png": "[encoded data removed]",
      "text/plain": [
       "<matplotlib.figure.Figure at 0x1108a94e0>"
      ]
     },
     "metadata": {},
     "output_type": "display_data"
    }
   ],
   "source": [
    "from BayesicFitting import logFactorial\n",
    "\n",
    "x = numpy.linspace( 0, 60, 61, dtype=float )\n",
    "plt.hist( nsd, 15, (0,60))\n",
    "p = param[0]\n",
    "y = numpy.exp( x * math.log( p ) - p - logFactorial( x ) )\n",
    "y *= 25 / numpy.max( y )\n",
    "plt.plot( x, y, 'r-' )\n",
    "plt.show()\n"
   ]
  },
  {
   "cell_type": "markdown",
   "metadata": {},
   "source": [
    "The figure above shows a histogram of the measurements, overplot with a poisson distribution with an average of 20.3. It shows that even though we could not find a better model, there is more to the data than a simple poisson draw from a constant average number of summer days.\n"
   ]
  }
 ],
 "metadata": {
  "anaconda-cloud": {},
  "kernelspec": {
   "display_name": "Python 3",
   "language": "python",
   "name": "python3"
  },
  "language_info": {
   "codemirror_mode": {
    "name": "ipython",
    "version": 3
   },
   "file_extension": ".py",
   "mimetype": "text/x-python",
   "name": "python",
   "nbconvert_exporter": "python",
   "pygments_lexer": "ipython3",
   "version": "3.5.4"
  }
 },
 "nbformat": 4,
 "nbformat_minor": 1
}
