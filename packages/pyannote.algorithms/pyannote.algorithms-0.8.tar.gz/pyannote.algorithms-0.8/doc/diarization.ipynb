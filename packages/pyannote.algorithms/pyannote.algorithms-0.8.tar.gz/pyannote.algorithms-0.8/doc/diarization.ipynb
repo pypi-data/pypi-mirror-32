{
 "metadata": {
  "name": "",
  "signature": "sha256:0f67bf49964ffa99bb4f66469c54c2b9d1785542444b56d8fd7d5a0c22303988"
 },
 "nbformat": 3,
 "nbformat_minor": 0,
 "worksheets": [
  {
   "cells": [
    {
     "cell_type": "markdown",
     "metadata": {},
     "source": [
      "MFCC feature extraction using Yaafe in **[pyannote.features](https://github.com/hbredin/pyannote-features)**"
     ]
    },
    {
     "cell_type": "code",
     "collapsed": false,
     "input": [
      "from pyannote.features.audio.yaafe import YaafeMFCC\n",
      "wav = '/Volumes/data/tvseries/TheBigBangTheory/wav/TheBigBangTheory.Season01.Episode01.en.wav'\n",
      "mfcc = YaafeMFCC().extract(wav)"
     ],
     "language": "python",
     "metadata": {},
     "outputs": [],
     "prompt_number": 1
    },
    {
     "cell_type": "markdown",
     "metadata": {},
     "source": [
      "Groundtruth annotation using **[pyannote.core](https://github.com/hbredin/pyannote-core)** data structure "
     ]
    },
    {
     "cell_type": "code",
     "collapsed": false,
     "input": [
      "from pyannote.core import Annotation, Segment"
     ],
     "language": "python",
     "metadata": {},
     "outputs": [],
     "prompt_number": 2
    },
    {
     "cell_type": "code",
     "collapsed": false,
     "input": [
      "reference = Annotation()\n",
      "reference[Segment(325.000,329.110)] = 'sheldon'\n",
      "reference[Segment(330.430, 331.770)] = 'penny'\n",
      "reference[Segment(332.540, 333.680)] = 'leonard'\n",
      "reference[Segment(334.110, 336.270)] = 'penny'\n",
      "reference[Segment(336.380, 336.580)] = 'leonard'\n",
      "reference[Segment(337.050, 339.980)] = 'penny'\n",
      "reference[Segment(340.550, 342.190)] = 'sheldon'\n",
      "reference"
     ],
     "language": "python",
     "metadata": {},
     "outputs": [
      {
       "metadata": {},
       "output_type": "pyout",
       "png": "[encoded data removed]",
       "prompt_number": 3,
       "text": [
        "<pyannote.core.annotation.Annotation at 0x108f754d0>"
       ]
      }
     ],
     "prompt_number": 3
    },
    {
     "cell_type": "markdown",
     "metadata": {},
     "source": [
      "In this example, we suppose that the exact segmentation is available.\n",
      "We just do not know the label."
     ]
    },
    {
     "cell_type": "code",
     "collapsed": false,
     "input": [
      "input_segmentation = reference.anonymize_tracks()\n",
      "input_segmentation"
     ],
     "language": "python",
     "metadata": {},
     "outputs": [
      {
       "metadata": {},
       "output_type": "pyout",
       "png": "[encoded data removed]",
       "prompt_number": 4,
       "text": [
        "<pyannote.core.annotation.Annotation at 0x1106bf390>"
       ]
      }
     ],
     "prompt_number": 4
    },
    {
     "cell_type": "markdown",
     "metadata": {},
     "source": [
      "Let us initialize BIC clustering algorithms from **[pyannote.algorithms](https://github.com/hbredin/pyannote-algorithms)**."
     ]
    },
    {
     "cell_type": "code",
     "collapsed": false,
     "input": [
      "from pyannote.algorithms.clustering.bic import BICClustering\n",
      "# covariance_type can be 'full' or 'diag'\n",
      "bicClustering = BICClustering(covariance_type='full', penalty_coef=1.2)"
     ],
     "language": "python",
     "metadata": {},
     "outputs": [],
     "prompt_number": 5
    },
    {
     "cell_type": "markdown",
     "metadata": {},
     "source": [
      "We now apply BIC clustering."
     ]
    },
    {
     "cell_type": "code",
     "collapsed": false,
     "input": [
      "hypothesis = bicClustering(input_segmentation, feature=mfcc)\n",
      "hypothesis"
     ],
     "language": "python",
     "metadata": {},
     "outputs": [
      {
       "metadata": {},
       "output_type": "pyout",
       "png": "[encoded data removed]",
       "prompt_number": 6,
       "text": [
        "<pyannote.core.annotation.Annotation at 0x110cfc4d0>"
       ]
      }
     ],
     "prompt_number": 6
    },
    {
     "cell_type": "markdown",
     "metadata": {},
     "source": [
      "We can also analyse the behavior of BIC clustering, step by step."
     ]
    },
    {
     "cell_type": "code",
     "collapsed": false,
     "input": [
      "bicClustering.initialize(input_segmentation, feature=mfcc)"
     ],
     "language": "python",
     "metadata": {},
     "outputs": [],
     "prompt_number": 7
    },
    {
     "cell_type": "code",
     "collapsed": false,
     "input": [
      "# internal similarity matrix\n",
      "bicClustering.matrix"
     ],
     "language": "python",
     "metadata": {},
     "outputs": [
      {
       "html": [
        "<div style=\"max-height:1000px;max-width:1500px;overflow:auto;\">\n",
        "<table border=\"1\" class=\"dataframe\">\n",
        "  <thead>\n",
        "    <tr style=\"text-align: right;\">\n",
        "      <th></th>\n",
        "      <th>#1</th>\n",
        "      <th>#2</th>\n",
        "      <th>#3</th>\n",
        "      <th>#4</th>\n",
        "      <th>#5</th>\n",
        "      <th>#6</th>\n",
        "      <th>#7</th>\n",
        "    </tr>\n",
        "  </thead>\n",
        "  <tbody>\n",
        "    <tr>\n",
        "      <th>#1</th>\n",
        "      <td>       -inf</td>\n",
        "      <td>-353.749730</td>\n",
        "      <td>-313.916143</td>\n",
        "      <td>-566.119503</td>\n",
        "      <td>-223.892872</td>\n",
        "      <td>-431.409333</td>\n",
        "      <td> 314.272050</td>\n",
        "    </tr>\n",
        "    <tr>\n",
        "      <th>#2</th>\n",
        "      <td>-353.749730</td>\n",
        "      <td>       -inf</td>\n",
        "      <td>-304.230939</td>\n",
        "      <td>-165.263249</td>\n",
        "      <td>-424.235203</td>\n",
        "      <td>-224.524699</td>\n",
        "      <td>-213.317525</td>\n",
        "    </tr>\n",
        "    <tr>\n",
        "      <th>#3</th>\n",
        "      <td>-313.916143</td>\n",
        "      <td>-304.230939</td>\n",
        "      <td>       -inf</td>\n",
        "      <td>-166.479384</td>\n",
        "      <td>-309.723275</td>\n",
        "      <td> -31.191449</td>\n",
        "      <td>-198.081470</td>\n",
        "    </tr>\n",
        "    <tr>\n",
        "      <th>#4</th>\n",
        "      <td>-566.119503</td>\n",
        "      <td>-165.263249</td>\n",
        "      <td>-166.479384</td>\n",
        "      <td>       -inf</td>\n",
        "      <td>-248.918573</td>\n",
        "      <td>   2.028118</td>\n",
        "      <td>-320.425257</td>\n",
        "    </tr>\n",
        "    <tr>\n",
        "      <th>#5</th>\n",
        "      <td>-223.892872</td>\n",
        "      <td>-424.235203</td>\n",
        "      <td>-309.723275</td>\n",
        "      <td>-248.918573</td>\n",
        "      <td>       -inf</td>\n",
        "      <td>-185.454997</td>\n",
        "      <td>-348.267289</td>\n",
        "    </tr>\n",
        "    <tr>\n",
        "      <th>#6</th>\n",
        "      <td>-431.409333</td>\n",
        "      <td>-224.524699</td>\n",
        "      <td> -31.191449</td>\n",
        "      <td>   2.028118</td>\n",
        "      <td>-185.454997</td>\n",
        "      <td>       -inf</td>\n",
        "      <td>-198.611312</td>\n",
        "    </tr>\n",
        "    <tr>\n",
        "      <th>#7</th>\n",
        "      <td> 314.272050</td>\n",
        "      <td>-213.317525</td>\n",
        "      <td>-198.081470</td>\n",
        "      <td>-320.425257</td>\n",
        "      <td>-348.267289</td>\n",
        "      <td>-198.611312</td>\n",
        "      <td>       -inf</td>\n",
        "    </tr>\n",
        "  </tbody>\n",
        "</table>\n",
        "<p>7 rows \u00d7 7 columns</p>\n",
        "</div>"
       ],
       "metadata": {},
       "output_type": "pyout",
       "prompt_number": 8,
       "text": [
        "<pyannote.core.matrix.LabelMatrix at 0x1106bf550>"
       ]
      }
     ],
     "prompt_number": 8
    },
    {
     "cell_type": "code",
     "collapsed": false,
     "input": [
      "iterations = bicClustering.iterate(feature=mfcc)"
     ],
     "language": "python",
     "metadata": {},
     "outputs": [],
     "prompt_number": 9
    },
    {
     "cell_type": "code",
     "collapsed": false,
     "input": [
      "current_hypothesis = next(iterations)\n",
      "current_hypothesis"
     ],
     "language": "python",
     "metadata": {},
     "outputs": [
      {
       "metadata": {},
       "output_type": "pyout",
       "png": "[encoded data removed]",
       "prompt_number": 10,
       "text": [
        "<pyannote.core.annotation.Annotation at 0x110d19e90>"
       ]
      }
     ],
     "prompt_number": 10
    },
    {
     "cell_type": "code",
     "collapsed": false,
     "input": [
      "bicClustering.matrix"
     ],
     "language": "python",
     "metadata": {},
     "outputs": [
      {
       "html": [
        "<div style=\"max-height:1000px;max-width:1500px;overflow:auto;\">\n",
        "<table border=\"1\" class=\"dataframe\">\n",
        "  <thead>\n",
        "    <tr style=\"text-align: right;\">\n",
        "      <th></th>\n",
        "      <th>#1</th>\n",
        "      <th>#2</th>\n",
        "      <th>#3</th>\n",
        "      <th>#4</th>\n",
        "      <th>#5</th>\n",
        "      <th>#6</th>\n",
        "    </tr>\n",
        "  </thead>\n",
        "  <tbody>\n",
        "    <tr>\n",
        "      <th>#1</th>\n",
        "      <td>       -inf</td>\n",
        "      <td>-429.836131</td>\n",
        "      <td>-374.994923</td>\n",
        "      <td>-739.605318</td>\n",
        "      <td>-204.227083</td>\n",
        "      <td>-523.814877</td>\n",
        "    </tr>\n",
        "    <tr>\n",
        "      <th>#2</th>\n",
        "      <td>-429.836131</td>\n",
        "      <td>       -inf</td>\n",
        "      <td>-304.230939</td>\n",
        "      <td>-165.263249</td>\n",
        "      <td>-424.235203</td>\n",
        "      <td>-224.524699</td>\n",
        "    </tr>\n",
        "    <tr>\n",
        "      <th>#3</th>\n",
        "      <td>-374.994923</td>\n",
        "      <td>-304.230939</td>\n",
        "      <td>       -inf</td>\n",
        "      <td>-166.479384</td>\n",
        "      <td>-309.723275</td>\n",
        "      <td> -31.191449</td>\n",
        "    </tr>\n",
        "    <tr>\n",
        "      <th>#4</th>\n",
        "      <td>-739.605318</td>\n",
        "      <td>-165.263249</td>\n",
        "      <td>-166.479384</td>\n",
        "      <td>       -inf</td>\n",
        "      <td>-248.918573</td>\n",
        "      <td>   2.028118</td>\n",
        "    </tr>\n",
        "    <tr>\n",
        "      <th>#5</th>\n",
        "      <td>-204.227083</td>\n",
        "      <td>-424.235203</td>\n",
        "      <td>-309.723275</td>\n",
        "      <td>-248.918573</td>\n",
        "      <td>       -inf</td>\n",
        "      <td>-185.454997</td>\n",
        "    </tr>\n",
        "    <tr>\n",
        "      <th>#6</th>\n",
        "      <td>-523.814877</td>\n",
        "      <td>-224.524699</td>\n",
        "      <td> -31.191449</td>\n",
        "      <td>   2.028118</td>\n",
        "      <td>-185.454997</td>\n",
        "      <td>       -inf</td>\n",
        "    </tr>\n",
        "  </tbody>\n",
        "</table>\n",
        "<p>6 rows \u00d7 6 columns</p>\n",
        "</div>"
       ],
       "metadata": {},
       "output_type": "pyout",
       "prompt_number": 11,
       "text": [
        "<pyannote.core.matrix.LabelMatrix at 0x1106bf550>"
       ]
      }
     ],
     "prompt_number": 11
    },
    {
     "cell_type": "code",
     "collapsed": false,
     "input": [
      "current_hypothesis = next(iterations)\n",
      "current_hypothesis"
     ],
     "language": "python",
     "metadata": {},
     "outputs": [
      {
       "metadata": {},
       "output_type": "pyout",
       "png": "[encoded data removed]",
       "prompt_number": 12,
       "text": [
        "<pyannote.core.annotation.Annotation at 0x105d79610>"
       ]
      }
     ],
     "prompt_number": 12
    },
    {
     "cell_type": "code",
     "collapsed": false,
     "input": [
      "bicClustering.matrix"
     ],
     "language": "python",
     "metadata": {},
     "outputs": [
      {
       "html": [
        "<div style=\"max-height:1000px;max-width:1500px;overflow:auto;\">\n",
        "<table border=\"1\" class=\"dataframe\">\n",
        "  <thead>\n",
        "    <tr style=\"text-align: right;\">\n",
        "      <th></th>\n",
        "      <th>#1</th>\n",
        "      <th>#2</th>\n",
        "      <th>#3</th>\n",
        "      <th>#4</th>\n",
        "      <th>#5</th>\n",
        "    </tr>\n",
        "  </thead>\n",
        "  <tbody>\n",
        "    <tr>\n",
        "      <th>#1</th>\n",
        "      <td>       -inf</td>\n",
        "      <td>-429.836131</td>\n",
        "      <td>-374.994923</td>\n",
        "      <td>-962.168189</td>\n",
        "      <td>-204.227083</td>\n",
        "    </tr>\n",
        "    <tr>\n",
        "      <th>#2</th>\n",
        "      <td>-429.836131</td>\n",
        "      <td>       -inf</td>\n",
        "      <td>-304.230939</td>\n",
        "      <td>-230.412046</td>\n",
        "      <td>-424.235203</td>\n",
        "    </tr>\n",
        "    <tr>\n",
        "      <th>#3</th>\n",
        "      <td>-374.994923</td>\n",
        "      <td>-304.230939</td>\n",
        "      <td>       -inf</td>\n",
        "      <td>-110.987201</td>\n",
        "      <td>-309.723275</td>\n",
        "    </tr>\n",
        "    <tr>\n",
        "      <th>#4</th>\n",
        "      <td>-962.168189</td>\n",
        "      <td>-230.412046</td>\n",
        "      <td>-110.987201</td>\n",
        "      <td>       -inf</td>\n",
        "      <td>-148.334239</td>\n",
        "    </tr>\n",
        "    <tr>\n",
        "      <th>#5</th>\n",
        "      <td>-204.227083</td>\n",
        "      <td>-424.235203</td>\n",
        "      <td>-309.723275</td>\n",
        "      <td>-148.334239</td>\n",
        "      <td>       -inf</td>\n",
        "    </tr>\n",
        "  </tbody>\n",
        "</table>\n",
        "<p>5 rows \u00d7 5 columns</p>\n",
        "</div>"
       ],
       "metadata": {},
       "output_type": "pyout",
       "prompt_number": 13,
       "text": [
        "<pyannote.core.matrix.LabelMatrix at 0x1106bf550>"
       ]
      }
     ],
     "prompt_number": 13
    },
    {
     "cell_type": "code",
     "collapsed": false,
     "input": [
      "try:\n",
      "    next(iterations)\n",
      "except:\n",
      "    print \"Reached stoping criterion.\""
     ],
     "language": "python",
     "metadata": {},
     "outputs": [
      {
       "output_type": "stream",
       "stream": "stdout",
       "text": [
        "Reached stoping criterion.\n"
       ]
      }
     ],
     "prompt_number": 14
    },
    {
     "cell_type": "code",
     "collapsed": false,
     "input": [
      "hypothesis = bicClustering.finalize(feature=mfcc)\n",
      "hypothesis"
     ],
     "language": "python",
     "metadata": {},
     "outputs": [
      {
       "metadata": {},
       "output_type": "pyout",
       "png": "[encoded data removed]",
       "prompt_number": 15,
       "text": [
        "<pyannote.core.annotation.Annotation at 0x110e42810>"
       ]
      }
     ],
     "prompt_number": 15
    },
    {
     "cell_type": "code",
     "collapsed": false,
     "input": [
      "reference"
     ],
     "language": "python",
     "metadata": {},
     "outputs": [
      {
       "metadata": {},
       "output_type": "pyout",
       "png": "[encoded data removed]",
       "prompt_number": 16,
       "text": [
        "<pyannote.core.annotation.Annotation at 0x108f754d0>"
       ]
      }
     ],
     "prompt_number": 16
    },
    {
     "cell_type": "markdown",
     "metadata": {},
     "source": [
      "Let's evaluate the result numerically using metrics available in **[pyannote.metrics](https://github.com/hbredin/pyannote-metrics)**"
     ]
    },
    {
     "cell_type": "code",
     "collapsed": false,
     "input": [
      "from pyannote.metrics.diarization import DiarizationErrorRate, DiarizationPurity, DiarizationCoverage\n",
      "der = DiarizationErrorRate()\n",
      "purity = DiarizationPurity()\n",
      "coverage = DiarizationCoverage()"
     ],
     "language": "python",
     "metadata": {},
     "outputs": [],
     "prompt_number": 17
    },
    {
     "cell_type": "code",
     "collapsed": false,
     "input": [
      "p = purity(reference, hypothesis)\n",
      "c = coverage(reference, hypothesis)\n",
      "d = der(reference, hypothesis)\n",
      "print \"Purity {p:.1f}% / Coverage {c:.1f}% / Diarization error rate {d:.1f}%\".format(p=100*p,c=100*c,d=100*d)"
     ],
     "language": "python",
     "metadata": {},
     "outputs": [
      {
       "output_type": "stream",
       "stream": "stdout",
       "text": [
        "Purity 100.0% / Coverage 88.6% / Diarization error rate 11.4%\n"
       ]
      }
     ],
     "prompt_number": 18
    }
   ],
   "metadata": {}
  }
 ]
}