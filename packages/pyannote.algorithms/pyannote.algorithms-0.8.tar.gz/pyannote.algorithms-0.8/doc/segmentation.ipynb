{
 "metadata": {
  "name": "",
  "signature": "sha256:fdc592abb576ad84ac30d011964c3a4145e5374e6828a2e77f503d7692a100c0"
 },
 "nbformat": 3,
 "nbformat_minor": 0,
 "worksheets": [
  {
   "cells": [
    {
     "cell_type": "heading",
     "level": 1,
     "metadata": {},
     "source": [
      "Segmentation into scenes using audio"
     ]
    },
    {
     "cell_type": "markdown",
     "metadata": {},
     "source": [
      "This tutorial addresses the following points:\n",
      "  * audio feature extraction  \n",
      "  * temporal segmentation using \"sliding window\" approach  \n",
      "  * evaluation of the segmentation result"
     ]
    },
    {
     "cell_type": "code",
     "collapsed": true,
     "input": [
      "%pylab inline"
     ],
     "language": "python",
     "metadata": {},
     "outputs": [
      {
       "output_type": "stream",
       "stream": "stdout",
       "text": [
        "Populating the interactive namespace from numpy and matplotlib\n"
       ]
      }
     ],
     "prompt_number": 1
    },
    {
     "cell_type": "code",
     "collapsed": false,
     "input": [
      "# pyannote.core package provides core pyannote data structures.\n",
      "# (available at http://github.com/pyannote)\n",
      "from pyannote.core import Segment, Timeline"
     ],
     "language": "python",
     "metadata": {},
     "outputs": [],
     "prompt_number": 2
    },
    {
     "cell_type": "markdown",
     "metadata": {},
     "source": [
      "`uri` stands for *uniform resource identifier*."
     ]
    },
    {
     "cell_type": "code",
     "collapsed": false,
     "input": [
      "uri = 'GameOfThrones.Season01.Episode01'"
     ],
     "language": "python",
     "metadata": {},
     "outputs": [],
     "prompt_number": 3
    },
    {
     "cell_type": "markdown",
     "metadata": {},
     "source": [
      "Let's start by loading the reference (i.e. manual) segmentation into scenes.  \n",
      "It is stored in `data/GameOfThrones.Season01.Episode01/scenes.txt`."
     ]
    },
    {
     "cell_type": "code",
     "collapsed": false,
     "input": [
      "with open('data/GameOfThrones.Season01.Episode01/scenes.txt', 'r') as f:\n",
      "    lines = [line.split() for line in f.readlines()]\n"
     ],
     "language": "python",
     "metadata": {},
     "outputs": [],
     "prompt_number": 4
    },
    {
     "cell_type": "markdown",
     "metadata": {},
     "source": [
      "`Timeline` objects are used to store set of `Segment` (one per scene).  \n",
      "A `Segment` corresponds to a time range (with a start time and an end time, in seconds)."
     ]
    },
    {
     "cell_type": "code",
     "collapsed": false,
     "input": [
      "reference = Timeline(uri=uri)\n",
      "for start_time, end_time, _ in lines:\n",
      "    segment = Segment(start=float(start_time), end=float(end_time))\n",
      "    reference.add(segment)"
     ],
     "language": "python",
     "metadata": {},
     "outputs": [],
     "prompt_number": 5
    },
    {
     "cell_type": "markdown",
     "metadata": {},
     "source": [
      "Now, we will initialize an extractor of MFCC features (including energy and 12 first coefficients)."
     ]
    },
    {
     "cell_type": "code",
     "collapsed": false,
     "input": [
      "# pyannote.features package provides feature extraction tools.\n",
      "# (available at http://github.com/pyannote)\n",
      "from pyannote.features.audio.yaafe import YaafeMFCC\n",
      "mfcc_extractor = YaafeMFCC(e=True, coefs=12)"
     ],
     "language": "python",
     "metadata": {},
     "outputs": [],
     "prompt_number": 6
    },
    {
     "cell_type": "markdown",
     "metadata": {},
     "source": [
      "Once initialized, it can be used to extract the actual features.  \n",
      "Beware, it may take a while (a few seconds for a one hour episode)."
     ]
    },
    {
     "cell_type": "code",
     "collapsed": false,
     "input": [
      "features = mfcc_extractor.extract('data/GameOfThrones.Season01.Episode01/english.wav')"
     ],
     "language": "python",
     "metadata": {},
     "outputs": [],
     "prompt_number": 7
    },
    {
     "cell_type": "markdown",
     "metadata": {},
     "source": [
      "`Features` instances have several handy methods.  \n",
      "`crop` is one of them and allows to get all features for a given `pyannote.Segment` in a `numpy.array`."
     ]
    },
    {
     "cell_type": "code",
     "collapsed": false,
     "input": [
      "x = features.crop(Segment(0., 10.))\n",
      "print x.shape"
     ],
     "language": "python",
     "metadata": {},
     "outputs": [
      {
       "output_type": "stream",
       "stream": "stdout",
       "text": [
        "(625, 13)\n"
       ]
      }
     ],
     "prompt_number": 8
    },
    {
     "cell_type": "markdown",
     "metadata": {},
     "source": [
      "Let's plot audio signal energy for the first 30 seconds."
     ]
    },
    {
     "cell_type": "code",
     "collapsed": false,
     "input": [
      "plt.plot(features.crop(Segment(40, 60))[:,0])"
     ],
     "language": "python",
     "metadata": {},
     "outputs": [
      {
       "metadata": {},
       "output_type": "pyout",
       "prompt_number": 9,
       "text": [
        "[<matplotlib.lines.Line2D at 0x11a434a90>]"
       ]
      },
      {
       "metadata": {},
       "output_type": "display_data",
       "png": "[encoded data removed]",
       "text": [
        "<matplotlib.figure.Figure at 0x10bf52d10>"
       ]
      }
     ],
     "prompt_number": 9
    },
    {
     "cell_type": "markdown",
     "metadata": {},
     "source": [
      "Now, we are going to segment the episode using Gaussian divergence.  \n",
      "Two sliding windows (left and right) of 20 seconds each are used, with a step of 1 second. "
     ]
    },
    {
     "cell_type": "code",
     "collapsed": false,
     "input": [
      "# pyannote.algorithms provides algorithms for multimedia document processing.\n",
      "# (available at http://github.com/pyannote)\n",
      "from pyannote.algorithms.segmentation.sliding_window import SegmentationGaussianDivergence\n",
      "segmenter = SegmentationGaussianDivergence(duration=20, step=1)"
     ],
     "language": "python",
     "metadata": {},
     "outputs": [],
     "prompt_number": 10
    },
    {
     "cell_type": "markdown",
     "metadata": {},
     "source": [
      "One can use `segmenter` to compute the Gaussian divergence d between left and right windows for each position t of the sliding windows..."
     ]
    },
    {
     "cell_type": "code",
     "collapsed": false,
     "input": [
      "T, D = zip(*[(t, d) for (t, d) in segmenter.iterdiff(features)]);"
     ],
     "language": "python",
     "metadata": {},
     "outputs": [
      {
       "output_type": "stream",
       "stream": "stderr",
       "text": [
        "/Volumes/home/Development/virtualenv/pyannote.algorithms/lib/python2.7/site-packages/numpy/core/_methods.py:55: RuntimeWarning: Mean of empty slice.\n",
        "  warnings.warn(\"Mean of empty slice.\", RuntimeWarning)\n"
       ]
      }
     ],
     "prompt_number": 11
    },
    {
     "cell_type": "markdown",
     "metadata": {},
     "source": [
      "... and consequently plot $d = f(t)$ alongside the actual position of scene boundaries."
     ]
    },
    {
     "cell_type": "code",
     "collapsed": false,
     "input": [
      "for segment in reference:\n",
      "    plt.plot([segment.start, segment.start], [0, 20], 'r')\n",
      "plt.plot(T, D)\n",
      "plt.xlim(0, 2000)\n",
      "plt.ylim(0,20);"
     ],
     "language": "python",
     "metadata": {},
     "outputs": [
      {
       "metadata": {},
       "output_type": "display_data",
       "png": "[encoded data removed]",
       "text": [
        "<matplotlib.figure.Figure at 0x11a445f50>"
       ]
      }
     ],
     "prompt_number": 12
    },
    {
     "cell_type": "markdown",
     "metadata": {},
     "source": [
      "It looks like setting a detection threshold $\\theta = 7$ might do (some of) the trick.  "
     ]
    },
    {
     "cell_type": "code",
     "collapsed": false,
     "input": [
      "segmenter = SegmentationGaussianDivergence(duration=20, step=1, threshold=7)\n",
      "hypothesis = segmenter.apply(features)"
     ],
     "language": "python",
     "metadata": {},
     "outputs": [],
     "prompt_number": 13
    },
    {
     "cell_type": "markdown",
     "metadata": {},
     "source": [
      "Let's evaluate the results visually (reference in green, hypothesis in red)."
     ]
    },
    {
     "cell_type": "code",
     "collapsed": false,
     "input": [
      "for segment in hypothesis:\n",
      "    plt.plot([segment.start, segment.start], [-10, -0.5], 'r')\n",
      "for segment in reference:\n",
      "    plt.plot([segment.start, segment.start], [0.5, 10], 'g')\n",
      "plt.ylim(-11, 11);\n",
      "plt.xlim(0, segment.end);\n",
      "plt.xlabel('Time (seconds)');"
     ],
     "language": "python",
     "metadata": {},
     "outputs": [
      {
       "metadata": {},
       "output_type": "display_data",
       "png": "[encoded data removed]",
       "text": [
        "<matplotlib.figure.Figure at 0x11b4bcc10>"
       ]
      }
     ],
     "prompt_number": 14
    },
    {
     "cell_type": "markdown",
     "metadata": {},
     "source": [
      "One can also use evaluation metrics :"
     ]
    },
    {
     "cell_type": "code",
     "collapsed": false,
     "input": [
      "# pyannote.metrics provides evaluation metrics for various tasks.\n",
      "# (available at http://github.com/pyannote)\n",
      "from pyannote.metrics.segmentation import SegmentationPurity, SegmentationCoverage\n",
      "from pyannote.metrics import f_measure\n",
      "purity = SegmentationPurity()\n",
      "coverage = SegmentationCoverage()"
     ],
     "language": "python",
     "metadata": {},
     "outputs": [],
     "prompt_number": 15
    },
    {
     "cell_type": "code",
     "collapsed": false,
     "input": [
      "p = purity(reference, hypothesis)\n",
      "c = coverage(reference, hypothesis)\n",
      "f = f_measure(p, c)\n",
      "print \"Purity {p:.1f}% / Coverage {c:.1f}% / F-Measure {f:.1f}%\".format(p=100*p,c=100*c,f=100*f)"
     ],
     "language": "python",
     "metadata": {},
     "outputs": [
      {
       "output_type": "stream",
       "stream": "stdout",
       "text": [
        "Purity 77.6% / Coverage 85.9% / F-Measure 81.5%\n"
       ]
      }
     ],
     "prompt_number": 16
    }
   ],
   "metadata": {}
  }
 ]
}