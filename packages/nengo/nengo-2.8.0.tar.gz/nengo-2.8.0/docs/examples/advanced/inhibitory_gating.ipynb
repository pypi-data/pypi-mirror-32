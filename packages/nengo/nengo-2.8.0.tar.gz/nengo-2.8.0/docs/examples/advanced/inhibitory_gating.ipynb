{
 "metadata": {
  "language_info": {
   "name": "python",
   "pygments_lexer": "ipython3"
  },
  "name": ""
 },
 "nbformat": 3,
 "nbformat_minor": 0,
 "worksheets": [
  {
   "cells": [
    {
     "cell_type": "heading",
     "level": 1,
     "metadata": {},
     "source": [
      "Inhibitory gating of ensembles"
     ]
    },
    {
     "cell_type": "code",
     "collapsed": false,
     "input": [
      "import numpy as np\n",
      "import matplotlib.pyplot as plt\n",
      "%matplotlib inline\n",
      "\n",
      "import nengo"
     ],
     "language": "python",
     "metadata": {},
     "outputs": [],
     "prompt_number": null
    },
    {
     "cell_type": "markdown",
     "metadata": {},
     "source": [
      "## Step 1: Create the network\n",
      "\n",
      "Our model consists of two ensembles (called A and B) that receive inputs from a common sine wave signal generator. \n",
      "\n",
      "Ensemble A is gated using the output of a node, while Ensemble B is gated using the output of a third ensemble (C). This is to demonstrate that ensembles can be gated using either node outputs, or decoded outputs from ensembles."
     ]
    },
    {
     "cell_type": "code",
     "collapsed": false,
     "input": [
      "n_neurons = 30\n",
      "\n",
      "model = nengo.Network(label=\"Inhibitory Gating\")\n",
      "with model:\n",
      "    A = nengo.Ensemble(n_neurons, dimensions=1)\n",
      "    B = nengo.Ensemble(n_neurons, dimensions=1)\n",
      "    C = nengo.Ensemble(n_neurons, dimensions=1)"
     ],
     "language": "python",
     "metadata": {},
     "outputs": [],
     "prompt_number": null
    },
    {
     "cell_type": "markdown",
     "metadata": {},
     "source": [
      "## Step 2: Provide input to the model\n",
      "As described in Step 1, this model requires two inputs. \n",
      "<ol>\n",
      "  <li>A sine wave signal that is used to drive ensembles A and B\n",
      "  <li>An inhibitory control signal used to (directly) gate ensemble A, and (indirectly through ensemble C) gate ensemble B.\n",
      "</ol>"
     ]
    },
    {
     "cell_type": "code",
     "collapsed": false,
     "input": [
      "from nengo.processes import Piecewise\n",
      "\n",
      "with model:\n",
      "    sin = nengo.Node(np.sin)\n",
      "    inhib = nengo.Node(Piecewise({0: 0, 2.5: 1, 5: 0, 7.5: 1, 10: 0, 12.5: 1}))"
     ],
     "language": "python",
     "metadata": {},
     "outputs": [],
     "prompt_number": null
    },
    {
     "cell_type": "markdown",
     "metadata": {},
     "source": [
      "## Step 3: Connect the different components of the model\n",
      "In this model, we need to make the following connections:\n",
      "<ol>\n",
      "  <li>From sine wave generator to Ensemble A \n",
      "  <li>From sine wave generator to Ensemble B \n",
      "  <li>From inhibitory control signal to the neurons of Ensemble A (to directly drive the currents of the neurons) \n",
      "  <li>From inhibitory control signal to Ensemble C\n",
      "  <li>From Ensemble C to the neurons of Ensemble B (this demonstrates that the decoded output of Ensemble C can be used to gate Ensemble B)\n",
      "</ol>"
     ]
    },
    {
     "cell_type": "code",
     "collapsed": false,
     "input": [
      "with model:\n",
      "    nengo.Connection(sin, A)\n",
      "    nengo.Connection(sin, B)\n",
      "    nengo.Connection(inhib, A.neurons, transform=[[-2.5]] * n_neurons)\n",
      "    nengo.Connection(inhib, C)\n",
      "    nengo.Connection(C, B.neurons, transform=[[-2.5]] * n_neurons)"
     ],
     "language": "python",
     "metadata": {},
     "outputs": [],
     "prompt_number": null
    },
    {
     "cell_type": "markdown",
     "metadata": {},
     "source": [
      "## Step 4: Probe outputs\n",
      "Anything that is probed will collect the data it produces over time, allowing us to analyze and visualize it later. Let's collect all the data produced."
     ]
    },
    {
     "cell_type": "code",
     "collapsed": false,
     "input": [
      "with model:\n",
      "    sin_probe = nengo.Probe(sin)\n",
      "    inhib_probe = nengo.Probe(inhib)\n",
      "    A_probe = nengo.Probe(A, synapse=0.01)\n",
      "    B_probe = nengo.Probe(B, synapse=0.01)\n",
      "    C_probe = nengo.Probe(C, synapse=0.01)"
     ],
     "language": "python",
     "metadata": {},
     "outputs": [],
     "prompt_number": null
    },
    {
     "cell_type": "markdown",
     "metadata": {},
     "source": [
      "## Step 5: Run the model\n",
      "In order to run the model, we have to create a simulator. Then, we can run that simulator over and over again without affecting the original model."
     ]
    },
    {
     "cell_type": "code",
     "collapsed": false,
     "input": [
      "# Create our simulator\n",
      "with nengo.Simulator(model) as sim:\n",
      "    # Run it for 15 seconds\n",
      "    sim.run(15)"
     ],
     "language": "python",
     "metadata": {},
     "outputs": [],
     "prompt_number": null
    },
    {
     "cell_type": "code",
     "collapsed": false,
     "input": [
      "# Plot the decoded output of Ensemble A\n",
      "plt.figure()\n",
      "plt.plot(sim.trange(), sim.data[A_probe], label='Decoded output')\n",
      "plt.plot(sim.trange(), sim.data[sin_probe], label='Sine input')\n",
      "plt.plot(sim.trange(), sim.data[inhib_probe], label='Inhibitory signal')\n",
      "plt.legend();"
     ],
     "language": "python",
     "metadata": {},
     "outputs": [],
     "prompt_number": null
    },
    {
     "cell_type": "code",
     "collapsed": false,
     "input": [
      "# Plot the decoded output of Ensemble B and C\n",
      "plt.figure()\n",
      "plt.plot(sim.trange(), sim.data[B_probe], label='Decoded output of B')\n",
      "plt.plot(sim.trange(), sim.data[sin_probe], label='Sine input')\n",
      "plt.plot(sim.trange(), sim.data[C_probe], label='Decoded output of C')\n",
      "plt.plot(sim.trange(), sim.data[inhib_probe], label='Inhibitory signal')\n",
      "plt.legend();"
     ],
     "language": "python",
     "metadata": {},
     "outputs": [],
     "prompt_number": null
    }
   ],
   "metadata": {}
  }
 ]
}
