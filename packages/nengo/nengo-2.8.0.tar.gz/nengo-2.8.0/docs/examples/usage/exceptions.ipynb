{
 "metadata": {
  "language_info": {
   "name": "python",
   "pygments_lexer": "ipython3"
  },
  "name": ""
 },
 "nbformat": 3,
 "nbformat_minor": 0,
 "worksheets": [
  {
   "cells": [
    {
     "cell_type": "markdown",
     "metadata": {
      "collapsed": true
     },
     "source": [
      "# Exceptions\n",
      "\n",
      "This should be an exhaustive list of the exceptions\n",
      "that can be raised by Nengo,\n",
      "and how they appear when they occur.\n",
      "\n",
      "The exceptions are ordered roughly by how commonly\n",
      "we expect them to occur."
     ]
    },
    {
     "cell_type": "code",
     "collapsed": false,
     "input": [
      "import traceback\n",
      "import warnings\n",
      "import nengo\n",
      "import nengo.spa\n",
      "\n",
      "def print_exc(func):\n",
      "    try:\n",
      "        with warnings.catch_warnings():\n",
      "            warnings.simplefilter('ignore')\n",
      "            func()\n",
      "    except:\n",
      "        traceback.print_exc()"
     ],
     "language": "python",
     "metadata": {},
     "outputs": [],
     "prompt_number": null
    },
    {
     "cell_type": "heading",
     "level": 2,
     "metadata": {},
     "source": [
      "ValidationError in NengoObject (simplified)"
     ]
    },
    {
     "cell_type": "code",
     "collapsed": false,
     "input": [
      "def nengo_obj():\n",
      "    with nengo.Network():\n",
      "        ens = nengo.Ensemble(n_neurons=0, dimensions=1)\n",
      "\n",
      "\n",
      "nengo.rc.set('exceptions', 'simplified', str(True))\n",
      "print_exc(nengo_obj)"
     ],
     "language": "python",
     "metadata": {},
     "outputs": [],
     "prompt_number": null
    },
    {
     "cell_type": "heading",
     "level": 2,
     "metadata": {},
     "source": [
      "ValidationError in NengoObject (full)"
     ]
    },
    {
     "cell_type": "code",
     "collapsed": false,
     "input": [
      "def nengo_obj():\n",
      "    with nengo.Network():\n",
      "        ens = nengo.Ensemble(n_neurons=0, dimensions=1)\n",
      "\n",
      "\n",
      "nengo.rc.set('exceptions', 'simplified', str(False))\n",
      "print_exc(nengo_obj)"
     ],
     "language": "python",
     "metadata": {},
     "outputs": [],
     "prompt_number": null
    },
    {
     "cell_type": "heading",
     "level": 2,
     "metadata": {},
     "source": [
      "ValidationError in non-NengoObject"
     ]
    },
    {
     "cell_type": "code",
     "collapsed": false,
     "input": [
      "def dist():\n",
      "    nengo.dists.PDF(x=[1, 1], p=[0.1, 0.2])\n",
      "\n",
      "\n",
      "print_exc(dist)"
     ],
     "language": "python",
     "metadata": {},
     "outputs": [],
     "prompt_number": null
    },
    {
     "cell_type": "heading",
     "level": 2,
     "metadata": {},
     "source": [
      "ReadonlyError in NengoObject (simplified)"
     ]
    },
    {
     "cell_type": "code",
     "collapsed": false,
     "input": [
      "def nengo_obj():\n",
      "    with nengo.Network():\n",
      "        ens = nengo.Ensemble(n_neurons=10, dimensions=1)\n",
      "        p = nengo.Probe(ens)\n",
      "        p.target = ens\n",
      "\n",
      "\n",
      "nengo.rc.set('exceptions', 'simplified', str(True))\n",
      "print_exc(nengo_obj)"
     ],
     "language": "python",
     "metadata": {},
     "outputs": [],
     "prompt_number": null
    },
    {
     "cell_type": "heading",
     "level": 2,
     "metadata": {},
     "source": [
      "ReadonlyError in NengoObject (full)"
     ]
    },
    {
     "cell_type": "code",
     "collapsed": false,
     "input": [
      "def nengo_obj():\n",
      "    with nengo.Network():\n",
      "        ens = nengo.Ensemble(n_neurons=10, dimensions=1)\n",
      "        p = nengo.Probe(ens)\n",
      "        p.target = ens\n",
      "\n",
      "\n",
      "nengo.rc.set('exceptions', 'simplified', str(False))\n",
      "print_exc(nengo_obj)"
     ],
     "language": "python",
     "metadata": {},
     "outputs": [],
     "prompt_number": null
    },
    {
     "cell_type": "heading",
     "level": 2,
     "metadata": {},
     "source": [
      "ReadonlyError in non-NengoObject"
     ]
    },
    {
     "cell_type": "code",
     "collapsed": false,
     "input": [
      "def ensemble():\n",
      "    with nengo.Network():\n",
      "        ens = nengo.Ensemble(n_neurons=10, dimensions=1)\n",
      "        ens.neurons = None\n",
      "\n",
      "\n",
      "print_exc(ensemble)"
     ],
     "language": "python",
     "metadata": {},
     "outputs": [],
     "prompt_number": null
    },
    {
     "cell_type": "code",
     "collapsed": false,
     "input": [
      "def param():\n",
      "    class Frozen(nengo.params.FrozenObject):\n",
      "        p = nengo.params.Parameter('p', readonly=False)\n",
      "\n",
      "    f = Frozen()\n",
      "\n",
      "\n",
      "print_exc(param)"
     ],
     "language": "python",
     "metadata": {},
     "outputs": [],
     "prompt_number": null
    },
    {
     "cell_type": "heading",
     "level": 2,
     "metadata": {},
     "source": [
      "SimulatorClosed"
     ]
    },
    {
     "cell_type": "code",
     "collapsed": false,
     "input": [
      "def simclose():\n",
      "    with nengo.Network() as net:\n",
      "        e = nengo.Ensemble(10, 1)\n",
      "    with nengo.Simulator(net) as sim:\n",
      "        sim.run(0.01)\n",
      "    sim.run(0.01)\n",
      "\n",
      "\n",
      "print_exc(simclose)"
     ],
     "language": "python",
     "metadata": {},
     "outputs": [],
     "prompt_number": null
    },
    {
     "cell_type": "heading",
     "level": 2,
     "metadata": {},
     "source": [
      "BuildtimeError"
     ]
    },
    {
     "cell_type": "code",
     "collapsed": false,
     "input": [
      "def builderror():\n",
      "    model = nengo.builder.Model()\n",
      "    nengo.builder.Builder.build(model, \"\")\n",
      "\n",
      "\n",
      "print_exc(builderror)"
     ],
     "language": "python",
     "metadata": {},
     "outputs": [],
     "prompt_number": null
    },
    {
     "cell_type": "heading",
     "level": 2,
     "metadata": {},
     "source": [
      "ZeroActivityError"
     ]
    },
    {
     "cell_type": "code",
     "collapsed": false,
     "input": [
      "def zeroactivity():\n",
      "    with nengo.Network() as net:\n",
      "        e = nengo.Ensemble(1, 1, gain=[0], bias=[-1], encoders=[[1]])\n",
      "        nengo.Connection(e, e)\n",
      "    with nengo.Simulator(net):\n",
      "        pass\n",
      "\n",
      "\n",
      "print_exc(zeroactivity)"
     ],
     "language": "python",
     "metadata": {},
     "outputs": [],
     "prompt_number": null
    },
    {
     "cell_type": "heading",
     "level": 2,
     "metadata": {},
     "source": [
      "SpaParseError"
     ]
    },
    {
     "cell_type": "code",
     "collapsed": false,
     "input": [
      "def spaparse():\n",
      "    vocab = nengo.spa.Vocabulary(16)\n",
      "    vocab['a']\n",
      "\n",
      "\n",
      "print_exc(spaparse)"
     ],
     "language": "python",
     "metadata": {},
     "outputs": [],
     "prompt_number": null
    },
    {
     "cell_type": "heading",
     "level": 2,
     "metadata": {},
     "source": [
      "SpaModuleError"
     ]
    },
    {
     "cell_type": "code",
     "collapsed": false,
     "input": [
      "def spamodule():\n",
      "    with nengo.spa.SPA() as net:\n",
      "        st = nengo.spa.State(1)\n",
      "\n",
      "\n",
      "print_exc(spamodule)"
     ],
     "language": "python",
     "metadata": {},
     "outputs": [],
     "prompt_number": null
    },
    {
     "cell_type": "heading",
     "level": 2,
     "metadata": {},
     "source": [
      "ObsoleteError"
     ]
    },
    {
     "cell_type": "code",
     "collapsed": false,
     "input": [
      "def obsolete():\n",
      "    with nengo.Network() as net:\n",
      "        e = nengo.Ensemble(10, 1)\n",
      "        c = nengo.Connection(e, e)\n",
      "        p = nengo.Probe(c, 'decoders')\n",
      "\n",
      "\n",
      "print_exc(obsolete)"
     ],
     "language": "python",
     "metadata": {},
     "outputs": [],
     "prompt_number": null
    },
    {
     "cell_type": "heading",
     "level": 2,
     "metadata": {},
     "source": [
      "ConfigError"
     ]
    },
    {
     "cell_type": "code",
     "collapsed": false,
     "input": [
      "def config():\n",
      "    nengo.Network().config[object]\n",
      "\n",
      "\n",
      "print_exc(config)"
     ],
     "language": "python",
     "metadata": {},
     "outputs": [],
     "prompt_number": null
    },
    {
     "cell_type": "heading",
     "level": 2,
     "metadata": {},
     "source": [
      "SimulationError"
     ]
    },
    {
     "cell_type": "code",
     "collapsed": false,
     "input": [
      "def simerror():\n",
      "    with nengo.Network() as net:\n",
      "        n = nengo.Node(lambda t: None if t > 0.002 else 1.0)\n",
      "    with nengo.Simulator(net) as sim:\n",
      "        sim.run(0.003)\n",
      "\n",
      "\n",
      "print_exc(simerror)"
     ],
     "language": "python",
     "metadata": {},
     "outputs": [],
     "prompt_number": null
    },
    {
     "cell_type": "heading",
     "level": 2,
     "metadata": {},
     "source": [
      "NetworkContextError"
     ]
    },
    {
     "cell_type": "code",
     "collapsed": false,
     "input": [
      "def context():\n",
      "    with nengo.Network():\n",
      "        nengo.Network.context.append(\"bad\")\n",
      "        ens = nengo.Ensemble(10, 1)\n",
      "\n",
      "\n",
      "print_exc(context)\n",
      "nengo.Network.context.clear()"
     ],
     "language": "python",
     "metadata": {},
     "outputs": [],
     "prompt_number": null
    },
    {
     "cell_type": "heading",
     "level": 2,
     "metadata": {},
     "source": [
      "NeuronTypeError"
     ]
    },
    {
     "cell_type": "code",
     "collapsed": false,
     "input": [
      "def direct():\n",
      "    d = nengo.neurons.Direct()\n",
      "    d.step_math(None, None, None)\n",
      "\n",
      "\n",
      "print_exc(direct)"
     ],
     "language": "python",
     "metadata": {},
     "outputs": [],
     "prompt_number": null
    },
    {
     "cell_type": "heading",
     "level": 2,
     "metadata": {},
     "source": [
      "FingerprintError"
     ]
    },
    {
     "cell_type": "code",
     "collapsed": false,
     "input": [
      "def fingerprint():\n",
      "    nengo.cache.Fingerprint(lambda x: x)\n",
      "\n",
      "\n",
      "print_exc(fingerprint)"
     ],
     "language": "python",
     "metadata": {},
     "outputs": [],
     "prompt_number": null
    },
    {
     "cell_type": "heading",
     "level": 2,
     "metadata": {},
     "source": [
      "CacheIOError"
     ]
    },
    {
     "cell_type": "code",
     "collapsed": false,
     "input": [
      "def cacheio():\n",
      "    from nengo.utils.compat import StringIO\n",
      "    sio = StringIO(\"a\" * 40)\n",
      "    nengo.utils.nco.read(sio)\n",
      "\n",
      "\n",
      "print_exc(cacheio)"
     ],
     "language": "python",
     "metadata": {},
     "outputs": [],
     "prompt_number": null
    },
    {
     "cell_type": "heading",
     "level": 2,
     "metadata": {},
     "source": [
      "Unconvertible"
     ]
    },
    {
     "cell_type": "code",
     "collapsed": false,
     "input": [
      "def unconvertible():\n",
      "    with nengo.Network() as net:\n",
      "        n = nengo.Node(output=None, size_in=1)\n",
      "        nengo.Connection(n, n, synapse=None)\n",
      "    nengo.utils.builder.remove_passthrough_nodes(net.nodes, net.connections)\n",
      "\n",
      "\n",
      "print_exc(unconvertible)"
     ],
     "language": "python",
     "metadata": {},
     "outputs": [],
     "prompt_number": null
    },
    {
     "cell_type": "heading",
     "level": 2,
     "metadata": {},
     "source": [
      "SignalError"
     ]
    },
    {
     "cell_type": "code",
     "collapsed": false,
     "input": [
      "def signal():\n",
      "    s = nengo.builder.signal.Signal([1])\n",
      "    s.initial_value = 0\n",
      "\n",
      "\n",
      "print_exc(signal)"
     ],
     "language": "python",
     "metadata": {},
     "outputs": [],
     "prompt_number": null
    }
   ],
   "metadata": {}
  }
 ]
}

