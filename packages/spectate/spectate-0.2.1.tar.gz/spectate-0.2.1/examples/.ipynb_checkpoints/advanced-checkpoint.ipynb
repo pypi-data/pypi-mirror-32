{
 "cells": [
  {
   "cell_type": "markdown",
   "metadata": {},
   "source": [
    "# Watched Dictionaries\n",
    "\n",
    "---\n",
    "\n",
    "keeping track of key-value changes in a dict"
   ]
  },
  {
   "cell_type": "code",
   "execution_count": 1,
   "metadata": {
    "collapsed": true
   },
   "outputs": [],
   "source": [
    "from spectate import expose_as, watch, Bunch"
   ]
  },
  {
   "cell_type": "markdown",
   "metadata": {},
   "source": [
    "We use `expose_as` to create an `EventfulDict` that enables callbacks before and after an element of the dictionary is set. The funtion's signature requries the `name` of the new eventful type, a `base` class from which that new type should inherit, and the series of `methods` on that base class which can register a callback. In this case we enable callbacks for methods which can set or delete items:\n",
    "\n",
    "+ `__setitem__`\n",
    "+ `__delitem__`\n",
    "+ `setdefault`\n",
    "+ `popitem`.\n",
    "+ `pop`\n",
    "+ `update`\n"
   ]
  },
  {
   "cell_type": "code",
   "execution_count": 2,
   "metadata": {
    "collapsed": true
   },
   "outputs": [],
   "source": [
    "EventfulDict = expose_as('EventfulDict', dict, '__setitem__',\n",
    "    '__delitem__', 'setdefault', 'update', 'pop', 'popitem')"
   ]
  },
  {
   "cell_type": "code",
   "execution_count": 3,
   "metadata": {
    "collapsed": true
   },
   "outputs": [],
   "source": [
    "# a sentinel signifying an empty element\n",
    "class Empty(object):\n",
    "    def __repr__(self): return \"Empty\"\n",
    "Empty = Empty()"
   ]
  },
  {
   "cell_type": "markdown",
   "metadata": {},
   "source": [
    "Using Closures\n",
    "--------------\n",
    "\n",
    "In the basic example we created beforebacks and afterbacks seperately when defining our eventful list. However it is also possible to define an afterback as closure inside a beforeback. This allows the afterback to capture the same information that would otherwise need to be passed to it from a beforeback inside its scope.\n",
    "\n",
    "\n",
    "Callbacks\n",
    "---------\n",
    "\n",
    "+ Have a signature of ``(instance, call)``\n",
    "\n",
    "    + ``instance`` is the owner of the method\n",
    "    + ``call`` is a ``Bunch`` with the keys:\n",
    "\n",
    "        + ``'name'`` - the name of the method which was called\n",
    "        + ``'args'`` - the arguments which that method will call\n",
    "        + ``'kwargs'`` - the keywords which that method will call\n",
    "\n",
    "+ Can ``return`` a closue which is called as an afterback.\n",
    "\n",
    "Closures\n",
    "--------\n",
    "\n",
    "+ Have a signature of ``(value)``\n",
    "\n",
    "    + ``'value'`` - the value returned by the method\n",
    "    + All other information is already contained in the closures scope.\n",
    "\n",
    "+ Should not ``return``"
   ]
  },
  {
   "cell_type": "code",
   "execution_count": 4,
   "metadata": {
    "collapsed": true
   },
   "outputs": [],
   "source": [
    "def djoin(d1, d2):\n",
    "    new = d1.copy()\n",
    "    d1.update(d2)\n",
    "    return new\n",
    "\n",
    "def item_change(inst, key):\n",
    "    old = inst.get(key, Empty)\n",
    "    def printit(value):\n",
    "        new = inst.get(key, Empty)\n",
    "        if new != old:\n",
    "            print(\"{%s: %s} -> {%s: %s}\" %\n",
    "                (key, old, key, new))\n",
    "    return printit\n",
    "\n",
    "def before_item_change(inst, call):\n",
    "    return item_change(inst, call.args[0])\n",
    "\n",
    "def before_popitem(inst, call):\n",
    "    return item_change(inst, tuple(inst.keys())[0])\n",
    "\n",
    "def before_update(inst, call):\n",
    "    call_list = [item_change(inst, k) for k in\n",
    "        set(call.args[0]) | set(call.kwargs)]\n",
    "    def after_update(value):\n",
    "        return [c(value) for c in call_list]\n",
    "    return after_update\n",
    "\n",
    "    "
   ]
  },
  {
   "cell_type": "code",
   "execution_count": 5,
   "metadata": {
    "collapsed": false
   },
   "outputs": [],
   "source": [
    "edict, spectator = watch(EventfulDict, {'a': 1, 'b':2})\n",
    "\n",
    "methods = ('__setitem__', '__delitem__', 'pop', 'setdefault')\n",
    "spectator.callback(methods, before_item_change)\n",
    "\n",
    "spectator.callback('popitem', before_popitem)\n",
    "\n",
    "spectator.callback('update', before_update)"
   ]
  },
  {
   "cell_type": "code",
   "execution_count": 6,
   "metadata": {
    "collapsed": false
   },
   "outputs": [
    {
     "name": "stdout",
     "output_type": "stream",
     "text": [
      "{a: 1} -> {a: 2}\n",
      "{a: 2} -> {a: Empty}\n",
      "{b: 2} -> {b: Empty}\n",
      "{c: Empty} -> {c: 3}\n",
      "{a: Empty} -> {a: 1}\n",
      "{b: Empty} -> {b: 2}\n",
      "{c: 3} -> {c: Empty}\n"
     ]
    }
   ],
   "source": [
    "# tests\n",
    "edict['a'] = 2\n",
    "edict.pop('a')\n",
    "edict.popitem()\n",
    "edict.setdefault('c', 3)\n",
    "edict.update({'a':1, 'b':2})\n",
    "del edict['c']\n",
    "# won't notify\n",
    "edict['a'] = 1"
   ]
  },
  {
   "cell_type": "code",
   "execution_count": null,
   "metadata": {
    "collapsed": true
   },
   "outputs": [],
   "source": []
  }
 ],
 "metadata": {
  "anaconda-cloud": {},
  "kernelspec": {
   "display_name": "Python [conda root]",
   "language": "python",
   "name": "conda-root-py"
  },
  "language_info": {
   "codemirror_mode": {
    "name": "ipython",
    "version": 3
   },
   "file_extension": ".py",
   "mimetype": "text/x-python",
   "name": "python",
   "nbconvert_exporter": "python",
   "pygments_lexer": "ipython3",
   "version": "3.5.3"
  }
 },
 "nbformat": 4,
 "nbformat_minor": 1
}
