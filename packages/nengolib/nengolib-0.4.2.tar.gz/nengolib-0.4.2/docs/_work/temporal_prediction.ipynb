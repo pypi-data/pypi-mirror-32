{
 "cells": [
  {
   "cell_type": "code",
   "execution_count": null,
   "metadata": {
    "collapsed": false
   },
   "outputs": [],
   "source": [
    "%pylab inline\n",
    "import pylab\n",
    "try:\n",
    "    import seaborn as sns  # optional; prettier graphs\n",
    "except ImportError:\n",
    "    pass\n",
    "\n",
    "import numpy as np\n",
    "import nengo\n",
    "import nengolib\n",
    "from nengolib.synapses import PadeDelay"
   ]
  },
  {
   "cell_type": "code",
   "execution_count": null,
   "metadata": {
    "collapsed": false
   },
   "outputs": [],
   "source": [
    "def plot_error(h, ideal, high=30):\n",
    "    freqs = np.linspace(0, high, 1000)\n",
    "    r = h.evaluate(freqs)\n",
    "    r_ideal = ideal(2.j*np.pi*freqs)\n",
    "    error = r #- r_ideal\n",
    "    pylab.figure()\n",
    "    pylab.plot(freqs, abs(error), label=\"Power\")\n",
    "    pylab.plot(freqs, error.real, label=\"Real\")\n",
    "    pylab.plot(freqs, error.imag, label=\"Imag\")\n",
    "    pylab.show()\n",
    "\n",
    "c = 0.05 #0.00\n",
    "\n",
    "h_delay = PadeDelay(3, 4, c)\n",
    "h_predict = PadeDelay(3, 4, -c) #* nengolib.Lowpass(0.1)\n",
    "#assert h_predict == (~PadeDelay(4, 3, c))\n",
    "\n",
    "plot_error(h_delay, lambda s: np.exp(-c*s))\n",
    "plot_error(h_predict, lambda s: np.exp(c*s), high=10000)\n",
    "\n",
    "\n",
    "\n",
    "print h_delay.zpk\n",
    "print h_predict.zpk\n"
   ]
  },
  {
   "cell_type": "code",
   "execution_count": null,
   "metadata": {
    "collapsed": false
   },
   "outputs": [],
   "source": [
    "print h_delay.poles, h_delay.zeros\n",
    "print h_predict.poles, h_predict.zeros"
   ]
  },
  {
   "cell_type": "code",
   "execution_count": null,
   "metadata": {
    "collapsed": false
   },
   "outputs": [],
   "source": [
    "T = 0.05\n",
    "dt = 0.001\n",
    "\n",
    "with nengolib.Network() as model:\n",
    "    stim = nengo.Node(output=lambda x: np.sin(2*np.pi*x/2)) # nengo.processes.WhiteSignal(T, high=2))\n",
    "    \n",
    "    # Build a LinearNetwork that approximations a delay\n",
    "    subnet = nengolib.networks.LinearNetwork(\n",
    "        h_predict, n_neurons=200, synapse=0.1,\n",
    "        radii=1.0, normalizer=nengolib.signal.Controllable(), dt=dt, neuron_type=nengo.neurons.Direct())\n",
    "    nengo.Connection(stim, subnet.input, synapse=None)\n",
    "\n",
    "    # Add some probes\n",
    "    p = nengo.Probe(subnet.output, synapse=0.01)\n",
    "    p_stim = nengo.Probe(stim, synapse=0.01)\n",
    "    \n",
    "sim = nengo.Simulator(model, dt=dt)\n",
    "sim.run(T)"
   ]
  },
  {
   "cell_type": "code",
   "execution_count": null,
   "metadata": {
    "collapsed": false
   },
   "outputs": [],
   "source": [
    "pylab.figure()\n",
    "#pylab.plot(sim.trange(), sim.data[p_stim])\n",
    "pylab.plot(sim.trange(), sim.data[p])\n",
    "pylab.show()"
   ]
  },
  {
   "cell_type": "code",
   "execution_count": null,
   "metadata": {
    "collapsed": false
   },
   "outputs": [],
   "source": [
    "dt = 0.0001\n",
    "t = np.arange(0, 0.2, dt)\n",
    "u = np.sin(2*np.pi*t/4)\n",
    "y = h_delay.filt(u, dt=dt)\n",
    "\n",
    "pylab.figure()\n",
    "pylab.plot(t, u)\n",
    "pylab.plot(t, y)\n",
    "pylab.show()"
   ]
  },
  {
   "cell_type": "code",
   "execution_count": 15,
   "metadata": {
    "collapsed": false
   },
   "outputs": [
    {
     "name": "stderr",
     "output_type": "stream",
     "text": [
      "DEBUG:nengo.builder.network:Network step 1: Building ensembles and nodes\n",
      "DEBUG:nengo.builder.network:Network step 2: Building subnetworks\n",
      "DEBUG:nengo.builder.network:Network step 3: Building connections\n",
      "DEBUG:nengo.cache:Cache miss [36ec2c1f0fb13b2fb43f7889c82b012b77b58835].\n",
      "DEBUG:nengo.builder.network:Network step 4: Building probes\n",
      "DEBUG:nengo.builder.network:Network step 1: Building ensembles and nodes\n",
      "DEBUG:nengo.builder.network:Network step 2: Building subnetworks\n",
      "DEBUG:nengo.builder.network:Network step 3: Building connections\n",
      "DEBUG:nengo.cache:Cache miss [3c068fa14e38766e22372f318198a098d05811fe].\n",
      "DEBUG:nengo.builder.network:Network step 4: Building probes\n"
     ]
    }
   ],
   "source": [
    "import logging; logging.getLogger().setLevel(logging.DEBUG)\n",
    "\n",
    "import nengo\n",
    "import numpy as np\n",
    "\n",
    "for _ in range(2):\n",
    "    solver = nengo.solvers.LstsqL2(reg=np.random.random())\n",
    "    solver._hack = np.random.random()\n",
    "    with nengo.Network(seed=0) as model:\n",
    "        a = nengo.Ensemble(10, 1)\n",
    "        nengo.Connection(a, a, solver=solver)\n",
    "    nengo.Simulator(model)\n"
   ]
  },
  {
   "cell_type": "code",
   "execution_count": 41,
   "metadata": {
    "collapsed": false
   },
   "outputs": [
    {
     "name": "stderr",
     "output_type": "stream",
     "text": [
      "DEBUG:nengo.builder.network:Network step 1: Building ensembles and nodes\n",
      "DEBUG:nengo.builder.network:Network step 2: Building subnetworks\n",
      "DEBUG:nengo.builder.network:Network step 3: Building connections\n",
      "DEBUG:nengo.cache:Cache miss [e8213cbfe194f8af443598f2b6e4b3ff1720607d].\n",
      "DEBUG:nengo.cache:Cache miss [cb60e67f4aff4863612005132ac5ebc538089562].\n",
      "DEBUG:nengo.cache:Cache miss [f00a8a7573e8d5b3ceafafcd4a144e45c4ca4b8a].\n",
      "DEBUG:nengo.cache:Cache miss [fc4ff6a5e5bd2056d91a5a26343975141213f92b].\n",
      "DEBUG:nengo.builder.network:Network step 4: Building probes\n",
      "DEBUG:nengo.builder.network:Network step 1: Building ensembles and nodes\n",
      "DEBUG:nengo.builder.network:Network step 2: Building subnetworks\n",
      "DEBUG:nengo.builder.network:Network step 3: Building connections\n",
      "DEBUG:nengo.cache:Cache hit [e8213cbfe194f8af443598f2b6e4b3ff1720607d]: Loaded stored decoders.\n",
      "DEBUG:nengo.cache:Cache hit [cb60e67f4aff4863612005132ac5ebc538089562]: Loaded stored decoders.\n",
      "DEBUG:nengo.cache:Cache hit [f00a8a7573e8d5b3ceafafcd4a144e45c4ca4b8a]: Loaded stored decoders.\n",
      "DEBUG:nengo.cache:Cache hit [fc4ff6a5e5bd2056d91a5a26343975141213f92b]: Loaded stored decoders.\n",
      "DEBUG:nengo.builder.network:Network step 4: Building probes\n",
      "DEBUG:nengo.builder.network:Network step 1: Building ensembles and nodes\n",
      "DEBUG:nengo.builder.network:Network step 2: Building subnetworks\n",
      "DEBUG:nengo.builder.network:Network step 3: Building connections\n",
      "DEBUG:nengo.cache:Cache hit [e8213cbfe194f8af443598f2b6e4b3ff1720607d]: Loaded stored decoders.\n",
      "DEBUG:nengo.cache:Cache hit [cb60e67f4aff4863612005132ac5ebc538089562]: Loaded stored decoders.\n",
      "DEBUG:nengo.cache:Cache hit [f00a8a7573e8d5b3ceafafcd4a144e45c4ca4b8a]: Loaded stored decoders.\n",
      "DEBUG:nengo.cache:Cache hit [fc4ff6a5e5bd2056d91a5a26343975141213f92b]: Loaded stored decoders.\n",
      "DEBUG:nengo.builder.network:Network step 4: Building probes\n",
      "DEBUG:nengo.builder.network:Network step 1: Building ensembles and nodes\n",
      "DEBUG:nengo.builder.network:Network step 2: Building subnetworks\n",
      "DEBUG:nengo.builder.network:Network step 3: Building connections\n",
      "DEBUG:nengo.cache:Cache hit [e8213cbfe194f8af443598f2b6e4b3ff1720607d]: Loaded stored decoders.\n",
      "DEBUG:nengo.cache:Cache hit [cb60e67f4aff4863612005132ac5ebc538089562]: Loaded stored decoders.\n",
      "DEBUG:nengo.cache:Cache hit [f00a8a7573e8d5b3ceafafcd4a144e45c4ca4b8a]: Loaded stored decoders.\n",
      "DEBUG:nengo.cache:Cache hit [fc4ff6a5e5bd2056d91a5a26343975141213f92b]: Loaded stored decoders.\n",
      "DEBUG:nengo.builder.network:Network step 4: Building probes\n",
      "DEBUG:nengo.builder.network:Network step 1: Building ensembles and nodes\n",
      "DEBUG:nengo.builder.network:Network step 2: Building subnetworks\n",
      "DEBUG:nengo.builder.network:Network step 3: Building connections\n",
      "DEBUG:nengo.cache:Cache hit [e8213cbfe194f8af443598f2b6e4b3ff1720607d]: Loaded stored decoders.\n",
      "DEBUG:nengo.cache:Cache hit [cb60e67f4aff4863612005132ac5ebc538089562]: Loaded stored decoders.\n",
      "DEBUG:nengo.cache:Cache hit [f00a8a7573e8d5b3ceafafcd4a144e45c4ca4b8a]: Loaded stored decoders.\n",
      "DEBUG:nengo.cache:Cache hit [fc4ff6a5e5bd2056d91a5a26343975141213f92b]: Loaded stored decoders.\n",
      "DEBUG:nengo.builder.network:Network step 4: Building probes\n"
     ]
    }
   ],
   "source": [
    "import numpy as np\n",
    "import nengo\n",
    "\n",
    "class CustomSolver(nengo.solvers.LstsqL2):\n",
    "    def __call__(self, A, Y, rng=None, E=None):\n",
    "        rng.rand()\n",
    "        return super(CustomSolver, self).__call__(A, Y, rng=rng, E=E)\n",
    "\n",
    "nengo.cache.get_default_decoder_cache().invalidate()\n",
    "    \n",
    "for _ in range(5):\n",
    "    rng = np.random.RandomState(seed=0)\n",
    "    with nengo.Network(seed=0) as model:\n",
    "        a = nengo.Ensemble(10, 1)\n",
    "        nengo.Connection(a, a, solver=CustomSolver())\n",
    "        nengo.Connection(a, a, solver=CustomSolver())\n",
    "        nengo.Connection(a, a, solver=CustomSolver())\n",
    "        nengo.Connection(a, a, solver=CustomSolver())\n",
    "\n",
    "    nengo.Simulator(model)"
   ]
  },
  {
   "cell_type": "code",
   "execution_count": 32,
   "metadata": {
    "collapsed": false
   },
   "outputs": [
    {
     "ename": "FingerprintError",
     "evalue": "Can't pickle <type 'function'>: attribute lookup __builtin__.function failed",
     "output_type": "error",
     "traceback": [
      "\u001b[1;31m---------------------------------------------------------------------------\u001b[0m",
      "\u001b[1;31mFingerprintError\u001b[0m                          Traceback (most recent call last)",
      "\u001b[1;32m<ipython-input-32-47dffb3c8fa4>\u001b[0m in \u001b[0;36m<module>\u001b[1;34m()\u001b[0m\n\u001b[0;32m      7\u001b[0m \u001b[0msolver2\u001b[0m\u001b[1;33m.\u001b[0m\u001b[0mfoo\u001b[0m \u001b[1;33m=\u001b[0m \u001b[1;32mlambda\u001b[0m \u001b[0mbar\u001b[0m\u001b[1;33m:\u001b[0m \u001b[0mNone\u001b[0m\u001b[1;33m\u001b[0m\u001b[0m\n\u001b[0;32m      8\u001b[0m \u001b[1;33m\u001b[0m\u001b[0m\n\u001b[1;32m----> 9\u001b[1;33m \u001b[1;32mprint\u001b[0m \u001b[0mnengo\u001b[0m\u001b[1;33m.\u001b[0m\u001b[0mcache\u001b[0m\u001b[1;33m.\u001b[0m\u001b[0mFingerprint\u001b[0m\u001b[1;33m(\u001b[0m\u001b[0msolver1\u001b[0m\u001b[1;33m)\u001b[0m\u001b[1;33m\u001b[0m\u001b[0m\n\u001b[0m\u001b[0;32m     10\u001b[0m \u001b[1;32mprint\u001b[0m \u001b[0mnengo\u001b[0m\u001b[1;33m.\u001b[0m\u001b[0mcache\u001b[0m\u001b[1;33m.\u001b[0m\u001b[0mFingerprint\u001b[0m\u001b[1;33m(\u001b[0m\u001b[0msolver2\u001b[0m\u001b[1;33m)\u001b[0m\u001b[1;33m\u001b[0m\u001b[0m\n",
      "\u001b[1;32mc:\\users\\aaron\\ctn\\nengo\\nengo\\cache.py\u001b[0m in \u001b[0;36m__init__\u001b[1;34m(self, obj)\u001b[0m\n\u001b[0;32m     76\u001b[0m             \u001b[0mself\u001b[0m\u001b[1;33m.\u001b[0m\u001b[0mfingerprint\u001b[0m\u001b[1;33m.\u001b[0m\u001b[0mupdate\u001b[0m\u001b[1;33m(\u001b[0m\u001b[0mpickle\u001b[0m\u001b[1;33m.\u001b[0m\u001b[0mdumps\u001b[0m\u001b[1;33m(\u001b[0m\u001b[0mobj\u001b[0m\u001b[1;33m,\u001b[0m \u001b[0mpickle\u001b[0m\u001b[1;33m.\u001b[0m\u001b[0mHIGHEST_PROTOCOL\u001b[0m\u001b[1;33m)\u001b[0m\u001b[1;33m)\u001b[0m\u001b[1;33m\u001b[0m\u001b[0m\n\u001b[0;32m     77\u001b[0m         \u001b[1;32mexcept\u001b[0m \u001b[0mException\u001b[0m \u001b[1;32mas\u001b[0m \u001b[0merr\u001b[0m\u001b[1;33m:\u001b[0m\u001b[1;33m\u001b[0m\u001b[0m\n\u001b[1;32m---> 78\u001b[1;33m             \u001b[1;32mraise\u001b[0m \u001b[0mFingerprintError\u001b[0m\u001b[1;33m(\u001b[0m\u001b[0mstr\u001b[0m\u001b[1;33m(\u001b[0m\u001b[0merr\u001b[0m\u001b[1;33m)\u001b[0m\u001b[1;33m)\u001b[0m\u001b[1;33m\u001b[0m\u001b[0m\n\u001b[0m\u001b[0;32m     79\u001b[0m \u001b[1;33m\u001b[0m\u001b[0m\n\u001b[0;32m     80\u001b[0m     \u001b[1;32mdef\u001b[0m \u001b[0m__str__\u001b[0m\u001b[1;33m(\u001b[0m\u001b[0mself\u001b[0m\u001b[1;33m)\u001b[0m\u001b[1;33m:\u001b[0m\u001b[1;33m\u001b[0m\u001b[0m\n",
      "\u001b[1;31mFingerprintError\u001b[0m: Can't pickle <type 'function'>: attribute lookup __builtin__.function failed"
     ]
    }
   ],
   "source": [
    "from nengo.solvers import LstsqL2\n",
    "\n",
    "solver1 = LstsqL2()\n",
    "solver2 = LstsqL2()\n",
    "\n",
    "solver1.foo = lambda bar: None\n",
    "solver2.foo = lambda bar: None\n",
    "\n",
    "print nengo.cache.Fingerprint(solver1)\n",
    "print nengo.cache.Fingerprint(solver2)"
   ]
  },
  {
   "cell_type": "code",
   "execution_count": null,
   "metadata": {
    "collapsed": true
   },
   "outputs": [],
   "source": [
    "class"
   ]
  }
 ],
 "metadata": {
  "kernelspec": {
   "display_name": "Python 2",
   "language": "python",
   "name": "python2"
  },
  "language_info": {
   "codemirror_mode": {
    "name": "ipython",
    "version": 2
   },
   "file_extension": ".py",
   "mimetype": "text/x-python",
   "name": "python",
   "nbconvert_exporter": "python",
   "pygments_lexer": "ipython2",
   "version": "2.7.3"
  }
 },
 "nbformat": 4,
 "nbformat_minor": 0
}
