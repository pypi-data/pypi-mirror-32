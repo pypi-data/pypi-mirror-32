{
 "cells": [
  {
   "cell_type": "code",
   "execution_count": 1,
   "metadata": {
    "collapsed": true
   },
   "outputs": [],
   "source": [
    "%matplotlib inline"
   ]
  },
  {
   "cell_type": "code",
   "execution_count": 25,
   "metadata": {},
   "outputs": [
    {
     "name": "stdout",
     "output_type": "stream",
     "text": [
      "Building finished in 0:00:01.                                                   \n",
      "Simulating finished in 0:00:01.                                                 \n"
     ]
    },
    {
     "data": {
      "image/png": "[encoded data removed]",
      "text/plain": [
       "<matplotlib.figure.Figure at 0x8846048>"
      ]
     },
     "metadata": {},
     "output_type": "display_data"
    }
   ],
   "source": [
    "import nengo\n",
    "from nengo.utils.matplotlib import rasterplot\n",
    "\n",
    "import matplotlib.pyplot as plt\n",
    "\n",
    "with nengo.Network() as model:\n",
    "    stim = nengo.Node(output=1)\n",
    "    x = nengo.Ensemble(10, 1)\n",
    "    inhibit = nengo.Node(size_in=x.n_neurons, output=lambda _, a: a - a.sum())\n",
    "    \n",
    "    nengo.Connection(stim, x, synapse=None)\n",
    "    nengo.Connection(x.neurons, inhibit, synapse=0.01)\n",
    "    nengo.Connection(inhibit, x.neurons, synapse=None)\n",
    "    \n",
    "    p = nengo.Probe(x.neurons, 'spikes')\n",
    "    \n",
    "with nengo.Simulator(model) as sim:\n",
    "    sim.run(0.5)\n",
    "    \n",
    "rasterplot(sim.trange(), sim.data[p])\n",
    "plt.show()"
   ]
  },
  {
   "cell_type": "code",
   "execution_count": null,
   "metadata": {
    "collapsed": true
   },
   "outputs": [],
   "source": []
  }
 ],
 "metadata": {
  "kernelspec": {
   "display_name": "Python 2",
   "language": "python",
   "name": "python2"
  },
  "language_info": {
   "codemirror_mode": {
    "name": "ipython",
    "version": 2
   },
   "file_extension": ".py",
   "mimetype": "text/x-python",
   "name": "python",
   "nbconvert_exporter": "python",
   "pygments_lexer": "ipython2",
   "version": "2.7.13"
  }
 },
 "nbformat": 4,
 "nbformat_minor": 2
}
