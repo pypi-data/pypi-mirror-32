{
 "cells": [
  {
   "cell_type": "code",
   "execution_count": 1,
   "metadata": {
    "collapsed": true
   },
   "outputs": [],
   "source": [
    "%matplotlib inline"
   ]
  },
  {
   "cell_type": "code",
   "execution_count": 12,
   "metadata": {},
   "outputs": [
    {
     "name": "stdout",
     "output_type": "stream",
     "text": [
      "Building finished in 0:00:01.                                                                                                                                  \n",
      "[ 0.00083016]\n",
      "0.176093583644\n"
     ]
    }
   ],
   "source": [
    "import numpy as np\n",
    "import nengo\n",
    "\n",
    "n = 10\n",
    "m = 10\n",
    "b = np.random.randn(m, 1)\n",
    "\n",
    "with nengo.Network() as model:\n",
    "    x = nengo.Ensemble(n, 1, neuron_type=nengo.LIFRate())\n",
    "    conn = nengo.Connection(x, nengo.Node(size_in=1),\n",
    "                            eval_points=b,\n",
    "                            function=b,\n",
    "                            solver=nengo.solvers.Lstsq(rcond=0))\n",
    "\n",
    "with nengo.Simulator(model) as sim:\n",
    "    print(sim.data[conn].solver_info['rmses'])\n",
    "    print(np.linalg.norm(sim.data[conn].weights))"
   ]
  },
  {
   "cell_type": "code",
   "execution_count": 13,
   "metadata": {},
   "outputs": [
    {
     "data": {
      "image/png": "[encoded data removed]",
      "text/plain": [
       "<matplotlib.figure.Figure at 0xa1e184a7f0>"
      ]
     },
     "metadata": {},
     "output_type": "display_data"
    }
   ],
   "source": [
    "import matplotlib.pyplot as plt\n",
    "\n",
    "u_sample = sim.data[conn].eval_points\n",
    "u = np.linspace(np.min(u_sample), np.max(u_sample), 100)\n",
    "\n",
    "plt.figure()\n",
    "plt.plot(u, nengo.builder.ensemble.get_activities(sim.data[x], x, u[:, None]).dot(sim.data[conn].weights.T))\n",
    "plt.scatter(u_sample, conn.function)\n",
    "plt.xlabel(\"x\")\n",
    "plt.ylabel(\"y\")\n",
    "plt.show()"
   ]
  },
  {
   "cell_type": "code",
   "execution_count": null,
   "metadata": {
    "collapsed": true
   },
   "outputs": [],
   "source": []
  }
 ],
 "metadata": {
  "kernelspec": {
   "display_name": "Python 3",
   "language": "python",
   "name": "python3"
  },
  "language_info": {
   "codemirror_mode": {
    "name": "ipython",
    "version": 3
   },
   "file_extension": ".py",
   "mimetype": "text/x-python",
   "name": "python",
   "nbconvert_exporter": "python",
   "pygments_lexer": "ipython3",
   "version": "3.6.3"
  }
 },
 "nbformat": 4,
 "nbformat_minor": 2
}
