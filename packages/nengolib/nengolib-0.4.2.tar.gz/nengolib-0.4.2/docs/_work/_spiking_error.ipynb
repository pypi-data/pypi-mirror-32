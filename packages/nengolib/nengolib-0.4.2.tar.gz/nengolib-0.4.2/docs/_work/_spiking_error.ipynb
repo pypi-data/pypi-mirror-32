{
 "cells": [
  {
   "cell_type": "code",
   "execution_count": null,
   "metadata": {
    "collapsed": true
   },
   "outputs": [],
   "source": [
    "\n",
    "pylab.figure()\n",
    "pylab.hist(np.squeeze(sim.data[conn].weights) * sim.data[ens].max_rates)\n",
    "pylab.show()\n",
    "\n",
    "a = a[5:6]\n",
    "r = np.exp(-1/(a*tau))\n",
    "k = np.floor(a*t)\n",
    "v2 = np.squeeze(a * ((1 - r**2) * (1 + r**(2*a*t)) / (2*tau*(1 - r)**2) - (r**(k+1) + r**(2*a*t - k)) / (tau*(1 - r)) - a * (1 - r**(a*t))**2))\n",
    "v3 = np.squeeze(a * ((1 - r**2) * (1 + r**(2*a*t)) / (2*tau*(1 - r)**2) - (r**(a*t - 1 + 1) + r**(a*t + 1)) / (tau*(1 - r)) - a * (1 - r**(a*t))**2))\n",
    "v4 = np.squeeze(a * ((1 - r**2) * (1 + r**(2*a*t)) / (2*tau*(1 - r)**2) - (r**(a*t - 0.5 + 1) + r**(a*t + 0.5)) / (tau*(1 - r)) - a * (1 - r**(a*t))**2))\n",
    "\n",
    "pylab.figure()\n",
    "#pylab.plot(t, std)\n",
    "#pylab.vlines([0.5/300.0], 0, np.max(std))\n",
    "pylab.plot(t, v2)\n",
    "pylab.plot(t, v3)\n",
    "pylab.plot(t, v4)\n",
    "pylab.vlines([1/a[0][0]], 0, np.max(v2))\n",
    "pylab.show()\n"
   ]
  }
 ],
 "metadata": {
  "kernelspec": {
   "display_name": "Python 2",
   "language": "python",
   "name": "python2"
  },
  "language_info": {
   "codemirror_mode": {
    "name": "ipython",
    "version": 2
   },
   "file_extension": ".py",
   "mimetype": "text/x-python",
   "name": "python",
   "nbconvert_exporter": "python",
   "pygments_lexer": "ipython2",
   "version": "2.7.3"
  }
 },
 "nbformat": 4,
 "nbformat_minor": 0
}
