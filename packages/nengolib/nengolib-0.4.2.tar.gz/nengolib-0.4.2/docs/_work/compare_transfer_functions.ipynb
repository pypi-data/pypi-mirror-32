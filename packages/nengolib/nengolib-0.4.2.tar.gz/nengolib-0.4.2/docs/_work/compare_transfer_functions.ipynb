{
 "cells": [
  {
   "cell_type": "code",
   "execution_count": 21,
   "metadata": {
    "collapsed": false
   },
   "outputs": [
    {
     "name": "stdout",
     "output_type": "stream",
     "text": [
      "Populating the interactive namespace from numpy and matplotlib\n"
     ]
    }
   ],
   "source": [
    "%pylab inline\n",
    "\n",
    "import numpy as np\n",
    "import scipy.linalg as lg"
   ]
  },
  {
   "cell_type": "code",
   "execution_count": 112,
   "metadata": {
    "collapsed": false
   },
   "outputs": [
    {
     "name": "stdout",
     "output_type": "stream",
     "text": [
      "[[  9.98001000e-01   0.00000000e+00]\n",
      " [  1.00000000e-04   9.40900000e-01]]\n",
      "[[ 0.998001  0.      ]\n",
      " [ 0.0201    0.9409  ]]\n",
      "[[  9.98001000e-01   0.00000000e+00]\n",
      " [  1.00000000e-04   9.40900000e-01]]\n",
      "[[-0.5428789]]\n",
      "[[-0.54272805]]\n",
      "[[-0.54272805]]\n"
     ]
    }
   ],
   "source": [
    "A = [[-0.01, 0], [0.1, -0.3]]\n",
    "B = [0.5, 0]\n",
    "C = [0.1, 0.2]\n",
    "D = [-0.6]\n",
    "\n",
    "A, B, C, D = map(np.asarray, (A, B, C, D))\n",
    "I = np.eye(len(A))\n",
    "B = B[:, None]\n",
    "C = C[None, :]\n",
    "\n",
    "tau = 0.1\n",
    "Ap = (tau**2)*(A**2) + 2*tau*A + I\n",
    "Bp = ((tau**2)*A + 2*tau*I).dot(B)\n",
    "E = tau**2 * B\n",
    "\n",
    "print (tau*A)**2 + 2*tau*A*I + I**2\n",
    "print (tau*A)**2 + 2*tau*A + I**2\n",
    "print (tau*A + I)**2\n",
    "\n",
    "def F1(s):\n",
    "    return C.dot(lg.inv(s*I - A)).dot(B) + D\n",
    "\n",
    "def F2(s):\n",
    "    return C.dot(lg.inv((tau*s + 1)**2*I - Ap)).dot(Bp + E*s) + D\n",
    "\n",
    "def F3(s):\n",
    "    M = 2*tau*(s*I - A) + tau**2 * (s**2 * I - A**2)\n",
    "    return C.dot(lg.inv(M)).dot(Bp + E*s) + D\n",
    "\n",
    "def F4(s):\n",
    "    M = ((tau*s + 1)**2*I - Ap).dot(lg.inv(tau**2*A + 2*tau*I + tau**2*s*I))\n",
    "    return C.dot(lg.inv(M)).dot(B) + D\n",
    "\n",
    "\n",
    "print F1(1.)\n",
    "print F2(1.)\n",
    "print F3(1.)"
   ]
  },
  {
   "cell_type": "code",
   "execution_count": 113,
   "metadata": {
    "collapsed": false
   },
   "outputs": [
    {
     "name": "stdout",
     "output_type": "stream",
     "text": [
      "1.0\n",
      "2.0\n",
      "3.0\n",
      "4.0\n",
      "5.0\n",
      "6.0\n",
      "7.0\n",
      "8.0\n",
      "9.0\n",
      "10.0\n"
     ]
    },
    {
     "data": {
      "image/png": "[encoded data removed]",
      "text/plain": [
       "<matplotlib.figure.Figure at 0x155862e8>"
      ]
     },
     "metadata": {},
     "output_type": "display_data"
    },
    {
     "ename": "AssertionError",
     "evalue": "",
     "output_type": "error",
     "traceback": [
      "\u001b[0;31m---------------------------------------------------------------------------\u001b[0m",
      "\u001b[0;31mAssertionError\u001b[0m                            Traceback (most recent call last)",
      "\u001b[0;32m<ipython-input-113-32a6df43b336>\u001b[0m in \u001b[0;36m<module>\u001b[0;34m()\u001b[0m\n\u001b[1;32m     16\u001b[0m \u001b[0mpylab\u001b[0m\u001b[1;33m.\u001b[0m\u001b[0mshow\u001b[0m\u001b[1;33m(\u001b[0m\u001b[1;33m)\u001b[0m\u001b[1;33m\u001b[0m\u001b[0m\n\u001b[1;32m     17\u001b[0m \u001b[1;33m\u001b[0m\u001b[0m\n\u001b[0;32m---> 18\u001b[0;31m \u001b[1;32massert\u001b[0m \u001b[0mnp\u001b[0m\u001b[1;33m.\u001b[0m\u001b[0mallclose\u001b[0m\u001b[1;33m(\u001b[0m\u001b[0my1\u001b[0m\u001b[1;33m,\u001b[0m \u001b[0my2\u001b[0m\u001b[1;33m)\u001b[0m\u001b[1;33m\u001b[0m\u001b[0m\n\u001b[0m\u001b[1;32m     19\u001b[0m \u001b[1;32massert\u001b[0m \u001b[0mnp\u001b[0m\u001b[1;33m.\u001b[0m\u001b[0mallclose\u001b[0m\u001b[1;33m(\u001b[0m\u001b[0my2\u001b[0m\u001b[1;33m,\u001b[0m \u001b[0my3\u001b[0m\u001b[1;33m)\u001b[0m\u001b[1;33m\u001b[0m\u001b[0m\n",
      "\u001b[0;31mAssertionError\u001b[0m: "
     ]
    }
   ],
   "source": [
    "s = np.linspace(1, 10, 10)\n",
    "\n",
    "y1 = []\n",
    "y2 = []\n",
    "y3 = []\n",
    "for si in s:\n",
    "    print si\n",
    "    y1.append(F1(si).squeeze())\n",
    "    y2.append(F2(si).squeeze())\n",
    "    y3.append(F3(si).squeeze())\n",
    "    \n",
    "pylab.figure()\n",
    "pylab.plot(y1)\n",
    "pylab.plot(y2)\n",
    "pylab.plot(y3)\n",
    "pylab.show()\n",
    "\n",
    "assert np.allclose(y1, y2)\n",
    "assert np.allclose(y2, y3)"
   ]
  },
  {
   "cell_type": "code",
   "execution_count": 142,
   "metadata": {
    "collapsed": false
   },
   "outputs": [
    {
     "name": "stdout",
     "output_type": "stream",
     "text": [
      "[[ 50.        ]\n",
      " [ 16.66666667]]\n",
      "[[ 50.        ]\n",
      " [ 16.66666667]]\n",
      "[[ 0.0019  0.    ]\n",
      " [ 0.011  -0.03  ]]\n",
      "[[ 0.0019  0.    ]\n",
      " [ 0.011  -0.03  ]]\n",
      "[[ 0.0019  0.    ]\n",
      " [ 0.011  -0.03  ]]\n",
      "[[ 0.0019  0.    ]\n",
      " [ 0.011  -0.03  ]]\n",
      "[[-0.0001  0.    ]\n",
      " [ 0.031  -0.09  ]]\n",
      "[[-0.0001  0.    ]\n",
      " [ 0.031  -0.09  ]]\n"
     ]
    }
   ],
   "source": [
    "s = 0\n",
    "c = np.asarray([tau**2, 2*tau, 1])\n",
    "k = len(c) - 1\n",
    "\n",
    "pow = np.linalg.matrix_power\n",
    "\n",
    "#print sum( c[i] * (s**i * I - A ** i) for i in range(k+1) ).dot(B)\n",
    "\n",
    "Bj = []\n",
    "for j in range(k):\n",
    "    Bj.append( sum( c[i] * pow(A, i-j-1) for i in range(j+1, k+1) ).dot(B) )\n",
    "\n",
    "print lg.inv(s*I - A).dot(B)\n",
    "print lg.inv(sum(c[i] * (s**i * I - pow(A, i)) for i in range(k+1))).dot(\n",
    "    sum(Bj[j] * s**j for j in range(k)))\n",
    "\n",
    "\n",
    "Mj = []\n",
    "for j in range(k):\n",
    "    Mj.append(sum(c[i] * pow(A, i-j-1) for i in range(j+1, k+1)))\n",
    "\n",
    "print (s*I - A).dot(sum( Mj[j] * s**j for j in range(k)))\n",
    "print sum(c[i] * (s**i * I - pow(A, i)) for i in range(k+1))\n",
    "\n",
    "print sum(c[i] * (s**i * I - pow(A, i)) for i in range(k+1))\n",
    "print sum(c[i] * (s*I - A).dot(sum(pow(A, i-j-1) * s**j for j in range(i))) for i in range(k+1))\n",
    "\n",
    "i = 2\n",
    "print c[i] * (s**i * I - pow(A, i))\n",
    "print c[i] * (s*I - A).dot(sum(pow(A, i-j-1) * s**j for j in range(i)))\n",
    "\n",
    "\n"
   ]
  },
  {
   "cell_type": "code",
   "execution_count": 114,
   "metadata": {
    "collapsed": false
   },
   "outputs": [
    {
     "name": "stdout",
     "output_type": "stream",
     "text": [
      "1.0\n"
     ]
    }
   ],
   "source": [
    "print (0.0 * 0.0) ** 0"
   ]
  },
  {
   "cell_type": "code",
   "execution_count": null,
   "metadata": {
    "collapsed": true
   },
   "outputs": [],
   "source": []
  }
 ],
 "metadata": {
  "kernelspec": {
   "display_name": "Python 2",
   "language": "python",
   "name": "python2"
  },
  "language_info": {
   "codemirror_mode": {
    "name": "ipython",
    "version": 2
   },
   "file_extension": ".py",
   "mimetype": "text/x-python",
   "name": "python",
   "nbconvert_exporter": "python",
   "pygments_lexer": "ipython2",
   "version": "2.7.3"
  }
 },
 "nbformat": 4,
 "nbformat_minor": 2
}
