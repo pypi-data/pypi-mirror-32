{
 "cells": [
  {
   "cell_type": "code",
   "execution_count": 41,
   "metadata": {
    "collapsed": false
   },
   "outputs": [
    {
     "name": "stdout",
     "output_type": "stream",
     "text": [
      "Populating the interactive namespace from numpy and matplotlib\n"
     ]
    },
    {
     "name": "stderr",
     "output_type": "stream",
     "text": [
      "WARNING: pylab import has clobbered these variables: ['sys']\n",
      "`%matplotlib` prevents importing * from pylab and numpy\n"
     ]
    }
   ],
   "source": [
    "%pylab inline"
   ]
  },
  {
   "cell_type": "code",
   "execution_count": 34,
   "metadata": {
    "collapsed": false,
    "scrolled": true
   },
   "outputs": [
    {
     "name": "stdout",
     "output_type": "stream",
     "text": [
      " \n",
      "1  \n",
      "0.01 x + 1\n",
      "[ 0.19032516  0.36253849  0.51836356] [ 0.          0.19032516  0.36253849]\n",
      "[ 2.  2.  2.] [ 0.          0.19032516  0.36253849]\n",
      "[ 0.19032516  0.36253849  0.51836356] [ 0.          0.19032516  0.36253849]\n",
      "[-0.71451225 -0.45619226 -0.22245466] [ 0.          0.19032516  0.36253849]\n",
      "[ 0.19032516  0.36253849  0.51836356] [ 0.          0.19032516  0.36253849]\n",
      "[ 0.64274387  0.77190387  0.88877267] [ 0.          0.19032516  0.36253849]\n",
      "[ 0.19032516  0.36253849  0.51836356] [ 0.          0.19032516  0.36253849]\n",
      "[ 0.19032516  0.36253849  0.51836356] [ 0.          0.19032516  0.36253849]\n",
      "[ 0.19032516  0.36253849  0.51836356] [ 0.          0.19032516  0.36253849]\n",
      "[ 2.  2.  2.] [ 0.          0.19032516  0.36253849]\n"
     ]
    }
   ],
   "source": [
    "import numpy as np\n",
    "import nengo\n",
    "from nengolib.signal import apply_filter\n",
    "from nengolib.synapses import Highpass\n",
    "import nengolib\n",
    "\n",
    "u = [2., 2., 2.] # 1.0, 2.0, 0.5]\n",
    "dt = 0.001\n",
    "\n",
    "#num, den = [1.0, 0], [2.0, 1.0]\n",
    "#num, den = nengolib.synapses.Highpass(0.01, order=1).tf\n",
    "num, den = nengolib.synapses.Lowpass(0.01).tf\n",
    "print num, den\n",
    "    \n",
    "for y0 in (None, -1, 0.5, 0, 2):\n",
    "    #for sys in (nengolib.synapses.Highpass(0.01), nengolib.synapses.Highpass(0.01)):\n",
    "    for sys in (nengolib.LinearFilter(num, den), nengo.LinearFilter(num, den)):\n",
    "        #print nengolib.signal.is_exp_stable(sys)\n",
    "        print sys.filt(u, dt=dt, y0=y0), apply_filter(sys, dt=dt, u=u)"
   ]
  },
  {
   "cell_type": "code",
   "execution_count": 32,
   "metadata": {
    "collapsed": false
   },
   "outputs": [
    {
     "name": "stdout",
     "output_type": "stream",
     "text": [
      "[ 181.26924692  148.41070704  121.50840994]\n",
      "[   0.          181.26924692  148.41070704]\n"
     ]
    }
   ],
   "source": [
    "sys = nengolib.Lowpass(0.005)\n",
    "dt = 0.001\n",
    "length = 500\n",
    "\n",
    "delta = np.zeros(length)\n",
    "delta[0] = 1./dt\n",
    "\n",
    "#response = nengolib.signal.impulse(sys, dt, length)\n",
    "#print response[0:3]\n",
    "\n",
    "response = sys.filt(delta, dt=dt, y0=0)\n",
    "print response[0:3]\n",
    "\n",
    "response = apply_filter(sys, dt=dt, u=delta)\n",
    "print response[0:3]\n"
   ]
  },
  {
   "cell_type": "code",
   "execution_count": 3,
   "metadata": {
    "collapsed": false
   },
   "outputs": [
    {
     "name": "stdout",
     "output_type": "stream",
     "text": [
      "[[ 0.90483742]]\n",
      "[[ 1.]]\n",
      "[[-0.09516258]]\n",
      "[[ 1.]]\n",
      "-0.095162581964\n",
      "0.00905591700619\n"
     ]
    }
   ],
   "source": [
    "sys = nengolib.LinearFilter(num, den)  # nengolib.Alpha(0.01)\n",
    "sys = nengolib.signal.cont2discrete(sys.ss, dt=dt)\n",
    "#sys *= nengolib.signal.z\n",
    "sys = nengolib.signal.canonical(sys)\n",
    "print sys.A\n",
    "print sys.B\n",
    "print sys.C\n",
    "print sys.D\n",
    "\n",
    "print np.sum(sys.C) #+ sys.D\n",
    "print 1.0 / 110.42504026"
   ]
  },
  {
   "cell_type": "code",
   "execution_count": 9,
   "metadata": {
    "collapsed": false
   },
   "outputs": [
    {
     "name": "stdout",
     "output_type": "stream",
     "text": [
      "[ 21.01666389]\n",
      "21.0166638896\n",
      "21.0166638896 [[-3.]]\n",
      "[[ 18.01666389]] [[-2.71451225]]\n",
      "[[ 15.30215164]] [[-2.45619226]]\n",
      "[[ 12.84595938]] [[-2.22245466]]\n",
      "[[ 10.62350471]] [[-2.01096014]]\n",
      "[[ 8.61254458]] [[-1.81959198]]\n",
      "[[ 6.7929526]] [[-1.64643491]]\n",
      "[[ 5.14651769]] [[-1.48975591]]\n",
      "[[ 3.65676178]] [[-1.34798689]]\n",
      "[[ 2.30877488]] [[-1.21970898]]\n",
      "[[ 1.08906591]] [[-1.10363832]]\n",
      "[[-0.01457242]] [[-0.99861325]]\n",
      "[[-1.01318567]] [[-0.90358264]]\n",
      "[[-1.9167683]] [[-0.81759538]]\n",
      "[[-2.73436368]] [[-0.73979089]]\n",
      "[[-3.47415458]] [[-0.66939048]]\n",
      "[[-4.14354506]] [[-0.60568955]]\n",
      "[[-4.74923461]] [[-0.54805057]]\n",
      "[[-5.29728518]] [[-0.49589666]]\n",
      "[[-5.79318185]] [[-0.44870586]]\n",
      "[[-6.2418877]] [[-0.40600585]]\n",
      "[[-6.64789355]] [[-0.36736928]]\n",
      "[[-7.01526284]] [[-0.33240948]]\n",
      "[[-7.34767231]] [[-0.30077653]]\n",
      "[[-7.64844885]] [[-0.27215386]]\n",
      "[[-7.92060271]] [[-0.246255]]\n",
      "[[-8.1668577]] [[-0.22282073]]\n",
      "[[-8.38967844]] [[-0.20161654]]\n",
      "[[-8.59129497]] [[-0.18243019]]\n",
      "[[-8.77372516]] [[-0.16506966]]\n",
      "[[-8.93879482]] [[-0.14936121]]\n",
      "[[-9.08815603]] [[-0.13514761]]\n",
      "[[-9.22330363]] [[-0.12228661]]\n",
      "[[-9.34559025]] [[-0.1106495]]\n",
      "[[-9.45623975]] [[-0.10011981]]\n",
      "[[-9.55635956]] [[-0.09059215]]\n",
      "[[-9.64695171]] [[-0.08197117]]\n",
      "[[-9.72892288]] [[-0.07417058]]\n",
      "[[-9.80309346]] [[-0.06711232]]\n",
      "[[-9.87020577]] [[-0.06072573]]\n",
      "[[-9.93093151]] [[-0.05494692]]\n",
      "[[-9.98587842]] [[-0.04971803]]\n",
      "[[-10.03559645]] [[-0.04498673]]\n",
      "[[-10.08058318]] [[-0.04070568]]\n",
      "[[-10.12128886]] [[-0.03683202]]\n",
      "[[-10.15812088]] [[-0.03332699]]\n",
      "[[-10.19144786]] [[-0.03015551]]\n",
      "[[-10.22160337]] [[-0.02728583]]\n",
      "[[-10.2488892]] [[-0.02468924]]\n",
      "[[-10.27357844]] [[-0.02233975]]\n"
     ]
    }
   ],
   "source": [
    "y0 = -1.0\n",
    "U = [-1.0]\n",
    "# x = np.zeros(len(sys))\n",
    "x = np.ones(len(sys)) * (y0 - sys.D[0][0]) / np.sum(sys.C) # (y0 - sys.D[0][0]) / sys.C[0, :]\n",
    "\n",
    "print x\n",
    "x = (sys.D[0][0] - y0) / (1 - np.sum(sys.A[0, :]))\n",
    "print x\n",
    "\n",
    "for _ in range(50):\n",
    "    print x, np.dot(sys.C, x) + np.dot(sys.D, U)\n",
    "    x = np.dot(sys.A, x) + np.dot(sys.B, U)"
   ]
  },
  {
   "cell_type": "code",
   "execution_count": 9,
   "metadata": {
    "collapsed": false
   },
   "outputs": [
    {
     "name": "stdout",
     "output_type": "stream",
     "text": [
      "1.0\n"
     ]
    }
   ],
   "source": [
    "u = np.zeros(50000)\n",
    "u[0] = 1.0\n",
    "\n",
    "print np.sum((nengolib.Lowpass(0.1)).filt(u, dt=dt, y0=0))\n",
    "\n"
   ]
  },
  {
   "cell_type": "code",
   "execution_count": 34,
   "metadata": {
    "collapsed": false
   },
   "outputs": [
    {
     "name": "stdout",
     "output_type": "stream",
     "text": [
      "[ 1.01533544  1.0251112   1.03083897  1.03366508  1.03445329  1.03384957\n",
      "  1.03233263  1.03025339  1.02786555  1.02534932  1.02282969  1.02039059\n",
      "  1.0180856   1.01594626  1.01398824  1.01221611  1.01062681  1.00921229\n",
      "  1.00796141  1.00686131  1.00589845  1.0050592   1.0043304   1.00369958\n",
      "  1.00315517  1.00268656  1.00228417  1.00193939  1.00164454  1.00139287\n",
      "  1.0011784   1.00099591  1.00084086  1.0007093   1.00059781  1.00050343\n",
      "  1.00042362  1.00035621  1.00029931  1.00025134  1.00021092  1.0001769\n",
      "  1.00014828  1.00012423  1.00010402  1.00008706  1.00007283  1.00006089\n",
      "  1.00005089  1.00004252  1.00003551  1.00002964  1.00002473  1.00002063\n",
      "  1.00001721  1.00001434  1.00001195  1.00000996  1.00000829  1.00000691\n",
      "  1.00000575  1.00000478  1.00000398  1.00000331  1.00000275  1.00000229\n",
      "  1.0000019   1.00000158  1.00000131  1.00000109  1.00000091  1.00000075\n",
      "  1.00000062  1.00000052  1.00000043  1.00000036  1.0000003   1.00000025\n",
      "  1.0000002   1.00000017  1.00000014  1.00000012  1.0000001   1.00000008\n",
      "  1.00000007  1.00000005  1.00000005  1.00000004  1.00000003  1.00000003\n",
      "  1.00000002  1.00000002  1.00000001  1.00000001  1.00000001  1.00000001\n",
      "  1.00000001  1.00000001  1.          1.        ]\n"
     ]
    }
   ],
   "source": [
    "import nengo\n",
    "\n",
    "y0 = 1.0\n",
    "gain = 2\n",
    "tau = 0.005\n",
    "synapse = nengo.LinearFilter([gain], [tau**2, 2*tau, 1])\n",
    "\n",
    "u = np.ones(100) * (y0 / gain)\n",
    "y = synapse.filt(u, y0=y0)\n",
    "\n",
    "print y"
   ]
  },
  {
   "cell_type": "code",
   "execution_count": 39,
   "metadata": {
    "collapsed": false
   },
   "outputs": [
    {
     "name": "stdout",
     "output_type": "stream",
     "text": [
      "([ 0.63212056], [ 1.         -0.36787944], False)\n",
      "0.632120558829\n",
      "0.367879441171\n"
     ]
    }
   ],
   "source": [
    "print nengolib.signal.cont2discrete(nengolib.Lowpass(1.0), dt=1.0)\n",
    "\n",
    "print 1 - np.exp(-1)\n",
    "print np.exp(-1)"
   ]
  },
  {
   "cell_type": "code",
   "execution_count": 40,
   "metadata": {
    "collapsed": false
   },
   "outputs": [
    {
     "name": "stdout",
     "output_type": "stream",
     "text": [
      "([ 1.], [ 1. -1.], False)\n"
     ]
    }
   ],
   "source": [
    "print nengolib.signal.cont2discrete(~nengolib.signal.s, dt=1.0)"
   ]
  },
  {
   "cell_type": "code",
   "execution_count": 71,
   "metadata": {
    "collapsed": false
   },
   "outputs": [
    {
     "name": "stdout",
     "output_type": "stream",
     "text": [
      "1.0\n"
     ]
    },
    {
     "data": {
      "image/png": "[encoded data removed]",
      "text/plain": [
       "<matplotlib.figure.Figure at 0x1e6c6828>"
      ]
     },
     "metadata": {},
     "output_type": "display_data"
    },
    {
     "name": "stdout",
     "output_type": "stream",
     "text": [
      "1.13287157433e-12\n"
     ]
    },
    {
     "data": {
      "image/png": "[encoded data removed]",
      "text/plain": [
       "<matplotlib.figure.Figure at 0x1afdac50>"
      ]
     },
     "metadata": {},
     "output_type": "display_data"
    },
    {
     "name": "stdout",
     "output_type": "stream",
     "text": [
      "0.00999999999991\n"
     ]
    },
    {
     "data": {
      "image/png": "[encoded data removed]",
      "text/plain": [
       "<matplotlib.figure.Figure at 0x1e6a65c0>"
      ]
     },
     "metadata": {},
     "output_type": "display_data"
    }
   ],
   "source": [
    "sys = nengolib.Alpha(0.1)  # nengolib.signal.cont2discrete(nengolib.Alpha(0.1), dt=0.001)\n",
    "\n",
    "#sys, _ = nengolib.signal.L1Norm()(sys)\n",
    "\n",
    "\n",
    "u = np.ones(1000)\n",
    "#u[0] = 1000\n",
    "\n",
    "#y = sys.filt(u, dt=0.001)\n",
    "\n",
    "for sys in [sys] + nengolib.signal.decompose_states(sys):\n",
    "    y = sys.filt(u, dt=0.001)\n",
    "    print max(abs(y))\n",
    "    pylab.figure()\n",
    "    pylab.plot(y)\n",
    "    pylab.ylim(-1, 2)\n",
    "    pylab.show()"
   ]
  },
  {
   "cell_type": "code",
   "execution_count": null,
   "metadata": {
    "collapsed": true
   },
   "outputs": [],
   "source": []
  }
 ],
 "metadata": {
  "kernelspec": {
   "display_name": "Python 2",
   "language": "python",
   "name": "python2"
  },
  "language_info": {
   "codemirror_mode": {
    "name": "ipython",
    "version": 2
   },
   "file_extension": ".py",
   "mimetype": "text/x-python",
   "name": "python",
   "nbconvert_exporter": "python",
   "pygments_lexer": "ipython2",
   "version": "2.7.3"
  }
 },
 "nbformat": 4,
 "nbformat_minor": 0
}
