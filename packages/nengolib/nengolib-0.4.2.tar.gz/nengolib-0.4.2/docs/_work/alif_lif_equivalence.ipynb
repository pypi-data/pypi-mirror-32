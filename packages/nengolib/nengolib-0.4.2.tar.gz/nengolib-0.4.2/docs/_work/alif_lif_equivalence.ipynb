{
 "cells": [
  {
   "cell_type": "code",
   "execution_count": 1,
   "metadata": {},
   "outputs": [
    {
     "name": "stdout",
     "output_type": "stream",
     "text": [
      "Populating the interactive namespace from numpy and matplotlib\n"
     ]
    }
   ],
   "source": [
    "%pylab inline"
   ]
  },
  {
   "cell_type": "code",
   "execution_count": 2,
   "metadata": {
    "collapsed": true
   },
   "outputs": [],
   "source": [
    "import numpy as np\n",
    "import nengo\n",
    "import nengolib"
   ]
  },
  {
   "cell_type": "code",
   "execution_count": 3,
   "metadata": {},
   "outputs": [
    {
     "name": "stdout",
     "output_type": "stream",
     "text": [
      "\r",
      "Building finished in 0:00:01.                                                   \r\n"
     ]
    },
    {
     "name": "stderr",
     "output_type": "stream",
     "text": [
      "c:\\users\\aaron\\ctn\\nengolib\\nengolib\\signal\\system.py:197: UserWarning: y0 (None!=0) does not properly initialize the system; see Nengo issue #1124.\n",
      "  \"Nengo issue #1124.\" % y0, UserWarning)\n"
     ]
    },
    {
     "name": "stdout",
     "output_type": "stream",
     "text": [
      "\r",
      "Simulating finished in 0:00:01.                                                 \r\n"
     ]
    }
   ],
   "source": [
    "# The adaptation term is just a lowpass filtered version of the spikes\n",
    "\n",
    "ens_seed = 0\n",
    "dt = 0.001\n",
    "t = 0.5\n",
    "\n",
    "with nengo.Network() as model:\n",
    "    u = nengo.Node(output=lambda t: np.sin(2*np.pi*t))\n",
    "    x = nengo.Ensemble(10, 1, neuron_type=nengo.AdaptiveLIF(), seed=ens_seed)\n",
    "\n",
    "    nengo.Connection(u, x, synapse=None)\n",
    "\n",
    "    recurrent_synapse = (x.neuron_type.inc_n * nengolib.signal.cont2discrete(\n",
    "        nengo.Lowpass(x.neuron_type.tau_n), dt=dt, method='euler'))\n",
    "\n",
    "    p_actual = nengo.Probe(x.neurons, 'adaptation', synapse=~nengolib.signal.z)\n",
    "    p_expected = nengo.Probe(x.neurons, 'spikes', synapse=recurrent_synapse)\n",
    "    \n",
    "with nengo.Simulator(model, dt=dt) as sim:\n",
    "    sim.run(t)\n",
    "\n",
    "assert np.allclose(sim.data[p_actual], sim.data[p_expected])"
   ]
  },
  {
   "cell_type": "code",
   "execution_count": 4,
   "metadata": {},
   "outputs": [],
   "source": [
    "# Since the terms are identical, we can simply feed\n",
    "# these filtered spikes back to cancel out the adaptation term!\n",
    "\n",
    "def install_tuning_curves(ens):\n",
    "    \"\"\"Use ens.seed to set ens.{max_rates, intercepts, gain, bias}.\"\"\"\n",
    "    rng = np.random.RandomState(ens.seed)\n",
    "    ens.max_rates = ens.max_rates.sample(ens.n_neurons, rng=rng)\n",
    "    ens.intercepts = ens.intercepts.sample(ens.n_neurons, rng=rng)\n",
    "    ens.gain, ens.bias = ens.neuron_type.gain_bias(\n",
    "        ens.max_rates, ens.intercepts)\n",
    "\n",
    "def go(neuron_type, ens_seed=0, dt=0.001, t=0.01):\n",
    "    with nengo.Network() as model:\n",
    "        u = nengo.Node(output=lambda t: np.sin(2*np.pi*5*t))\n",
    "        x = nengo.Ensemble(500, 1, neuron_type=neuron_type, seed=ens_seed)\n",
    "        install_tuning_curves(x)        \n",
    "\n",
    "        nengo.Connection(u, x, synapse=None)\n",
    "        if isinstance(neuron_type, nengo.AdaptiveLIFRate):\n",
    "            recurrent_synapse = (x.neuron_type.inc_n * nengolib.signal.cont2discrete(\n",
    "                nengo.Lowpass(x.neuron_type.tau_n), dt=dt, method='euler'))\n",
    "            nengo.Connection(x.neurons, x.neurons, transform=1/x.gain, synapse=recurrent_synapse)\n",
    "\n",
    "        p_x = nengo.Probe(x, synapse=None)\n",
    "\n",
    "    with nengo.Simulator(model, dt=dt) as sim:\n",
    "        sim.run(t)\n",
    "        \n",
    "    return sim.data[p_x]"
   ]
  },
  {
   "cell_type": "code",
   "execution_count": 5,
   "metadata": {},
   "outputs": [
    {
     "name": "stdout",
     "output_type": "stream",
     "text": [
      "Building finished in 0:00:01.                                                   \n",
      "Simulating finished in 0:00:01.                                                 \n",
      "Building finished in 0:00:01.                                                   \n",
      "Simulating finished in 0:00:01.                                                 \n"
     ]
    }
   ],
   "source": [
    "runs = (  # Note: These will have the same gains/biases\n",
    "    go(nengo.AdaptiveLIF(tau_n=0.5, inc_n=0.1)),\n",
    "    go(nengo.LIF()),\n",
    ")"
   ]
  },
  {
   "cell_type": "code",
   "execution_count": 6,
   "metadata": {},
   "outputs": [],
   "source": [
    "assert np.allclose(runs[0], runs[1])"
   ]
  },
  {
   "cell_type": "code",
   "execution_count": 7,
   "metadata": {
    "collapsed": true
   },
   "outputs": [],
   "source": [
    "# Conversely, adding this connection to a LIF population will effectively\n",
    "# convert it into an aLIF population! (not shown because it is \"obvious\")"
   ]
  },
  {
   "cell_type": "code",
   "execution_count": null,
   "metadata": {
    "collapsed": true
   },
   "outputs": [],
   "source": []
  }
 ],
 "metadata": {
  "kernelspec": {
   "display_name": "Python 2",
   "language": "python",
   "name": "python2"
  },
  "language_info": {
   "codemirror_mode": {
    "name": "ipython",
    "version": 2
   },
   "file_extension": ".py",
   "mimetype": "text/x-python",
   "name": "python",
   "nbconvert_exporter": "python",
   "pygments_lexer": "ipython2",
   "version": "2.7.14"
  }
 },
 "nbformat": 4,
 "nbformat_minor": 2
}
