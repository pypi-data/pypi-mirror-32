{
 "cells": [
  {
   "cell_type": "code",
   "execution_count": 1,
   "metadata": {
    "collapsed": false
   },
   "outputs": [
    {
     "name": "stdout",
     "output_type": "stream",
     "text": [
      "Populating the interactive namespace from numpy and matplotlib\n"
     ]
    }
   ],
   "source": [
    "%pylab inline\n",
    "import seaborn as sns"
   ]
  },
  {
   "cell_type": "code",
   "execution_count": 2,
   "metadata": {
    "collapsed": false
   },
   "outputs": [
    {
     "name": "stdout",
     "output_type": "stream",
     "text": [
      "c:\\users\\aaron\\ctn\\nengolib\\nengolib\\__init__.pyc\n"
     ]
    }
   ],
   "source": [
    "import numpy as np\n",
    "import pylab\n",
    "\n",
    "import nengolib\n",
    "print nengolib.__file__"
   ]
  },
  {
   "cell_type": "code",
   "execution_count": 3,
   "metadata": {
    "collapsed": false
   },
   "outputs": [
    {
     "name": "stdout",
     "output_type": "stream",
     "text": [
      "(A=[[-20. -100.]\n",
      " [  1.   0.]], B=[[ 1.]\n",
      " [ 0.]], C=[[ 1.  0.]\n",
      " [ 0.  1.]], D=[[0]\n",
      " [0]], analog=True)\n"
     ]
    }
   ],
   "source": [
    "sys = nengolib.Alpha(0.1)\n",
    "\n",
    "A, B, C, D = sys.ss\n",
    "\n",
    "C = np.eye(len(A))\n",
    "D = np.asarray([[0], [0]])\n",
    "\n",
    "X = nengolib.signal.LinearSystem((A, B, C, D))\n",
    "print X"
   ]
  },
  {
   "cell_type": "code",
   "execution_count": 4,
   "metadata": {
    "collapsed": false,
    "scrolled": true
   },
   "outputs": [
    {
     "name": "stdout",
     "output_type": "stream",
     "text": [
      "[  4.96679133e-05   1.47685314e-04   2.43747218e-04   3.37882837e-04]\n",
      "[[  0.00000000e+00   0.00000000e+00]\n",
      " [  9.90049834e-04   4.96679133e-07]\n",
      " [  9.70347513e-04   1.47685314e-06]\n",
      " [  9.50939254e-04   2.43747218e-06]]\n",
      "[ 0.00099005  0.00097035  0.00095094  0.00093182]\n",
      "[  4.96679133e-07   1.47685314e-06   2.43747218e-06   3.37882837e-06]\n"
     ]
    },
    {
     "name": "stderr",
     "output_type": "stream",
     "text": [
      "c:\\users\\aaron\\ctn\\nengolib\\nengolib\\signal\\system.py:542: UserWarning: Filtering with non-SISO systems is an experimental feature that may not behave as expected.\n",
      "  \"expected.\", UserWarning)\n"
     ]
    }
   ],
   "source": [
    "u = [1., 0, 0, 0]\n",
    "\n",
    "print sys.filt(u)\n",
    "print X.filt(u)\n",
    "\n",
    "for sub in sys:\n",
    "    print sub.filt(u)"
   ]
  },
  {
   "cell_type": "code",
   "execution_count": 5,
   "metadata": {
    "collapsed": false
   },
   "outputs": [],
   "source": [
    "assert nengolib.signal.system._is_ccf(A, B, C, D)\n",
    "assert not X.has_passthrough"
   ]
  },
  {
   "cell_type": "code",
   "execution_count": 6,
   "metadata": {
    "collapsed": false
   },
   "outputs": [
    {
     "name": "stdout",
     "output_type": "stream",
     "text": [
      "[ 0.  0.  0.  0.]\n",
      "[  9.90049834e-04   1.98009967e-03   4.96679133e-07   9.93358267e-07]\n",
      "[  1.96039735e-03   3.92079469e-03   1.97353227e-06   3.94706454e-06]\n",
      "[  2.91133660e-03   5.82267320e-03   4.41100445e-06   8.82200890e-06]\n",
      "[  3.84315776e-03   7.68631551e-03   7.78983282e-06   1.55796656e-05]\n"
     ]
    }
   ],
   "source": [
    "hs = nengolib.synapses.HeteroSynapse(X, dt=0.001, elementwise=False)\n",
    "print hs(0, np.asarray([1, 2]))\n",
    "print hs(0, np.asarray([1, 2]))\n",
    "print hs(0, np.asarray([1, 2]))\n",
    "print hs(0, np.asarray([1, 2]))\n",
    "print hs(0, np.asarray([1, 2]))"
   ]
  },
  {
   "cell_type": "code",
   "execution_count": 7,
   "metadata": {
    "collapsed": false
   },
   "outputs": [
    {
     "ename": "ValueError",
     "evalue": "shapes (2,) and (2,4,4) not aligned: 2 (dim 0) != 4 (dim 1)",
     "output_type": "error",
     "traceback": [
      "\u001b[0;31m---------------------------------------------------------------------------\u001b[0m",
      "\u001b[0;31mValueError\u001b[0m                                Traceback (most recent call last)",
      "\u001b[0;32m<ipython-input-7-619c0fcd923d>\u001b[0m in \u001b[0;36m<module>\u001b[0;34m()\u001b[0m\n\u001b[0;32m----> 1\u001b[0;31m \u001b[0mnp\u001b[0m\u001b[1;33m.\u001b[0m\u001b[0mdot\u001b[0m\u001b[1;33m(\u001b[0m\u001b[0mnp\u001b[0m\u001b[1;33m.\u001b[0m\u001b[0masarray\u001b[0m\u001b[1;33m(\u001b[0m\u001b[1;33m[\u001b[0m\u001b[1;36m1\u001b[0m\u001b[1;33m,\u001b[0m \u001b[1;36m1\u001b[0m\u001b[1;33m]\u001b[0m\u001b[1;33m)\u001b[0m\u001b[1;33m,\u001b[0m \u001b[0mnp\u001b[0m\u001b[1;33m.\u001b[0m\u001b[0mones\u001b[0m\u001b[1;33m(\u001b[0m\u001b[1;33m(\u001b[0m\u001b[1;36m2\u001b[0m\u001b[1;33m,\u001b[0m \u001b[1;36m4\u001b[0m\u001b[1;33m,\u001b[0m \u001b[1;36m4\u001b[0m\u001b[1;33m)\u001b[0m\u001b[1;33m)\u001b[0m\u001b[1;33m)\u001b[0m\u001b[1;33m\u001b[0m\u001b[0m\n\u001b[0m",
      "\u001b[0;31mValueError\u001b[0m: shapes (2,) and (2,4,4) not aligned: 2 (dim 0) != 4 (dim 1)"
     ]
    }
   ],
   "source": [
    "np.dot(np.asarray([1, 1]), np.ones((2, 4, 4)))"
   ]
  },
  {
   "cell_type": "code",
   "execution_count": null,
   "metadata": {
    "collapsed": false
   },
   "outputs": [],
   "source": [
    "sys.filt(np.ones((1000, 2, 2, 2))).shape"
   ]
  },
  {
   "cell_type": "code",
   "execution_count": null,
   "metadata": {
    "collapsed": true
   },
   "outputs": [],
   "source": []
  }
 ],
 "metadata": {
  "kernelspec": {
   "display_name": "Python 2",
   "language": "python",
   "name": "python2"
  },
  "language_info": {
   "codemirror_mode": {
    "name": "ipython",
    "version": 2
   },
   "file_extension": ".py",
   "mimetype": "text/x-python",
   "name": "python",
   "nbconvert_exporter": "python",
   "pygments_lexer": "ipython2",
   "version": "2.7.3"
  }
 },
 "nbformat": 4,
 "nbformat_minor": 2
}
