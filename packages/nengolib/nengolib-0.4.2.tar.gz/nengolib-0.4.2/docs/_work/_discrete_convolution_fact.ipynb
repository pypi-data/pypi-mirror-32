{
 "cells": [
  {
   "cell_type": "code",
   "execution_count": 64,
   "metadata": {
    "collapsed": false
   },
   "outputs": [
    {
     "name": "stdout",
     "output_type": "stream",
     "text": [
      "Populating the interactive namespace from numpy and matplotlib\n"
     ]
    }
   ],
   "source": [
    "%pylab inline\n",
    "import numpy as np\n",
    "import pylab"
   ]
  },
  {
   "cell_type": "code",
   "execution_count": 54,
   "metadata": {
    "collapsed": false
   },
   "outputs": [
    {
     "name": "stdout",
     "output_type": "stream",
     "text": [
      "[  1.00000000e+00   5.00000000e-01   8.33333333e-02   6.93889390e-18]\n"
     ]
    }
   ],
   "source": [
    "def transform(c, dtype=np.float64):\n",
    "    c = np.asarray(c, dtype=dtype)\n",
    "    b = np.zeros(c.shape, dtype=dtype)\n",
    "    b[0] = 1. / c[0]\n",
    "    for i in range(1, len(c)):\n",
    "        for j in range(i):\n",
    "            b[i] -= b[j] * c[i - j] / c[0]\n",
    "    return b\n",
    "\n",
    "c = np.asarray(np.random.rand(5))\n",
    "assert np.allclose(transform(transform(c)), c)\n",
    "\n",
    "print transform([1, -.5, 1./6, -1./24])\n",
    "#  [1., .5, 0.08333333333333333, 0.]"
   ]
  },
  {
   "cell_type": "code",
   "execution_count": 81,
   "metadata": {
    "collapsed": false
   },
   "outputs": [
    {
     "data": {
      "image/png": "[encoded data removed]",
      "text/plain": [
       "<matplotlib.figure.Figure at 0x4031748>"
      ]
     },
     "metadata": {},
     "output_type": "display_data"
    }
   ],
   "source": [
    "pylab.figure()\n",
    "pylab.plot(transform([1, -.5, 1./6, -1./24, 1, 0, 0, 0, 0, 0, 0, 0, 0, 0, 0, 0, 0, 0, 0, 0, 0, 0, 0, 0]))\n",
    "pylab.show()"
   ]
  },
  {
   "cell_type": "code",
   "execution_count": 121,
   "metadata": {
    "collapsed": false
   },
   "outputs": [
    {
     "name": "stdout",
     "output_type": "stream",
     "text": [
      "[  1.00000000e+00   0.00000000e+00   0.00000000e+00   0.00000000e+00\n",
      "   0.00000000e+00   0.00000000e+00   0.00000000e+00   0.00000000e+00\n",
      "   0.00000000e+00   0.00000000e+00   1.00000000e-10   1.00000000e-11\n",
      "   0.00000000e+00   0.00000000e+00   0.00000000e+00   0.00000000e+00\n",
      "   0.00000000e+00   0.00000000e+00   0.00000000e+00]\n"
     ]
    }
   ],
   "source": [
    "import nengolib\n",
    "\n",
    "order = 10\n",
    "tau = 0.1\n",
    "dt = 0.001\n",
    "\n",
    "v = np.zeros(order)\n",
    "v[0] = 1.0\n",
    "v[1] = tau\n",
    "v[2] = tau**2\n",
    "D1 = np.asarray(v)\n",
    "D2 = transform(D1)\n",
    "\n",
    "print np.polymul(D1, D2)\n",
    "\n",
    "#H = nengolib.signal.LinearSystem((1.0, D1))\n",
    "#Hinv = nengolib.signal.LinearSystem((1.0, D2))"
   ]
  },
  {
   "cell_type": "code",
   "execution_count": 210,
   "metadata": {
    "collapsed": false
   },
   "outputs": [],
   "source": [
    "c = [1, -.5, 1./6, -1./24]\n",
    "b = transform(c)\n",
    "\n",
    "def transform_pade(c):\n",
    "    from scipy import misc\n",
    "    return np.asarray(misc.pade(c, len(c)-1)[1])[::-1] / c[0]\n",
    "\n",
    "assert np.allclose(transform_pade(c), transform(c))"
   ]
  },
  {
   "cell_type": "code",
   "execution_count": 212,
   "metadata": {
    "collapsed": false
   },
   "outputs": [],
   "source": [
    "c = [1, -.5, 1./6, -1./24]\n",
    "\n",
    "def H_transform(c):\n",
    "    from nengolib.signal import LinearSystem\n",
    "    num = np.zeros(len(c))\n",
    "    num[0] = 1.0\n",
    "    return LinearSystem((num, c), analog=False)\n",
    "\n",
    "delta = np.zeros(len(c))\n",
    "delta[0] = 1.0\n",
    "assert np.allclose(H_transform(c).filt(delta, dt=0), transform(c))"
   ]
  },
  {
   "cell_type": "code",
   "execution_count": 208,
   "metadata": {
    "collapsed": false
   },
   "outputs": [
    {
     "name": "stdout",
     "output_type": "stream",
     "text": [
      "[ 1.         -0.5         0.16666667 -0.04166667]\n",
      "[1, -0.5, 0.16666666666666666, -0.041666666666666664]\n"
     ]
    },
    {
     "name": "stderr",
     "output_type": "stream",
     "text": [
      "c:\\users\\aaron\\ctn\\nengolib\\nengolib\\signal\\system.py:210: UserWarning: Synapse (([ 1.  0.  0.  0.], [  1.00000000e+00   5.00000000e-01   8.33333333e-02   6.93889390e-18], False)) has extra delay due to passthrough (https://github.com/nengo/nengo/issues/938)\n",
      "  \"(https://github.com/nengo/nengo/issues/938)\" % sys)\n"
     ]
    }
   ],
   "source": [
    "print H_transform(H_transform(c).filt(u, dt=0)).filt(u, dt=0)\n",
    "print c"
   ]
  },
  {
   "cell_type": "code",
   "execution_count": 221,
   "metadata": {
    "collapsed": false
   },
   "outputs": [
    {
     "name": "stdout",
     "output_type": "stream",
     "text": [
      "[0.1938325211101791, 0.93214179561591359, 0.93214179561591359, 0.94975303173141779, 0.94975303173141779, 0.99332201984021806, 0.99332201984021806, 0.99468639865864661, 0.99468639865864661, 1.0283437292089279, 1.0283437292089279, 1.068138140287908, 1.068138140287908, 1.0851537834066283, 1.0851537834066283, 1.1604122063260078, 1.1604122063260078, 1.2235901667754197, 1.2235901667754197]\n",
      "[0.81585112293219486, 0.82073600916974077, 0.82073600916974077, 0.85146393508534268, 0.85146393508534268, 0.85506420625787094, 0.85506420625787094, 0.86313374092909778, 0.86313374092909778, 0.89387627078281762, 0.89387627078281762, 0.89427061405695119, 0.89427061405695119, 0.93329404738784127, 0.93329404738784127, 0.93537705062386989, 0.93537705062386989, 0.99396397656608892, 0.99396397656608892]\n"
     ]
    }
   ],
   "source": [
    "p = np.asarray(np.random.rand(20))\n",
    "print sorted(abs(np.roots(p)))\n",
    "print sorted(abs(1.0 / np.roots(transform(p))))\n"
   ]
  },
  {
   "cell_type": "code",
   "execution_count": null,
   "metadata": {
    "collapsed": true
   },
   "outputs": [],
   "source": []
  }
 ],
 "metadata": {
  "kernelspec": {
   "display_name": "Python 2",
   "language": "python",
   "name": "python2"
  },
  "language_info": {
   "codemirror_mode": {
    "name": "ipython",
    "version": 2
   },
   "file_extension": ".py",
   "mimetype": "text/x-python",
   "name": "python",
   "nbconvert_exporter": "python",
   "pygments_lexer": "ipython2",
   "version": "2.7.3"
  }
 },
 "nbformat": 4,
 "nbformat_minor": 0
}
