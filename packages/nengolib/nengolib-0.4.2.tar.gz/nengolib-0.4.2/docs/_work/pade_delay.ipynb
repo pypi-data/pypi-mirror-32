{
 "cells": [
  {
   "cell_type": "code",
   "execution_count": 48,
   "metadata": {
    "collapsed": false
   },
   "outputs": [
    {
     "name": "stdout",
     "output_type": "stream",
     "text": [
      "    8           7             6             5             4\n",
      "90 x - 7.2e+04 x + 2.772e+07 x - 6.653e+09 x + 1.081e+12 x\n",
      "              3             2\n",
      " - 1.211e+14 x + 9.081e+15 x - 4.151e+17 x + 8.822e+18\n",
      "--------------------------------------------\n",
      "   9       8            7             6             5             4\n",
      "1 x + 810 x + 3.24e+05 x + 8.316e+07 x + 1.497e+10 x + 1.946e+12 x\n",
      "              3             2\n",
      " + 1.816e+14 x + 1.168e+16 x + 4.67e+17 x + 8.822e+18\n",
      "0.1 [  2.59459200e+16   1.38378240e+15   3.45945600e+13   5.32224000e+11\n",
      "   5.54400000e+09   4.03200000e+07   2.01600000e+05   6.40000000e+02]\n",
      "[ 1.         -0.88888889  0.77777778 -0.66666667  0.55555556 -0.44444444\n",
      "  0.33333333 -0.22222222  0.11111111]\n",
      "    8           7             6             5             4\n",
      "90 x - 7.2e+04 x + 2.772e+07 x - 6.653e+09 x + 1.081e+12 x\n",
      "              3             2\n",
      " - 1.211e+14 x + 9.081e+15 x - 4.151e+17 x + 8.822e+18\n",
      "(poly1d([  1.02022162e-17,  -8.16177294e-15,   3.14228257e-12,\n",
      "        -7.54147816e-10,   1.22549020e-07,  -1.37254902e-05,\n",
      "         1.02941177e-03,  -4.70588236e-02,   1.00000000e+00]), poly1d([  1.13357956e-19,   9.18199443e-17,   3.67279777e-14,\n",
      "         9.42684763e-12,   1.69683257e-09,   2.20588235e-07,\n",
      "         2.05882353e-05,   1.32352941e-03,   5.29411764e-02,\n",
      "         1.00000000e+00]))\n",
      "(poly1d([  9.00000000e+01,  -7.20000000e+04,   2.77200000e+07,\n",
      "        -6.65280000e+09,   1.08108000e+12,  -1.21080960e+14,\n",
      "         9.08107200e+15,  -4.15134720e+17,   8.82161280e+18]), poly1d([  1.00000000e+00,   8.10000000e+02,   3.24000000e+05,\n",
      "         8.31600000e+07,   1.49688000e+10,   1.94594400e+12,\n",
      "         1.81621440e+14,   1.16756640e+16,   4.67026560e+17,\n",
      "         8.82161280e+18]))\n",
      "(poly1d([  9.00000000e+01,  -7.20000000e+04,   2.77200000e+07,\n",
      "        -6.65280000e+09,   1.08108000e+12,  -1.21080960e+14,\n",
      "         9.08107200e+15,  -4.15134720e+17,   8.82161280e+18]), poly1d([  1.00000000e+00,   8.10000000e+02,   3.24000000e+05,\n",
      "         8.31600000e+07,   1.49688000e+10,   1.94594400e+12,\n",
      "         1.81621440e+14,   1.16756640e+16,   4.67026560e+17,\n",
      "         8.82161280e+18]))\n",
      "True\n",
      "True\n"
     ]
    }
   ],
   "source": [
    "from nengolib.synapses import PadeDelay\n",
    "from nengolib.signal import sys_equal, LinearSystem\n",
    "import numpy as np\n",
    "\n",
    "from scipy.misc import factorial\n",
    "\n",
    "def _proper_delay(q, c):\n",
    "    \"\"\"Analytically derived state-space when p = q - 1.\n",
    "    We use this because it is numerically stable for high m\n",
    "    and doesn't have a passthrough.\n",
    "    \"\"\"\n",
    "    j = np.arange(1, q+1)\n",
    "    u = (q + j - 1) * (q - j + 1) / (c * j)\n",
    "    \n",
    "    A = np.zeros((q, q))\n",
    "    B = np.zeros((q, 1))\n",
    "    C = np.zeros((1, q))\n",
    "    D = np.zeros((1,))\n",
    "\n",
    "    A[0, :] = B[0, 0] = -u[0]\n",
    "    A[1:, :-1][np.diag_indices(q-1)] = u[1:]\n",
    "    C[0, :] = - j / float(q) * (-1) ** (q - j)\n",
    "    return LinearSystem((A, B, C, D), analog=True)\n",
    "\n",
    "\n",
    "q = 9\n",
    "c = 0.1\n",
    "sys1 = PadeDelay(q-1, q, c=c)\n",
    "sys2 = _proper_delay(q, c=c)\n",
    "\n",
    "\n",
    "print sys1.num / sys1.den[q]\n",
    "print \"--------------------------------------------\"\n",
    "print sys1.den / sys1.den[q]\n",
    "\n",
    "print c, d\n",
    "\n",
    "i = np.arange(q)\n",
    "d = q * factorial(2*q - 1 - i) / (factorial(i) * factorial(q - i)) * c ** (i - q)\n",
    "c = d * (-1) ** i * (q - i) / q\n",
    "\n",
    "print c/d\n",
    "print sys2.num\n",
    "\n",
    "sys3 = LinearSystem((c[::-1], np.append([1.0], d[::-1])))\n",
    "\n",
    "print sys1.tf\n",
    "print sys2.tf\n",
    "print sys3.tf\n",
    "\n",
    "print sys1 == sys2\n",
    "print sys1 == sys3\n"
   ]
  },
  {
   "cell_type": "code",
   "execution_count": null,
   "metadata": {
    "collapsed": true
   },
   "outputs": [],
   "source": []
  }
 ],
 "metadata": {
  "kernelspec": {
   "display_name": "Python 2",
   "language": "python",
   "name": "python2"
  },
  "language_info": {
   "codemirror_mode": {
    "name": "ipython",
    "version": 2
   },
   "file_extension": ".py",
   "mimetype": "text/x-python",
   "name": "python",
   "nbconvert_exporter": "python",
   "pygments_lexer": "ipython2",
   "version": "2.7.3"
  }
 },
 "nbformat": 4,
 "nbformat_minor": 0
}
