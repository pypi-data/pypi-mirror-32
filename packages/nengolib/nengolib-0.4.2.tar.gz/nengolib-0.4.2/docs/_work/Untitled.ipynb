{
 "cells": [
  {
   "cell_type": "code",
   "execution_count": 1,
   "metadata": {},
   "outputs": [
    {
     "name": "stdout",
     "output_type": "stream",
     "text": [
      "Populating the interactive namespace from numpy and matplotlib\n"
     ]
    }
   ],
   "source": [
    "%pylab inline\n",
    "\n",
    "import seaborn as sns"
   ]
  },
  {
   "cell_type": "code",
   "execution_count": 57,
   "metadata": {},
   "outputs": [
    {
     "data": {
      "text/plain": [
       "(2, 7, 1)"
      ]
     },
     "execution_count": 57,
     "metadata": {},
     "output_type": "execute_result"
    }
   ],
   "source": [
    "nengo.version.version_info"
   ]
  },
  {
   "cell_type": "code",
   "execution_count": 55,
   "metadata": {},
   "outputs": [
    {
     "name": "stdout",
     "output_type": "stream",
     "text": [
      "(150L,)\n"
     ]
    }
   ],
   "source": [
    "import nengo\n",
    "import numpy as np\n",
    "\n",
    "I =-.5\n",
    "epsilon=.2\n",
    "gamma=6.0\n",
    "beta=0.1\n",
    "\n",
    "tau=.6\n",
    "syn = 0.05\n",
    "\n",
    "def install_tuning_curves(ens):\n",
    "    \"\"\"Use ens.seed to set ens.{max_rates, intercepts, gain, bias}.\"\"\"\n",
    "    rng = np.random.RandomState(ens.seed)\n",
    "    ens.max_rates = ens.max_rates.sample(ens.n_neurons, rng=rng)\n",
    "    ens.intercepts = ens.intercepts.sample(ens.n_neurons, rng=rng)\n",
    "    ens.gain, ens.bias = ens.neuron_type.gain_bias(\n",
    "        ens.max_rates, ens.intercepts)\n",
    "\n",
    "model = nengo.Network(label='Relaxation Oscillator')\n",
    "with model:\n",
    "    inp = nengo.Node(I)\n",
    "    oscillator = nengo.Ensemble(n_neurons= 150,\n",
    "                                dimensions=2,\n",
    "                                radius=4) #nengo.LIFRate(tau_rc=0.02, tau_ref=0.002))\n",
    "\n",
    "    install_tuning_curves(oscillator)\n",
    "    print(oscillator.neuron_type.rates(np.ones((1,)), oscillator.gain, oscillator.bias).shape)\n",
    "    \n",
    "     # osc to osc connection\n",
    "    def feedback(x):\n",
    "        x,y = x\n",
    "        dx =  3 * x - x**3 + 2 - y\n",
    "        dy = epsilon * (gamma * (1 + np.tanh(x / beta)) - y)\n",
    "        return [tau*dx+x,tau*dy+y]\n",
    "    nengo.Connection(oscillator, oscillator, function=feedback, synapse=syn)\n",
    "    # inp to osc connection\n",
    "    nengo.Connection(inp,oscillator[0], transform = tau)\n",
    "    \n",
    "    p_osc = nengo.Probe(oscillator, synapse=0.01)"
   ]
  },
  {
   "cell_type": "code",
   "execution_count": 17,
   "metadata": {},
   "outputs": [
    {
     "name": "stdout",
     "output_type": "stream",
     "text": [
      "Building finished in 0:00:01.                                                   \n",
      "Simulating finished in 0:00:01.                                                 \n"
     ]
    }
   ],
   "source": [
    "with nengo.Simulator(model) as sim:\n",
    "    sim.run(1.0)\n"
   ]
  },
  {
   "cell_type": "code",
   "execution_count": 18,
   "metadata": {},
   "outputs": [
    {
     "data": {
      "image/png": "[encoded data removed]",
      "text/plain": [
       "<matplotlib.figure.Figure at 0x1eb58518>"
      ]
     },
     "metadata": {},
     "output_type": "display_data"
    }
   ],
   "source": [
    "pylab.figure()\n",
    "pylab.scatter(*sim.data[p_osc].T)\n",
    "pylab.show()"
   ]
  },
  {
   "cell_type": "code",
   "execution_count": null,
   "metadata": {
    "collapsed": true
   },
   "outputs": [],
   "source": []
  }
 ],
 "metadata": {
  "kernelspec": {
   "display_name": "Python 2",
   "language": "python",
   "name": "python2"
  },
  "language_info": {
   "codemirror_mode": {
    "name": "ipython",
    "version": 2
   },
   "file_extension": ".py",
   "mimetype": "text/x-python",
   "name": "python",
   "nbconvert_exporter": "python",
   "pygments_lexer": "ipython2",
   "version": "2.7.14"
  }
 },
 "nbformat": 4,
 "nbformat_minor": 2
}
