{
 "cells": [
  {
   "cell_type": "code",
   "execution_count": 44,
   "metadata": {
    "collapsed": false
   },
   "outputs": [
    {
     "name": "stdout",
     "output_type": "stream",
     "text": [
      "Populating the interactive namespace from numpy and matplotlib\n"
     ]
    }
   ],
   "source": [
    "%pylab inline\n",
    "from scipy.linalg import expm\n",
    "from numpy.linalg import matrix_power\n",
    "\n",
    "dt = 0.001\n",
    "a = 2\n",
    "A = 1000*(np.random.random(size=(5,5)) - 0.5)\n",
    "\n",
    "dA = expm(A*dt)\n",
    "rA = expm(a*A*dt)\n",
    "I = np.eye(len(A))"
   ]
  },
  {
   "cell_type": "code",
   "execution_count": 45,
   "metadata": {
    "collapsed": false
   },
   "outputs": [
    {
     "name": "stdout",
     "output_type": "stream",
     "text": [
      "[[ 123.49629372  -40.23193442 -387.50288575  107.01891614 -222.58919401]\n",
      " [-484.81691582 -119.6272386  -271.72443691  171.31179949  474.60460188]\n",
      " [-152.71437241   97.92640668  327.57007425   71.48823654 -178.49997935]\n",
      " [-141.37432224  453.39403218 -450.42443004 -462.32002347 -193.38781054]\n",
      " [-499.67352685 -357.10538889 -163.78771529  451.64502522   -6.71104356]]\n",
      "[[ 1.22469959 -0.0132272  -0.49120485  0.03689876 -0.21267401]\n",
      " [-0.59994321  0.84008104 -0.26978199  0.18860018  0.50712833]\n",
      " [-0.18581645  0.15306804  1.40793264  0.03791963 -0.16498341]\n",
      " [-0.16184596  0.3321301  -0.44808874  0.62427621 -0.00853408]\n",
      " [-0.4656881  -0.25197442 -0.1332898   0.3077958   0.95809715]]\n",
      "[[ 1.69216643 -0.03665544 -1.27777989 -0.01835622 -0.39020626]\n",
      " [-1.45530899  0.60723315 -0.46388325  0.39990282  1.08239946]\n",
      " [-0.51032482  0.40072272  2.03725251  0.04829167 -0.27353581]\n",
      " [-0.41127198  0.42206019 -0.91957561  0.42677055  0.26327612]\n",
      " [-0.8903802  -0.36510931 -0.15656106  0.41728784  0.90857038]]\n"
     ]
    }
   ],
   "source": [
    "print A\n",
    "print dA\n",
    "print rA"
   ]
  },
  {
   "cell_type": "code",
   "execution_count": 46,
   "metadata": {
    "collapsed": false
   },
   "outputs": [
    {
     "name": "stdout",
     "output_type": "stream",
     "text": [
      "[[ 2.22469959 -0.0132272  -0.49120485  0.03689876 -0.21267401]\n",
      " [-0.59994321  1.84008104 -0.26978199  0.18860018  0.50712833]\n",
      " [-0.18581645  0.15306804  2.40793264  0.03791963 -0.16498341]\n",
      " [-0.16184596  0.3321301  -0.44808874  1.62427621 -0.00853408]\n",
      " [-0.4656881  -0.25197442 -0.1332898   0.3077958   1.95809715]]\n"
     ]
    }
   ],
   "source": [
    "print dA + (a - 1)*I"
   ]
  },
  {
   "cell_type": "code",
   "execution_count": 48,
   "metadata": {
    "collapsed": false
   },
   "outputs": [
    {
     "name": "stdout",
     "output_type": "stream",
     "text": [
      "[[ 1.6181087  -0.56654246 -0.79983324  0.10308074 -0.72135474]\n",
      " [-0.69598825  1.37674832 -0.26130813  0.5905548   0.63287055]\n",
      " [-0.71971863 -0.22953163  1.94465583 -0.48620304 -0.33916592]\n",
      " [ 0.04714907  0.59551618 -0.49147696  0.71260799  0.30913056]\n",
      " [-0.64173336  0.54760652 -0.27952578 -0.00815905  1.43518643]]\n"
     ]
    }
   ],
   "source": [
    "print dA + dt*(a - 1)*np.dot(dA, A.T)"
   ]
  },
  {
   "cell_type": "code",
   "execution_count": null,
   "metadata": {
    "collapsed": true
   },
   "outputs": [],
   "source": []
  }
 ],
 "metadata": {
  "kernelspec": {
   "display_name": "Python 2",
   "language": "python",
   "name": "python2"
  },
  "language_info": {
   "codemirror_mode": {
    "name": "ipython",
    "version": 2
   },
   "file_extension": ".py",
   "mimetype": "text/x-python",
   "name": "python",
   "nbconvert_exporter": "python",
   "pygments_lexer": "ipython2",
   "version": "2.7.3"
  }
 },
 "nbformat": 4,
 "nbformat_minor": 0
}
