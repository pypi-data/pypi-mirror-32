{
 "cells": [
  {
   "cell_type": "code",
   "execution_count": 1,
   "metadata": {
    "collapsed": false
   },
   "outputs": [
    {
     "name": "stdout",
     "output_type": "stream",
     "text": [
      "Populating the interactive namespace from numpy and matplotlib\n",
      "1.99999999588\n",
      "Simulation finished in 0:00:03.                                                 \n"
     ]
    },
    {
     "name": "stderr",
     "output_type": "stream",
     "text": [
      "c:\\users\\aaron\\appdata\\local\\enthought\\canopy\\user\\lib\\site-packages\\scipy\\signal\\filter_design.py:1057: BadCoefficients: Badly conditioned filter coefficients (numerator): the results may be meaningless\n",
      "  \"results may be meaningless\", BadCoefficients)\n"
     ]
    },
    {
     "data": {
      "image/png": "[encoded data removed]",
      "text/plain": [
       "<matplotlib.figure.Figure at 0x164dccf8>"
      ]
     },
     "metadata": {},
     "output_type": "display_data"
    }
   ],
   "source": [
    "%pylab inline\n",
    "\n",
    "import numpy as np\n",
    "import nengo\n",
    "import nengolib\n",
    "\n",
    "print nengolib.signal.cont2discrete(2*nengolib.Lowpass(5.0), dt=100).gain\n",
    "\n",
    "with nengo.Network() as model:\n",
    "    stim = nengo.Node(output=[2])\n",
    "    p = nengo.Probe(stim, synapse=5.0)\n",
    "    \n",
    "sim = nengo.Simulator(model)\n",
    "sim.run(100)\n",
    "\n",
    "#print sim.data[p]\n",
    "\n",
    "pylab.figure()\n",
    "pylab.plot(sim.trange(), sim.data[p])\n",
    "pylab.show()"
   ]
  },
  {
   "cell_type": "code",
   "execution_count": 24,
   "metadata": {
    "collapsed": false
   },
   "outputs": [
    {
     "name": "stdout",
     "output_type": "stream",
     "text": [
      "(array([[ 2.]]), array([[  1.93150984e-09]]))\n"
     ]
    }
   ],
   "source": [
    "import warnings\n",
    "\n",
    "import numpy as np\n",
    "from numpy.linalg import cond\n",
    "from scipy.linalg import solve_lyapunov, eig, inv\n",
    "from scipy.optimize import fminbound\n",
    "\n",
    "#from nengolib.signal.reduction import hankel\n",
    "from nengolib.signal.discrete import impulse, cont2discrete\n",
    "from nengolib.signal.system import LinearSystem\n",
    "\n",
    "\n",
    "def _state_impulse(A, x0, k, delay=0):\n",
    "    \"\"\"Computes the states for discrete feedback A starting from x0.\"\"\"\n",
    "    x = np.zeros((k, len(A)))\n",
    "    x[delay, :] = np.squeeze(x0)\n",
    "    for i in range(delay+1, k):\n",
    "        x[i, :] = np.dot(A, x[i-1, :])  # note: doesn't assume canonical form\n",
    "    return x\n",
    "\n",
    "\n",
    "def l1_norm(sys, rtol=1e-6, max_length=2**18):\n",
    "    \"\"\"Returns the L1-norm of a linear system within a relative tolerance.\n",
    "\n",
    "    The L1-norm of a (BIBO stable) linear system is the integral of the\n",
    "    absolute value of its impulse response. For unstable systems this will be\n",
    "    infinite. The L1-norm is important because it bounds the worst-case\n",
    "    output of the system for arbitrary inputs within [-1, 1]. In fact,\n",
    "    this worst-case output is achieved by reversing the input which alternates\n",
    "    between -1 and 1 during the intervals where the impulse response is\n",
    "    negative or positive, respectively (in the limit as T -> infinity).\n",
    "\n",
    "    Algorithm adapted from [1]_ following the methods of [2]_. This works by\n",
    "    iteratively refining lower and upper bounds using progressively longer\n",
    "    simulations and smaller timesteps. The lower bound is given by the\n",
    "    absolute values of the discretized response. The upper bound is given by\n",
    "    refining the time-step intervals where zero-crossings may have occurred.\n",
    "\n",
    "    References:\n",
    "        [1] http://www.mathworks.com/matlabcentral/fileexchange/41587-system-l1-norm/content/l1norm.m  # noqa: E501\n",
    "            J.F. Whidborne (April 28, 1995).\n",
    "\n",
    "        [2] Rutland, Neil K., and Paul G. Lane. \"Computing the 1-norm of the\n",
    "            impulse response of linear time-invariant systems.\"\n",
    "            Systems & control letters 26.3 (1995): 211-221.\n",
    "    \"\"\"\n",
    "    sys = LinearSystem(sys)\n",
    "    if not sys.analog:\n",
    "        raise ValueError(\"system (%s) must be analog\" % sys)\n",
    "\n",
    "    # Setup state-space system and check stability/conditioning\n",
    "    A, B, C, D = sys.ss\n",
    "    alpha = np.max(eig(A)[0].real)  # eq (28)\n",
    "    if alpha > 0:\n",
    "        raise ValueError(\"system (%s) has unstable eigenvalue: %s\" % (\n",
    "            sys, alpha))\n",
    "\n",
    "    # Compute a suitable lower-bound for the L1-norm\n",
    "    # using the steady state response, which is equivalent to the\n",
    "    # L1-norm without an absolute value (i.e. just an integral)\n",
    "    G0 = np.dot(-C, np.dot(inv(A), B))\n",
    "\n",
    "    # Compute a suitable upper-bound for the L1-norm\n",
    "    # Note this should be tighter than 2*sum(abs(hankel(sys)))\n",
    "    def _normtail(sig, A, x, C):\n",
    "        # observability gramiam when A perturbed by sig\n",
    "        W = solve_lyapunov(A.T + sig*np.eye(len(A)), -C.T.dot(C))\n",
    "        return np.sqrt(x.dot(W).dot(x.T) / 2 / sig)  # eq (39)\n",
    "\n",
    "    xtol = -alpha * 1e-4\n",
    "    _, fopt, _, _ = fminbound(\n",
    "        _normtail, 0, -alpha, (A, B.T, C), xtol=xtol, full_output=True)\n",
    "\n",
    "    # Setup parameters for iterative optimization\n",
    "    L, U = abs(G0), fopt\n",
    "    N = 2**4\n",
    "    T = -1 / alpha\n",
    "\n",
    "    while N <= max_length and .5 * (U - L) / L >= rtol:  # eq (25)\n",
    "\n",
    "        # Step 1. Improve the lower bound by simulating more.\n",
    "        dt = T / N\n",
    "        dsys = cont2discrete(sys, dt=dt)\n",
    "        Phi = dsys.A\n",
    "\n",
    "        y = impulse(dsys, dt=None, length=N)\n",
    "        abs_y = abs(y[1:])\n",
    "        L_impulse = np.sum(abs_y)\n",
    "\n",
    "        # bound the missing response from t > T from below\n",
    "        L_tail = abs(G0 - np.sum(y))  # eq (33)\n",
    "        L = max(L, L_impulse + L_tail)\n",
    "\n",
    "        # Step 2. Improve the upper bound using refined interval method.\n",
    "        x = _state_impulse(Phi, x0=B, k=N, delay=0)  # eq (38)\n",
    "        abs_e = np.squeeze(abs(C.dot(x.T)))\n",
    "        x = x[:-1]\n",
    "\n",
    "        # find intervals that could have zero-crossings and adjust their\n",
    "        # upper bounds (the lower bound is exact for the other intervals)\n",
    "        CTC = C.T.dot(C)\n",
    "        W = solve_lyapunov(A.T, Phi.T.dot(CTC).dot(Phi) - CTC)  # eq (36)\n",
    "        AWA = A.T.dot(W.dot(A))\n",
    "        thresh = np.squeeze(  # eq (41)\n",
    "            np.sqrt(dt * np.sum(x.dot(AWA) * x, axis=1)))\n",
    "        cross = np.maximum(abs_e[:-1], abs_e[1:]) <= thresh  # eq (20)\n",
    "        abs_y[cross] = np.sqrt(  # eq (22, 37)\n",
    "           dt * np.sum(x[cross].dot(W) * x[cross], axis=1))\n",
    "\n",
    "        # bound the missing response from t > T from above\n",
    "        _, U_tail, _, _ = fminbound(\n",
    "            _normtail, 0, -alpha, (A, x[-1], C), xtol=xtol, full_output=True)\n",
    "        U_impulse = np.sum(abs_y)\n",
    "        U = max(min(U, U_impulse + U_tail), L)\n",
    "\n",
    "        N *= 2\n",
    "        if U_impulse - L_impulse <  U_tail - L_tail:  # eq (26)\n",
    "            T *= 2\n",
    "\n",
    "    return (U + L) / 2, .5 * (U - L) / L\n",
    "    \n",
    "\n",
    "from nengolib.synapses.analog import Alpha, Lowpass, Bandpass, PadeDelay\n",
    "\n",
    "sys = Lowpass(0.1) + Lowpass(0.2)  # Bandpass(50, 5)\n",
    "print l1_norm(sys)"
   ]
  },
  {
   "cell_type": "code",
   "execution_count": 25,
   "metadata": {
    "collapsed": false
   },
   "outputs": [
    {
     "name": "stdout",
     "output_type": "stream",
     "text": [
      "1.99999245668 1.99999245668 [[ 2.]] [[  7.54332379e-06]]\n"
     ]
    },
    {
     "data": {
      "image/png": "[encoded data removed]",
      "text/plain": [
       "<matplotlib.figure.Figure at 0x3954978>"
      ]
     },
     "metadata": {},
     "output_type": "display_data"
    },
    {
     "data": {
      "image/png": "[encoded data removed]",
      "text/plain": [
       "<matplotlib.figure.Figure at 0x3954da0>"
      ]
     },
     "metadata": {},
     "output_type": "display_data"
    },
    {
     "data": {
      "image/png": "[encoded data removed]",
      "text/plain": [
       "<matplotlib.figure.Figure at 0x1f51b4a8>"
      ]
     },
     "metadata": {},
     "output_type": "display_data"
    },
    {
     "name": "stdout",
     "output_type": "stream",
     "text": [
      "[  1.47421865e-06   1.99997052e-02]\n"
     ]
    }
   ],
   "source": [
    "import nengolib\n",
    "\n",
    "#sys = Lowpass(0.01) - 1.5 * Lowpass(0.2)\n",
    "dt = .00461638170137\n",
    "N = 512    \n",
    "dsys = nengolib.signal.cont2discrete(sys, dt=dt)\n",
    "A, B, C, D = sys.ss\n",
    "Phi, Gamma = dsys.A, dsys.B\n",
    "y = impulse(dsys, dt=None, length=N)\n",
    "nu_l_k = abs(y[1:])\n",
    "sum_nu_l_k = sum(nu_l_k)\n",
    "G0 = np.dot(-C, np.dot(inv(A), B))\n",
    "print sum_nu_l_k, np.sum(y), G0, abs(G0 - np.sum(y)) \n",
    "\n",
    "\n",
    "pylab.figure()\n",
    "pylab.plot(nengolib.signal.impulse(sys, dt=dt, length=N))\n",
    "pylab.show()\n",
    "\n",
    "pylab.figure()\n",
    "pylab.plot(np.dot(_state_impulse(Phi, Gamma, N), C.T) / dt)\n",
    "pylab.show()\n",
    "\n",
    "pylab.figure()\n",
    "pylab.plot(_state_impulse(Phi, Gamma, N) / dt)\n",
    "pylab.show()\n",
    "\n",
    "print np.sum(_state_impulse(Phi, Gamma, N), axis=0)"
   ]
  },
  {
   "cell_type": "code",
   "execution_count": null,
   "metadata": {
    "collapsed": false
   },
   "outputs": [],
   "source": [
    "print np.maximum([2, 0, 4], [1, 2, 3]) <= np.array([4, 1, 5])"
   ]
  },
  {
   "cell_type": "code",
   "execution_count": null,
   "metadata": {
    "collapsed": true
   },
   "outputs": [],
   "source": []
  }
 ],
 "metadata": {
  "kernelspec": {
   "display_name": "Python 2",
   "language": "python",
   "name": "python2"
  },
  "language_info": {
   "codemirror_mode": {
    "name": "ipython",
    "version": 2
   },
   "file_extension": ".py",
   "mimetype": "text/x-python",
   "name": "python",
   "nbconvert_exporter": "python",
   "pygments_lexer": "ipython2",
   "version": "2.7.3"
  }
 },
 "nbformat": 4,
 "nbformat_minor": 0
}
