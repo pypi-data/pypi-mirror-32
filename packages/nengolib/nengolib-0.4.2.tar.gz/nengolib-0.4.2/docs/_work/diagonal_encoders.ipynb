{
 "cells": [
  {
   "cell_type": "code",
   "execution_count": 1,
   "metadata": {
    "collapsed": false
   },
   "outputs": [
    {
     "name": "stdout",
     "output_type": "stream",
     "text": [
      "Populating the interactive namespace from numpy and matplotlib\n"
     ]
    }
   ],
   "source": [
    "%pylab inline\n",
    "\n",
    "import numpy as np\n",
    "import pylab"
   ]
  },
  {
   "cell_type": "code",
   "execution_count": 21,
   "metadata": {
    "collapsed": false
   },
   "outputs": [
    {
     "name": "stdout",
     "output_type": "stream",
     "text": [
      "[ 0.0182688]\n",
      "[ 0.01851424]\n"
     ]
    }
   ],
   "source": [
    "import nengo\n",
    "import random\n",
    "\n",
    "\n",
    "def nearest_diag(e):\n",
    "    # Alternatively, can just keep the sign and change each value to 1 / sqrt(2)\n",
    "    # but this doesn't handle zeros as well.\n",
    "    diags = np.asarray([[1, 1], [1, -1], [-1, 1], [-1, -1]]) / np.sqrt(2)\n",
    "    return diags[np.argmax(np.dot(diags, e))]\n",
    "\n",
    "\n",
    "def evaluate(encoders, seed=0, solver=nengo.solvers.Lstsq()):\n",
    "    \n",
    "    with nengo.Network() as model:\n",
    "        \n",
    "        x = nengo.Ensemble(len(encoders), 2, encoders=encoders, seed=seed)\n",
    "        conn = nengo.Connection(x, nengo.Node(size_in=1), function=lambda x: x[0]*x[1],\n",
    "                                solver=solver, seed=seed)\n",
    "        \n",
    "    with nengo.Simulator(model) as sim:\n",
    "        return sim.data[conn].solver_info['rmses']\n",
    "        \n",
    "        \n",
    "encoders = nengo.dists.UniformHypersphere(surface=True).sample(50, 2, rng=np.random.RandomState(0))\n",
    "print evaluate(encoders)\n",
    "\n",
    "#for i in range(len(encoders)):\n",
    "i = random.randrange(len(encoders))\n",
    "encoders[i, :] = nearest_diag(encoders[i, :])\n",
    "print evaluate(encoders)"
   ]
  },
  {
   "cell_type": "code",
   "execution_count": null,
   "metadata": {
    "collapsed": true
   },
   "outputs": [],
   "source": [
    "\n"
   ]
  }
 ],
 "metadata": {
  "kernelspec": {
   "display_name": "Python 2",
   "language": "python",
   "name": "python2"
  },
  "language_info": {
   "codemirror_mode": {
    "name": "ipython",
    "version": 2
   },
   "file_extension": ".py",
   "mimetype": "text/x-python",
   "name": "python",
   "nbconvert_exporter": "python",
   "pygments_lexer": "ipython2",
   "version": "2.7.3"
  }
 },
 "nbformat": 4,
 "nbformat_minor": 0
}
