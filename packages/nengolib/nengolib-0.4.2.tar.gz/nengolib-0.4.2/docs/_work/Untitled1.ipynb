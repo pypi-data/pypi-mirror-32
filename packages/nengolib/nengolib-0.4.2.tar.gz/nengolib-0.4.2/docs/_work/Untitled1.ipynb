{
 "cells": [
  {
   "cell_type": "code",
   "execution_count": 13,
   "metadata": {
    "collapsed": false
   },
   "outputs": [
    {
     "name": "stdout",
     "output_type": "stream",
     "text": [
      "Populating the interactive namespace from numpy and matplotlib\n"
     ]
    },
    {
     "name": "stderr",
     "output_type": "stream",
     "text": [
      "WARNING: pylab import has clobbered these variables: ['grid']\n",
      "`%matplotlib` prevents importing * from pylab and numpy\n"
     ]
    }
   ],
   "source": [
    "%pylab inline\n",
    "import pylab"
   ]
  },
  {
   "cell_type": "code",
   "execution_count": 12,
   "metadata": {
    "collapsed": false
   },
   "outputs": [
    {
     "name": "stdout",
     "output_type": "stream",
     "text": [
      "(50L, 100L, 2L)\n"
     ]
    }
   ],
   "source": [
    "import numpy as np\n",
    "\n",
    "x = np.linspace(-1, 1, 100)\n",
    "y = np.linspace(-1, 1, 50)\n",
    "grid = np.asarray(np.meshgrid(y, x)).T\n",
    "\n",
    "print grid.shape"
   ]
  },
  {
   "cell_type": "code",
   "execution_count": 21,
   "metadata": {
    "collapsed": false
   },
   "outputs": [
    {
     "data": {
      "text/plain": [
       "[array([[-1.        , -0.95918367, -0.91836735, ...,  0.91836735,\n",
       "          0.95918367,  1.        ],\n",
       "        [-1.        , -0.95918367, -0.91836735, ...,  0.91836735,\n",
       "          0.95918367,  1.        ],\n",
       "        [-1.        , -0.95918367, -0.91836735, ...,  0.91836735,\n",
       "          0.95918367,  1.        ],\n",
       "        ..., \n",
       "        [-1.        , -0.95918367, -0.91836735, ...,  0.91836735,\n",
       "          0.95918367,  1.        ],\n",
       "        [-1.        , -0.95918367, -0.91836735, ...,  0.91836735,\n",
       "          0.95918367,  1.        ],\n",
       "        [-1.        , -0.95918367, -0.91836735, ...,  0.91836735,\n",
       "          0.95918367,  1.        ]]),\n",
       " array([[-1.        , -1.        , -1.        , ..., -1.        ,\n",
       "         -1.        , -1.        ],\n",
       "        [-0.97979798, -0.97979798, -0.97979798, ..., -0.97979798,\n",
       "         -0.97979798, -0.97979798],\n",
       "        [-0.95959596, -0.95959596, -0.95959596, ..., -0.95959596,\n",
       "         -0.95959596, -0.95959596],\n",
       "        ..., \n",
       "        [ 0.95959596,  0.95959596,  0.95959596, ...,  0.95959596,\n",
       "          0.95959596,  0.95959596],\n",
       "        [ 0.97979798,  0.97979798,  0.97979798, ...,  0.97979798,\n",
       "          0.97979798,  0.97979798],\n",
       "        [ 1.        ,  1.        ,  1.        , ...,  1.        ,\n",
       "          1.        ,  1.        ]])]"
      ]
     },
     "execution_count": 21,
     "metadata": {},
     "output_type": "execute_result"
    }
   ],
   "source": [
    "np.meshgrid(y, x)"
   ]
  },
  {
   "cell_type": "code",
   "execution_count": 20,
   "metadata": {
    "collapsed": false
   },
   "outputs": [
    {
     "data": {
      "image/png": "[encoded data removed]",
      "text/plain": [
       "<matplotlib.figure.Figure at 0x9a7a978>"
      ]
     },
     "metadata": {},
     "output_type": "display_data"
    }
   ],
   "source": [
    "def mexican_hat(x, s1, s2):\n",
    "    s1, s2 = min((s1, s2)), max((s1, s2))\n",
    "    return np.exp(-x**2/(2*s1**2))/s1 - np.exp(-x**2/(2*s2**2))/s2\n",
    "\n",
    "pylab.figure()\n",
    "pylab.plot(x, mexican_hat(x, 0.1, 0.05))\n",
    "pylab.show()"
   ]
  },
  {
   "cell_type": "code",
   "execution_count": 24,
   "metadata": {
    "collapsed": false
   },
   "outputs": [
    {
     "name": "stdout",
     "output_type": "stream",
     "text": [
      "100000\n"
     ]
    }
   ],
   "source": [
    "\n",
    "x = np.linspace(-1, 1, 100)\n",
    "y = np.linspace(-1, 1, 100)\n",
    "phi = np.linspace(0, np.pi, 10)\n",
    "\n",
    "x, y, phi = (arr.flatten() for arr in np.meshgrid(y, x, phi))\n",
    "\n",
    "print len(x)"
   ]
  },
  {
   "cell_type": "code",
   "execution_count": 3,
   "metadata": {
    "collapsed": true
   },
   "outputs": [],
   "source": [
    "import nengolib\n",
    "import numpy as np"
   ]
  },
  {
   "cell_type": "code",
   "execution_count": 24,
   "metadata": {
    "collapsed": false
   },
   "outputs": [
    {
     "name": "stdout",
     "output_type": "stream",
     "text": [
      "(array([[-0.09720887, -0.46508832],\n",
      "       [ 0.23254416,  0.6004236 ]]), array([[ 0.23254416],\n",
      "       [ 0.1997882 ]]), array([[ 0.,  2.]]), array([[ 0.]]))\n",
      "[[ 1.06256644]\n",
      " [ 0.9128943 ]]\n"
     ]
    }
   ],
   "source": [
    "sys = nengolib.synapses.DoubleExp(0.5, 1.0)\n",
    "sys = nengolib.signal.cont2discrete(sys, dt=1.0)\n",
    "\n",
    "print sys.ss\n",
    "\n",
    "print 2.0 * sys.B / (1 + np.sum(sys.A[0, :]))"
   ]
  },
  {
   "cell_type": "code",
   "execution_count": 25,
   "metadata": {
    "collapsed": true
   },
   "outputs": [],
   "source": [
    "import nengo\n"
   ]
  },
  {
   "cell_type": "code",
   "execution_count": 38,
   "metadata": {
    "collapsed": false
   },
   "outputs": [
    {
     "data": {
      "text/plain": [
       "inf"
      ]
     },
     "execution_count": 38,
     "metadata": {},
     "output_type": "execute_result"
    }
   ],
   "source": [
    "nengolib.synapses.LinearFilter([1], [1, 0.0]).dcgain"
   ]
  },
  {
   "cell_type": "code",
   "execution_count": null,
   "metadata": {
    "collapsed": true
   },
   "outputs": [],
   "source": []
  }
 ],
 "metadata": {
  "kernelspec": {
   "display_name": "Python 2",
   "language": "python",
   "name": "python2"
  },
  "language_info": {
   "codemirror_mode": {
    "name": "ipython",
    "version": 2
   },
   "file_extension": ".py",
   "mimetype": "text/x-python",
   "name": "python",
   "nbconvert_exporter": "python",
   "pygments_lexer": "ipython2",
   "version": "2.7.3"
  }
 },
 "nbformat": 4,
 "nbformat_minor": 0
}
