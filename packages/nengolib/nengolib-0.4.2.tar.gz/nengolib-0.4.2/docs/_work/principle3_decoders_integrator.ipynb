{
 "cells": [
  {
   "cell_type": "code",
   "execution_count": 28,
   "metadata": {
    "collapsed": false
   },
   "outputs": [
    {
     "name": "stdout",
     "output_type": "stream",
     "text": [
      "Populating the interactive namespace from numpy and matplotlib\n"
     ]
    },
    {
     "name": "stderr",
     "output_type": "stream",
     "text": [
      "WARNING: pylab import has clobbered these variables: ['indices', 'rc', 'square', 'pylab', 'identity', 'e']\n",
      "`%matplotlib` prevents importing * from pylab and numpy\n"
     ]
    }
   ],
   "source": [
    "%pylab inline\n",
    "\n",
    "import numpy as np\n",
    "import scipy.linalg\n",
    "\n",
    "import pylab\n",
    "import seaborn as sns\n",
    "\n",
    "import nengo\n",
    "import nengolib"
   ]
  },
  {
   "cell_type": "code",
   "execution_count": 29,
   "metadata": {
    "collapsed": false
   },
   "outputs": [
    {
     "name": "stdout",
     "output_type": "stream",
     "text": [
      "\r",
      "Building finished in 0:00:01.                                                   \r\n"
     ]
    }
   ],
   "source": [
    "identity = np.poly1d([1, 0])  # f(x) = 1x + 0\n",
    "square = np.poly1d([1, 0, 0])  # f(x) = 1x^2 + 0x + 0\n",
    "quartic = np.poly1d([1, -1, -1, 0, 0])\n",
    "function = quartic\n",
    "\n",
    "n_neurons = 50\n",
    "n_eval_points = 1000\n",
    "tuning_seed = None\n",
    "solver = nengo.solvers.LstsqL2(reg=0.01)\n",
    "#neuron_type = nengo.neurons.Sigmoid()\n",
    "#neuron_type = nengo.neurons.RectifiedLinear()\n",
    "neuron_type = nengo.neurons.LIFRate()\n",
    "\n",
    "with nengo.Network() as model:\n",
    "    x = nengo.Ensemble(\n",
    "        n_neurons, 1, neuron_type=neuron_type,\n",
    "        n_eval_points=n_eval_points, seed=tuning_seed)\n",
    "    \n",
    "    conn = nengo.Connection(\n",
    "        x, nengo.Node(size_in=1),\n",
    "        function=lambda x: np.polyval(function, x), solver=solver)\n",
    "    \n",
    "with nengo.Simulator(model) as sim: pass"
   ]
  },
  {
   "cell_type": "code",
   "execution_count": 30,
   "metadata": {
    "collapsed": false
   },
   "outputs": [
    {
     "name": "stdout",
     "output_type": "stream",
     "text": [
      "[ 0.00619969]\n"
     ]
    }
   ],
   "source": [
    "eval_points = sim.data[x].eval_points\n",
    "encoders = sim.data[x].encoders\n",
    "gain = sim.data[x].gain\n",
    "bias = sim.data[x].bias\n",
    "intercepts = sim.data[x].intercepts\n",
    "\n",
    "d_alg = sim.data[conn].weights.T\n",
    "print sim.data[conn].solver_info['rmses']"
   ]
  },
  {
   "cell_type": "code",
   "execution_count": 31,
   "metadata": {
    "collapsed": false
   },
   "outputs": [],
   "source": [
    "#pylab.figure()\n",
    "#pylab.scatter(np.tile(eval_points.T, n_neurons), (gain[:, None] * encoders.dot(eval_points.T) + bias[:, None]).clip(0))\n",
    "#pylab.show()\n",
    "\n",
    "#print intercepts\n",
    "#print encoders > 0"
   ]
  },
  {
   "cell_type": "code",
   "execution_count": 32,
   "metadata": {
    "collapsed": false
   },
   "outputs": [],
   "source": [
    "indices = np.arange(n_neurons)\n",
    "e = encoders.squeeze()\n",
    "boundaries = e * intercepts\n",
    "argsort_boundaries = np.argsort(boundaries)\n",
    "sort_boundaries = boundaries[argsort_boundaries]\n",
    "X = np.concatenate(([-1], sort_boundaries, [1]))\n",
    "X1 = X[:-1]\n",
    "X2 = X[1:]\n",
    "\n",
    "N = [set(indices[e < 0])]\n",
    "for i in argsort_boundaries:\n",
    "    N.append( N[-1] | set([i]) if e[i] > 0 else N[-1] - set([i]) )\n",
    "m = len(N)"
   ]
  },
  {
   "cell_type": "code",
   "execution_count": 33,
   "metadata": {
    "collapsed": false
   },
   "outputs": [],
   "source": [
    "ON, OFF = [], []\n",
    "for i in range(n_neurons):\n",
    "    ON.append(-1. if e[i] < 0 else boundaries[i])\n",
    "    OFF.append(1. if e[i] > 0 else boundaries[i])"
   ]
  },
  {
   "cell_type": "code",
   "execution_count": 34,
   "metadata": {
    "collapsed": false
   },
   "outputs": [],
   "source": [
    "_ = '''\n",
    "reps = (X1 + X2) / 2\n",
    "volume = X2 - X1\n",
    "assert np.allclose(np.sum(volume), 2)\n",
    "\n",
    "activities = nengo.builder.ensemble.get_activities(sim.data, x, reps[:, None])\n",
    "for i, a in enumerate(activities):\n",
    "    assert set(np.where(a > 0)[0]) == N[i]\n",
    "\n",
    "A = np.zeros((m * 2, n_neurons))\n",
    "Y = np.zeros((m * 2, 1))\n",
    "#A = np.zeros((m, n_neurons))\n",
    "#Y = np.zeros((m, 1))\n",
    "\n",
    "for j in range(m):\n",
    "    for i in N[j]:\n",
    "        A[j, i] = (gain[i] * e[i]) * volume[j]\n",
    "    Y[j] = 1.0 * volume[j]  # C(reps[j]) = tau*J_f(reps[j]) + I\n",
    "\n",
    "A[len(reps):, :] = activities\n",
    "Y[len(reps):, :] = reps[:, None]  # tau*f(reps) + x\n",
    "\n",
    "d_fix, info = nengo.solvers.Lstsq()(A, Y)\n",
    "# d_fix, info = solver(A, Y)\n",
    "print info['rmses']\n",
    "'''"
   ]
  },
  {
   "cell_type": "code",
   "execution_count": 35,
   "metadata": {
    "collapsed": true
   },
   "outputs": [],
   "source": [
    "_ = '''\n",
    "for n, x1, x2 in zip(N, X1, X2):\n",
    "    for i in n:\n",
    "        if function == identity:\n",
    "            U[i] += (gain[i] * e[i] * (x2**3 - x1**3) / 3 +\n",
    "                     bias[i] * (x2**2 - x1**2) / 2)\n",
    "        elif function == square:\n",
    "            U[i] += (gain[i] * e[i] * (x2**4 - x1**4) / 4 +\n",
    "                     bias[i] * (x2**3 - x1**3) / 3)\n",
    "        else:\n",
    "            raise ValueError(\"Unsupported function\")\n",
    "        for j in n:\n",
    "            G[i, j] += (gain[i] * e[i] * gain[j] * e[j] * (x2**3 - x1**3) / 3 +\n",
    "                        gain[i] * e[i] * bias[j] * (x2**2 - x1**2) / 2 +\n",
    "                        gain[j] * e[j] * bias[i] * (x2**2 - x1**2) / 2 +\n",
    "                        bias[i] * bias[j] * (x2 - x1))\n",
    "\n",
    "for n, x1, x2 in zip(N, X1, X2):\n",
    "    for i in n:\n",
    "        U[i] += dint(curves[i] * function, x1, x2)\n",
    "        for j in n:\n",
    "            if x1 < x2:\n",
    "                G[i, j] += dint(curves[i] * curves[j], x1, x2)\n",
    "            \n",
    "for i in range(n_neurons):\n",
    "    curves[i] = np.poly1d([gain[i] * e[i], bias[i]])\n",
    "        \n",
    "for i, (li, ui) in enumerate(zip(ON, OFF)):\n",
    "    U[i] += dint(curves[i] * function, li, ui)\n",
    "    for j, (lj, uj) in enumerate(zip(ON, OFF)):\n",
    "        x1, x2 = max(li, lj), min(ui, uj)\n",
    "        if x1 < x2:\n",
    "            G[i, j] += dint(curves[i] * curves[j], x1, x2)\n",
    "'''"
   ]
  },
  {
   "cell_type": "code",
   "execution_count": 36,
   "metadata": {
    "collapsed": false
   },
   "outputs": [
    {
     "data": {
      "image/png": "[encoded data removed]",
      "text/plain": [
       "<matplotlib.figure.Figure at 0x1e649f28>"
      ]
     },
     "metadata": {},
     "output_type": "display_data"
    },
    {
     "name": "stdout",
     "output_type": "stream",
     "text": [
      "        2\n",
      "-18.49 x + 102.1 x + 182\n"
     ]
    }
   ],
   "source": [
    "G = np.zeros((n_neurons, n_neurons))\n",
    "U = np.zeros(n_neurons)\n",
    "\n",
    "# Better algorithm:\n",
    "# for each neuron, integrate over the whole active region\n",
    "# for each pair of neurons, integrate over the intersection of the active region\n",
    "\n",
    "def dint(p, x1, x2):\n",
    "    \"\"\"Computes `int_{x1}^{x2} p(x) dx` where `p` is a polynomial.\"\"\"\n",
    "    return np.diff(np.polyval(np.polyint(p), [x1, x2]))\n",
    "\n",
    "def quadratic_taylor(g, dg, ddg):\n",
    "    \"\"\"Returns a function that approximates g(ai*ei*x + bi) around x=y.\"\"\"\n",
    "    def curve(i, y):\n",
    "        j = gain[i] * e[i] * y + bias[i]\n",
    "        f = g(j)\n",
    "        df = gain[i] * e[i] * dg(j)\n",
    "        ddf = (gain[i] * e[i])**2 * ddg(j)\n",
    "        return np.poly1d([\n",
    "            ddf / 2, df - y * ddf, f - y * df + y**2 * ddf / 2])\n",
    "    return curve\n",
    "\n",
    "if neuron_type == nengo.neurons.RectifiedLinear():\n",
    "    n_segments = 1\n",
    "    def curve(i, _):\n",
    "        return np.poly1d([gain[i] * e[i], bias[i]])\n",
    "\n",
    "elif neuron_type == nengo.neurons.Sigmoid():\n",
    "    n_segments = min(n_eval_points, 50)\n",
    "    ref = x.neuron_type.tau_ref\n",
    "    g = lambda j: 1. / ref / (1 + np.exp(-j))\n",
    "    dg = lambda j: np.exp(-j) / ref / (1 + np.exp(-j))**2\n",
    "    ddg = lambda j: 2*np.exp(-2*j) / ref / (1 + np.exp(-j))**3 - dg(j)\n",
    "    curve = quadratic_taylor(g, dg, ddg)\n",
    "    \n",
    "    # Hack to fix intercepts:\n",
    "    # https://github.com/nengo/nengo/issues/1211\n",
    "    ON = -np.ones_like(ON)\n",
    "    OFF = np.ones_like(OFF)\n",
    "    \n",
    "elif neuron_type == nengo.neurons.LIFRate():\n",
    "    n_segments = min(n_eval_points, 50)\n",
    "    ref = x.neuron_type.tau_ref\n",
    "    rc = x.neuron_type.tau_rc\n",
    "    g = lambda j: 1. / (ref + rc * np.log1p(1 / (j - 1)))\n",
    "    dg = lambda j: g(j)**2 * rc / j / (j - 1)\n",
    "    ddg = lambda j: (g(j)**3 * rc * (2*rc + ref - 2*j*ref + \n",
    "                                     (rc - 2*j*rc)*np.log1p(1 / (j - 1))) /\n",
    "                     j**2 / (j - 1)**2)\n",
    "    curve = quadratic_taylor(g, dg, ddg)\n",
    "\n",
    "else:\n",
    "    raise ValueError(\"Unsupported neuron type\")\n",
    "\n",
    "def segments(x1, x2, max_segments, min_width=0.05):\n",
    "    if x1 >= x2:\n",
    "        return []\n",
    "    n_segments = max(min(max_segments, int((x2 - x1) / min_width)), 1)\n",
    "    r = np.zeros((n_segments, 3))\n",
    "    r[:, 0] = np.arange(n_segments) * (x2 - x1) / n_segments + x1\n",
    "    r[:, 2] = np.arange(1, n_segments + 1) * (x2 - x1) / n_segments + x1\n",
    "    r[:, 1] = (r[:, 0] + r[:, 2]) / 2\n",
    "    return r\n",
    "    \n",
    "i = 1\n",
    "\n",
    "x_test = np.linspace(-1, 1, 100000)\n",
    "x_test = x_test[x_test / e[i] > intercepts[i]]\n",
    "acts = nengo.builder.ensemble.get_activities(sim.data, x, x_test[:, None])\n",
    "\n",
    "pylab.figure()\n",
    "pylab.plot(x_test, acts[:, i], linestyle='--', label=\"Actual\")\n",
    "for j, (x1, xm, x2) in enumerate(segments(ON[i], OFF[i], n_segments)):\n",
    "    sl = (x_test > x1) & (x_test < x2)\n",
    "    pylab.plot(x_test[sl], np.polyval(curve(i, xm), x_test[sl]),\n",
    "               lw=2, alpha=0.8, label=\"%d\" % j)\n",
    "#pylab.legend()\n",
    "pylab.show()\n",
    "\n",
    "print curve(i, xm)\n",
    "    \n",
    "############################################################\n",
    "for i, (li, ui) in enumerate(zip(ON, OFF)):\n",
    "    for x1, xm, x2 in segments(li, ui, n_segments):\n",
    "        U[i] += dint(curve(i, xm) * function, x1, x2)\n",
    "    for j, (lj, uj) in enumerate(zip(ON, OFF)):\n",
    "        for x1, xm, x2 in segments(max(li, lj), min(ui, uj), n_segments):\n",
    "            G[i, j] += dint(curve(i, xm) * curve(j, xm), x1, x2)\n",
    "############################################################\n",
    "\n",
    "assert np.allclose(G.T, G)\n",
    "\n",
    "#if np.allclose(solver.reg, 0):\n",
    "#    d_geo = np.linalg.inv(G).dot(U)\n",
    "\n",
    "# More complicated solution adapted from:\n",
    "# https://github.com/nengo/nengo/blob/84db35b5dd673ec715c4b11a0a9afae074f1895f/nengo/utils/least_squares_solvers.py#L32\n",
    "# in order to make comparisons fair with LstsqL2(reg=reg) where reg > 0.\n",
    "# Note this is not 'perfect' though because the test set might yield different effective regularization\n",
    "# than the entire integral. There is probably no way to have a perfect comparison.\n",
    "\n",
    "# Normalize G and U to be on par with the matrices used by Nengo\n",
    "# 2 = 1 - (-1) is volume of vector space\n",
    "G *= len(eval_points) / 2\n",
    "U *= len(eval_points) / 2\n",
    "\n",
    "A_nengo = nengo.builder.ensemble.get_activities(sim.data, x, eval_points)\n",
    "max_rate = np.max(A_nengo)\n",
    "sigma = solver.reg * max_rate  \n",
    "m = len(eval_points)\n",
    "np.fill_diagonal(G, G.diagonal() + m * sigma**2)\n",
    "\n",
    "factor = scipy.linalg.cho_factor(G, overwrite_a=True)\n",
    "d_geo = scipy.linalg.cho_solve(factor, U)"
   ]
  },
  {
   "cell_type": "code",
   "execution_count": 37,
   "metadata": {
    "collapsed": false
   },
   "outputs": [],
   "source": [
    "# pylab.plot(np.dot(A, d_geo) - Y)"
   ]
  },
  {
   "cell_type": "code",
   "execution_count": 38,
   "metadata": {
    "collapsed": false
   },
   "outputs": [
    {
     "name": "stderr",
     "output_type": "stream",
     "text": [
      "c:\\users\\aaron\\appdata\\local\\enthought\\canopy\\user\\lib\\site-packages\\matplotlib\\collections.py:548: FutureWarning: elementwise comparison failed; returning scalar instead, but in the future will perform elementwise comparison\n",
      "  if self._edgecolors == 'face':\n"
     ]
    },
    {
     "data": {
      "image/png": "[encoded data removed]",
      "text/plain": [
       "<matplotlib.figure.Figure at 0x1ea779b0>"
      ]
     },
     "metadata": {},
     "output_type": "display_data"
    },
    {
     "data": {
      "image/png": "[encoded data removed]",
      "text/plain": [
       "<matplotlib.figure.Figure at 0x1f1f5ac8>"
      ]
     },
     "metadata": {},
     "output_type": "display_data"
    }
   ],
   "source": [
    "for x_test, title in ((np.sort(eval_points.squeeze()), \"Training Data\"),\n",
    "                      (np.linspace(-1, 1, 100000), \"Test Data\")):\n",
    "    y = conn.function(x_test)\n",
    "    activities = nengo.builder.ensemble.get_activities(sim.data, x, x_test[:, None])\n",
    "\n",
    "    pylab.figure()\n",
    "    pylab.title(title)\n",
    "    for d, label in ((d_alg, \"Algebraic\"),\n",
    "                     (d_geo, \"Geometric\")):\n",
    "        y_hat = np.dot(activities, d).squeeze()\n",
    "        percent_error = 100 * nengo.utils.numpy.rmse(y_hat, y) / nengo.utils.numpy.rms(y)\n",
    "        pylab.plot(x_test, y_hat - y, label=\"%s (%.2f%%)\" % (label, percent_error))\n",
    "    pylab.plot(x_test, np.zeros_like(x_test), lw=2, alpha=0.8, label=\"Ideal\")\n",
    "    pylab.scatter(X, np.zeros_like(X), facecolors='none', edgecolors=sns.color_palette()[2], alpha=0.8, s=50, lw=2, label=\"Vertices\")\n",
    "    pylab.legend(bbox_to_anchor=(1.05, 1), loc=2, borderaxespad=0.)\n",
    "    pylab.show()"
   ]
  },
  {
   "cell_type": "code",
   "execution_count": null,
   "metadata": {
    "collapsed": true
   },
   "outputs": [],
   "source": []
  }
 ],
 "metadata": {
  "kernelspec": {
   "display_name": "Python 2",
   "language": "python",
   "name": "python2"
  },
  "language_info": {
   "codemirror_mode": {
    "name": "ipython",
    "version": 2
   },
   "file_extension": ".py",
   "mimetype": "text/x-python",
   "name": "python",
   "nbconvert_exporter": "python",
   "pygments_lexer": "ipython2",
   "version": "2.7.3"
  }
 },
 "nbformat": 4,
 "nbformat_minor": 0
}
