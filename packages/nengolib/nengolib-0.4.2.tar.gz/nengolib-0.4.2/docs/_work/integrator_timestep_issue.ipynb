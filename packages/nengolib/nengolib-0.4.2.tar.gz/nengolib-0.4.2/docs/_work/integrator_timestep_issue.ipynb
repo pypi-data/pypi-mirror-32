{
 "cells": [
  {
   "cell_type": "code",
   "execution_count": 5,
   "metadata": {
    "collapsed": false
   },
   "outputs": [
    {
     "name": "stdout",
     "output_type": "stream",
     "text": [
      "Populating the interactive namespace from numpy and matplotlib\n",
      "[[ 1.]] [[ 0.05100667]]\n",
      "Simulation finished in 0:00:02.                                                 \n",
      "1.97000002861\n"
     ]
    },
    {
     "name": "stderr",
     "output_type": "stream",
     "text": [
      "WARNING: pylab import has clobbered these variables: ['seed']\n",
      "`%matplotlib` prevents importing * from pylab and numpy\n"
     ]
    }
   ],
   "source": [
    "%pylab inline\n",
    "import nengo\n",
    "import nengolib\n",
    "\n",
    "\n",
    "from nengo import LIF\n",
    "\n",
    "class PerfectLIF(LIF):\n",
    "    \"\"\"Spiking version of the leaky integrate-and-fire (LIF) neuron model.\"\"\"\n",
    "\n",
    "    def step_math(self, dt, J, spiked, voltage, refractory_time):\n",
    "        # reduce all refractory times by dt\n",
    "        refractory_time -= dt\n",
    "\n",
    "        # compute effective dt for each neuron, based on remaining time.\n",
    "        # note that refractory times that have completed midway into this\n",
    "        # timestep will be given a partial timestep, and moreover these will\n",
    "        # be subtracted to zero at the next timestep (or reset by a spike)\n",
    "        delta_t = (dt - refractory_time).clip(0, dt)\n",
    "\n",
    "        # update voltage using discretized lowpass filter\n",
    "        # since v(t) = v(0) + (J - v(0))*(1 - exp(-t/tau)) assuming\n",
    "        # J is constant over the interval [t, t + dt)\n",
    "        voltage -= (J - voltage) * np.expm1(-delta_t / self.tau_rc)\n",
    "\n",
    "        # determine which neurons spiked (set them to 1/dt, else 0)\n",
    "        spiked_mask = voltage >= 1\n",
    "        spiked[:] = spiked_mask / dt\n",
    "        spiked_v = voltage[spiked_mask]\n",
    "\n",
    "        # set v(0) = 1 and solve for t to compute the spike time\n",
    "        t_spike = dt + self.tau_rc * np.log1p(\n",
    "            -(spiked_v - 1) / (J[spiked_mask] - 1))\n",
    "\n",
    "        # set spiked voltages to zero, refractory times to tau_ref, and\n",
    "        # rectify negative voltages to a floor of min_voltage\n",
    "        voltage[voltage < self.min_voltage] = self.min_voltage\n",
    "        voltage[spiked_mask] = 0\n",
    "        refractory_time[spiked_mask] = self.tau_ref + t_spike\n",
    "\n",
    "\n",
    "T = 20.0\n",
    "dt = 0.002\n",
    "seed = 6\n",
    "\n",
    "n_neurons = 1000\n",
    "neuron_type = PerfectLIF()\n",
    "\n",
    "tau_recurrent = 0.050\n",
    "scale_input = 5 # * (0.001 / dt)\n",
    "tau_stim = 0.1\n",
    "tau_probe = 0.005\n",
    "\n",
    "A, B, C, D, = nengolib.synapses.ss2sim(\n",
    "    ~nengolib.signal.s, nengo.Lowpass(tau_recurrent), dt=dt)\n",
    "print A, B\n",
    "assert np.allclose(C, 1)\n",
    "assert np.allclose(D, 0)\n",
    "\n",
    "with nengo.Network(seed=seed) as model:\n",
    "    x = nengo.Ensemble(n_neurons, 1, neuron_type=neuron_type)\n",
    "\n",
    "    #noise = nengo.Node(output=1.0/scale_input)\n",
    "    noise = nengo.Node(output=nengo.processes.WhiteSignal(T))\n",
    "    #noise = nengo.Node(output=lambda t: np.sin(20*np.pi*t))\n",
    "    \n",
    "    \n",
    "    stim = nengo.Node(size_in=1)\n",
    "    nengo.Connection(noise, stim, synapse=tau_stim, transform=scale_input)\n",
    "    \n",
    "    nengo.Connection(stim, x, synapse=tau_recurrent, transform=B)\n",
    "    nengo.Connection(x, x, synapse=tau_recurrent, transform=A)\n",
    "    \n",
    "    p_input = nengo.Probe(stim, synapse=tau_probe)\n",
    "    p_output = nengo.Probe(x, synapse=tau_probe)\n",
    "    p_spikes = nengo.Probe(x.neurons)\n",
    "\n",
    "sim = nengo.Simulator(model, dt=dt, seed=seed)\n",
    "\n",
    "import time\n",
    "start = time.time()\n",
    "sim.run(T)\n",
    "print time.time() - start\n"
   ]
  },
  {
   "cell_type": "code",
   "execution_count": 6,
   "metadata": {
    "collapsed": false
   },
   "outputs": [
    {
     "data": {
      "image/png": "[encoded data removed]",
      "text/plain": [
       "<matplotlib.figure.Figure at 0x24852e10>"
      ]
     },
     "metadata": {},
     "output_type": "display_data"
    },
    {
     "data": {
      "image/png": "[encoded data removed]",
      "text/plain": [
       "<matplotlib.figure.Figure at 0x17b577f0>"
      ]
     },
     "metadata": {},
     "output_type": "display_data"
    }
   ],
   "source": [
    "from nengo.utils.matplotlib import rasterplot\n",
    "from nengo.utils.numpy import rmse\n",
    "\n",
    "t = (sim.trange() > 0) #& (sim.trange() < 0.6) # (sim.trange() > 1.8) & (sim.trange() < 2.0)\n",
    "\n",
    "actual = sim.data[p_output][t]\n",
    "expected = (cumsum(sim.data[p_input])*dt)[t]\n",
    "#expected = sim.data[p_input][t]\n",
    "\n",
    "figure()\n",
    "title(rmse(actual, expected))\n",
    "ylim(-1, 1)\n",
    "plot(sim.trange()[t], actual, label=\"Actual\")\n",
    "plot(sim.trange()[t], expected, label=\"Expected\")\n",
    "legend()\n",
    "show()\n",
    "\n",
    "\n",
    "figure()\n",
    "rasterplot(sim.trange()[t], sim.data[p_spikes][t][:, 0:10])\n",
    "show()"
   ]
  },
  {
   "cell_type": "code",
   "execution_count": 6,
   "metadata": {
    "collapsed": false
   },
   "outputs": [
    {
     "data": {
      "text/plain": [
       "<function nengo.utils.matplotlib.rasterplot>"
      ]
     },
     "execution_count": 6,
     "metadata": {},
     "output_type": "execute_result"
    }
   ],
   "source": [
    "nengo.utils.matplotlib.rasterplot"
   ]
  },
  {
   "cell_type": "code",
   "execution_count": 4,
   "metadata": {
    "collapsed": true
   },
   "outputs": [],
   "source": [
    "from nengo.utils.matplotlib import rasterplot"
   ]
  },
  {
   "cell_type": "code",
   "execution_count": 5,
   "metadata": {
    "collapsed": false
   },
   "outputs": [
    {
     "data": {
      "text/plain": [
       "<function nengo.utils.matplotlib.rasterplot>"
      ]
     },
     "execution_count": 5,
     "metadata": {},
     "output_type": "execute_result"
    }
   ],
   "source": [
    "nengo.utils.matplotlib.rasterplot"
   ]
  },
  {
   "cell_type": "code",
   "execution_count": null,
   "metadata": {
    "collapsed": true
   },
   "outputs": [],
   "source": []
  }
 ],
 "metadata": {
  "kernelspec": {
   "display_name": "Python 2",
   "language": "python",
   "name": "python2"
  },
  "language_info": {
   "codemirror_mode": {
    "name": "ipython",
    "version": 2
   },
   "file_extension": ".py",
   "mimetype": "text/x-python",
   "name": "python",
   "nbconvert_exporter": "python",
   "pygments_lexer": "ipython2",
   "version": "2.7.3"
  }
 },
 "nbformat": 4,
 "nbformat_minor": 0
}
