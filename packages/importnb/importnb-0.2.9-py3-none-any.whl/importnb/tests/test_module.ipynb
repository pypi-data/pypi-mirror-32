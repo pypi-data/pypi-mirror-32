{
 "cells": [
  {
   "cell_type": "code",
   "execution_count": 1,
   "metadata": {},
   "outputs": [],
   "source": [
    "    from importnb import *"
   ]
  },
  {
   "cell_type": "code",
   "execution_count": 2,
   "metadata": {},
   "outputs": [],
   "source": [
    "    try:\n",
    "        from pytest import fixture\n",
    "        from importlib import import_module\n",
    "        @fixture\n",
    "        def module(): \n",
    "            return import_module(__name__)\n",
    "    except: ..."
   ]
  },
  {
   "cell_type": "code",
   "execution_count": 2,
   "metadata": {},
   "outputs": [],
   "source": [
    "    def test_all():\n",
    "\n",
    "        assert all(\n",
    "            object in globals()\n",
    "            for object in (\n",
    "                'Notebook', 'Partial', 'reload', 'Parameterize', 'Lazy'\n",
    "            ))"
   ]
  }
 ],
 "metadata": {
  "kernelspec": {
   "display_name": "p6",
   "language": "python",
   "name": "other-env"
  },
  "language_info": {
   "codemirror_mode": {
    "name": "ipython",
    "version": 3
   },
   "file_extension": ".py",
   "mimetype": "text/x-python",
   "name": "python",
   "nbconvert_exporter": "python",
   "pygments_lexer": "ipython3",
   "version": "3.6.3"
  }
 },
 "nbformat": 4,
 "nbformat_minor": 2
}
