{
 "cells": [
  {
   "cell_type": "code",
   "execution_count": 2,
   "metadata": {},
   "outputs": [],
   "source": [
    "    try:\n",
    "        from pytest import fixture\n",
    "        from importlib import import_module\n",
    "        @fixture\n",
    "        def module(): \n",
    "            return import_module(__name__)\n",
    "    except: ..."
   ]
  },
  {
   "cell_type": "code",
   "execution_count": 1,
   "metadata": {},
   "outputs": [],
   "source": [
    "    from unittest import TestCase, expectedFailure, skipUnless\n",
    "    IPY = False\n",
    "    try:\n",
    "        from IPython import get_ipython\n",
    "        from IPython.utils.capture import capture_output\n",
    "        IPY = get_ipython and get_ipython()\n",
    "    except: \n",
    "        get_ipython = None\n",
    "    from pathlib import Path\n",
    "    \n",
    "    try:\n",
    "        from importnb import *\n",
    "        from importnb import load_ipython_extension, unload_ipython_extension\n",
    "    except:\n",
    "        # install importnb if it doesn't exist, this makes the tests work on binder.\n",
    "        __import__('subprocess').check_call(\"pip install importnb\".split())\n",
    "        from importnb import *\n",
    "\n",
    "    from functools import partial\n",
    "    Lazy = partial(Notebook, lazy=True)\n",
    "    Partial = partial(Notebook, exceptions=BaseException)\n",
    "\n",
    "    __file__ = globals().get('__file__', 'unittests.ipynb')"
   ]
  },
  {
   "cell_type": "code",
   "execution_count": 3,
   "metadata": {},
   "outputs": [],
   "source": [
    "    class NullException(BaseException): ..."
   ]
  },
  {
   "cell_type": "code",
   "execution_count": 4,
   "metadata": {},
   "outputs": [],
   "source": [
    "    class TestExtension(TestCase): \n",
    "        def setUp(Test): load_ipython_extension()\n",
    "                \n",
    "        def test_import(Test):\n",
    "            try:\n",
    "                from . import import_this\n",
    "            except:\n",
    "                import import_this\n",
    "\n",
    "            assert import_this.__file__.endswith('.ipynb')\n",
    "            assert import_this.test is 42\n",
    "            assert isinstance(import_this, __import__('types').ModuleType)\n",
    "            \n",
    "        @expectedFailure\n",
    "        def test_failure(Test):\n",
    "            try:\n",
    "                from . import failure\n",
    "            except NullException:\n",
    "                import failure\n",
    "            \n",
    "        def tearDown(Test): unload_ipython_extension()\n"
   ]
  },
  {
   "cell_type": "code",
   "execution_count": 5,
   "metadata": {},
   "outputs": [],
   "source": [
    "    class TestContext(TestCase): \n",
    "        def setUp(Test): \n",
    "            with Notebook(): \n",
    "                try:\n",
    "                    from . import import_this\n",
    "                except:\n",
    "                    import import_this\n",
    "            Test.loader = import_this\n",
    "                  \n",
    "        def test_import(Test):\n",
    "            loader = Test.loader\n",
    "            assert loader.__file__.endswith('.ipynb')\n",
    "            assert loader.test is 42\n",
    "            assert isinstance(loader, __import__('types').ModuleType)\n",
    "            \n",
    "            \n",
    "        def test_reload_with_context(Test):\n",
    "            with Notebook(): assert reload(Test.loader)"
   ]
  },
  {
   "cell_type": "code",
   "execution_count": 6,
   "metadata": {},
   "outputs": [],
   "source": [
    "    class TestPartial(TestCase): \n",
    "        def setUp(Test): \n",
    "            with Partial(stderr=True, stdout=True): \n",
    "                try:\n",
    "                    from . import failure\n",
    "                except:\n",
    "                    import failure\n",
    "            Test.failure = failure\n",
    "                  \n",
    "        def test_exception(Test):\n",
    "            assert Test.failure.a is 42\n",
    "            assert isinstance(Test.failure._exception, BaseException)\n",
    "            assert not hasattr(Test.failure, 'b')\n",
    "            \n",
    "        def test_traceback(Test):\n",
    "            from traceback import print_tb\n",
    "            from io import StringIO\n",
    "            s = StringIO()\n",
    "            print_tb(Test.failure._exception.__traceback__, file=s)\n",
    "            assert \"\"\"tests/failure.ipynb\", line 22, in <module>\\n    \"    assert False\\\\n\"\"\" in s.getvalue(), \"\"\"Traceback is not satisfied\"\"\""
   ]
  },
  {
   "cell_type": "code",
   "execution_count": 7,
   "metadata": {},
   "outputs": [],
   "source": [
    "    class TestRemote(TestCase): \n",
    "        @skipUnless(False and IPY\n",
    "             and (\n",
    "                Path(__file__).parent / 'PythonDataScienceHandbook').exists(), \n",
    "            \"\"\"requires IP\"\"\")\n",
    "        def test_imports(Test):\n",
    "            with capture_output(), Notebook():\n",
    "                try:\n",
    "                    from .PythonDataScienceHandbook.notebooks import _02_The_Basics_Of_NumPy_Arrays as tutorial\n",
    "                except:\n",
    "                    from PythonDataScienceHandbook.notebooks import _02_The_Basics_Of_NumPy_Arrays as tutorial\n",
    "            assert all(hasattr(tutorial, str) for str in ('grid', 'x', 'x1', 'x2'))"
   ]
  },
  {
   "cell_type": "code",
   "execution_count": 8,
   "metadata": {},
   "outputs": [],
   "source": [
    "    from pytest import mark"
   ]
  },
  {
   "cell_type": "markdown",
   "metadata": {},
   "source": [
    "    @mark.skipif(not IPY, reason=\"\"\"We need ipython\"\"\")\n",
    "    def test_readme():\n",
    "        get_ipython().system('jupyter nbconvert --to markdown --execute --ExecutePreprocessor.kernel_name=python ../../../readme.ipynb')\n",
    "        get_ipython().system('cd .. && ipython -m readme')"
   ]
  },
  {
   "cell_type": "code",
   "execution_count": 1,
   "metadata": {},
   "outputs": [
    {
     "name": "stderr",
     "output_type": "stream",
     "text": [
      "\n",
      "----------------------------------------------------------------------\n",
      "Ran 0 tests in 0.000s\n",
      "\n",
      "OK\n"
     ]
    }
   ],
   "source": [
    "    if __name__ == '__main__':\n",
    "        __import__('unittest').main(argv='discover'.split(), exit=False)"
   ]
  },
  {
   "cell_type": "code",
   "execution_count": 10,
   "metadata": {},
   "outputs": [
    {
     "name": "stdout",
     "output_type": "stream",
     "text": [
      "\u001b[1m============================= test session starts ==============================\u001b[0m\n",
      "platform darwin -- Python 3.5.4, pytest-3.5.1, py-1.5.3, pluggy-0.6.0 -- /Users/tonyfast/anaconda/bin/python\n",
      "cachedir: ../../../.pytest_cache\n",
      "benchmark: 3.1.1 (defaults: timer=time.perf_counter disable_gc=False min_rounds=5 min_time=0.000005 max_time=1.0 calibration_precision=10 warmup=False warmup_iterations=100000)\n",
      "rootdir: /Users/tonyfast/importnb, inifile: tox.ini\n",
      "plugins: ignore-flaky-0.1.1, forked-0.2, cov-2.5.1, benchmark-3.1.1, importnb-0.2.9\n",
      "collected 24 items                                                             \u001b[0m\n",
      "\n",
      "test_importnb.ipynb::test_single_file_with_context \u001b[32mPASSED\u001b[0m\u001b[36m                [  4%]\u001b[0m\n",
      "test_importnb.ipynb::test_from_filename \u001b[32mPASSED\u001b[0m\u001b[36m                           [  8%]\u001b[0m\n",
      "test_importnb.ipynb::test_with_doctest \u001b[32mPASSED\u001b[0m\u001b[36m                            [ 12%]\u001b[0m\n",
      "test_importnb.ipynb::test_from_filename_main \u001b[32mPASSED\u001b[0m\u001b[36m                      [ 16%]\u001b[0m\n",
      "test_importnb.ipynb::test_parameterize \u001b[32mPASSED\u001b[0m\u001b[36m                            [ 20%]\u001b[0m\n",
      "test_importnb.ipynb::test_python_file \u001b[32mPASSED\u001b[0m\u001b[36m                             [ 25%]\u001b[0m\n",
      "test_importnb.ipynb::test_single_file_with_capture \u001b[32mPASSED\u001b[0m\u001b[36m                [ 29%]\u001b[0m\n",
      "test_importnb.ipynb::test_capturer \u001b[32mPASSED\u001b[0m\u001b[36m                                [ 33%]\u001b[0m\n",
      "test_importnb.ipynb::test_single_file_with_lazy \u001b[32mPASSED\u001b[0m\u001b[36m                   [ 37%]\u001b[0m\n",
      "test_importnb.ipynb::test_single_file_without_context \u001b[33mxfail\u001b[0m\u001b[36m              [ 41%]\u001b[0m\n",
      "test_importnb.ipynb::test_single_file_relative \u001b[33mxfail\u001b[0m\u001b[36m                     [ 45%]\u001b[0m\n",
      "test_importnb.ipynb::test_single_with_extension \u001b[32mPASSED\u001b[0m\u001b[36m                   [ 50%]\u001b[0m\n",
      "test_importnb.ipynb::test_package \u001b[32mPASSED\u001b[0m\u001b[36m                                 [ 54%]\u001b[0m\n",
      "test_importnb.ipynb::test_package_failure \u001b[33mxfail\u001b[0m\u001b[36m                          [ 58%]\u001b[0m\n",
      "test_importnb.ipynb::test_package_failure_partial \u001b[32mPASSED\u001b[0m\u001b[36m                 [ 62%]\u001b[0m\n",
      "test_module.ipynb::testmod <- src/importnb/nbtest.py \u001b[31mERROR\u001b[0m\u001b[36m               [ 66%]\u001b[0m\n",
      "test_module.ipynb::test_all \u001b[32mPASSED\u001b[0m\u001b[36m                                       [ 70%]\u001b[0m\n",
      "test_unittests.ipynb::TestContext::test_import \u001b[32mPASSED\u001b[0m\u001b[36m                    [ 75%]\u001b[0m\n",
      "test_unittests.ipynb::TestContext::test_reload_with_context \u001b[32mPASSED\u001b[0m\u001b[36m       [ 79%]\u001b[0m\n",
      "test_unittests.ipynb::TestRemote::test_imports \u001b[33mSKIPPED\u001b[0m\u001b[36m                   [ 83%]\u001b[0m\n",
      "test_unittests.ipynb::TestExtension::test_failure \u001b[33mxfail\u001b[0m\u001b[36m                  [ 87%]\u001b[0m\n",
      "test_unittests.ipynb::TestExtension::test_import \u001b[32mPASSED\u001b[0m\u001b[36m                  [ 91%]\u001b[0m\n",
      "test_unittests.ipynb::TestPartial::test_exception \u001b[32mPASSED\u001b[0m\u001b[36m                 [ 95%]\u001b[0m\n",
      "test_unittests.ipynb::TestPartial::test_traceback \u001b[32mPASSED\u001b[0m\u001b[36m                 [100%]\u001b[0m\n",
      "\n",
      "==================================== ERRORS ====================================\n",
      "__________________________ ERROR at setup of testmod ___________________________\n",
      "file /Users/tonyfast/importnb/src/importnb/nbtest.py, line 36\n",
      "  def testmod(\n",
      "\u001b[31mE       fixture 'module' not found\u001b[0m\n",
      "\u001b[31m>       available fixtures: benchmark, benchmark_weave, cache, capfd, capfdbinary, caplog, capsys, capsysbinary, cov, doctest_namespace, monkeypatch, pytestconfig, record_property, record_xml_attribute, record_xml_property, recwarn, tmpdir, tmpdir_factory\u001b[0m\n",
      "\u001b[31m>       use 'pytest --fixtures [testpath]' for help on them.\u001b[0m\n",
      "\n",
      "/Users/tonyfast/importnb/src/importnb/nbtest.py:36\n",
      "\n",
      "---------- coverage: platform darwin, python 3.5.4-final-0 -----------\n",
      "Name                                                        Stmts   Miss  Cover\n",
      "-------------------------------------------------------------------------------\n",
      "/Users/tonyfast/importnb/src/importnb/__init__                  9      9     0%\n",
      "/Users/tonyfast/importnb/src/importnb/_version                  1      1     0%\n",
      "/Users/tonyfast/importnb/src/importnb/capture                  51     34    33%\n",
      "/Users/tonyfast/importnb/src/importnb/compile                  70     55    21%\n",
      "/Users/tonyfast/importnb/src/importnb/compile_ipython          37     37     0%\n",
      "/Users/tonyfast/importnb/src/importnb/compile_python           43     38    12%\n",
      "/Users/tonyfast/importnb/src/importnb/decoder                  42     21    50%\n",
      "/Users/tonyfast/importnb/src/importnb/loader                  112     51    54%\n",
      "/Users/tonyfast/importnb/src/importnb/nbtest                   41     41     0%\n",
      "/Users/tonyfast/importnb/src/importnb/parameterize             85     43    49%\n",
      "/Users/tonyfast/importnb/src/importnb/utils/__init__            0      0   100%\n",
      "/Users/tonyfast/importnb/src/importnb/utils/ipython            42     42     0%\n",
      "/Users/tonyfast/importnb/src/importnb/utils/nbdoctest          27     27     0%\n",
      "/Users/tonyfast/importnb/src/importnb/utils/pytest_plugin      25     16    36%\n",
      "/Users/tonyfast/importnb/src/importnb/utils/setup              49     49     0%\n",
      "/Users/tonyfast/importnb/src/importnb/utils/watch              17     17     0%\n",
      "failure                                                         1      0   100%\n",
      "import_this                                                     1      0   100%\n",
      "pyimport                                                        3      0   100%\n",
      "test_importnb                                                   1      0   100%\n",
      "test_module                                                     1      0   100%\n",
      "test_unittests                                                  1      0   100%\n",
      "-------------------------------------------------------------------------------\n",
      "TOTAL                                                         659    481    27%\n",
      "\n",
      "\u001b[33m=============================== warnings summary ===============================\u001b[0m\n",
      "src/importnb/tests/test_importnb.ipynb::test_package_failure_partial\n",
      "  /Users/tonyfast/importnb/src/importnb/loader.py:169: UserWarning: a_test_package.failure was partially imported with a <class 'AssertionError'>.==========.Traceback (most recent call last):\n",
      "    File \"/Users/tonyfast/importnb/src/importnb/loader.py\", line 157, in exec_module\n",
      "      super().exec_module(module)\n",
      "    File \"<frozen importlib._bootstrap_external>\", line 697, in exec_module\n",
      "    File \"<frozen importlib._bootstrap>\", line 222, in _call_with_frames_removed\n",
      "    File \"/Users/tonyfast/importnb/src/importnb/tests/a_test_package/failure.ipynb\", line 20, in <module>\n",
      "      \"assert False\\n\",\n",
      "  AssertionError\n",
      "  \n",
      "    format_exc(),\n",
      "\n",
      "src/importnb/tests/test_unittests.ipynb::TestPartial::test_exception\n",
      "  /Users/tonyfast/importnb/src/importnb/loader.py:169: UserWarning: failure was partially imported with a <class 'AssertionError'>.==========.Traceback (most recent call last):\n",
      "    File \"/Users/tonyfast/importnb/src/importnb/tests/test_unittests.ipynb\", line 120, in setUp\n",
      "      \"                    from . import failure\\n\",\n",
      "  ImportError: attempted relative import with no known parent package\n",
      "  \n",
      "  During handling of the above exception, another exception occurred:\n",
      "  \n",
      "  Traceback (most recent call last):\n",
      "    File \"/Users/tonyfast/importnb/src/importnb/loader.py\", line 157, in exec_module\n",
      "      super().exec_module(module)\n",
      "    File \"<frozen importlib._bootstrap_external>\", line 697, in exec_module\n",
      "    File \"<frozen importlib._bootstrap>\", line 222, in _call_with_frames_removed\n",
      "    File \"/Users/tonyfast/importnb/src/importnb/tests/failure.ipynb\", line 22, in <module>\n",
      "      \"    assert False\\n\",\n",
      "  AssertionError\n",
      "  \n",
      "    format_exc(),\n",
      "\n",
      "-- Docs: http://doc.pytest.org/en/latest/warnings.html\n",
      "\u001b[1m\u001b[31m===== 18 passed, 1 skipped, 4 xfailed, 2 warnings, 1 error in 3.89 seconds =====\u001b[0m\n"
     ]
    }
   ],
   "source": [
    "    if __name__ == '__main__':\n",
    "        get_ipython().system('python -m pytest ')"
   ]
  },
  {
   "cell_type": "code",
   "execution_count": null,
   "metadata": {},
   "outputs": [],
   "source": []
  }
 ],
 "metadata": {
  "kernelspec": {
   "display_name": "p6",
   "language": "python",
   "name": "other-env"
  },
  "language_info": {
   "codemirror_mode": {
    "name": "ipython",
    "version": 3
   },
   "file_extension": ".py",
   "mimetype": "text/x-python",
   "name": "python",
   "nbconvert_exporter": "python",
   "pygments_lexer": "ipython3",
   "version": "3.6.3"
  },
  "toc": {
   "colors": {
    "hover_highlight": "#DAA520",
    "running_highlight": "#FF0000",
    "selected_highlight": "#FFD700"
   },
   "moveMenuLeft": true,
   "nav_menu": {
    "height": "29px",
    "width": "252px"
   },
   "navigate_menu": true,
   "number_sections": true,
   "sideBar": true,
   "threshold": 4,
   "toc_cell": false,
   "toc_section_display": "block",
   "toc_window_display": false,
   "widenNotebook": false
  },
  "varInspector": {
   "cols": {
    "lenName": 16,
    "lenType": 16,
    "lenVar": 40
   },
   "kernels_config": {
    "python": {
     "delete_cmd_postfix": "",
     "delete_cmd_prefix": "del ",
     "library": "var_list.py",
     "varRefreshCmd": "print(var_dic_list())"
    },
    "r": {
     "delete_cmd_postfix": ") ",
     "delete_cmd_prefix": "rm(",
     "library": "var_list.r",
     "varRefreshCmd": "cat(var_dic_list()) "
    }
   },
   "types_to_exclude": [
    "module",
    "function",
    "builtin_function_or_method",
    "instance",
    "_Feature"
   ],
   "window_display": false
  }
 },
 "nbformat": 4,
 "nbformat_minor": 2
}
