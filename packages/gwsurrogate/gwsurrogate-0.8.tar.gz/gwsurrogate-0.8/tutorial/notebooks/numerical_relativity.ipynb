{
 "cells": [
  {
   "cell_type": "markdown",
   "metadata": {},
   "source": [
    "** This notebook assumes ... **\n",
    "\n",
    "1) Basic familiarity with gwsurrogate as covered in basics.ipynb \n",
    "\n",
    "2) You've downloaded a numerical relativity surrogate. To see all available surrogates, check the surrogate repository with the command \"gws.catalog.list()\""
   ]
  },
  {
   "cell_type": "code",
   "execution_count": null,
   "metadata": {
    "collapsed": true
   },
   "outputs": [],
   "source": [
    "### setup paths used throughout this notebook ###\n",
    "import sys\n",
    "path_to_gws = '/home/balzani57/Repo/GitRepos/Codes/gwsurrogate/'\n",
    "sys.path.append(path_to_gws)\n",
    "\n",
    "%matplotlib inline\n",
    "import numpy as np, matplotlib.pyplot as plt\n",
    "import gwsurrogate as gws\n",
    "import gwsurrogate.gwtools as gwtools\n",
    "\n",
    "import tqdm"
   ]
  },
  {
   "cell_type": "code",
   "execution_count": null,
   "metadata": {
    "collapsed": true,
    "scrolled": true
   },
   "outputs": [],
   "source": [
    "### load the surrogate data ###\n",
    "path_to_surrogate = path_to_gws+'surrogate_downloads/SpEC_q1_10_NoSpin_nu5thDegPoly_exclude_2_0.h5'\n",
    "spec = gws.EvaluateSurrogate(path_to_surrogate, ell_m=[(2,2), (3,3)]) # load two m>0 modes only"
   ]
  },
  {
   "cell_type": "markdown",
   "metadata": {},
   "source": [
    "# Lesson 1: Simple evaluations"
   ]
  },
  {
   "cell_type": "code",
   "execution_count": null,
   "metadata": {
    "collapsed": true
   },
   "outputs": [],
   "source": [
    "# Evaluate and plot the 2,2 mode. \n",
    "# By default, the modes are evaluated on the sphere, and negative modes are generated from \n",
    "# known relationships. So we need to set both options to false to get only the (2,2) mode.\n",
    "modes, times, hp, hc = spec(q=1.7, ell=[2], m=[2], mode_sum=False, fake_neg_modes=False)\n",
    "print('You have evaluated the (%i,%i) mode'%(modes[0][0],modes[0][1]))\n",
    "\n",
    "gwtools.plot_pretty(times, [hp, hc],fignum=1)\n",
    "plt.plot(times,gwtools.amp(hp+1j*hc),'r')\n",
    "plt.title('The (%i,%i) mode'%(modes[0][0],modes[0][1]))\n",
    "plt.xlabel('t/M ')\n",
    "plt.show()"
   ]
  },
  {
   "cell_type": "code",
   "execution_count": null,
   "metadata": {
    "collapsed": true
   },
   "outputs": [],
   "source": [
    "# generating both the (3,3) and (3,-3) modes is easy!\n",
    "modes, times, hp, hc = spec(q=1.7, ell=[3], m=[3], mode_sum=False)\n",
    "print(\"Evaluated modes =\", modes)\n",
    "\n",
    "gwtools.plot_pretty(times, [hp[:,0], hc[:,0]],fignum=2)\n",
    "plt.plot(times,gwtools.amp(hp[:,0]+1j*hc[:,0]),'r')\n",
    "plt.xlabel('t/M ')\n",
    "plt.title('The (%i,%i) mode'%(modes[0][0],modes[0][1]))\n",
    "\n",
    "gwtools.plot_pretty(times, [hp[:,1], hc[:,1]],fignum=3)\n",
    "plt.plot(times,gwtools.amp(hp[:,1]+1j*hc[:,1]),'r')\n",
    "plt.title('The (%i,%i) mode'%(modes[1][0],modes[1][1]))\n",
    "plt.xlabel('t/M ')\n",
    "plt.show()"
   ]
  },
  {
   "cell_type": "code",
   "execution_count": null,
   "metadata": {
    "collapsed": true
   },
   "outputs": [],
   "source": [
    "# Trying to evaluate a mode which doesn't exist throws a warning\n",
    "spec(q=1.7, ell=[3], m=[2], mode_sum=False, fake_neg_modes=False)"
   ]
  },
  {
   "cell_type": "markdown",
   "metadata": {},
   "source": [
    "# Lesson 2: Physical waveforms"
   ]
  },
  {
   "cell_type": "code",
   "execution_count": null,
   "metadata": {
    "collapsed": true
   },
   "outputs": [],
   "source": [
    "# load all the modes except the 2,0 mode, which is excluded by default (See http://arxiv.org/abs/1502.07758 for why)\n",
    "spec = gws.EvaluateSurrogate(path_to_surrogate)"
   ]
  },
  {
   "cell_type": "code",
   "execution_count": null,
   "metadata": {
    "collapsed": true
   },
   "outputs": [],
   "source": [
    "# Evaluate the (2,2) mode for physical input values\n",
    "M     = 115.0 # units of solar masses \n",
    "q     = 1.0\n",
    "theta = np.pi/3.0\n",
    "phi   = np.pi/3.0\n",
    "dist  = 1.0 # units of megaparsecs\n",
    "fmin  = 10.0 # units of hz\n",
    "\n",
    "# The surrogate evaluation is NOT long enough to achieve a starting frequency of 10hz\n",
    "modes,times,hp,hc = spec(M=M,q=q,dist=dist,theta=theta,phi=phi,ell=[2],m=[2],mode_sum=False,fake_neg_modes=False,f_low=fmin)"
   ]
  },
  {
   "cell_type": "code",
   "execution_count": null,
   "metadata": {
    "collapsed": true
   },
   "outputs": [],
   "source": [
    "# We'll be safer with 15 hz \n",
    "fmin = 15\n",
    "modes,times,hp,hc = spec(M=M,q=q,dist=dist,theta=theta,phi=phi,ell=[2],m=[2],mode_sum=False,fake_neg_modes=False,f_low=fmin)\n",
    "\n",
    "gwtools.plot_pretty(times, [hp, hc])\n",
    "plt.plot(times,gwtools.amp(hp+1j*hc),'r')\n",
    "plt.xlabel('t (seconds)')\n",
    "plt.title('The (%i,%i) mode'%(modes[0][0],modes[0][1]))\n",
    "plt.show()"
   ]
  },
  {
   "cell_type": "code",
   "execution_count": null,
   "metadata": {
    "collapsed": true
   },
   "outputs": [],
   "source": [
    "# Lets evaluate the (2,2) and (2,-2) at phi = theta = pi/3 on the sphere\n",
    "times,hp,hc = spec(M=M,q=q,dist=dist,theta=theta,phi=phi,ell=[2],m=[2],f_low=fmin)\n",
    "\n",
    "gwtools.plot_pretty(times, [hp, hc])\n",
    "plt.plot(times,gwtools.amp(hp+1j*hc),'r')\n",
    "plt.xlabel('t (seconds)')\n",
    "plt.show()"
   ]
  },
  {
   "cell_type": "markdown",
   "metadata": {
    "collapsed": true
   },
   "source": [
    "# Lesson 3: Linear surrogates\n",
    "\n",
    "Lessons 1 & 2 considered a nonlinear model: SpEC_q1_10_NoSpin_nu5thDegPoly_exclude_2_0.h5 prescribes a nonlinear relationship between the strain, h, and the data pieces (the amplitude and phase of each harmonic mode) that are modeled. \n",
    "\n",
    "We call a surrogate linear if $h_{\\ell m}$ if it can be expressed as a linear combination of basis functions\n",
    "\n",
    "$$h_{\\ell m} (t;q) = \\sum_{i=1}^n c_{\\ell m}^n(q) e_{\\ell m}^n(t)$$\n",
    "\n",
    "Some applications, like the RapidPE pipeline, [benefit from using a linear surrogate model](http://iopscience.iop.org/article/10.1088/1361-6382/aa7649/meta). These surrogates are also typically faster to evaluate. \n",
    "\n",
    "Here we consider two \"linearized\" (an admittedly poor modifier) versions of the surrogate SpEC_q1_10_NoSpin_nu5thDegPoly_exclude_2_0.h5. We simply show these models agree with one another, as they should"
   ]
  },
  {
   "cell_type": "code",
   "execution_count": null,
   "metadata": {
    "collapsed": true
   },
   "outputs": [],
   "source": [
    "# reload all modes of the original nonlinear surrogate model, including the (2,0)\n",
    "path_to_surrogate = path_to_gws+'surrogate_downloads/SpEC_q1_10_NoSpin_nu5thDegPoly_exclude_2_0.h5'\n",
    "sur = gws.EvaluateSurrogate(path_to_surrogate,excluded=None)"
   ]
  },
  {
   "cell_type": "markdown",
   "metadata": {},
   "source": [
    "### A Linear, fast-spline surrogate using the default gwsurrogate interface"
   ]
  },
  {
   "cell_type": "code",
   "execution_count": null,
   "metadata": {
    "collapsed": true
   },
   "outputs": [],
   "source": [
    "# load the linear, fast-spline surrogate model\n",
    "path_to_surrogate = \"/home/balzani57/Repo/GitRepos/Codes/gwsurrogate/surrogate_downloads/SpEC_q1_10_NoSpin_nu5thDegPoly_exclude_2_0_FastSplined_WithVandermonde.h5\"\n",
    "sur_lin = gws.EvaluateSurrogate(path_to_surrogate,excluded=None)"
   ]
  },
  {
   "cell_type": "code",
   "execution_count": null,
   "metadata": {
    "collapsed": true
   },
   "outputs": [],
   "source": [
    "# check the original surrogate and linear \"surrogate-of-a-surrogate\" models agree\n",
    "lm_modes, t, hreal_lin, himag_lin = sur_lin(1.2, mode_sum=False, fake_neg_modes=False)\n",
    "lm_modes, t, hreal, himag = sur(q=1.2, mode_sum=False, fake_neg_modes=False)\n",
    "\n",
    "plt.figure(1)\n",
    "plt.plot(t, hreal[:, 2], 'k', label='Original amp/phase surrogate')\n",
    "plt.plot(t, np.real(hreal_lin[:, 2]), 'r--', label='spline surrogate-of-a-surrogate')\n",
    "plt.plot(t, (1000.0)* abs(hreal[:, 2] - np.real(hreal_lin[:, 2])), 'c', label=r'$1000 \\times$ error')\n",
    "plt.legend(frameon=False, loc='upper left')\n",
    "plt.show()\n",
    "\n",
    "\n",
    "# and make sure we get the (2, 0) mode as well\n",
    "lm_modes, t, hreal, himag = sur_lin(1.0, mode_sum=False, fake_neg_modes=False)\n",
    "print(\"evaluated (ell, m) modes =\",lm_modes)\n",
    "\n",
    "plt.figure(2)\n",
    "h22 = hreal[:, 2] + 1.0j * himag[:, 2]\n",
    "plt.plot(t, h22.real, 'b',label='real part of (2,2)')\n",
    "plt.plot(t, h22.imag, 'r--',label='imaginary part of (2,2)')\n",
    "plt.plot(t, np.abs(h22), 'k',label='amplitude of (2,2)')\n",
    "plt.plot(t, hreal[:, 0], 'c', lw=2,label='real part of (2,0)')\n",
    "plt.legend(frameon=False, loc='upper left')\n",
    "plt.show()"
   ]
  },
  {
   "cell_type": "code",
   "execution_count": null,
   "metadata": {
    "collapsed": true
   },
   "outputs": [],
   "source": [
    "# now perform a more complete error analysis\n",
    "nqtest = 150\n",
    "qtest = np.linspace(1., 10., nqtest)\n",
    "\n",
    "def many_h_evals(qvals):\n",
    "    \"\"\"evalutate the original surrogate at many mass ratio values\"\"\"\n",
    "    h_evals = []\n",
    "    for i in tqdm.trange(len(qvals)):\n",
    "        q = qvals[i]\n",
    "        _, t, hreal, himag = sur(q, mode_sum=False, fake_neg_modes=False)\n",
    "        h_evals.append( hreal + 1.j*himag )\n",
    "    return h_evals\n",
    "\n",
    "def waveform_norm(h):\n",
    "    return np.sqrt(np.sum(abs(h**2)))\n",
    "\n",
    "def waveform_error(h1, h2):\n",
    "    return waveform_norm(h1 - h2) / waveform_norm(h1)\n",
    "\n",
    "def test_spline_surrogate(spline_surrogate, nqtest, h_evals):\n",
    "    qtest = np.linspace(1., 10., nqtest)\n",
    "    errs = []\n",
    "    for i in tqdm.trange(len(qtest)):\n",
    "        q = qtest[i]\n",
    "        h = h_evals[i]\n",
    "        lm_modes, t, hreal, himag = spline_surrogate(q, mode_sum=False, fake_neg_modes=False)\n",
    "        h_spline = hreal + 1.j*himag\n",
    "        #h_spline = np.array([spline_modes[k] for k in lm_modes])\n",
    "        errs.append(waveform_error(h, h_spline))\n",
    "    return np.array(errs)\n",
    "\n",
    "h_evals = many_h_evals(qtest)\n",
    "\n",
    "loaded_err = test_spline_surrogate(sur_lin, nqtest, h_evals)\n",
    "plt.semilogy(qtest, loaded_err, label='error')"
   ]
  },
  {
   "cell_type": "markdown",
   "metadata": {},
   "source": [
    "### Linear, fast-spline surrogate using a new gws interface"
   ]
  },
  {
   "cell_type": "code",
   "execution_count": null,
   "metadata": {
    "collapsed": true
   },
   "outputs": [],
   "source": [
    "# FastTensorSplineSurrogate is a new feature \n",
    "from gwsurrogate.new import surrogate \n",
    "loaded_surrogate = surrogate.FastTensorSplineSurrogate()\n",
    "\n",
    "# ... and we load the linear (spline) surrogate in a different way\n",
    "path_to_surrogate = '/home/balzani57/Repo/GitRepos/Codes/gwsurrogate/surrogate_downloads/'\n",
    "loaded_surrogate.load(path_to_surrogate+\"SpEC_q10_nonspinning_spline_surrogate_v1.h5\")"
   ]
  },
  {
   "cell_type": "code",
   "execution_count": null,
   "metadata": {
    "collapsed": true
   },
   "outputs": [],
   "source": [
    "# check the original and linear \"surrogate-of-a-surrogate\" models agree\n",
    "h_modes = loaded_surrogate([1.2])\n",
    "lm_modes, t, hreal, himag = sur(q=1.2, mode_sum=False, fake_neg_modes=False)\n",
    "\n",
    "plt.plot(t, hreal[:, 2], 'k', label='Original amp/phase surrogate')\n",
    "plt.plot(t, np.real(h_modes[2, 2]), 'r--', label='spline surrogate-of-a-surrogate')\n",
    "plt.plot(t, abs(hreal[:, 2] - np.real(h_modes[2, 2])), 'c', label='error')\n",
    "plt.legend(frameon=False, loc='upper left')\n",
    "plt.show()"
   ]
  },
  {
   "cell_type": "code",
   "execution_count": null,
   "metadata": {
    "collapsed": true
   },
   "outputs": [],
   "source": [
    "## Compare the linear surrogate using new and original interfaces -- These should be EXACTLY identical \n",
    "h_modes = loaded_surrogate([10.0])\n",
    "\n",
    "_, t, hreal, himag = sur_lin(q=10.0, mode_sum=False, fake_neg_modes=False)\n",
    "h = hreal + 1.j*himag\n",
    "\n",
    "plt.plot(t, hreal[:, 2], 'k', label='Original amp/phase surrogate')\n",
    "plt.plot(t, np.real(h_modes[2, 2]), 'r--', label='spline surrogate-of-a-surrogate')\n",
    "#plt.plot(t, abs(hreal[:, 2] - np.real(h_modes[2, 2])), 'c', label='error')\n",
    "plt.legend(frameon=False, loc='upper left')\n",
    "plt.show()\n",
    "\n",
    "print np.max(abs(hreal[:, 2] - np.real(h_modes[2, 2])))\n",
    "\n",
    "h_modes = np.array([h_modes[k] for k in lm_modes])\n",
    "\n",
    "print waveform_error(h_modes, h.T)"
   ]
  },
  {
   "cell_type": "code",
   "execution_count": null,
   "metadata": {
    "collapsed": true
   },
   "outputs": [],
   "source": [
    "# ...and a more complete error analysis\n",
    "errs = []\n",
    "\n",
    "nqtest = 100\n",
    "qtest = np.linspace(1., 10., nqtest)\n",
    "\n",
    "for i in tqdm.trange(len(qtest)):\n",
    "    q = qtest[i]\n",
    "\n",
    "    h_modes = loaded_surrogate([q])\n",
    "\n",
    "    _, t, hreal, himag = sur_lin(q=q, mode_sum=False, fake_neg_modes=False)\n",
    "    h = hreal + 1.j*himag\n",
    "\n",
    "    h_spline = np.array([h_modes[k] for k in lm_modes])\n",
    "    errs.append(waveform_error(h_spline, h.T))\n",
    "    \n",
    "errs = np.array( errs )\n",
    "plt.semilogy(qtest, errs, label='error')\n",
    "# ... Why aren't the errors exactly zero? Its probably due to nudging\n",
    "# where the end point parameters are not truely identical\n"
   ]
  }
 ],
 "metadata": {
  "kernelspec": {
   "display_name": "Python [default]",
   "language": "python",
   "name": "python2"
  },
  "language_info": {
   "codemirror_mode": {
    "name": "ipython",
    "version": 2
   },
   "file_extension": ".py",
   "mimetype": "text/x-python",
   "name": "python",
   "nbconvert_exporter": "python",
   "pygments_lexer": "ipython2",
   "version": "2.7.12"
  }
 },
 "nbformat": 4,
 "nbformat_minor": 1
}
