{
 "cells": [
  {
   "cell_type": "code",
   "execution_count": 1,
   "metadata": {
    "collapsed": true
   },
   "outputs": [],
   "source": [
    "# Prepare the notebook for use\n",
    "import pandas as pd\n",
    "pd.options.display.max_rows = 16\n",
    "pd.options.display.precision = 3"
   ]
  },
  {
   "cell_type": "markdown",
   "metadata": {},
   "source": [
    "# Database connection"
   ]
  },
  {
   "cell_type": "markdown",
   "metadata": {},
   "source": [
    "First, you need to set database connection parameters if they are different from the default values."
   ]
  },
  {
   "cell_type": "code",
   "execution_count": 2,
   "metadata": {
    "collapsed": true
   },
   "outputs": [],
   "source": [
    "from ricercando import set_connection_params\n",
    "\n",
    "set_connection_params(host='localhost',\n",
    "                      port=8086,\n",
    "                      username='monroe',\n",
    "                      password='secure',\n",
    "                      database='monroe')"
   ]
  },
  {
   "cell_type": "markdown",
   "metadata": {},
   "source": [
    "# Signal and node enumeration"
   ]
  },
  {
   "cell_type": "markdown",
   "metadata": {},
   "source": [
    "MONROE project comprises hundreds of geospatially-scattered nodes that measure and report on various signals, each signal type stored in its own table. We can query available tables and available nodes with calls to `all_tables()` and `all_nodes()`, both of which return a list of items."
   ]
  },
  {
   "cell_type": "code",
   "execution_count": 3,
   "metadata": {},
   "outputs": [
    {
     "data": {
      "text/plain": [
       "['event', 'gps', 'modem', 'ping', 'sensor']"
      ]
     },
     "execution_count": 3,
     "metadata": {},
     "output_type": "execute_result"
    }
   ],
   "source": [
    "from ricercando import all_tables, all_nodes\n",
    "\n",
    "all_tables()"
   ]
  },
  {
   "cell_type": "code",
   "execution_count": 4,
   "metadata": {
    "scrolled": false
   },
   "outputs": [
    {
     "data": {
      "text/plain": [
       "['7', '23', '24', '26', '30', '39', '44', '53', '55', '57']"
      ]
     },
     "execution_count": 4,
     "metadata": {},
     "output_type": "execute_result"
    }
   ],
   "source": [
    "nodes = all_nodes()\n",
    "# For brewity, show only first 10 nodes\n",
    "nodes[:10]"
   ]
  },
  {
   "cell_type": "markdown",
   "metadata": {},
   "source": [
    "Since not all nodes necessarily appear in all tables (not all nodes are equipped with all sensors), we can use `nodes_for_table()` and `tables_for_node()` functions to query the nodes that appear in a particular table or tables that contain sensor measurements from a particular node. `nodes_for_table()` returns a mapping of table name to a list of nodes that are contained within, while `tables_for_node()` returns a set of tables."
   ]
  },
  {
   "cell_type": "code",
   "execution_count": 5,
   "metadata": {},
   "outputs": [
    {
     "data": {
      "text/plain": [
       "{'event': ['7', '23', '24', '26', '30', '39', '53'],\n",
       " 'gps': ['39', '135', '144', '145', '237', '266', '308'],\n",
       " 'modem': ['7', '23', '26', '30', '39', '53', '55'],\n",
       " 'ping': ['7', '26', '39', '44', '53', '55', '57'],\n",
       " 'sensor': ['7', '23', '24', '26', '30', '39', '53']}"
      ]
     },
     "execution_count": 5,
     "metadata": {},
     "output_type": "execute_result"
    }
   ],
   "source": [
    "from ricercando import tables_for_node, nodes_for_table\n",
    "\n",
    "# For brewity, show the first six nodes of every table\n",
    "{table: nodes[:7]\n",
    " for table, nodes in nodes_for_table().items()}"
   ]
  },
  {
   "cell_type": "markdown",
   "metadata": {},
   "source": [
    "Note, node 7 apparently doesn't have a GPS sensor."
   ]
  },
  {
   "cell_type": "code",
   "execution_count": 6,
   "metadata": {},
   "outputs": [
    {
     "data": {
      "text/plain": [
       "{'event', 'modem', 'ping', 'sensor'}"
      ]
     },
     "execution_count": 6,
     "metadata": {},
     "output_type": "execute_result"
    }
   ],
   "source": [
    "tables_for_node('7')"
   ]
  },
  {
   "cell_type": "markdown",
   "metadata": {},
   "source": [
    "# Fetching sensor data"
   ]
  },
  {
   "cell_type": "markdown",
   "metadata": {},
   "source": [
    "The main user interface for fetching data is the `getdf()` function, which returns a [`pandas.DataFrame`](https://pandas.pydata.org/pandas-docs/stable/10min.html) object with all queried signal tables merged, time sorted, resampled and interpolated, as required. This is its docstring:"
   ]
  },
  {
   "cell_type": "code",
   "execution_count": 7,
   "metadata": {},
   "outputs": [
    {
     "name": "stdout",
     "output_type": "stream",
     "text": [
      "Help on function getdf in module monroe_anal.query_base:\n",
      "\n",
      "getdf(tables, *, nodeid='', where='', limit=100000, start_time=None, end_time=None, freq=None, resample='', interpolate=False) -> pandas.core.frame.DataFrame\n",
      "    Return MONROE data as Pandas DataFrame.\n",
      "    \n",
      "    Parameters\n",
      "    ----------\n",
      "    tables : str or list of str\n",
      "        Table name(s) to query and merge. Tables can be from the list\n",
      "        as retuend by ``all_tables()``.\n",
      "    nodeid : int or str or list of int or str\n",
      "        A single node ID or a list thereof. If empty, results for all\n",
      "        available nodes are returned.\n",
      "    where : str or list of str\n",
      "        Additional SQL WHERE conditions.\n",
      "    limit : int\n",
      "        Hard-limit on the number of rows requested from the DB for each\n",
      "        NodeId.\n",
      "    start_time : str or datetime or pandas.Timestamp\n",
      "        Query results after start time. Default is set to 14 days before\n",
      "        `end_time` or the min timestamp of `tables`, whichever is later.\n",
      "    end_time : str or datetime or pandas.Timestamp\n",
      "        Query results before end time. Default is set to now or the\n",
      "        max timestamp of `tables`, whichever is sooner.\n",
      "    freq : str, from {'10ms', '1s', '1m', '30m'}\n",
      "        The level of detail to query. Higher precision results in MORE\n",
      "        data. By default, `freq` is set to a sensible (manageable) value\n",
      "        based on query time span.\n",
      "    resample : str\n",
      "        Resampling rule (such as '1h', '2h', '1d', ...) from\n",
      "        http://pandas.pydata.org/pandas-docs/stable/timeseries.html#offset-aliases\n",
      "    interpolate : str or bool, default False\n",
      "        Interpolation method supported by ``pandas.DataFrame.interpolate``,\n",
      "        or ``True`` for `linear` interpolation of missing values.\n",
      "        Rows are grouped by NodeId,Iccid before interpolation.\n",
      "    \n",
      "    Returns\n",
      "    -------\n",
      "    pandas.DataFrame\n",
      "\n"
     ]
    }
   ],
   "source": [
    "from ricercando import getdf\n",
    "\n",
    "help(getdf)"
   ]
  },
  {
   "cell_type": "markdown",
   "metadata": {},
   "source": [
    "For example, to fetch all data from tables _ping_ and _modem_ for the last 14 days, we could issue:"
   ]
  },
  {
   "cell_type": "code",
   "execution_count": 8,
   "metadata": {},
   "outputs": [
    {
     "data": {
      "text/html": [
       "<div>\n",
       "<style>\n",
       "    .dataframe thead tr:only-child th {\n",
       "        text-align: right;\n",
       "    }\n",
       "\n",
       "    .dataframe thead th {\n",
       "        text-align: left;\n",
       "    }\n",
       "\n",
       "    .dataframe tbody tr th {\n",
       "        vertical-align: top;\n",
       "    }\n",
       "</style>\n",
       "<table border=\"1\" class=\"dataframe\">\n",
       "  <thead>\n",
       "    <tr style=\"text-align: right;\">\n",
       "      <th></th>\n",
       "      <th>Host</th>\n",
       "      <th>Operator</th>\n",
       "      <th>RTT</th>\n",
       "      <th>Iccid</th>\n",
       "      <th>NodeId</th>\n",
       "      <th>CID</th>\n",
       "      <th>DeviceMode</th>\n",
       "      <th>DeviceState</th>\n",
       "      <th>ECIO</th>\n",
       "      <th>Frequency</th>\n",
       "      <th>IP_Address</th>\n",
       "      <th>MCC_MNC</th>\n",
       "      <th>RSRQ</th>\n",
       "      <th>RSSI</th>\n",
       "    </tr>\n",
       "    <tr>\n",
       "      <th>time</th>\n",
       "      <th></th>\n",
       "      <th></th>\n",
       "      <th></th>\n",
       "      <th></th>\n",
       "      <th></th>\n",
       "      <th></th>\n",
       "      <th></th>\n",
       "      <th></th>\n",
       "      <th></th>\n",
       "      <th></th>\n",
       "      <th></th>\n",
       "      <th></th>\n",
       "      <th></th>\n",
       "      <th></th>\n",
       "    </tr>\n",
       "  </thead>\n",
       "  <tbody>\n",
       "    <tr>\n",
       "      <th>2017-07-13 00:30:00</th>\n",
       "      <td>193.10.227.25</td>\n",
       "      <td>C-OTE</td>\n",
       "      <td>99.392</td>\n",
       "      <td>89300100150506375450</td>\n",
       "      <td>175</td>\n",
       "      <td>NaN</td>\n",
       "      <td>NaN</td>\n",
       "      <td>NaN</td>\n",
       "      <td>NaN</td>\n",
       "      <td>NaN</td>\n",
       "      <td>NaN</td>\n",
       "      <td>NaN</td>\n",
       "      <td>NaN</td>\n",
       "      <td>NaN</td>\n",
       "    </tr>\n",
       "    <tr>\n",
       "      <th>2017-07-13 00:30:00</th>\n",
       "      <td>193.10.227.25</td>\n",
       "      <td>I WIND</td>\n",
       "      <td>NaN</td>\n",
       "      <td>8939883386101437693</td>\n",
       "      <td>308</td>\n",
       "      <td>36353550</td>\n",
       "      <td>3G</td>\n",
       "      <td>connected</td>\n",
       "      <td>NaN</td>\n",
       "      <td>2600</td>\n",
       "      <td>10.70.19.126</td>\n",
       "      <td>22288</td>\n",
       "      <td>-7.667</td>\n",
       "      <td>-74.000</td>\n",
       "    </tr>\n",
       "    <tr>\n",
       "      <th>2017-07-13 00:30:00</th>\n",
       "      <td>193.10.227.25</td>\n",
       "      <td>Telia N</td>\n",
       "      <td>88.278</td>\n",
       "      <td>8947080038000093176</td>\n",
       "      <td>358</td>\n",
       "      <td>33346582</td>\n",
       "      <td>3G</td>\n",
       "      <td>connected</td>\n",
       "      <td>NaN</td>\n",
       "      <td>800</td>\n",
       "      <td>10.248.145.13</td>\n",
       "      <td>24202</td>\n",
       "      <td>-9.489</td>\n",
       "      <td>-45.043</td>\n",
       "    </tr>\n",
       "    <tr>\n",
       "      <th>2017-07-13 00:30:00</th>\n",
       "      <td>193.10.227.25</td>\n",
       "      <td>I WIND</td>\n",
       "      <td>138.296</td>\n",
       "      <td>8939883386101437602</td>\n",
       "      <td>39</td>\n",
       "      <td>36370696</td>\n",
       "      <td>3G</td>\n",
       "      <td>connected</td>\n",
       "      <td>NaN</td>\n",
       "      <td>800</td>\n",
       "      <td>10.35.32.31</td>\n",
       "      <td>22288</td>\n",
       "      <td>-8.375</td>\n",
       "      <td>-73.000</td>\n",
       "    </tr>\n",
       "    <tr>\n",
       "      <th>2017-07-13 00:30:00</th>\n",
       "      <td>193.10.227.25</td>\n",
       "      <td>Telia N</td>\n",
       "      <td>80.101</td>\n",
       "      <td>8947080038000093184</td>\n",
       "      <td>454</td>\n",
       "      <td>33346572</td>\n",
       "      <td>3G</td>\n",
       "      <td>connected</td>\n",
       "      <td>NaN</td>\n",
       "      <td>800</td>\n",
       "      <td>10.248.185.112</td>\n",
       "      <td>24202</td>\n",
       "      <td>-8.489</td>\n",
       "      <td>-50.647</td>\n",
       "    </tr>\n",
       "    <tr>\n",
       "      <th>2017-07-13 00:30:00</th>\n",
       "      <td>193.10.227.25</td>\n",
       "      <td>I WIND</td>\n",
       "      <td>80.861</td>\n",
       "      <td>8939883386101437495</td>\n",
       "      <td>314</td>\n",
       "      <td>12090767</td>\n",
       "      <td>2G</td>\n",
       "      <td>connected</td>\n",
       "      <td>4.740</td>\n",
       "      <td>NaN</td>\n",
       "      <td>10.64.68.35</td>\n",
       "      <td>22288</td>\n",
       "      <td>NaN</td>\n",
       "      <td>-74.092</td>\n",
       "    </tr>\n",
       "    <tr>\n",
       "      <th>2017-07-13 00:30:00</th>\n",
       "      <td>193.10.227.25</td>\n",
       "      <td>Telia N</td>\n",
       "      <td>87.793</td>\n",
       "      <td>8947080038000093192</td>\n",
       "      <td>7</td>\n",
       "      <td>33346572</td>\n",
       "      <td>3G</td>\n",
       "      <td>connected</td>\n",
       "      <td>NaN</td>\n",
       "      <td>800</td>\n",
       "      <td>100.65.102.166</td>\n",
       "      <td>24202</td>\n",
       "      <td>-7.681</td>\n",
       "      <td>-35.217</td>\n",
       "    </tr>\n",
       "    <tr>\n",
       "      <th>2017-07-13 00:30:00</th>\n",
       "      <td>193.10.227.25</td>\n",
       "      <td>I WIND</td>\n",
       "      <td>119.243</td>\n",
       "      <td>8939883386101432348</td>\n",
       "      <td>322</td>\n",
       "      <td>36367366</td>\n",
       "      <td>3G</td>\n",
       "      <td>connected</td>\n",
       "      <td>NaN</td>\n",
       "      <td>800</td>\n",
       "      <td>10.34.187.37</td>\n",
       "      <td>22288</td>\n",
       "      <td>-9.473</td>\n",
       "      <td>-70.616</td>\n",
       "    </tr>\n",
       "    <tr>\n",
       "      <th>...</th>\n",
       "      <td>...</td>\n",
       "      <td>...</td>\n",
       "      <td>...</td>\n",
       "      <td>...</td>\n",
       "      <td>...</td>\n",
       "      <td>...</td>\n",
       "      <td>...</td>\n",
       "      <td>...</td>\n",
       "      <td>...</td>\n",
       "      <td>...</td>\n",
       "      <td>...</td>\n",
       "      <td>...</td>\n",
       "      <td>...</td>\n",
       "      <td>...</td>\n",
       "    </tr>\n",
       "    <tr>\n",
       "      <th>2017-07-13 23:30:00</th>\n",
       "      <td>193.10.227.25</td>\n",
       "      <td>YOIGO</td>\n",
       "      <td>107.318</td>\n",
       "      <td>8934041514050773889</td>\n",
       "      <td>59</td>\n",
       "      <td>72209510</td>\n",
       "      <td>3G</td>\n",
       "      <td>connected</td>\n",
       "      <td>NaN</td>\n",
       "      <td>1800</td>\n",
       "      <td>10.183.82.158</td>\n",
       "      <td>21404</td>\n",
       "      <td>-9.000</td>\n",
       "      <td>-62.000</td>\n",
       "    </tr>\n",
       "    <tr>\n",
       "      <th>2017-07-13 23:30:00</th>\n",
       "      <td>NaN</td>\n",
       "      <td>Telenor SE</td>\n",
       "      <td>NaN</td>\n",
       "      <td>89460850007006923649</td>\n",
       "      <td>432</td>\n",
       "      <td>72466155</td>\n",
       "      <td>disconnected</td>\n",
       "      <td>unregistered</td>\n",
       "      <td>3.778</td>\n",
       "      <td>NaN</td>\n",
       "      <td>NaN</td>\n",
       "      <td>24008</td>\n",
       "      <td>NaN</td>\n",
       "      <td>-82.463</td>\n",
       "    </tr>\n",
       "    <tr>\n",
       "      <th>2017-07-13 23:30:00</th>\n",
       "      <td>193.10.227.25</td>\n",
       "      <td>242 14</td>\n",
       "      <td>51.313</td>\n",
       "      <td>89470715000001455257</td>\n",
       "      <td>359</td>\n",
       "      <td>28170261</td>\n",
       "      <td>3G</td>\n",
       "      <td>connected</td>\n",
       "      <td>NaN</td>\n",
       "      <td>1800</td>\n",
       "      <td>100.86.82.190</td>\n",
       "      <td>24214</td>\n",
       "      <td>-11.333</td>\n",
       "      <td>-73.500</td>\n",
       "    </tr>\n",
       "    <tr>\n",
       "      <th>2017-07-13 23:30:00</th>\n",
       "      <td>193.10.227.25</td>\n",
       "      <td>242 14</td>\n",
       "      <td>56.628</td>\n",
       "      <td>89470715000001455273</td>\n",
       "      <td>455</td>\n",
       "      <td>28170261</td>\n",
       "      <td>3G</td>\n",
       "      <td>connected</td>\n",
       "      <td>NaN</td>\n",
       "      <td>1800</td>\n",
       "      <td>100.87.70.50</td>\n",
       "      <td>24214</td>\n",
       "      <td>-9.833</td>\n",
       "      <td>-78.833</td>\n",
       "    </tr>\n",
       "    <tr>\n",
       "      <th>2017-07-13 23:30:00</th>\n",
       "      <td>193.10.227.25</td>\n",
       "      <td>242 14</td>\n",
       "      <td>NaN</td>\n",
       "      <td>89470715000001455414</td>\n",
       "      <td>451</td>\n",
       "      <td>1249308</td>\n",
       "      <td>3G</td>\n",
       "      <td>connected</td>\n",
       "      <td>NaN</td>\n",
       "      <td>800</td>\n",
       "      <td>100.86.7.34</td>\n",
       "      <td>24214</td>\n",
       "      <td>-6.780</td>\n",
       "      <td>-51.397</td>\n",
       "    </tr>\n",
       "    <tr>\n",
       "      <th>2017-07-13 23:30:00</th>\n",
       "      <td>193.10.227.25</td>\n",
       "      <td>YOIGO</td>\n",
       "      <td>106.243</td>\n",
       "      <td>8934041514050773863</td>\n",
       "      <td>203</td>\n",
       "      <td>72209510</td>\n",
       "      <td>3G</td>\n",
       "      <td>connected</td>\n",
       "      <td>NaN</td>\n",
       "      <td>1800</td>\n",
       "      <td>10.32.121.236</td>\n",
       "      <td>21404</td>\n",
       "      <td>-7.000</td>\n",
       "      <td>-75.000</td>\n",
       "    </tr>\n",
       "    <tr>\n",
       "      <th>2017-07-13 23:30:00</th>\n",
       "      <td>NaN</td>\n",
       "      <td>NaN</td>\n",
       "      <td>NaN</td>\n",
       "      <td>898600N6110951011460</td>\n",
       "      <td>106</td>\n",
       "      <td>NaN</td>\n",
       "      <td>disconnected</td>\n",
       "      <td>unregistered</td>\n",
       "      <td>NaN</td>\n",
       "      <td>NaN</td>\n",
       "      <td>NaN</td>\n",
       "      <td>46099</td>\n",
       "      <td>NaN</td>\n",
       "      <td>NaN</td>\n",
       "    </tr>\n",
       "    <tr>\n",
       "      <th>2017-07-14 00:00:00</th>\n",
       "      <td>193.10.227.25</td>\n",
       "      <td>Telia N</td>\n",
       "      <td>144.000</td>\n",
       "      <td>8947080038000093119</td>\n",
       "      <td>452</td>\n",
       "      <td>NaN</td>\n",
       "      <td>NaN</td>\n",
       "      <td>NaN</td>\n",
       "      <td>NaN</td>\n",
       "      <td>NaN</td>\n",
       "      <td>NaN</td>\n",
       "      <td>NaN</td>\n",
       "      <td>NaN</td>\n",
       "      <td>NaN</td>\n",
       "    </tr>\n",
       "  </tbody>\n",
       "</table>\n",
       "<p>10203 rows × 14 columns</p>\n",
       "</div>"
      ],
      "text/plain": [
       "                              Host    Operator      RTT                 Iccid  \\\n",
       "time                                                                            \n",
       "2017-07-13 00:30:00  193.10.227.25       C-OTE   99.392  89300100150506375450   \n",
       "2017-07-13 00:30:00  193.10.227.25      I WIND      NaN   8939883386101437693   \n",
       "2017-07-13 00:30:00  193.10.227.25     Telia N   88.278   8947080038000093176   \n",
       "2017-07-13 00:30:00  193.10.227.25      I WIND  138.296   8939883386101437602   \n",
       "2017-07-13 00:30:00  193.10.227.25     Telia N   80.101   8947080038000093184   \n",
       "2017-07-13 00:30:00  193.10.227.25      I WIND   80.861   8939883386101437495   \n",
       "2017-07-13 00:30:00  193.10.227.25     Telia N   87.793   8947080038000093192   \n",
       "2017-07-13 00:30:00  193.10.227.25      I WIND  119.243   8939883386101432348   \n",
       "...                            ...         ...      ...                   ...   \n",
       "2017-07-13 23:30:00  193.10.227.25       YOIGO  107.318   8934041514050773889   \n",
       "2017-07-13 23:30:00            NaN  Telenor SE      NaN  89460850007006923649   \n",
       "2017-07-13 23:30:00  193.10.227.25      242 14   51.313  89470715000001455257   \n",
       "2017-07-13 23:30:00  193.10.227.25      242 14   56.628  89470715000001455273   \n",
       "2017-07-13 23:30:00  193.10.227.25      242 14      NaN  89470715000001455414   \n",
       "2017-07-13 23:30:00  193.10.227.25       YOIGO  106.243   8934041514050773863   \n",
       "2017-07-13 23:30:00            NaN         NaN      NaN  898600N6110951011460   \n",
       "2017-07-14 00:00:00  193.10.227.25     Telia N  144.000   8947080038000093119   \n",
       "\n",
       "                    NodeId       CID    DeviceMode   DeviceState   ECIO  \\\n",
       "time                                                                      \n",
       "2017-07-13 00:30:00    175       NaN           NaN           NaN    NaN   \n",
       "2017-07-13 00:30:00    308  36353550            3G     connected    NaN   \n",
       "2017-07-13 00:30:00    358  33346582            3G     connected    NaN   \n",
       "2017-07-13 00:30:00     39  36370696            3G     connected    NaN   \n",
       "2017-07-13 00:30:00    454  33346572            3G     connected    NaN   \n",
       "2017-07-13 00:30:00    314  12090767            2G     connected  4.740   \n",
       "2017-07-13 00:30:00      7  33346572            3G     connected    NaN   \n",
       "2017-07-13 00:30:00    322  36367366            3G     connected    NaN   \n",
       "...                    ...       ...           ...           ...    ...   \n",
       "2017-07-13 23:30:00     59  72209510            3G     connected    NaN   \n",
       "2017-07-13 23:30:00    432  72466155  disconnected  unregistered  3.778   \n",
       "2017-07-13 23:30:00    359  28170261            3G     connected    NaN   \n",
       "2017-07-13 23:30:00    455  28170261            3G     connected    NaN   \n",
       "2017-07-13 23:30:00    451   1249308            3G     connected    NaN   \n",
       "2017-07-13 23:30:00    203  72209510            3G     connected    NaN   \n",
       "2017-07-13 23:30:00    106       NaN  disconnected  unregistered    NaN   \n",
       "2017-07-14 00:00:00    452       NaN           NaN           NaN    NaN   \n",
       "\n",
       "                    Frequency      IP_Address MCC_MNC    RSRQ    RSSI  \n",
       "time                                                                   \n",
       "2017-07-13 00:30:00       NaN             NaN     NaN     NaN     NaN  \n",
       "2017-07-13 00:30:00      2600    10.70.19.126   22288  -7.667 -74.000  \n",
       "2017-07-13 00:30:00       800   10.248.145.13   24202  -9.489 -45.043  \n",
       "2017-07-13 00:30:00       800     10.35.32.31   22288  -8.375 -73.000  \n",
       "2017-07-13 00:30:00       800  10.248.185.112   24202  -8.489 -50.647  \n",
       "2017-07-13 00:30:00       NaN     10.64.68.35   22288     NaN -74.092  \n",
       "2017-07-13 00:30:00       800  100.65.102.166   24202  -7.681 -35.217  \n",
       "2017-07-13 00:30:00       800    10.34.187.37   22288  -9.473 -70.616  \n",
       "...                       ...             ...     ...     ...     ...  \n",
       "2017-07-13 23:30:00      1800   10.183.82.158   21404  -9.000 -62.000  \n",
       "2017-07-13 23:30:00       NaN             NaN   24008     NaN -82.463  \n",
       "2017-07-13 23:30:00      1800   100.86.82.190   24214 -11.333 -73.500  \n",
       "2017-07-13 23:30:00      1800    100.87.70.50   24214  -9.833 -78.833  \n",
       "2017-07-13 23:30:00       800     100.86.7.34   24214  -6.780 -51.397  \n",
       "2017-07-13 23:30:00      1800   10.32.121.236   21404  -7.000 -75.000  \n",
       "2017-07-13 23:30:00       NaN             NaN   46099     NaN     NaN  \n",
       "2017-07-14 00:00:00       NaN             NaN     NaN     NaN     NaN  \n",
       "\n",
       "[10203 rows x 14 columns]"
      ]
     },
     "execution_count": 8,
     "metadata": {},
     "output_type": "execute_result"
    }
   ],
   "source": [
    "df = getdf('ping modem')\n",
    "df"
   ]
  },
  {
   "cell_type": "markdown",
   "metadata": {},
   "source": [
    "Or, to fetch all available measurements of _gps_ and _ping_ data for node _39_ where the _Operator_ field contains an uppercase letter 'I' during the specified time, all resampled to 10-second intervals and linearly interpolated to avoid _NaN_ values:"
   ]
  },
  {
   "cell_type": "code",
   "execution_count": 9,
   "metadata": {},
   "outputs": [
    {
     "data": {
      "text/html": [
       "<div>\n",
       "<style>\n",
       "    .dataframe thead tr:only-child th {\n",
       "        text-align: right;\n",
       "    }\n",
       "\n",
       "    .dataframe thead th {\n",
       "        text-align: left;\n",
       "    }\n",
       "\n",
       "    .dataframe tbody tr th {\n",
       "        vertical-align: top;\n",
       "    }\n",
       "</style>\n",
       "<table border=\"1\" class=\"dataframe\">\n",
       "  <thead>\n",
       "    <tr style=\"text-align: right;\">\n",
       "      <th></th>\n",
       "      <th>NodeId</th>\n",
       "      <th>Host</th>\n",
       "      <th>Operator</th>\n",
       "      <th>Iccid</th>\n",
       "      <th>Longitude</th>\n",
       "      <th>RTT</th>\n",
       "      <th>SatelliteCount</th>\n",
       "      <th>Latitude</th>\n",
       "      <th>Altitude</th>\n",
       "      <th>Speed</th>\n",
       "    </tr>\n",
       "    <tr>\n",
       "      <th>time</th>\n",
       "      <th></th>\n",
       "      <th></th>\n",
       "      <th></th>\n",
       "      <th></th>\n",
       "      <th></th>\n",
       "      <th></th>\n",
       "      <th></th>\n",
       "      <th></th>\n",
       "      <th></th>\n",
       "      <th></th>\n",
       "    </tr>\n",
       "  </thead>\n",
       "  <tbody>\n",
       "    <tr>\n",
       "      <th>2017-07-13 00:00:00</th>\n",
       "      <td>39</td>\n",
       "      <td>193.10.227.25</td>\n",
       "      <td>voda IT</td>\n",
       "      <td>8939104160000392231</td>\n",
       "      <td>7.667</td>\n",
       "      <td>104.122</td>\n",
       "      <td>3.000</td>\n",
       "      <td>45.034</td>\n",
       "      <td>209.550</td>\n",
       "      <td>1.50</td>\n",
       "    </tr>\n",
       "    <tr>\n",
       "      <th>2017-07-13 00:00:00</th>\n",
       "      <td>39</td>\n",
       "      <td>193.10.227.25</td>\n",
       "      <td>I WIND</td>\n",
       "      <td>8939883386101437602</td>\n",
       "      <td>7.667</td>\n",
       "      <td>135.375</td>\n",
       "      <td>3.000</td>\n",
       "      <td>45.034</td>\n",
       "      <td>209.571</td>\n",
       "      <td>1.50</td>\n",
       "    </tr>\n",
       "    <tr>\n",
       "      <th>2017-07-13 00:00:10</th>\n",
       "      <td>39</td>\n",
       "      <td>193.10.227.25</td>\n",
       "      <td>voda IT</td>\n",
       "      <td>8939104160000392231</td>\n",
       "      <td>7.667</td>\n",
       "      <td>97.167</td>\n",
       "      <td>3.000</td>\n",
       "      <td>45.034</td>\n",
       "      <td>209.640</td>\n",
       "      <td>1.50</td>\n",
       "    </tr>\n",
       "    <tr>\n",
       "      <th>2017-07-13 00:00:10</th>\n",
       "      <td>39</td>\n",
       "      <td>193.10.227.25</td>\n",
       "      <td>I WIND</td>\n",
       "      <td>8939883386101437602</td>\n",
       "      <td>7.667</td>\n",
       "      <td>137.750</td>\n",
       "      <td>3.000</td>\n",
       "      <td>45.034</td>\n",
       "      <td>209.675</td>\n",
       "      <td>1.50</td>\n",
       "    </tr>\n",
       "    <tr>\n",
       "      <th>2017-07-13 00:00:20</th>\n",
       "      <td>39</td>\n",
       "      <td>193.10.227.25</td>\n",
       "      <td>voda IT</td>\n",
       "      <td>8939104160000392231</td>\n",
       "      <td>7.667</td>\n",
       "      <td>136.750</td>\n",
       "      <td>3.000</td>\n",
       "      <td>45.034</td>\n",
       "      <td>209.675</td>\n",
       "      <td>1.50</td>\n",
       "    </tr>\n",
       "    <tr>\n",
       "      <th>2017-07-13 00:00:20</th>\n",
       "      <td>39</td>\n",
       "      <td>193.10.227.25</td>\n",
       "      <td>I WIND</td>\n",
       "      <td>8939883386101437602</td>\n",
       "      <td>7.667</td>\n",
       "      <td>130.200</td>\n",
       "      <td>3.000</td>\n",
       "      <td>45.034</td>\n",
       "      <td>209.660</td>\n",
       "      <td>1.50</td>\n",
       "    </tr>\n",
       "    <tr>\n",
       "      <th>2017-07-13 00:00:30</th>\n",
       "      <td>39</td>\n",
       "      <td>193.10.227.25</td>\n",
       "      <td>voda IT</td>\n",
       "      <td>8939104160000392231</td>\n",
       "      <td>7.667</td>\n",
       "      <td>102.989</td>\n",
       "      <td>3.333</td>\n",
       "      <td>45.034</td>\n",
       "      <td>209.700</td>\n",
       "      <td>1.50</td>\n",
       "    </tr>\n",
       "    <tr>\n",
       "      <th>2017-07-13 00:00:30</th>\n",
       "      <td>39</td>\n",
       "      <td>193.10.227.25</td>\n",
       "      <td>I WIND</td>\n",
       "      <td>8939883386101437602</td>\n",
       "      <td>7.667</td>\n",
       "      <td>144.500</td>\n",
       "      <td>3.000</td>\n",
       "      <td>45.034</td>\n",
       "      <td>209.700</td>\n",
       "      <td>1.50</td>\n",
       "    </tr>\n",
       "    <tr>\n",
       "      <th>...</th>\n",
       "      <td>...</td>\n",
       "      <td>...</td>\n",
       "      <td>...</td>\n",
       "      <td>...</td>\n",
       "      <td>...</td>\n",
       "      <td>...</td>\n",
       "      <td>...</td>\n",
       "      <td>...</td>\n",
       "      <td>...</td>\n",
       "      <td>...</td>\n",
       "    </tr>\n",
       "    <tr>\n",
       "      <th>2017-07-13 23:59:20</th>\n",
       "      <td>39</td>\n",
       "      <td>193.10.227.25</td>\n",
       "      <td>voda IT</td>\n",
       "      <td>8939104160000392231</td>\n",
       "      <td>7.667</td>\n",
       "      <td>106.000</td>\n",
       "      <td>3.600</td>\n",
       "      <td>45.034</td>\n",
       "      <td>272.000</td>\n",
       "      <td>0.45</td>\n",
       "    </tr>\n",
       "    <tr>\n",
       "      <th>2017-07-13 23:59:20</th>\n",
       "      <td>39</td>\n",
       "      <td>193.10.227.25</td>\n",
       "      <td>I WIND</td>\n",
       "      <td>8939883386101437602</td>\n",
       "      <td>7.667</td>\n",
       "      <td>107.025</td>\n",
       "      <td>3.000</td>\n",
       "      <td>45.034</td>\n",
       "      <td>272.050</td>\n",
       "      <td>0.42</td>\n",
       "    </tr>\n",
       "    <tr>\n",
       "      <th>2017-07-13 23:59:30</th>\n",
       "      <td>39</td>\n",
       "      <td>193.10.227.25</td>\n",
       "      <td>I WIND</td>\n",
       "      <td>8939883386101437602</td>\n",
       "      <td>7.667</td>\n",
       "      <td>107.000</td>\n",
       "      <td>4.000</td>\n",
       "      <td>45.034</td>\n",
       "      <td>272.000</td>\n",
       "      <td>0.42</td>\n",
       "    </tr>\n",
       "    <tr>\n",
       "      <th>2017-07-13 23:59:30</th>\n",
       "      <td>39</td>\n",
       "      <td>193.10.227.25</td>\n",
       "      <td>voda IT</td>\n",
       "      <td>8939104160000392231</td>\n",
       "      <td>7.667</td>\n",
       "      <td>103.760</td>\n",
       "      <td>3.400</td>\n",
       "      <td>45.034</td>\n",
       "      <td>271.980</td>\n",
       "      <td>0.45</td>\n",
       "    </tr>\n",
       "    <tr>\n",
       "      <th>2017-07-13 23:59:40</th>\n",
       "      <td>39</td>\n",
       "      <td>193.10.227.25</td>\n",
       "      <td>voda IT</td>\n",
       "      <td>8939104160000392231</td>\n",
       "      <td>7.667</td>\n",
       "      <td>103.580</td>\n",
       "      <td>3.200</td>\n",
       "      <td>45.034</td>\n",
       "      <td>271.918</td>\n",
       "      <td>0.45</td>\n",
       "    </tr>\n",
       "    <tr>\n",
       "      <th>2017-07-13 23:59:40</th>\n",
       "      <td>39</td>\n",
       "      <td>193.10.227.25</td>\n",
       "      <td>I WIND</td>\n",
       "      <td>8939883386101437602</td>\n",
       "      <td>7.667</td>\n",
       "      <td>126.889</td>\n",
       "      <td>3.000</td>\n",
       "      <td>45.034</td>\n",
       "      <td>271.900</td>\n",
       "      <td>0.42</td>\n",
       "    </tr>\n",
       "    <tr>\n",
       "      <th>2017-07-13 23:59:50</th>\n",
       "      <td>39</td>\n",
       "      <td>193.10.227.25</td>\n",
       "      <td>voda IT</td>\n",
       "      <td>8939104160000392231</td>\n",
       "      <td>7.667</td>\n",
       "      <td>103.400</td>\n",
       "      <td>3.000</td>\n",
       "      <td>45.034</td>\n",
       "      <td>271.856</td>\n",
       "      <td>0.45</td>\n",
       "    </tr>\n",
       "    <tr>\n",
       "      <th>2017-07-13 23:59:50</th>\n",
       "      <td>39</td>\n",
       "      <td>193.10.227.25</td>\n",
       "      <td>I WIND</td>\n",
       "      <td>8939883386101437602</td>\n",
       "      <td>7.667</td>\n",
       "      <td>186.550</td>\n",
       "      <td>3.000</td>\n",
       "      <td>45.034</td>\n",
       "      <td>271.862</td>\n",
       "      <td>0.42</td>\n",
       "    </tr>\n",
       "  </tbody>\n",
       "</table>\n",
       "<p>25863 rows × 10 columns</p>\n",
       "</div>"
      ],
      "text/plain": [
       "                    NodeId           Host Operator                Iccid  \\\n",
       "time                                                                      \n",
       "2017-07-13 00:00:00     39  193.10.227.25  voda IT  8939104160000392231   \n",
       "2017-07-13 00:00:00     39  193.10.227.25   I WIND  8939883386101437602   \n",
       "2017-07-13 00:00:10     39  193.10.227.25  voda IT  8939104160000392231   \n",
       "2017-07-13 00:00:10     39  193.10.227.25   I WIND  8939883386101437602   \n",
       "2017-07-13 00:00:20     39  193.10.227.25  voda IT  8939104160000392231   \n",
       "2017-07-13 00:00:20     39  193.10.227.25   I WIND  8939883386101437602   \n",
       "2017-07-13 00:00:30     39  193.10.227.25  voda IT  8939104160000392231   \n",
       "2017-07-13 00:00:30     39  193.10.227.25   I WIND  8939883386101437602   \n",
       "...                    ...            ...      ...                  ...   \n",
       "2017-07-13 23:59:20     39  193.10.227.25  voda IT  8939104160000392231   \n",
       "2017-07-13 23:59:20     39  193.10.227.25   I WIND  8939883386101437602   \n",
       "2017-07-13 23:59:30     39  193.10.227.25   I WIND  8939883386101437602   \n",
       "2017-07-13 23:59:30     39  193.10.227.25  voda IT  8939104160000392231   \n",
       "2017-07-13 23:59:40     39  193.10.227.25  voda IT  8939104160000392231   \n",
       "2017-07-13 23:59:40     39  193.10.227.25   I WIND  8939883386101437602   \n",
       "2017-07-13 23:59:50     39  193.10.227.25  voda IT  8939104160000392231   \n",
       "2017-07-13 23:59:50     39  193.10.227.25   I WIND  8939883386101437602   \n",
       "\n",
       "                     Longitude      RTT  SatelliteCount  Latitude  Altitude  \\\n",
       "time                                                                          \n",
       "2017-07-13 00:00:00      7.667  104.122           3.000    45.034   209.550   \n",
       "2017-07-13 00:00:00      7.667  135.375           3.000    45.034   209.571   \n",
       "2017-07-13 00:00:10      7.667   97.167           3.000    45.034   209.640   \n",
       "2017-07-13 00:00:10      7.667  137.750           3.000    45.034   209.675   \n",
       "2017-07-13 00:00:20      7.667  136.750           3.000    45.034   209.675   \n",
       "2017-07-13 00:00:20      7.667  130.200           3.000    45.034   209.660   \n",
       "2017-07-13 00:00:30      7.667  102.989           3.333    45.034   209.700   \n",
       "2017-07-13 00:00:30      7.667  144.500           3.000    45.034   209.700   \n",
       "...                        ...      ...             ...       ...       ...   \n",
       "2017-07-13 23:59:20      7.667  106.000           3.600    45.034   272.000   \n",
       "2017-07-13 23:59:20      7.667  107.025           3.000    45.034   272.050   \n",
       "2017-07-13 23:59:30      7.667  107.000           4.000    45.034   272.000   \n",
       "2017-07-13 23:59:30      7.667  103.760           3.400    45.034   271.980   \n",
       "2017-07-13 23:59:40      7.667  103.580           3.200    45.034   271.918   \n",
       "2017-07-13 23:59:40      7.667  126.889           3.000    45.034   271.900   \n",
       "2017-07-13 23:59:50      7.667  103.400           3.000    45.034   271.856   \n",
       "2017-07-13 23:59:50      7.667  186.550           3.000    45.034   271.862   \n",
       "\n",
       "                     Speed  \n",
       "time                        \n",
       "2017-07-13 00:00:00   1.50  \n",
       "2017-07-13 00:00:00   1.50  \n",
       "2017-07-13 00:00:10   1.50  \n",
       "2017-07-13 00:00:10   1.50  \n",
       "2017-07-13 00:00:20   1.50  \n",
       "2017-07-13 00:00:20   1.50  \n",
       "2017-07-13 00:00:30   1.50  \n",
       "2017-07-13 00:00:30   1.50  \n",
       "...                    ...  \n",
       "2017-07-13 23:59:20   0.45  \n",
       "2017-07-13 23:59:20   0.42  \n",
       "2017-07-13 23:59:30   0.42  \n",
       "2017-07-13 23:59:30   0.45  \n",
       "2017-07-13 23:59:40   0.45  \n",
       "2017-07-13 23:59:40   0.42  \n",
       "2017-07-13 23:59:50   0.45  \n",
       "2017-07-13 23:59:50   0.42  \n",
       "\n",
       "[25863 rows x 10 columns]"
      ]
     },
     "execution_count": 9,
     "metadata": {},
     "output_type": "execute_result"
    }
   ],
   "source": [
    "df = getdf('ping gps', nodeid='39',\n",
    "           start_time='2017-07',\n",
    "           end_time='2017-08',\n",
    "           where='Operator =~ /I/',\n",
    "           freq='1s',\n",
    "           resample='10s',\n",
    "           interpolate=True)\n",
    "df"
   ]
  },
  {
   "cell_type": "markdown",
   "metadata": {},
   "source": [
    "Note that for performance reasons, categorical fields are set to `pandas.Categorical` data types (encoding string values)."
   ]
  },
  {
   "cell_type": "code",
   "execution_count": 10,
   "metadata": {},
   "outputs": [
    {
     "data": {
      "text/plain": [
       "NodeId            category\n",
       "Host              category\n",
       "Operator          category\n",
       "Iccid             category\n",
       "Longitude          float64\n",
       "RTT                float64\n",
       "SatelliteCount     float64\n",
       "Latitude           float64\n",
       "Altitude           float64\n",
       "Speed              float64\n",
       "dtype: object"
      ]
     },
     "execution_count": 10,
     "metadata": {},
     "output_type": "execute_result"
    }
   ],
   "source": [
    "df.dtypes"
   ]
  },
  {
   "cell_type": "markdown",
   "metadata": {},
   "source": [
    "Also notice how node 39 has three SIM card slots (connected to three operators), thus the resulting data frame contains data for three distinct [ICCIDs](https://en.wikipedia.org/wiki/Subscriber_identity_module)."
   ]
  },
  {
   "cell_type": "code",
   "execution_count": 11,
   "metadata": {},
   "outputs": [
    {
     "data": {
      "text/plain": [
       "8939883386101437602     8640\n",
       "8939104160000392231     8640\n",
       "89390100001965068048    8583\n",
       "Name: Iccid, dtype: int64"
      ]
     },
     "execution_count": 11,
     "metadata": {},
     "output_type": "execute_result"
    }
   ],
   "source": [
    "df.Iccid.value_counts()"
   ]
  },
  {
   "cell_type": "code",
   "execution_count": 12,
   "metadata": {},
   "outputs": [
    {
     "data": {
      "text/plain": [
       "I WIND     8640\n",
       "voda IT    8640\n",
       "TIM        8583\n",
       "Name: Operator, dtype: int64"
      ]
     },
     "execution_count": 12,
     "metadata": {},
     "output_type": "execute_result"
    }
   ],
   "source": [
    "# Operator names contain capital I\n",
    "df.Operator.value_counts()"
   ]
  },
  {
   "cell_type": "markdown",
   "metadata": {},
   "source": [
    "# Signal time range"
   ]
  },
  {
   "cell_type": "markdown",
   "metadata": {},
   "source": [
    "The time range of signal reporting may vary per each signal type and per node. We can use the `table_timerange()` function to query the minimum and maximum measurement time in a table."
   ]
  },
  {
   "cell_type": "code",
   "execution_count": 13,
   "metadata": {},
   "outputs": [
    {
     "data": {
      "text/plain": [
       "(Timestamp('2017-07-13 00:00:00+0000', tz='UTC'),\n",
       " Timestamp('2017-07-13 23:59:59.100000+0000', tz='UTC'))"
      ]
     },
     "execution_count": 13,
     "metadata": {},
     "output_type": "execute_result"
    }
   ],
   "source": [
    "from ricercando import table_timerange\n",
    "\n",
    "# Time range of all GPS measurements\n",
    "min_time, max_time = table_timerange('gps')\n",
    "min_time, max_time"
   ]
  },
  {
   "cell_type": "code",
   "execution_count": 14,
   "metadata": {},
   "outputs": [
    {
     "data": {
      "text/plain": [
       "(Timestamp('2017-07-13 00:00:12+0000', tz='UTC'),\n",
       " Timestamp('2017-07-13 23:50:19.070000+0000', tz='UTC'))"
      ]
     },
     "execution_count": 14,
     "metadata": {},
     "output_type": "execute_result"
    }
   ],
   "source": [
    "# Time range of event measurements corresponding to node '7'\n",
    "table_timerange('event', nodeid='7')"
   ]
  },
  {
   "cell_type": "markdown",
   "metadata": {},
   "source": [
    "# Distinct field values"
   ]
  },
  {
   "cell_type": "markdown",
   "metadata": {},
   "source": [
    "While we could use `getdf()` function to fetch the data before extracting unique values for a particular column, this may result in needlessly retrieving the whole table of data from the database. To avoid such an expensive call when we are only interested in unique (distinct) field values (e.g. all telecom operators the nodes are connected to when running the _ping_ experiment), we can use `distinct_values()` function. It accepts a table name and a field name of interest, along with (optionally) start and end date, node id, and where conditions (as always, see the docsting for more info)."
   ]
  },
  {
   "cell_type": "code",
   "execution_count": 15,
   "metadata": {},
   "outputs": [
    {
     "data": {
      "text/plain": [
       "{'242 14',\n",
       " '3',\n",
       " '3 SE',\n",
       " 'Acc. Internet da cell',\n",
       " 'C-OTE',\n",
       " 'I TIM',\n",
       " 'I WIND',\n",
       " 'Movistar',\n",
       " 'N Telenor',\n",
       " 'NetCom',\n",
       " 'Orange',\n",
       " 'Orange Internet Móvil',\n",
       " 'TELIA S',\n",
       " 'TIM',\n",
       " 'TIM WAP',\n",
       " 'Telenor',\n",
       " 'Telenor SE',\n",
       " 'TelenorS',\n",
       " 'Telia',\n",
       " 'Telia N',\n",
       " 'WIND WEB',\n",
       " 'YOIGO',\n",
       " 'Yoigo Internet',\n",
       " 'voda ES',\n",
       " 'voda IT',\n",
       " 'vodafone IT'}"
      ]
     },
     "execution_count": 15,
     "metadata": {},
     "output_type": "execute_result"
    }
   ],
   "source": [
    "from ricercando import distinct_values\n",
    "\n",
    "distinct_values('ping', 'Operator')"
   ]
  },
  {
   "cell_type": "markdown",
   "metadata": {},
   "source": [
    "# Custom SQL queries"
   ]
  },
  {
   "cell_type": "markdown",
   "metadata": {},
   "source": [
    "In advanced workflows, you can make custom SQL queries (as supported in [InfluxDB subset of SQL](https://docs.influxdata.com/influxdb/v1.3/query_language/data_exploration/)) using `query()` and `query_async()` functions. The former executes a query and returns a [`influxdb.resultset.ResultSet`](https://influxdb-python.readthedocs.io/en/latest/resultset.html) object while the latter yields these results objects in sequence as they become available."
   ]
  },
  {
   "cell_type": "code",
   "execution_count": 16,
   "metadata": {},
   "outputs": [
    {
     "data": {
      "text/plain": [
       "[{'count_Host': 12118024,\n",
       "  'count_Operator': 12077653,\n",
       "  'count_RTT': 10979433,\n",
       "  'time': 0}]"
      ]
     },
     "execution_count": 16,
     "metadata": {},
     "output_type": "execute_result"
    }
   ],
   "source": [
    "from ricercando import query\n",
    "\n",
    "result = query('SELECT COUNT(*) FROM ping_10ms')\n",
    "\n",
    "list(result.get_points())"
   ]
  }
 ],
 "metadata": {
  "kernelspec": {
   "display_name": "Python 3",
   "language": "python3.5",
   "name": "python3"
  },
  "language_info": {
   "codemirror_mode": {
    "name": "ipython",
    "version": 3
   },
   "file_extension": ".py",
   "mimetype": "text/x-python",
   "name": "python",
   "nbconvert_exporter": "python",
   "pygments_lexer": "ipython3",
   "version": "3.5.4"
  }
 },
 "nbformat": 4,
 "nbformat_minor": 2
}
