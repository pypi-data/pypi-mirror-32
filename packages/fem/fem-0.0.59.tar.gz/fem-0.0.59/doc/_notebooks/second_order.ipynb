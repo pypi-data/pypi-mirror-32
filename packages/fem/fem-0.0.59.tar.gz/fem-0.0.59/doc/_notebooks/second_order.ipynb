{
 "cells": [
  {
   "cell_type": "markdown",
   "metadata": {},
   "source": [
    "# Second order"
   ]
  },
  {
   "cell_type": "code",
   "execution_count": 102,
   "metadata": {},
   "outputs": [],
   "source": [
    "import numpy as np\n",
    "import matplotlib.pyplot as plt\n",
    "import fem\n",
    "from scipy.sparse.linalg import svds"
   ]
  },
  {
   "cell_type": "code",
   "execution_count": 103,
   "metadata": {},
   "outputs": [],
   "source": [
    "n, m, degs = 2, 3, [1,2]\n",
    "par = fem.simulate.model_parameters(n, m, degs)"
   ]
  },
  {
   "cell_type": "code",
   "execution_count": 104,
   "metadata": {},
   "outputs": [],
   "source": [
    "x = fem.simulate.time_series(par, n, m, o=1.0)"
   ]
  },
  {
   "cell_type": "code",
   "execution_count": 105,
   "metadata": {},
   "outputs": [],
   "source": [
    "x1, cat_x1 = fem.fit.categorize(x[:,:-1])\n",
    "x2, cat_x2 = fem.fit.categorize(x[:,1:])\n",
    "m_x1 = np.array([len(c) for c in cat_x1])\n",
    "m_x2 = np.array([len(c) for c in cat_x2])\n",
    "n_x1 = x1.shape[0]\n",
    "n_x2 = x2.shape[0]\n",
    "x_oh, idx = fem.fit.one_hot(x, degs)\n",
    "x1_oh, idx1 = fem.fit.one_hot(x1, degs)\n",
    "x2_oh, idx2 = fem.fit.one_hot(x2, degs)"
   ]
  },
  {
   "cell_type": "code",
   "execution_count": 106,
   "metadata": {},
   "outputs": [
    {
     "name": "stdout",
     "output_type": "stream",
     "text": [
      "[0.96666667 1.14444444]\n",
      "True\n",
      "True\n",
      "[3 3]\n",
      "[3 3]\n",
      "2\n",
      "2\n",
      "[1 3]\n",
      "[[1. 0. 0. 0. 0. 1. 0. 0. 1. 0. 0. 0. 0. 0. 0.]]\n",
      "[3 2]\n",
      "[[0. 0. 1. 0. 1. 0. 0. 0. 0. 0. 0. 0. 0. 1. 0.]]\n",
      "[1 3]\n",
      "[[1. 0. 0. 0. 0. 1. 0. 0. 1. 0. 0. 0. 0. 0. 0.]]\n",
      "[3 2]\n",
      "[[0. 0. 1. 0. 1. 0. 0. 0. 0. 0. 0. 0. 0. 1. 0.]]\n",
      "(15, 90)\n",
      "(15, 89)\n",
      "(15, 89)\n",
      "9\n",
      "9\n",
      "9\n",
      "2.6524146906472104\n",
      "8.708227877456267\n",
      "2.647135483393483\n",
      "8.68552365967736\n",
      "2.652411497382811\n",
      "8.632496482340432\n"
     ]
    }
   ],
   "source": [
    "print x.mean(1)\n",
    "print np.all(x1 == x[:,:-1])\n",
    "print np.all(x2 == x[:,1:])\n",
    "print m_x1\n",
    "print m_x2\n",
    "print n_x1\n",
    "print n_x2\n",
    "print x1[:,0]+1\n",
    "print x1_oh[:,0].todense().T\n",
    "print x1[:,1]+1\n",
    "print x1_oh[:,1].todense().T\n",
    "print x2[:,10]+1\n",
    "print x2_oh[:,10].todense().T\n",
    "print x2[:,11]+1\n",
    "print x2_oh[:,11].todense().T\n",
    "print x_oh.shape\n",
    "print x1_oh.shape\n",
    "print x2_oh.shape\n",
    "print np.linalg.matrix_rank(x_oh.todense())\n",
    "print np.linalg.matrix_rank(x1_oh.todense())\n",
    "print np.linalg.matrix_rank(x2_oh.todense())\n",
    "print svds(x_oh, k=np.linalg.matrix_rank(x_oh.todense()))[1].min()\n",
    "print svds(x_oh, k=np.linalg.matrix_rank(x_oh.todense()))[1].max()\n",
    "print svds(x1_oh, k=np.linalg.matrix_rank(x1_oh.todense()))[1].min()\n",
    "print svds(x1_oh, k=np.linalg.matrix_rank(x1_oh.todense()))[1].max()\n",
    "print svds(x2_oh, k=np.linalg.matrix_rank(x2_oh.todense()))[1].min()\n",
    "print svds(x2_oh, k=np.linalg.matrix_rank(x2_oh.todense()))[1].max()\n"
   ]
  },
  {
   "cell_type": "code",
   "execution_count": 107,
   "metadata": {},
   "outputs": [],
   "source": [
    "x1, x2 = x[:,:-1], x[:,1:]\n",
    "par_fit, disc = fem.fit.fit(x1, x2, degs, iters=50)"
   ]
  },
  {
   "cell_type": "code",
   "execution_count": 108,
   "metadata": {},
   "outputs": [
    {
     "data": {
      "image/png": "[encoded data removed]",
      "text/plain": [
       "<matplotlib.figure.Figure at 0x7ffa4cc90850>"
      ]
     },
     "metadata": {},
     "output_type": "display_data"
    }
   ],
   "source": [
    "fig, ax = plt.subplots(1, 1+len(degs), figsize=(4*(1+len(degs)),4))\n",
    "\n",
    "for d in disc:\n",
    "    ax[0].plot(d, 'k-', lw=0.1)\n",
    "\n",
    "for i,a in enumerate(ax[1:]):\n",
    "    par_flat = par[degs[i]][:,:].flatten()\n",
    "    par_fit_flat = par_fit[degs[i]][:,:].flatten()\n",
    "    lo, hi = par_flat.min(), par_flat.max()\n",
    "    grid = np.linspace(lo, hi)\n",
    "    a.plot(grid, grid, 'r--', lw=1)\n",
    "    a.scatter(par_flat, par_fit_flat, c='k', s=0.1)\n",
    "\n",
    "plt.show()"
   ]
  },
  {
   "cell_type": "code",
   "execution_count": 6,
   "metadata": {},
   "outputs": [],
   "source": [
    "# print 'par[2] shape', par[2].shape\n",
    "# print 'par_fit[2] shape', par_fit[2].shape\n",
    "\n",
    "# m1 = 0\n",
    "# for i in range(1, par[2].shape[0]):\n",
    "#     if np.all(np.isclose(par[2][m1:i].sum(0), 0)):\n",
    "#         print 'colsums par', i\n",
    "#         m2 = i\n",
    "#         par_fit[2][m1:m2] -= par_fit[2][m1:m2].mean(0)\n",
    "#         m1 = m2       \n",
    "#     if np.all(np.isclose(par_fit[2][m1:i].sum(0), 0)):\n",
    "#         print 'colsums par_fit', i\n",
    "\n",
    "# m1 = 0\n",
    "# for i in range(1, par[2].shape[1]):\n",
    "#     if np.all(np.isclose(par[2][:,m1:i].sum(1), 0)):\n",
    "#         print 'rowsums par', i\n",
    "#         m2 = i\n",
    "#         par_fit[2][:,m1:m2] -= par_fit[2][:,m1:m2].mean(1)[:,np.newaxis]\n",
    "#         m1 = m2\n",
    "#     if np.all(np.isclose(par_fit[2][:,m1:i].sum(1), 0)):\n",
    "#         print 'rowsums par_fit', i"
   ]
  },
  {
   "cell_type": "code",
   "execution_count": 7,
   "metadata": {},
   "outputs": [],
   "source": [
    "# fig, ax = plt.subplots(1, 1+len(degs), figsize=(4*(1+len(degs)),4))\n",
    "\n",
    "# for d in disc:\n",
    "#     ax[0].plot(d, 'k-', lw=0.1)\n",
    "\n",
    "# for i,a in enumerate(ax[1:]):\n",
    "#     par_flat = par[degs[i]][:,:].flatten()\n",
    "#     par_fit_flat = par_fit[degs[i]][:,:].flatten()\n",
    "#     lo, hi = par_flat.min(), par_flat.max()\n",
    "#     grid = np.linspace(lo, hi)\n",
    "#     a.plot(grid, grid, 'r--', lw=1)\n",
    "#     a.scatter(par_flat, par_fit_flat, c='k', s=0.1)\n",
    "\n",
    "# plt.show()"
   ]
  },
  {
   "cell_type": "code",
   "execution_count": 8,
   "metadata": {},
   "outputs": [],
   "source": [
    "# for i in range(par[2].shape[1]):\n",
    "#     if np.all(np.isclose(par[2][:i].sum(0), 0)):\n",
    "#         print 'par', i\n",
    "#     if np.all(np.isclose(par_fit[2][:i].sum(0), 0)):\n",
    "#         print 'par_fit', i"
   ]
  },
  {
   "cell_type": "code",
   "execution_count": 9,
   "metadata": {
    "scrolled": true
   },
   "outputs": [],
   "source": [
    "# m1 = 0\n",
    "# for i in range(1, par[2].shape[1]):\n",
    "#     if np.all(np.isclose(par[2][:,:i].sum(1), 0)):\n",
    "#         print 'par', i\n",
    "#         m2 = i\n",
    "#         par_fit[2][:,m1:m2] -= par_fit[2][:,m1:m2].mean(1)[:,np.newaxis]\n",
    "#         m1 = m2\n",
    "#     if np.all(np.isclose(par_fit[2][:,:i].sum(1), 0)):\n",
    "#         print 'par_fit', i"
   ]
  },
  {
   "cell_type": "code",
   "execution_count": null,
   "metadata": {},
   "outputs": [],
   "source": []
  },
  {
   "cell_type": "code",
   "execution_count": null,
   "metadata": {},
   "outputs": [],
   "source": []
  }
 ],
 "metadata": {
  "kernelspec": {
   "display_name": "Python 2",
   "language": "python",
   "name": "python2"
  },
  "language_info": {
   "codemirror_mode": {
    "name": "ipython",
    "version": 2
   },
   "file_extension": ".py",
   "mimetype": "text/x-python",
   "name": "python",
   "nbconvert_exporter": "python",
   "pygments_lexer": "ipython2",
   "version": "2.7.5"
  }
 },
 "nbformat": 4,
 "nbformat_minor": 2
}
