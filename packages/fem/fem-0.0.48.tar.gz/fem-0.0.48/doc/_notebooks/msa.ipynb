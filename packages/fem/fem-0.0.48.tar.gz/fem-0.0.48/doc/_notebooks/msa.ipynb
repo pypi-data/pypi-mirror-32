{
 "cells": [
  {
   "cell_type": "code",
   "execution_count": 1,
   "metadata": {},
   "outputs": [],
   "source": [
    "%matplotlib inline\n",
    "import matplotlib.pyplot as plt\n",
    "import numpy as np\n",
    "import Bio\n",
    "from Bio import SeqIO\n",
    "import time\n",
    "import fem"
   ]
  },
  {
   "cell_type": "code",
   "execution_count": 2,
   "metadata": {},
   "outputs": [],
   "source": [
    "msa = Bio.SeqIO.parse('PF16592_ncbi.txt', 'fasta')\n",
    "msa = np.array([np.array(s.seq) for s in msa]).T"
   ]
  },
  {
   "cell_type": "code",
   "execution_count": 3,
   "metadata": {},
   "outputs": [
    {
     "name": "stdout",
     "output_type": "stream",
     "text": [
      "sequence length (n): 907, number of sequences (l): 1115\n"
     ]
    }
   ],
   "source": [
    "m = np.array([len(np.unique(s)) for s in msa])\n",
    "msa = msa[m > 2]\n",
    "m = m[m > 2]\n",
    "n, l = msa.shape\n",
    "print 'sequence length (n): %i, number of sequences (l): %i' % (n, l)"
   ]
  },
  {
   "cell_type": "code",
   "execution_count": 4,
   "metadata": {},
   "outputs": [
    {
     "data": {
      "text/plain": [
       "array(['-', 'A', 'C', 'D', 'E', 'F', 'G', 'H', 'I', 'K', 'L', 'M', 'N',\n",
       "       'P', 'Q', 'R', 'S', 'T', 'V', 'W', 'X', 'Y'], dtype='|S1')"
      ]
     },
     "execution_count": 4,
     "metadata": {},
     "output_type": "execute_result"
    }
   ],
   "source": [
    "np.unique(msa)"
   ]
  },
  {
   "cell_type": "code",
   "execution_count": 5,
   "metadata": {},
   "outputs": [],
   "source": [
    "msa, cat = fem.fit.categorize(msa)\n",
    "msa_oh, idx = fem.fit.one_hot(msa, degs=[1])"
   ]
  },
  {
   "cell_type": "code",
   "execution_count": 6,
   "metadata": {},
   "outputs": [
    {
     "name": "stdout",
     "output_type": "stream",
     "text": [
      "42.446564 seconds\n"
     ]
    }
   ],
   "source": [
    "start = time.time()\n",
    " \n",
    "par, disc = [], []\n",
    "for i in range(3):\n",
    "    not_i = list(set(range(n)) - {i})\n",
    "    x, y = msa[not_i], msa[i]\n",
    "    res = fem.fit.fit(x, y, degs=[1], overfit=False, iters=20)\n",
    "    par.append(res[0])\n",
    "    disc.append(np.squeeze(res[1]))\n",
    "    \n",
    "end = time.time()\n",
    "print '%02f minutes' % ((end-start)/60., )"
   ]
  },
  {
   "cell_type": "code",
   "execution_count": 23,
   "metadata": {},
   "outputs": [
    {
     "data": {
      "image/png": "[encoded data removed]",
      "text/plain": [
       "<matplotlib.figure.Figure at 0x9a350d0>"
      ]
     },
     "metadata": {},
     "output_type": "display_data"
    }
   ],
   "source": [
    "fig = plt.figure(figsize=(6,4))\n",
    "ax = plt.gca()\n",
    "for d in disc:\n",
    "    ax.plot(d, 'k-', lw=0.1)\n",
    "ax.set_xlabel('iteration')\n",
    "ax.set_ylabel('discrepancy')\n",
    "ax.set_yscale('log')\n",
    "ax.set_xticks(range(20))\n",
    "plt.show()"
   ]
  },
  {
   "cell_type": "code",
   "execution_count": 8,
   "metadata": {},
   "outputs": [
    {
     "data": {
      "image/png": "[encoded data removed]",
      "text/plain": [
       "<matplotlib.figure.Figure at 0x623d6d0>"
      ]
     },
     "metadata": {},
     "output_type": "display_data"
    }
   ],
   "source": [
    "m_sum = m.sum()\n",
    "m_cumsum = np.insert(m.cumsum(), 0, 0)\n",
    "\n",
    "w = np.zeros(shape=(m_sum, m_sum))\n",
    "for i in range(3):\n",
    "    m1, m2 = m_cumsum[i], m_cumsum[i+1]\n",
    "    w[m1:m2, :m1] = par[i][1][:,:m1]\n",
    "    w[m1:m2, m2:] = par[i][1][:,m1:]\n",
    "    \n",
    "fig = plt.figure(figsize=(8,8))\n",
    "ax = plt.gca()\n",
    "ax.imshow(w)\n",
    "plt.show()"
   ]
  }
 ],
 "metadata": {
  "kernelspec": {
   "display_name": "Python 2",
   "language": "python",
   "name": "python2"
  },
  "language_info": {
   "codemirror_mode": {
    "name": "ipython",
    "version": 2
   },
   "file_extension": ".py",
   "mimetype": "text/x-python",
   "name": "python",
   "nbconvert_exporter": "python",
   "pygments_lexer": "ipython2",
   "version": "2.7.5"
  }
 },
 "nbformat": 4,
 "nbformat_minor": 2
}
