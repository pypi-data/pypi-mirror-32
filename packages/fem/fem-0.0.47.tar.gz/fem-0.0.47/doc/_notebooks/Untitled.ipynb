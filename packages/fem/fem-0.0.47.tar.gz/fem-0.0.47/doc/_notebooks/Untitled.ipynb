{
 "cells": [
  {
   "cell_type": "code",
   "execution_count": 1,
   "metadata": {},
   "outputs": [],
   "source": [
    "import fem\n",
    "import numpy as np"
   ]
  },
  {
   "cell_type": "code",
   "execution_count": 2,
   "metadata": {},
   "outputs": [],
   "source": [
    "n = 3\n",
    "m = [2,3,4]\n",
    "l = 100\n",
    "data = np.empty((n, l))\n",
    "for i in range(3):\n",
    "    data[i] = np.random.choice(m[i], size=l)\n",
    "x, y = data[:,:-1], data[0, 1:]\n",
    "x_oh = fem.fit.new_fit(x, y, degs=[1,2])"
   ]
  },
  {
   "cell_type": "code",
   "execution_count": 3,
   "metadata": {},
   "outputs": [
    {
     "data": {
      "text/plain": [
       "array([[1., 0., 0., 0., 1., 1., 1., 1., 0., 1., 0., 1., 1., 1., 1., 0.,\n",
       "        0., 1., 1., 0., 1., 0., 1., 0., 1., 1., 0., 0., 1., 1., 0., 0.,\n",
       "        0., 1., 1., 0., 0., 0., 1., 1., 1., 1., 1., 1., 0., 0., 1., 1.,\n",
       "        1., 0., 0., 1., 0., 1., 1., 0., 1., 0., 0., 0., 0., 0., 1., 0.,\n",
       "        1., 0., 1., 0., 0., 1., 0., 0., 1., 1., 0., 1., 1., 1., 1., 1.,\n",
       "        1., 1., 1., 1., 0., 1., 1., 0., 1., 0., 0., 0., 0., 0., 0., 0.,\n",
       "        0., 0., 0.],\n",
       "       [1., 1., 1., 2., 0., 0., 2., 1., 2., 1., 1., 0., 1., 1., 0., 0.,\n",
       "        1., 1., 2., 1., 0., 0., 1., 0., 1., 2., 0., 2., 2., 2., 2., 0.,\n",
       "        0., 2., 1., 2., 0., 0., 0., 2., 0., 2., 2., 1., 0., 1., 1., 1.,\n",
       "        2., 1., 1., 0., 1., 0., 2., 1., 2., 2., 1., 1., 1., 2., 2., 2.,\n",
       "        0., 0., 0., 0., 0., 1., 1., 1., 0., 2., 0., 1., 1., 2., 1., 1.,\n",
       "        2., 1., 0., 0., 0., 0., 0., 0., 2., 2., 1., 0., 2., 2., 0., 1.,\n",
       "        2., 2., 1.],\n",
       "       [0., 1., 1., 3., 2., 1., 3., 2., 2., 0., 3., 2., 1., 1., 1., 1.,\n",
       "        3., 1., 3., 2., 1., 0., 0., 1., 2., 0., 3., 2., 2., 1., 0., 0.,\n",
       "        2., 3., 1., 2., 0., 0., 3., 2., 1., 3., 2., 3., 3., 0., 2., 2.,\n",
       "        2., 1., 3., 2., 2., 2., 3., 3., 2., 3., 3., 2., 2., 3., 3., 3.,\n",
       "        1., 0., 0., 1., 1., 3., 1., 1., 1., 2., 1., 1., 2., 1., 3., 0.,\n",
       "        3., 2., 1., 3., 1., 0., 0., 1., 2., 2., 1., 3., 0., 2., 2., 2.,\n",
       "        3., 2., 3.]])"
      ]
     },
     "execution_count": 3,
     "metadata": {},
     "output_type": "execute_result"
    }
   ],
   "source": [
    "x"
   ]
  },
  {
   "cell_type": "code",
   "execution_count": 9,
   "metadata": {},
   "outputs": [
    {
     "data": {
      "text/plain": [
       "34"
      ]
     },
     "execution_count": 9,
     "metadata": {},
     "output_type": "execute_result"
    }
   ],
   "source": [
    "x_oh.indices.max()"
   ]
  }
 ],
 "metadata": {
  "kernelspec": {
   "display_name": "Python 2",
   "language": "python",
   "name": "python2"
  },
  "language_info": {
   "codemirror_mode": {
    "name": "ipython",
    "version": 2
   },
   "file_extension": ".py",
   "mimetype": "text/x-python",
   "name": "python",
   "nbconvert_exporter": "python",
   "pygments_lexer": "ipython2",
   "version": "2.7.12"
  }
 },
 "nbformat": 4,
 "nbformat_minor": 2
}
